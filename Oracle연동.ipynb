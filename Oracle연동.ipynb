{
 "cells": [
  {
   "cell_type": "markdown",
   "metadata": {},
   "source": [
    "# SQL 활용 데이터 프레임 생성\n",
    "\n",
    "> Python과 Oracle 연동"
   ]
  },
  {
   "cell_type": "markdown",
   "metadata": {},
   "source": [
    "## #01. 패키지\n",
    "\n",
    "`oracledb`와 `sqlalchemy` 패키지 설치\n",
    "\n",
    "```shell\n",
    "pip install cx_oracle\n",
    "```"
   ]
  },
  {
   "cell_type": "code",
   "execution_count": null,
   "metadata": {},
   "outputs": [],
   "source": [
    "import cx_Oracle as cx\n",
    "from pandas import DataFrame, read_sql_table\n",
    "from sqlalchemy import create_engine"
   ]
  },
  {
   "cell_type": "markdown",
   "metadata": {},
   "source": [
    "## #02. cx_Oracle 사용\n",
    "\n",
    "### 1. DB 접속"
   ]
  },
  {
   "cell_type": "code",
   "execution_count": null,
   "metadata": {},
   "outputs": [],
   "source": [
    "dbcon = cx.connect(\n",
    "    'hr', # 사용자 이름\n",
    "    'hr', # 비밀번호\n",
    "    'localhost:1521/xe' # DB 서버 주소\n",
    ")\n",
    "dbcon"
   ]
  },
  {
   "cell_type": "markdown",
   "metadata": {},
   "source": [
    "### 2. 데이터 조회\n",
    "\n",
    "#### 기본 사용 방법\n",
    "\n",
    "테이블의 각 record를 튜플로 표현하는 리스트 객체를 얻을 수 있다.\n",
    "\n",
    "##### 데이터 조회를 위한 커서 객체 생성"
   ]
  },
  {
   "cell_type": "code",
   "execution_count": null,
   "metadata": {},
   "outputs": [],
   "source": [
    "cursor = dbcon.cursor()"
   ]
  },
  {
   "cell_type": "markdown",
   "metadata": {},
   "source": [
    "##### 데이터 조회를 위한 SQL문 처리"
   ]
  },
  {
   "cell_type": "code",
   "execution_count": null,
   "metadata": {},
   "outputs": [],
   "source": [
    "sql = 'SELECT * FROM department'\n",
    "cursor.execute(sql)\n",
    "result = cursor.fetchall()\n",
    "result"
   ]
  },
  {
   "cell_type": "markdown",
   "metadata": {},
   "source": [
    "##### 딕셔너리 형태로 데이터 조회\n",
    "\n",
    "cx_oracle은 별도의 딕셔너리 형태를 제공하지 않기 때문에 cursor 객체의 rowfactory 프로퍼티를 직접 재정의 해야 한다.\n",
    "\n",
    "cursor.rowfactory = lambda *args: dict(zip([d[0] for d in cursor.description], args))\n",
    "\n",
    "> 코드출처 : oracle.com"
   ]
  },
  {
   "cell_type": "code",
   "execution_count": null,
   "metadata": {},
   "outputs": [],
   "source": [
    "sql = 'SELECT * FROM department ORDER BY deptno ASC'    # 소문자를 넣어도 필드 이름은 대문자로 추출\n",
    "cursor.execute(sql)\n",
    "\n",
    "cursor.rowfactory = lambda *args: dict(zip([d[0] for d in cursor.description], args))\n",
    "result = cursor.fetchall()\n",
    "result"
   ]
  },
  {
   "cell_type": "markdown",
   "metadata": {},
   "source": [
    "##### 조회 결과를 DF로 변환"
   ]
  },
  {
   "cell_type": "code",
   "execution_count": null,
   "metadata": {},
   "outputs": [],
   "source": [
    "df = DataFrame(result)\n",
    "df"
   ]
  },
  {
   "cell_type": "markdown",
   "metadata": {},
   "source": [
    "##### DF에 대한 인덱스 설정"
   ]
  },
  {
   "cell_type": "code",
   "execution_count": null,
   "metadata": {},
   "outputs": [],
   "source": [
    "df.set_index('DEPTNO', inplace = True)\n",
    "df"
   ]
  },
  {
   "cell_type": "markdown",
   "metadata": {},
   "source": [
    "### #3. 입력, 수정, 삭제\n",
    "\n",
    "`INSERT`, `UPDATE`, `DELETE` 문의 수행 방식은 동일\n",
    "\n",
    ">여기서는 데이터 조회 과정에서 생성한 cursor 객체를 재사용"
   ]
  },
  {
   "cell_type": "markdown",
   "metadata": {},
   "source": [
    "#### 데이터 입력"
   ]
  },
  {
   "cell_type": "code",
   "execution_count": null,
   "metadata": {},
   "outputs": [],
   "source": [
    "sql = 'SELECT * FROM department.nextval from dual'    # 소문자를 넣어도 필드 이름은 대문자로 추출\n",
    "cursor.execute(sql)\n",
    "\n",
    "result = cursor.fetchall()\n",
    "print(result)\n",
    "\n",
    "seq = result[0][0]\n",
    "print(\"새로운 시퀀스 번호 : %d\" % seq)"
   ]
  },
  {
   "cell_type": "code",
   "execution_count": null,
   "metadata": {},
   "outputs": [],
   "source": [
    "sql = 'INSERT INTO department (deptno, dname, loc) VALUES (:1, :2, :3)'\n",
    "print(sql)\n",
    "\n",
    "#                      :1    :2      :3\n",
    "cursor.execute(sql, [seq, '개발부', '서울'])\n",
    "print(\"%s개의 행 저장\"%cursor.rowcount)\n",
    "\n",
    "# 처리 결과 실제로 반영\n",
    "dbcon.commit()\n",
    "\n",
    "# 되돌리기\n",
    "# --> 이미 commit한 내역은 적용 불가\n",
    "# dbcon.rollback()"
   ]
  },
  {
   "cell_type": "markdown",
   "metadata": {},
   "source": [
    "#### 데이터 수정"
   ]
  },
  {
   "cell_type": "code",
   "execution_count": null,
   "metadata": {},
   "outputs": [],
   "source": [
    "sql = 'UPDATE department SET dname =: 1, loc=:2 where deptno=:3'\n",
    "cursor.execute(sql, ['영업부', '부산', seq])\n",
    "print(\"%s개의 행 갱신\"%cursor.rowcount)\n",
    "dbcon.commit()  # commit 해야 DB에 반영\n"
   ]
  },
  {
   "cell_type": "markdown",
   "metadata": {},
   "source": [
    "#### 데이터 삭제"
   ]
  },
  {
   "cell_type": "code",
   "execution_count": null,
   "metadata": {},
   "outputs": [],
   "source": [
    "sql = 'DELETE FROM department WHERE deptno > 202'\n",
    "cursor.execute(sql)\n",
    "print(\"%s개의 행 삭제\"%cursor.rowcount)\n",
    "dbcon.commit()  # commit 해야 DB에 반영\n"
   ]
  },
  {
   "cell_type": "markdown",
   "metadata": {},
   "source": [
    "#### DB 접속 해제"
   ]
  },
  {
   "cell_type": "code",
   "execution_count": null,
   "metadata": {},
   "outputs": [],
   "source": [
    "cursor.close()\n",
    "dbcon.close()"
   ]
  },
  {
   "cell_type": "markdown",
   "metadata": {},
   "source": [
    "## #03 SQLAIchemy 사용\n",
    "\n",
    "### #1. 데이터베이스 접속\n",
    "\n",
    "접속 문자열 생성\n",
    "\n",
    "`oracle+cx_oracle://계정이름:비밀번호@접속주소/SID`"
   ]
  },
  {
   "cell_type": "code",
   "execution_count": null,
   "metadata": {},
   "outputs": [],
   "source": [
    "conStr = \"oracle+cx_oracle://hr:hr@localhost:1521/xe\""
   ]
  },
  {
   "cell_type": "markdown",
   "metadata": {},
   "source": [
    "#### DB 접속"
   ]
  },
  {
   "cell_type": "code",
   "execution_count": null,
   "metadata": {},
   "outputs": [],
   "source": [
    "engine = create_engine(conStr)\n",
    "conn = engine.connect()"
   ]
  },
  {
   "cell_type": "markdown",
   "metadata": {},
   "source": [
    "### #2. 데이터 조회\n",
    "\n",
    "#### 특정 테이블의 모든 데이터 조회"
   ]
  },
  {
   "cell_type": "code",
   "execution_count": null,
   "metadata": {},
   "outputs": [],
   "source": [
    "df = read_sql_table('department', con=conn)\n",
    "df"
   ]
  },
  {
   "cell_type": "markdown",
   "metadata": {},
   "source": [
    "#### 인덱스를 지정한 조회\n",
    "\n",
    "> read_sql_table 함수를 사용할 경우 where 절 사용 불가"
   ]
  },
  {
   "cell_type": "code",
   "execution_count": null,
   "metadata": {},
   "outputs": [],
   "source": [
    "df = read_sql_table('department', index_col='deptno', con=conn)\n",
    "df"
   ]
  },
  {
   "cell_type": "markdown",
   "metadata": {},
   "source": [
    "#### 특정 컬럼 조회"
   ]
  },
  {
   "cell_type": "code",
   "execution_count": null,
   "metadata": {},
   "outputs": [],
   "source": [
    "df = read_sql_table('department', index_col='deptno', columns=['dname'], con=conn)\n",
    "df"
   ]
  },
  {
   "cell_type": "markdown",
   "metadata": {},
   "source": [
    "### #3. 데이터 내보내기\n",
    "\n",
    "- name='테이블명' 이름으로 기존 테이블이 있으면 해당 테이블의 컬럼명에 맞게 데이터를 넣을 수 있음\n",
    "- if_exists='append' 옵션이 있으면, 기존 테이블에 데이터를 추가로 넣음\n",
    "- if_exists='fail' 옵션이 있으면, 기존 테이블이 있을 경우, 아무일도 하지 않음\n",
    "- if_exists='replace' 옵션이 있으면, 기존 테이블이 있을 경우, 기존 테이블을 삭제하고, 다시 테이블을 만들어서, 새로 데이터를 넣음\n",
    "\n",
    "이미 만들어진 테이블이 없으면, name='테이블명' 이름으로 테이블을 자동으로 만들고, 데이터를 넣을 수 있음\n",
    "\n",
    "테이블이 자동으로 만들어지므로, 테이블 구조가 최적화되지 않아 자동으로 테이블 만드는 것은 추천하지 않음"
   ]
  },
  {
   "cell_type": "code",
   "execution_count": null,
   "metadata": {},
   "outputs": [],
   "source": [
    "df.to_sql('new_table', con=conn, if_exists='append', index=False)\n",
    "conn.commit()"
   ]
  },
  {
   "cell_type": "markdown",
   "metadata": {},
   "source": [
    "### #4. DB 접속 해제\n",
    "\n",
    "DB 관련 작업 종료 시 반드시 접속 객체 반납"
   ]
  },
  {
   "cell_type": "code",
   "execution_count": null,
   "metadata": {},
   "outputs": [],
   "source": [
    "conn.close()"
   ]
  }
 ],
 "metadata": {
  "kernelspec": {
   "display_name": "Python 3",
   "language": "python",
   "name": "python3"
  },
  "language_info": {
   "codemirror_mode": {
    "name": "ipython",
    "version": 3
   },
   "file_extension": ".py",
   "mimetype": "text/x-python",
   "name": "python",
   "nbconvert_exporter": "python",
   "pygments_lexer": "ipython3",
   "version": "3.9.13"
  }
 },
 "nbformat": 4,
 "nbformat_minor": 2
}
