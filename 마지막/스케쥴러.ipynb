{
 "cells": [
  {
   "cell_type": "code",
   "execution_count": 1,
   "metadata": {},
   "outputs": [],
   "source": [
    "# pip install schedule"
   ]
  },
  {
   "cell_type": "code",
   "execution_count": 2,
   "metadata": {},
   "outputs": [],
   "source": [
    "import schedule\n",
    "import datetime as dt\n",
    "import time"
   ]
  },
  {
   "cell_type": "code",
   "execution_count": 3,
   "metadata": {},
   "outputs": [],
   "source": [
    "# 데이터 수집을 가정한 함수\n",
    "# 실행할 함수\n",
    "def myjob():\n",
    "    now = dt.datetime.now().strftime(\"%Y-%m%d %H%M%S\")\n",
    "    print(now)"
   ]
  },
  {
   "cell_type": "code",
   "execution_count": 4,
   "metadata": {},
   "outputs": [
    {
     "data": {
      "text/plain": [
       "Every 10 seconds do myjob() (last run: [never], next run: 2023-11-13 11:44:02)"
      ]
     },
     "execution_count": 4,
     "metadata": {},
     "output_type": "execute_result"
    }
   ],
   "source": [
    "# 10초마다 한번씩 자동 수행\n",
    "schedule.every(10).seconds.do(myjob)"
   ]
  },
  {
   "cell_type": "code",
   "execution_count": 5,
   "metadata": {},
   "outputs": [
    {
     "data": {
      "text/plain": [
       "Every 10 minutes do myjob() (last run: [never], next run: 2023-11-13 11:54:01)"
      ]
     },
     "execution_count": 5,
     "metadata": {},
     "output_type": "execute_result"
    }
   ],
   "source": [
    "# 10분에 한번씩 실행\n",
    "schedule.every(10).minutes.do(myjob)"
   ]
  },
  {
   "cell_type": "code",
   "execution_count": 6,
   "metadata": {},
   "outputs": [
    {
     "data": {
      "text/plain": [
       "Every 1 hour do myjob() (last run: [never], next run: 2023-11-13 12:44:06)"
      ]
     },
     "execution_count": 6,
     "metadata": {},
     "output_type": "execute_result"
    }
   ],
   "source": [
    "# 1시간에 한번씩 실행\n",
    "schedule.every(1).hour.do(myjob)"
   ]
  },
  {
   "cell_type": "code",
   "execution_count": 8,
   "metadata": {},
   "outputs": [
    {
     "data": {
      "text/plain": [
       "Every 1 day at 11:41:00 do myjob() (last run: [never], next run: 2023-11-14 11:41:00)"
      ]
     },
     "execution_count": 8,
     "metadata": {},
     "output_type": "execute_result"
    }
   ],
   "source": [
    "# 매일 11:40에 실행\n",
    "schedule.every().day.at(\"11:41\").do(myjob)"
   ]
  },
  {
   "cell_type": "code",
   "execution_count": 9,
   "metadata": {},
   "outputs": [
    {
     "data": {
      "text/plain": [
       "Every 1 week do myjob() (last run: [never], next run: 2023-11-20 11:44:45)"
      ]
     },
     "execution_count": 9,
     "metadata": {},
     "output_type": "execute_result"
    }
   ],
   "source": [
    "# 매주 월요일 실행\n",
    "schedule.every().monday.do(myjob)"
   ]
  },
  {
   "cell_type": "code",
   "execution_count": 10,
   "metadata": {},
   "outputs": [
    {
     "data": {
      "text/plain": [
       "Every 1 week at 13:15:00 do myjob() (last run: [never], next run: 2023-11-15 13:15:00)"
      ]
     },
     "execution_count": 10,
     "metadata": {},
     "output_type": "execute_result"
    }
   ],
   "source": [
    "# 매주 수요일 13:15 에 실행\n",
    "schedule.every().wednesday.at(\"13:15\").do(myjob)"
   ]
  },
  {
   "cell_type": "code",
   "execution_count": 16,
   "metadata": {},
   "outputs": [
    {
     "name": "stdout",
     "output_type": "stream",
     "text": [
      "2023-1113 114815\n",
      "2023-1113 114825\n",
      "2023-1113 114835\n",
      "2023-1113 114845\n"
     ]
    },
    {
     "ename": "KeyboardInterrupt",
     "evalue": "",
     "output_type": "error",
     "traceback": [
      "\u001b[1;31m---------------------------------------------------------------------------\u001b[0m",
      "\u001b[1;31mKeyboardInterrupt\u001b[0m                         Traceback (most recent call last)",
      "\u001b[1;32mc:\\Users\\jehyu\\Desktop\\nationalSupport\\jupyter\\스케쥴러.ipynb Cell 10\u001b[0m line \u001b[0;36m4\n\u001b[0;32m      <a href='vscode-notebook-cell:/c%3A/Users/jehyu/Desktop/nationalSupport/jupyter/%EC%8A%A4%EC%BC%80%EC%A5%B4%EB%9F%AC.ipynb#X12sZmlsZQ%3D%3D?line=1'>2</a>\u001b[0m \u001b[39mwhile\u001b[39;00m \u001b[39mTrue\u001b[39;00m\u001b[39m<\u001b[39m\u001b[39m3\u001b[39m:\n\u001b[0;32m      <a href='vscode-notebook-cell:/c%3A/Users/jehyu/Desktop/nationalSupport/jupyter/%EC%8A%A4%EC%BC%80%EC%A5%B4%EB%9F%AC.ipynb#X12sZmlsZQ%3D%3D?line=2'>3</a>\u001b[0m     schedule\u001b[39m.\u001b[39mrun_pending()\n\u001b[1;32m----> <a href='vscode-notebook-cell:/c%3A/Users/jehyu/Desktop/nationalSupport/jupyter/%EC%8A%A4%EC%BC%80%EC%A5%B4%EB%9F%AC.ipynb#X12sZmlsZQ%3D%3D?line=3'>4</a>\u001b[0m     time\u001b[39m.\u001b[39;49msleep(\u001b[39m1\u001b[39;49m)\n",
      "\u001b[1;31mKeyboardInterrupt\u001b[0m: "
     ]
    }
   ],
   "source": [
    "# while문으로 스케쥴러 실행\n",
    "while True<3:\n",
    "    schedule.run_pending()\n",
    "    time.sleep(1)"
   ]
  },
  {
   "cell_type": "code",
   "execution_count": null,
   "metadata": {},
   "outputs": [],
   "source": []
  }
 ],
 "metadata": {
  "kernelspec": {
   "display_name": "Python 3",
   "language": "python",
   "name": "python3"
  },
  "language_info": {
   "codemirror_mode": {
    "name": "ipython",
    "version": 3
   },
   "file_extension": ".py",
   "mimetype": "text/x-python",
   "name": "python",
   "nbconvert_exporter": "python",
   "pygments_lexer": "ipython3",
   "version": "3.9.13"
  }
 },
 "nbformat": 4,
 "nbformat_minor": 2
}
