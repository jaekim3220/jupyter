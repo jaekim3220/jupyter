{
 "cells": [
  {
   "cell_type": "markdown",
   "metadata": {},
   "source": [
    "패키지 참조 -> 데이터 셋 준비 -> 데이터 전처리 -> 탐색적 데이터 분석 -> 데이터 셋 분할 -> 모델 개발 -> 학습 결과 평가 -> 학습 결과 적용\n",
    "\n",
    "![res/code.png](res/code.png)\n",
    "\n",
    "분석 프로세스를 진행한 이유와 해당 프로세서를 통해 얻은 결론을 설명\n",
    "- 모든 단계는 목적과 근거를 제시\n",
    "\n",
    ">머신러닝 - 소숫점 처리에 뛰어남"
   ]
  },
  {
   "cell_type": "markdown",
   "metadata": {},
   "source": [
    "# 단순 선형 회귀 (학습성능개선)\n",
    "\n",
    "`텐서플로우의 학습성능을 개선`하기 위해 아래의 기능을 사용할 수 있음\n",
    "\n",
    "1. 데이터 표준화 : 학습률 향상에 도움을 줌\n",
    "2. 콜백함수 : 모델의 학습 방향, 저장 시점, 학습 정지 시점 등에 관한 상황을 모니터링 하기 위한 도구\n",
    "\n",
    "## 데이터 정규화(Normalization, 표준화)\n",
    "\n",
    "### 1) 데이터 정규화의 이해\n",
    "\n",
    "#### 데이터 정규화란?\n",
    "\n",
    "모든 데이터가 동일한 정도의 스케일(중요도)로 반영되도록 해 주는 처리\n",
    "\n",
    "#### 정규화를 해야 하는 이유\n",
    "\n",
    "머신러닝 알고리즘은 데이터가 가진 feature(특성)들을 비교하여 데이터의 패턴을 찾는다.\n",
    "\n",
    "이 때, 데이터가 가진 feature의 스케일이 심하게 차이가 나는 경우 수많은 학습 단계를 거쳐서 최적값에 도달하게 된다.\n",
    "\n",
    "데이터에 정규화 처리를 적용하면 쉽게 최적값에 도달할 수 있으며 학습률을 상대적으로 높여서 사용할 수 있기 때문에 빠르게 훈련시킬 수 있다.\n",
    "\n",
    "> 성능과 속도 개선을 위해 표준화를 진행\n",
    "\n",
    "### 2) 데이터 정규화 방법\n",
    "\n",
    "주로 standardscaler을 사용(상황에 따라서 더 좋은 패키지를 선택)\n",
    "\n",
    "standardscaler은 범위가 아닌 분산 조정\n",
    "\n",
    "minmax는 범위 조정\n",
    "\n",
    "#### 최소-최대 정규화 (Min-Max Normalization)\n",
    "\n",
    "모든 feature에 대해 각각의 최소값 0, 최대값 1로, 그리고 다른 값들은 0과 1 사이의 값으로 변환.\n",
    "\n",
    "예를 들어 어떤 특성의 최소값이 20이고 최대값이 40인 경우, 30이라는 데이터가 있을 경우,\n",
    "20은 `0`, 40은 `1`로 환산되기 때문에 30은 중간치인 `0.5`로 변환됨.\n",
    "\n",
    "## 콜백함수\n",
    "\n",
    "모델의 학습 방향, 저장 시점, 학습 정지 시점 등에 관한 상황을 모니터링하기 위한 도구\n",
    "\n",
    "### 콜백함수 사용 방법\n",
    "\n",
    "#### 콜백 정의\n",
    "\n",
    "```pyhon\n",
    "callbacks = [  콜백1, 콜백2, ... 콜백n  ]\n",
    "```\n",
    "\n",
    "#### 학습을 위한 fit() 함수에서 callbacks 파라미터에 미리 정의한 리스트를 지정\n",
    "\n",
    "```python\n",
    "callbacks = [콜백1, 콜백2, ... , 콜백n]\n",
    "model.fit(x_train, y_train, validation_data = (x_val, y_val), epochs = 500, callbacks = callbacks)\n",
    "```\n",
    "\n",
    "혹은\n",
    "\n",
    "```python\n",
    "model.fit(x_train, y_train, validation_data = (x_val, y_val), epochs = 500, callbacks = [\n",
    "    콜백1, 콜백2, ... , 콜백n\n",
    "])\n",
    "```\n",
    "\n",
    "### 콜백함수 종류\n",
    "\n",
    "#### 1) `EarlyStopping()`\n",
    "\n",
    "모델 학습 시에 지정된 기간 동안 모니터링하는 평가지표에서 더 이상 성능 향상이 일어나지 않은 경우 학습을 스스로 중단\n",
    "\n",
    "EarlyStopping의 patience를 통해 epochs 제한 - epochs가 쓸데없이 많으면 오차 범위가 증가\n",
    "\n",
    "```python\n",
    "EarlyStopping(monitor='평가지표', patience=10, verbose=1)\n",
    "```\n",
    "\n",
    "- `patience` : 지정한 수만큼의 기간에서 평가지표의 향상이 일어나지 않을 경우 학습을 중단 (기간이라 함은 에폭을 의미)\n",
    "예를 들어 patience=`10`일 때, `10`에폭 동안 성능 향상이 일어나지 않으면 학습을 중단. 즉, 10회 이상 성능향상이 발견되지 않으면 중단함\n",
    "- `verbose` : 콜백의 수행 과정 노출 여부를 지정.\n",
    "    * 0: 아무런 표시 하지 않음(기본값)\n",
    "    * 1: 프로그래스바로 표시\n",
    "    * 2: 매 에폭마다 수행과정을 자세하게 출력함.\n",
    "\n",
    "#### 2) `ReduceLROnPlateau()`\n",
    "\n",
    "EarlyStopping 콜백과 같이 patience 인자를 지정하여, 지정된 기간 동안 `평가지표에서 성능 향상이 일어나지 않으면 학습률을 조정하는 콜백`\n",
    "\n",
    "```python\n",
    "ReduceLROnPlateau(monitor='평가지표', factor=0.1, patience=10, min_lr=0, verbose=1)\n",
    "```\n",
    "\n",
    "- `factor` : 학습률 조정에 사용되는 값 (새로운 학습률 = factor * 기존 학습률)\n",
    "- patience: 지정한 수만큼의 기간에서 성능 향상이 일어나지 않을 경우, 학습률을 조정\n",
    "- `min_lr` : 학습률의 하한을 지정\n",
    "- `verbose` : 콜백의 수행 과정 노출 여부를 지정.\n",
    "\n",
    "#### 3) `ModelCheckpoint()`\n",
    "\n",
    "지정한 평가지표를 기준으로 가장 뛰어난 성능을 보여주는 모델을 저장 할 때 사용\n",
    "\n",
    "```python\n",
    "ModelCheckpoint(filepath, monitor='평가지표', verbose=1, save_best_only=True|False, save_weights_only=False)\n",
    "```\n",
    "\n",
    "- `filepath` : 모델의 저장 경로를 지정\n",
    "- `save_best_only` : True인 경우, 가장 성능이 뛰어난 모델만 저장. 그보다 좋지 않은 모델의 경우는 덮어쓰지 않는다.\n",
    "- `save_weights_only` : 모델의 가중치만 저장"
   ]
  },
  {
   "cell_type": "markdown",
   "metadata": {},
   "source": [
    "## #01. 패키지"
   ]
  },
  {
   "cell_type": "code",
   "execution_count": 2,
   "metadata": {},
   "outputs": [],
   "source": [
    "import os\n",
    "import sys\n",
    "sys.path.append('../../')\n",
    "import helper\n",
    "\n",
    "from pandas import read_excel, DataFrame\n",
    "from matplotlib import pyplot as plt\n",
    "import seaborn as sb\n",
    "import numpy as np\n",
    "\n",
    "# 데이터를 훈련용과 테스트용으로 나누는 기능\n",
    "from sklearn.model_selection import train_test_split\n",
    "\n",
    "# 모델을 구성하기위한 객체\n",
    "from tensorflow.keras.models import Sequential\n",
    "# 모델에 학습층을 쌓기 위한 클래스\n",
    "from tensorflow.keras.layers import Dense\n",
    "\n",
    "\n",
    "#-------- 추가 패키지 --------#\n",
    "# 데이터 정규화를 위한 패키지 참조\n",
    "from sklearn.preprocessing import MinMaxScaler\n",
    "\n",
    "# 학습에 대한 콜백함수 참조\n",
    "from tensorflow.keras.callbacks import EarlyStopping\n",
    "from tensorflow.keras.callbacks import ReduceLROnPlateau\n",
    "from tensorflow.keras.callbacks import ModelCheckpoint"
   ]
  },
  {
   "cell_type": "markdown",
   "metadata": {},
   "source": [
    "## #02. 데이터 준비"
   ]
  },
  {
   "cell_type": "code",
   "execution_count": 3,
   "metadata": {},
   "outputs": [
    {
     "data": {
      "text/html": [
       "<div>\n",
       "<style scoped>\n",
       "    .dataframe tbody tr th:only-of-type {\n",
       "        vertical-align: middle;\n",
       "    }\n",
       "\n",
       "    .dataframe tbody tr th {\n",
       "        vertical-align: top;\n",
       "    }\n",
       "\n",
       "    .dataframe thead th {\n",
       "        text-align: right;\n",
       "    }\n",
       "</style>\n",
       "<table border=\"1\" class=\"dataframe\">\n",
       "  <thead>\n",
       "    <tr style=\"text-align: right;\">\n",
       "      <th></th>\n",
       "      <th>speed</th>\n",
       "      <th>dist</th>\n",
       "    </tr>\n",
       "  </thead>\n",
       "  <tbody>\n",
       "    <tr>\n",
       "      <th>0</th>\n",
       "      <td>4</td>\n",
       "      <td>2</td>\n",
       "    </tr>\n",
       "    <tr>\n",
       "      <th>1</th>\n",
       "      <td>4</td>\n",
       "      <td>10</td>\n",
       "    </tr>\n",
       "    <tr>\n",
       "      <th>2</th>\n",
       "      <td>7</td>\n",
       "      <td>4</td>\n",
       "    </tr>\n",
       "    <tr>\n",
       "      <th>3</th>\n",
       "      <td>7</td>\n",
       "      <td>22</td>\n",
       "    </tr>\n",
       "    <tr>\n",
       "      <th>4</th>\n",
       "      <td>8</td>\n",
       "      <td>16</td>\n",
       "    </tr>\n",
       "  </tbody>\n",
       "</table>\n",
       "</div>"
      ],
      "text/plain": [
       "   speed  dist\n",
       "0      4     2\n",
       "1      4    10\n",
       "2      7     4\n",
       "3      7    22\n",
       "4      8    16"
      ]
     },
     "execution_count": 3,
     "metadata": {},
     "output_type": "execute_result"
    }
   ],
   "source": [
    "origin = read_excel('https://data.hossam.kr/E04/cars.xlsx')\n",
    "origin.head()"
   ]
  },
  {
   "cell_type": "markdown",
   "metadata": {},
   "source": [
    "## #03. 데이터 전처리"
   ]
  },
  {
   "cell_type": "markdown",
   "metadata": {},
   "source": [
    "### 결측치 확인"
   ]
  },
  {
   "cell_type": "code",
   "execution_count": 4,
   "metadata": {},
   "outputs": [
    {
     "data": {
      "text/plain": [
       "speed    0\n",
       "dist     0\n",
       "dtype: int64"
      ]
     },
     "execution_count": 4,
     "metadata": {},
     "output_type": "execute_result"
    }
   ],
   "source": [
    "origin.isna().sum()"
   ]
  },
  {
   "cell_type": "markdown",
   "metadata": {},
   "source": [
    "> 결측치 없음"
   ]
  },
  {
   "cell_type": "markdown",
   "metadata": {},
   "source": [
    "## #04. 탐색적 데이터 분석"
   ]
  },
  {
   "cell_type": "markdown",
   "metadata": {},
   "source": [
    "### 기초통계 확인\n",
    "\n",
    "describe"
   ]
  },
  {
   "cell_type": "code",
   "execution_count": 5,
   "metadata": {},
   "outputs": [
    {
     "data": {
      "text/html": [
       "<div>\n",
       "<style scoped>\n",
       "    .dataframe tbody tr th:only-of-type {\n",
       "        vertical-align: middle;\n",
       "    }\n",
       "\n",
       "    .dataframe tbody tr th {\n",
       "        vertical-align: top;\n",
       "    }\n",
       "\n",
       "    .dataframe thead th {\n",
       "        text-align: right;\n",
       "    }\n",
       "</style>\n",
       "<table border=\"1\" class=\"dataframe\">\n",
       "  <thead>\n",
       "    <tr style=\"text-align: right;\">\n",
       "      <th></th>\n",
       "      <th>speed</th>\n",
       "      <th>dist</th>\n",
       "    </tr>\n",
       "  </thead>\n",
       "  <tbody>\n",
       "    <tr>\n",
       "      <th>count</th>\n",
       "      <td>50.000000</td>\n",
       "      <td>50.000000</td>\n",
       "    </tr>\n",
       "    <tr>\n",
       "      <th>mean</th>\n",
       "      <td>15.400000</td>\n",
       "      <td>42.980000</td>\n",
       "    </tr>\n",
       "    <tr>\n",
       "      <th>std</th>\n",
       "      <td>5.287644</td>\n",
       "      <td>25.769377</td>\n",
       "    </tr>\n",
       "    <tr>\n",
       "      <th>min</th>\n",
       "      <td>4.000000</td>\n",
       "      <td>2.000000</td>\n",
       "    </tr>\n",
       "    <tr>\n",
       "      <th>25%</th>\n",
       "      <td>12.000000</td>\n",
       "      <td>26.000000</td>\n",
       "    </tr>\n",
       "    <tr>\n",
       "      <th>50%</th>\n",
       "      <td>15.000000</td>\n",
       "      <td>36.000000</td>\n",
       "    </tr>\n",
       "    <tr>\n",
       "      <th>75%</th>\n",
       "      <td>19.000000</td>\n",
       "      <td>56.000000</td>\n",
       "    </tr>\n",
       "    <tr>\n",
       "      <th>max</th>\n",
       "      <td>25.000000</td>\n",
       "      <td>120.000000</td>\n",
       "    </tr>\n",
       "  </tbody>\n",
       "</table>\n",
       "</div>"
      ],
      "text/plain": [
       "           speed        dist\n",
       "count  50.000000   50.000000\n",
       "mean   15.400000   42.980000\n",
       "std     5.287644   25.769377\n",
       "min     4.000000    2.000000\n",
       "25%    12.000000   26.000000\n",
       "50%    15.000000   36.000000\n",
       "75%    19.000000   56.000000\n",
       "max    25.000000  120.000000"
      ]
     },
     "execution_count": 5,
     "metadata": {},
     "output_type": "execute_result"
    }
   ],
   "source": [
    "origin.describe()"
   ]
  },
  {
   "cell_type": "markdown",
   "metadata": {},
   "source": [
    "### (수정) 산점도 그래프와 추세선 확인\n",
    "\n",
    "산점도, 추세선 확인 이유\n",
    "- 단순선형, 다항식으로 갈지 여부를 결정 -> 곡선인 경우 다항식으로 분석\n",
    "- 즉, 시각화 자료를 통한 차수 결정"
   ]
  },
  {
   "cell_type": "code",
   "execution_count": 6,
   "metadata": {},
   "outputs": [
    {
     "data": {
      "image/png": "[encoded data removed]",
      "text/plain": [
       "<Figure size 1000x500 with 1 Axes>"
      ]
     },
     "metadata": {},
     "output_type": "display_data"
    }
   ],
   "source": [
    "plt.rcParams[\"font.family\"] = 'Malgun Gothic'\n",
    "plt.rcParams[\"font.size\"] = 16\n",
    "plt.rcParams['axes.unicode_minus'] = False\n",
    "\n",
    "plt.figure(figsize=(10, 5))\n",
    "sb.regplot(data=origin, x='speed', y='dist', color='#ff6600')\n",
    "plt.grid()\n",
    "\n",
    "plt.show()\n",
    "plt.close()"
   ]
  },
  {
   "cell_type": "markdown",
   "metadata": {},
   "source": [
    "> 곡선보다는 `선형 분포(직선)`에 더 가까우므로 `단순선형회귀모델`을 적용\n",
    "\n",
    "> 데이터의 범위는 `0~1` 사이로 변화했지만 전체적인 상관관계는 변하지 않았음을 알 수 있다."
   ]
  },
  {
   "cell_type": "markdown",
   "metadata": {},
   "source": [
    "## #05. 데이터셋 분할"
   ]
  },
  {
   "cell_type": "markdown",
   "metadata": {},
   "source": [
    "### 1. 랜덤시드 고정"
   ]
  },
  {
   "cell_type": "code",
   "execution_count": 7,
   "metadata": {},
   "outputs": [],
   "source": [
    "np.random.seed(777)"
   ]
  },
  {
   "cell_type": "markdown",
   "metadata": {},
   "source": [
    "### 2. 훈련 데이터(독립변수)와 레이블(종속변수) 구분하기\n",
    "\n",
    "데이터프레임은 2차원 형식"
   ]
  },
  {
   "cell_type": "code",
   "execution_count": 8,
   "metadata": {},
   "outputs": [
    {
     "name": "stdout",
     "output_type": "stream",
     "text": [
      "훈련데이터 크기 : (50, 1) / 레이블 크기 : (50, 1)\n"
     ]
    }
   ],
   "source": [
    "# (행 수, 열 수)\n",
    "x = origin.drop(['dist'], axis=1)\n",
    "y = origin[['dist']]\n",
    "print(\"훈련데이터 크기 :\", x.shape, \"/ 레이블 크기 :\", y.shape)"
   ]
  },
  {
   "cell_type": "markdown",
   "metadata": {},
   "source": [
    "### (추가) 데이터 정규화(표준화) 수행\n",
    "\n",
    "표준화는 2차원\n",
    "\n",
    "차후 학습 결과 적용에서 스케일링 데이터를 사용해야하기 때문에 독립/종속 변수를 따로 스케일링"
   ]
  },
  {
   "cell_type": "markdown",
   "metadata": {},
   "source": [
    "#### 독립변수 표준화"
   ]
  },
  {
   "cell_type": "code",
   "execution_count": 9,
   "metadata": {},
   "outputs": [
    {
     "data": {
      "text/plain": [
       "array([[0.        ],\n",
       "       [0.        ],\n",
       "       [0.14285714],\n",
       "       [0.14285714],\n",
       "       [0.19047619],\n",
       "       [0.23809524],\n",
       "       [0.28571429],\n",
       "       [0.28571429],\n",
       "       [0.28571429],\n",
       "       [0.33333333],\n",
       "       [0.33333333],\n",
       "       [0.38095238],\n",
       "       [0.38095238],\n",
       "       [0.38095238],\n",
       "       [0.38095238],\n",
       "       [0.42857143],\n",
       "       [0.42857143],\n",
       "       [0.42857143],\n",
       "       [0.42857143],\n",
       "       [0.47619048],\n",
       "       [0.47619048],\n",
       "       [0.47619048],\n",
       "       [0.47619048],\n",
       "       [0.52380952],\n",
       "       [0.52380952],\n",
       "       [0.52380952],\n",
       "       [0.57142857],\n",
       "       [0.57142857],\n",
       "       [0.61904762],\n",
       "       [0.61904762],\n",
       "       [0.61904762],\n",
       "       [0.66666667],\n",
       "       [0.66666667],\n",
       "       [0.66666667],\n",
       "       [0.66666667],\n",
       "       [0.71428571],\n",
       "       [0.71428571],\n",
       "       [0.71428571],\n",
       "       [0.76190476],\n",
       "       [0.76190476],\n",
       "       [0.76190476],\n",
       "       [0.76190476],\n",
       "       [0.76190476],\n",
       "       [0.85714286],\n",
       "       [0.9047619 ],\n",
       "       [0.95238095],\n",
       "       [0.95238095],\n",
       "       [0.95238095],\n",
       "       [0.95238095],\n",
       "       [1.        ]])"
      ]
     },
     "execution_count": 9,
     "metadata": {},
     "output_type": "execute_result"
    }
   ],
   "source": [
    "x_scaler = MinMaxScaler()\n",
    "x_scale = x_scaler.fit_transform(x)\n",
    "x_scale"
   ]
  },
  {
   "cell_type": "markdown",
   "metadata": {},
   "source": [
    "#### 독립변수 표준화"
   ]
  },
  {
   "cell_type": "code",
   "execution_count": 10,
   "metadata": {},
   "outputs": [
    {
     "data": {
      "text/plain": [
       "array([[0.        ],\n",
       "       [0.06779661],\n",
       "       [0.01694915],\n",
       "       [0.16949153],\n",
       "       [0.11864407],\n",
       "       [0.06779661],\n",
       "       [0.13559322],\n",
       "       [0.20338983],\n",
       "       [0.27118644],\n",
       "       [0.12711864],\n",
       "       [0.22033898],\n",
       "       [0.10169492],\n",
       "       [0.15254237],\n",
       "       [0.18644068],\n",
       "       [0.22033898],\n",
       "       [0.20338983],\n",
       "       [0.27118644],\n",
       "       [0.27118644],\n",
       "       [0.37288136],\n",
       "       [0.20338983],\n",
       "       [0.28813559],\n",
       "       [0.49152542],\n",
       "       [0.66101695],\n",
       "       [0.15254237],\n",
       "       [0.20338983],\n",
       "       [0.44067797],\n",
       "       [0.25423729],\n",
       "       [0.3220339 ],\n",
       "       [0.25423729],\n",
       "       [0.3220339 ],\n",
       "       [0.40677966],\n",
       "       [0.33898305],\n",
       "       [0.45762712],\n",
       "       [0.62711864],\n",
       "       [0.69491525],\n",
       "       [0.28813559],\n",
       "       [0.37288136],\n",
       "       [0.55932203],\n",
       "       [0.25423729],\n",
       "       [0.38983051],\n",
       "       [0.42372881],\n",
       "       [0.45762712],\n",
       "       [0.52542373],\n",
       "       [0.54237288],\n",
       "       [0.44067797],\n",
       "       [0.57627119],\n",
       "       [0.76271186],\n",
       "       [0.77118644],\n",
       "       [1.        ],\n",
       "       [0.70338983]])"
      ]
     },
     "execution_count": 10,
     "metadata": {},
     "output_type": "execute_result"
    }
   ],
   "source": [
    "y_scaler = MinMaxScaler()\n",
    "y_scale = y_scaler.fit_transform(y)\n",
    "y_scale"
   ]
  },
  {
   "cell_type": "markdown",
   "metadata": {},
   "source": [
    "### 3. 훈련 데이터와 검증 데이터로 분할"
   ]
  },
  {
   "cell_type": "code",
   "execution_count": 11,
   "metadata": {},
   "outputs": [
    {
     "name": "stdout",
     "output_type": "stream",
     "text": [
      "훈련용 데이터셋 크기 : 35, 검증용 데이터셋 크기 : 15\n"
     ]
    }
   ],
   "source": [
    "x_train, x_test, y_train, y_test = train_test_split(x_scale, y_scale, test_size = 0.3, random_state = 777)\n",
    "print(\"훈련용 데이터셋 크기 : %d, 검증용 데이터셋 크기 : %d\" % (len(x_train), len(x_test)))"
   ]
  },
  {
   "cell_type": "code",
   "execution_count": 12,
   "metadata": {},
   "outputs": [
    {
     "name": "stdout",
     "output_type": "stream",
     "text": [
      "y_test : <class 'numpy.ndarray'> / x_test : <class 'numpy.ndarray'>\n"
     ]
    }
   ],
   "source": [
    "# 본인 추가 - 객체 확인\n",
    "print(\"y_test :\",type(y_test), \"/\", \"x_test :\", type(x_test))"
   ]
  },
  {
   "cell_type": "markdown",
   "metadata": {},
   "source": [
    "## #06. 모델 개발"
   ]
  },
  {
   "cell_type": "markdown",
   "metadata": {},
   "source": [
    "### 1. 모델 정의\n",
    "\n",
    "- input_shape은 독립변수 수\n",
    "- Dense 신경망 개수의 수에 따라서 모델의 성능에 차이가 발생\n",
    "    - 직감으로 맞춤(다른 방법 없음) 보통 16 또는 32 이상\n",
    "    - 최적의 값을 직접 탐색(단, 너무 크면 컴퓨터 다운)\n",
    "- activation은 모델과 분석 종류에 따라서 다름 \n",
    "    - 보통은 relu, 분류는 sigmoid, 회귀는 linear\n",
    "- optimizer은 모르면 Adam 사용\n",
    "- epochs는 많아도 크게 상관이 없음(단, 너무 크면 오래 걸림)\n",
    "- 2차항을 하고 싶다면 sklearn으로 2차항 생성 후 Sequential에 입력\n",
    "\n",
    "| 구분 | 모델 | 활성화 함수 | 옵티마이저 | 손실함수 | 평가지표 | 대표예제 |\n",
    "|--|--|--|--|--|--|--|\n",
    "| 논리연산 | 단층퍼셉트론 | linear | SGD | mse | acc | OR, AND Gate |\n",
    "| 논리연산 | 다층퍼셉트론 | relu, sigmoid | RMSprop | mse | acc | XOR Gate |\n",
    "| 회귀 | 단순선형회귀 | relu, linear | adam | mse | mae | |\n",
    "| 회귀 | 다중선형회귀 | relu, relu, linear | adam | mse | ase | 보스턴 집값 예측 |\n",
    "| 분류 | 이항분류(로지스틱 회귀) | [relu,] sigmoid | rmsporp | binary_crossentropy | acc | 타이타닉 생존률 예측 |\n",
    "| 분류 | 다항분류(소프트맥스 회귀) | [relu, ...] softmax | adam 혹은 rmsprop | categorical_crossentropy | acc | iris 분류 |"
   ]
  },
  {
   "cell_type": "code",
   "execution_count": 13,
   "metadata": {},
   "outputs": [
    {
     "name": "stdout",
     "output_type": "stream",
     "text": [
      "Model: \"sequential\"\n",
      "_________________________________________________________________\n",
      " Layer (type)                Output Shape              Param #   \n",
      "=================================================================\n",
      " dense (Dense)               (None, 32)                64        \n",
      "                                                                 \n",
      " dense_1 (Dense)             (None, 1)                 33        \n",
      "                                                                 \n",
      "=================================================================\n",
      "Total params: 97 (388.00 Byte)\n",
      "Trainable params: 97 (388.00 Byte)\n",
      "Non-trainable params: 0 (0.00 Byte)\n",
      "_________________________________________________________________\n"
     ]
    }
   ],
   "source": [
    "model = Sequential()\n",
    "# 1차원의 데이터를 입력으로 받고, 32개의 출력을 가지는 첫 번째 Dense 층\n",
    "model.add(Dense(32, activation = 'relu', input_shape = (1, )))\n",
    "# 하나의 값을 출력\n",
    "# -> 정답의 범위가 정해지지 않기 때문에 활성화 함수는 linear\n",
    "# -> linear는 기본값이므로 생략 가능함.\n",
    "model.add(Dense(1, activation='linear'))\n",
    "\n",
    "model.compile(optimizer = 'adam', loss = 'mse', metrics = ['mae'])\n",
    "model.summary()"
   ]
  },
  {
   "cell_type": "markdown",
   "metadata": {},
   "source": [
    "### (수정) 학습하기\n",
    "\n",
    "- epochs는 많아도 크게 상관이 없음(단, 너무 크면 오래 걸리고 오차가 증가)\n",
    "    - callback을 사용해 모델의 학습 방향, 저장 시점, 학습 정지 시점 등에 관한 상황을 모니터링\n",
    "    - EarlyStopping 콜백과 같이 patience 인자를 지정하여, 지정된 기간 동안 `평가지표에서 성능 향상이 일어나지 않으면 학습률을 조정하는 콜백`\n",
    "    - ReduceLROnPlateau EarlyStopping 콜백과 같이 patience 인자를 지정하여, 지정된 기간 동안 `평가지표에서 성능 향상이 일어나지 않으면 학습률을 조정하는 콜백`\n",
    "    - ModelCheckpoint 지정한 평가지표를 기준으로 가장 뛰어난 성능을 보여주는 모델을 저장 할 때 사용"
   ]
  },
  {
   "cell_type": "code",
   "execution_count": 14,
   "metadata": {},
   "outputs": [
    {
     "name": "stdout",
     "output_type": "stream",
     "text": [
      "Epoch 1/500\n"
     ]
    },
    {
     "name": "stdout",
     "output_type": "stream",
     "text": [
      "1/2 [==============>...............] - ETA: 0s - loss: 0.3104 - mae: 0.4863\n",
      "Epoch 1: val_loss improved from inf to 0.21136, saving model to D:\\tensorflow_checkpoint\\model07-cp-0001-ckpt\n",
      "2/2 [==============================] - 2s 1s/step - loss: 0.3162 - mae: 0.4898 - val_loss: 0.2114 - val_mae: 0.4052 - lr: 0.0010\n",
      "Epoch 2/500\n",
      "1/2 [==============>...............] - ETA: 0s - loss: 0.3197 - mae: 0.4924\n",
      "Epoch 2: val_loss improved from 0.21136 to 0.20166, saving model to D:\\tensorflow_checkpoint\\model07-cp-0002-ckpt\n",
      "2/2 [==============================] - 1s 791ms/step - loss: 0.3034 - mae: 0.4778 - val_loss: 0.2017 - val_mae: 0.3947 - lr: 0.0010\n",
      "Epoch 3/500\n",
      "1/2 [==============>...............] - ETA: 0s - loss: 0.3045 - mae: 0.4774\n",
      "Epoch 3: val_loss improved from 0.20166 to 0.19241, saving model to D:\\tensorflow_checkpoint\\model07-cp-0003-ckpt\n",
      "2/2 [==============================] - 1s 716ms/step - loss: 0.2909 - mae: 0.4659 - val_loss: 0.1924 - val_mae: 0.3845 - lr: 0.0010\n",
      "Epoch 4/500\n",
      "1/2 [==============>...............] - ETA: 0s - loss: 0.2949 - mae: 0.4675\n",
      "Epoch 4: val_loss improved from 0.19241 to 0.18353, saving model to D:\\tensorflow_checkpoint\\model07-cp-0004-ckpt\n",
      "2/2 [==============================] - 1s 741ms/step - loss: 0.2791 - mae: 0.4543 - val_loss: 0.1835 - val_mae: 0.3743 - lr: 0.0010\n",
      "Epoch 5/500\n",
      "1/2 [==============>...............] - ETA: 0s - loss: 0.2693 - mae: 0.4533\n",
      "Epoch 5: val_loss improved from 0.18353 to 0.17491, saving model to D:\\tensorflow_checkpoint\\model07-cp-0005-ckpt\n",
      "2/2 [==============================] - 1s 663ms/step - loss: 0.2675 - mae: 0.4428 - val_loss: 0.1749 - val_mae: 0.3642 - lr: 0.0010\n",
      "Epoch 6/500\n",
      "1/2 [==============>...............] - ETA: 0s - loss: 0.2642 - mae: 0.4341\n",
      "Epoch 6: val_loss improved from 0.17491 to 0.16647, saving model to D:\\tensorflow_checkpoint\\model07-cp-0006-ckpt\n",
      "2/2 [==============================] - 1s 639ms/step - loss: 0.2563 - mae: 0.4313 - val_loss: 0.1665 - val_mae: 0.3541 - lr: 0.0010\n",
      "Epoch 7/500\n",
      "1/2 [==============>...............] - ETA: 0s - loss: 0.2478 - mae: 0.4235\n",
      "Epoch 7: val_loss improved from 0.16647 to 0.15826, saving model to D:\\tensorflow_checkpoint\\model07-cp-0007-ckpt\n",
      "2/2 [==============================] - 1s 638ms/step - loss: 0.2453 - mae: 0.4198 - val_loss: 0.1583 - val_mae: 0.3439 - lr: 0.0010\n",
      "Epoch 8/500\n",
      "1/2 [==============>...............] - ETA: 0s - loss: 0.2380 - mae: 0.4074\n",
      "Epoch 8: val_loss improved from 0.15826 to 0.15026, saving model to D:\\tensorflow_checkpoint\\model07-cp-0008-ckpt\n",
      "2/2 [==============================] - 1s 779ms/step - loss: 0.2345 - mae: 0.4084 - val_loss: 0.1503 - val_mae: 0.3337 - lr: 0.0010\n",
      "Epoch 9/500\n",
      "1/2 [==============>...............] - ETA: 0s - loss: 0.2130 - mae: 0.3838\n",
      "Epoch 9: val_loss improved from 0.15026 to 0.14238, saving model to D:\\tensorflow_checkpoint\\model07-cp-0009-ckpt\n",
      "2/2 [==============================] - 1s 770ms/step - loss: 0.2239 - mae: 0.3972 - val_loss: 0.1424 - val_mae: 0.3233 - lr: 0.0010\n",
      "Epoch 10/500\n",
      "1/2 [==============>...............] - ETA: 0s - loss: 0.2122 - mae: 0.3798\n",
      "Epoch 10: val_loss improved from 0.14238 to 0.13467, saving model to D:\\tensorflow_checkpoint\\model07-cp-0010-ckpt\n",
      "2/2 [==============================] - 1s 666ms/step - loss: 0.2136 - mae: 0.3859 - val_loss: 0.1347 - val_mae: 0.3128 - lr: 0.0010\n",
      "Epoch 11/500\n",
      "1/2 [==============>...............] - ETA: 0s - loss: 0.2144 - mae: 0.3862\n",
      "Epoch 11: val_loss improved from 0.13467 to 0.12735, saving model to D:\\tensorflow_checkpoint\\model07-cp-0011-ckpt\n",
      "2/2 [==============================] - 1s 706ms/step - loss: 0.2037 - mae: 0.3745 - val_loss: 0.1273 - val_mae: 0.3026 - lr: 0.0010\n",
      "Epoch 12/500\n",
      "1/2 [==============>...............] - ETA: 0s - loss: 0.1994 - mae: 0.3719\n",
      "Epoch 12: val_loss improved from 0.12735 to 0.12045, saving model to D:\\tensorflow_checkpoint\\model07-cp-0012-ckpt\n",
      "2/2 [==============================] - 1s 760ms/step - loss: 0.1939 - mae: 0.3632 - val_loss: 0.1204 - val_mae: 0.2926 - lr: 0.0010\n",
      "Epoch 13/500\n",
      "1/2 [==============>...............] - ETA: 0s - loss: 0.1587 - mae: 0.3307\n",
      "Epoch 13: val_loss improved from 0.12045 to 0.11374, saving model to D:\\tensorflow_checkpoint\\model07-cp-0013-ckpt\n",
      "2/2 [==============================] - 1s 639ms/step - loss: 0.1843 - mae: 0.3521 - val_loss: 0.1137 - val_mae: 0.2825 - lr: 0.0010\n",
      "Epoch 14/500\n",
      "1/2 [==============>...............] - ETA: 0s - loss: 0.1900 - mae: 0.3589\n",
      "Epoch 14: val_loss improved from 0.11374 to 0.10737, saving model to D:\\tensorflow_checkpoint\\model07-cp-0014-ckpt\n",
      "2/2 [==============================] - 1s 660ms/step - loss: 0.1759 - mae: 0.3412 - val_loss: 0.1074 - val_mae: 0.2726 - lr: 0.0010\n",
      "Epoch 15/500\n",
      "1/2 [==============>...............] - ETA: 0s - loss: 0.1740 - mae: 0.3332\n",
      "Epoch 15: val_loss improved from 0.10737 to 0.10145, saving model to D:\\tensorflow_checkpoint\\model07-cp-0015-ckpt\n",
      "2/2 [==============================] - 1s 636ms/step - loss: 0.1671 - mae: 0.3301 - val_loss: 0.1015 - val_mae: 0.2631 - lr: 0.0010\n",
      "Epoch 16/500\n",
      "1/2 [==============>...............] - ETA: 0s - loss: 0.1730 - mae: 0.3410\n",
      "Epoch 16: val_loss improved from 0.10145 to 0.09596, saving model to D:\\tensorflow_checkpoint\\model07-cp-0016-ckpt\n",
      "2/2 [==============================] - 1s 793ms/step - loss: 0.1594 - mae: 0.3202 - val_loss: 0.0960 - val_mae: 0.2540 - lr: 0.0010\n",
      "Epoch 17/500\n",
      "1/2 [==============>...............] - ETA: 0s - loss: 0.1323 - mae: 0.2930\n",
      "Epoch 17: val_loss improved from 0.09596 to 0.09071, saving model to D:\\tensorflow_checkpoint\\model07-cp-0017-ckpt\n",
      "2/2 [==============================] - 1s 644ms/step - loss: 0.1514 - mae: 0.3104 - val_loss: 0.0907 - val_mae: 0.2449 - lr: 0.0010\n",
      "Epoch 18/500\n",
      "1/2 [==============>...............] - ETA: 0s - loss: 0.1382 - mae: 0.2874\n",
      "Epoch 18: val_loss improved from 0.09071 to 0.08550, saving model to D:\\tensorflow_checkpoint\\model07-cp-0018-ckpt\n",
      "2/2 [==============================] - 1s 636ms/step - loss: 0.1443 - mae: 0.3008 - val_loss: 0.0855 - val_mae: 0.2355 - lr: 0.0010\n",
      "Epoch 19/500\n",
      "1/2 [==============>...............] - ETA: 0s - loss: 0.1492 - mae: 0.3099\n",
      "Epoch 19: val_loss improved from 0.08550 to 0.08062, saving model to D:\\tensorflow_checkpoint\\model07-cp-0019-ckpt\n",
      "2/2 [==============================] - 1s 624ms/step - loss: 0.1375 - mae: 0.2913 - val_loss: 0.0806 - val_mae: 0.2264 - lr: 0.0010\n",
      "Epoch 20/500\n",
      "1/2 [==============>...............] - ETA: 0s - loss: 0.1141 - mae: 0.2689\n",
      "Epoch 20: val_loss improved from 0.08062 to 0.07604, saving model to D:\\tensorflow_checkpoint\\model07-cp-0020-ckpt\n",
      "2/2 [==============================] - 1s 727ms/step - loss: 0.1303 - mae: 0.2816 - val_loss: 0.0760 - val_mae: 0.2185 - lr: 0.0010\n",
      "Epoch 21/500\n",
      "1/2 [==============>...............] - ETA: 0s - loss: 0.1287 - mae: 0.2769\n",
      "Epoch 21: val_loss improved from 0.07604 to 0.07164, saving model to D:\\tensorflow_checkpoint\\model07-cp-0021-ckpt\n",
      "2/2 [==============================] - 1s 628ms/step - loss: 0.1241 - mae: 0.2724 - val_loss: 0.0716 - val_mae: 0.2107 - lr: 0.0010\n",
      "Epoch 22/500\n",
      "1/2 [==============>...............] - ETA: 0s - loss: 0.1192 - mae: 0.2620\n",
      "Epoch 22: val_loss improved from 0.07164 to 0.06749, saving model to D:\\tensorflow_checkpoint\\model07-cp-0022-ckpt\n",
      "2/2 [==============================] - 1s 716ms/step - loss: 0.1179 - mae: 0.2631 - val_loss: 0.0675 - val_mae: 0.2031 - lr: 0.0010\n",
      "Epoch 23/500\n",
      "1/2 [==============>...............] - ETA: 0s - loss: 0.1199 - mae: 0.2659\n",
      "Epoch 23: val_loss improved from 0.06749 to 0.06364, saving model to D:\\tensorflow_checkpoint\\model07-cp-0023-ckpt\n",
      "2/2 [==============================] - 1s 846ms/step - loss: 0.1122 - mae: 0.2544 - val_loss: 0.0636 - val_mae: 0.1967 - lr: 0.0010\n",
      "Epoch 24/500\n",
      "1/2 [==============>...............] - ETA: 0s - loss: 0.1091 - mae: 0.2467\n",
      "Epoch 24: val_loss improved from 0.06364 to 0.06008, saving model to D:\\tensorflow_checkpoint\\model07-cp-0024-ckpt\n",
      "2/2 [==============================] - 1s 735ms/step - loss: 0.1065 - mae: 0.2459 - val_loss: 0.0601 - val_mae: 0.1905 - lr: 0.0010\n",
      "Epoch 25/500\n",
      "1/2 [==============>...............] - ETA: 0s - loss: 0.1008 - mae: 0.2300\n",
      "Epoch 25: val_loss improved from 0.06008 to 0.05666, saving model to D:\\tensorflow_checkpoint\\model07-cp-0025-ckpt\n",
      "2/2 [==============================] - 1s 657ms/step - loss: 0.1013 - mae: 0.2379 - val_loss: 0.0567 - val_mae: 0.1843 - lr: 0.0010\n",
      "Epoch 26/500\n",
      "1/2 [==============>...............] - ETA: 0s - loss: 0.1055 - mae: 0.2486\n",
      "Epoch 26: val_loss improved from 0.05666 to 0.05349, saving model to D:\\tensorflow_checkpoint\\model07-cp-0026-ckpt\n",
      "2/2 [==============================] - 1s 713ms/step - loss: 0.0966 - mae: 0.2304 - val_loss: 0.0535 - val_mae: 0.1789 - lr: 0.0010\n",
      "Epoch 27/500\n",
      "1/2 [==============>...............] - ETA: 0s - loss: 0.0960 - mae: 0.2272\n",
      "Epoch 27: val_loss improved from 0.05349 to 0.05062, saving model to D:\\tensorflow_checkpoint\\model07-cp-0027-ckpt\n",
      "2/2 [==============================] - 1s 683ms/step - loss: 0.0918 - mae: 0.2230 - val_loss: 0.0506 - val_mae: 0.1741 - lr: 0.0010\n",
      "Epoch 28/500\n",
      "1/2 [==============>...............] - ETA: 0s - loss: 0.0954 - mae: 0.2310\n",
      "Epoch 28: val_loss improved from 0.05062 to 0.04802, saving model to D:\\tensorflow_checkpoint\\model07-cp-0028-ckpt\n",
      "2/2 [==============================] - 1s 794ms/step - loss: 0.0878 - mae: 0.2167 - val_loss: 0.0480 - val_mae: 0.1696 - lr: 0.0010\n",
      "Epoch 29/500\n",
      "1/2 [==============>...............] - ETA: 0s - loss: 0.0885 - mae: 0.2138\n",
      "Epoch 29: val_loss improved from 0.04802 to 0.04569, saving model to D:\\tensorflow_checkpoint\\model07-cp-0029-ckpt\n",
      "2/2 [==============================] - 1s 672ms/step - loss: 0.0837 - mae: 0.2100 - val_loss: 0.0457 - val_mae: 0.1654 - lr: 0.0010\n",
      "Epoch 30/500\n",
      "1/2 [==============>...............] - ETA: 0s - loss: 0.0801 - mae: 0.1996\n",
      "Epoch 30: val_loss improved from 0.04569 to 0.04345, saving model to D:\\tensorflow_checkpoint\\model07-cp-0030-ckpt\n",
      "2/2 [==============================] - 1s 681ms/step - loss: 0.0801 - mae: 0.2040 - val_loss: 0.0435 - val_mae: 0.1611 - lr: 0.0010\n",
      "Epoch 31/500\n",
      "1/2 [==============>...............] - ETA: 0s - loss: 0.0631 - mae: 0.1833\n",
      "Epoch 31: val_loss improved from 0.04345 to 0.04124, saving model to D:\\tensorflow_checkpoint\\model07-cp-0031-ckpt\n",
      "2/2 [==============================] - 1s 657ms/step - loss: 0.0766 - mae: 0.1980 - val_loss: 0.0412 - val_mae: 0.1566 - lr: 0.0010\n",
      "Epoch 32/500\n",
      "1/2 [==============>...............] - ETA: 0s - loss: 0.0783 - mae: 0.1977\n",
      "Epoch 32: val_loss improved from 0.04124 to 0.03914, saving model to D:\\tensorflow_checkpoint\\model07-cp-0032-ckpt\n",
      "2/2 [==============================] - 1s 723ms/step - loss: 0.0733 - mae: 0.1918 - val_loss: 0.0391 - val_mae: 0.1525 - lr: 0.0010\n",
      "Epoch 33/500\n",
      "1/2 [==============>...............] - ETA: 0s - loss: 0.0665 - mae: 0.1807\n",
      "Epoch 33: val_loss improved from 0.03914 to 0.03718, saving model to D:\\tensorflow_checkpoint\\model07-cp-0033-ckpt\n",
      "2/2 [==============================] - 1s 625ms/step - loss: 0.0698 - mae: 0.1860 - val_loss: 0.0372 - val_mae: 0.1491 - lr: 0.0010\n",
      "Epoch 34/500\n",
      "1/2 [==============>...............] - ETA: 0s - loss: 0.0719 - mae: 0.1887\n",
      "Epoch 34: val_loss improved from 0.03718 to 0.03537, saving model to D:\\tensorflow_checkpoint\\model07-cp-0034-ckpt\n",
      "2/2 [==============================] - 1s 682ms/step - loss: 0.0667 - mae: 0.1808 - val_loss: 0.0354 - val_mae: 0.1463 - lr: 0.0010\n",
      "Epoch 35/500\n",
      "1/2 [==============>...............] - ETA: 0s - loss: 0.0619 - mae: 0.1706\n",
      "Epoch 35: val_loss improved from 0.03537 to 0.03371, saving model to D:\\tensorflow_checkpoint\\model07-cp-0035-ckpt\n",
      "2/2 [==============================] - 1s 674ms/step - loss: 0.0635 - mae: 0.1757 - val_loss: 0.0337 - val_mae: 0.1436 - lr: 0.0010\n",
      "Epoch 36/500\n",
      "1/2 [==============>...............] - ETA: 0s - loss: 0.0639 - mae: 0.1752\n",
      "Epoch 36: val_loss improved from 0.03371 to 0.03220, saving model to D:\\tensorflow_checkpoint\\model07-cp-0036-ckpt\n",
      "2/2 [==============================] - 1s 656ms/step - loss: 0.0608 - mae: 0.1713 - val_loss: 0.0322 - val_mae: 0.1409 - lr: 0.0010\n",
      "Epoch 37/500\n",
      "1/2 [==============>...............] - ETA: 0s - loss: 0.0572 - mae: 0.1643\n",
      "Epoch 37: val_loss improved from 0.03220 to 0.03085, saving model to D:\\tensorflow_checkpoint\\model07-cp-0037-ckpt\n",
      "2/2 [==============================] - 1s 629ms/step - loss: 0.0582 - mae: 0.1672 - val_loss: 0.0309 - val_mae: 0.1383 - lr: 0.0010\n",
      "Epoch 38/500\n",
      "1/2 [==============>...............] - ETA: 0s - loss: 0.0556 - mae: 0.1607\n",
      "Epoch 38: val_loss improved from 0.03085 to 0.02963, saving model to D:\\tensorflow_checkpoint\\model07-cp-0038-ckpt\n",
      "2/2 [==============================] - 1s 684ms/step - loss: 0.0557 - mae: 0.1639 - val_loss: 0.0296 - val_mae: 0.1358 - lr: 0.0010\n",
      "Epoch 39/500\n",
      "1/2 [==============>...............] - ETA: 0s - loss: 0.0573 - mae: 0.1661\n",
      "Epoch 39: val_loss improved from 0.02963 to 0.02856, saving model to D:\\tensorflow_checkpoint\\model07-cp-0039-ckpt\n",
      "2/2 [==============================] - 1s 753ms/step - loss: 0.0537 - mae: 0.1618 - val_loss: 0.0286 - val_mae: 0.1335 - lr: 0.0010\n",
      "Epoch 40/500\n",
      "1/2 [==============>...............] - ETA: 0s - loss: 0.0545 - mae: 0.1637\n",
      "Epoch 40: val_loss improved from 0.02856 to 0.02766, saving model to D:\\tensorflow_checkpoint\\model07-cp-0040-ckpt\n",
      "2/2 [==============================] - 1s 735ms/step - loss: 0.0516 - mae: 0.1594 - val_loss: 0.0277 - val_mae: 0.1313 - lr: 0.0010\n",
      "Epoch 41/500\n",
      "1/2 [==============>...............] - ETA: 0s - loss: 0.0472 - mae: 0.1519\n",
      "Epoch 41: val_loss improved from 0.02766 to 0.02682, saving model to D:\\tensorflow_checkpoint\\model07-cp-0041-ckpt\n",
      "2/2 [==============================] - 1s 629ms/step - loss: 0.0497 - mae: 0.1575 - val_loss: 0.0268 - val_mae: 0.1291 - lr: 0.0010\n",
      "Epoch 42/500\n",
      "1/2 [==============>...............] - ETA: 0s - loss: 0.0508 - mae: 0.1591\n",
      "Epoch 42: val_loss improved from 0.02682 to 0.02607, saving model to D:\\tensorflow_checkpoint\\model07-cp-0042-ckpt\n",
      "2/2 [==============================] - 1s 643ms/step - loss: 0.0482 - mae: 0.1562 - val_loss: 0.0261 - val_mae: 0.1270 - lr: 0.0010\n",
      "Epoch 43/500\n",
      "1/2 [==============>...............] - ETA: 0s - loss: 0.0501 - mae: 0.1603\n",
      "Epoch 43: val_loss improved from 0.02607 to 0.02547, saving model to D:\\tensorflow_checkpoint\\model07-cp-0043-ckpt\n",
      "2/2 [==============================] - 1s 689ms/step - loss: 0.0466 - mae: 0.1546 - val_loss: 0.0255 - val_mae: 0.1252 - lr: 0.0010\n",
      "Epoch 44/500\n",
      "1/2 [==============>...............] - ETA: 0s - loss: 0.0316 - mae: 0.1343\n",
      "Epoch 44: val_loss improved from 0.02547 to 0.02489, saving model to D:\\tensorflow_checkpoint\\model07-cp-0044-ckpt\n",
      "2/2 [==============================] - 1s 758ms/step - loss: 0.0451 - mae: 0.1531 - val_loss: 0.0249 - val_mae: 0.1235 - lr: 0.0010\n",
      "Epoch 45/500\n",
      "1/2 [==============>...............] - ETA: 0s - loss: 0.0314 - mae: 0.1342\n",
      "Epoch 45: val_loss improved from 0.02489 to 0.02428, saving model to D:\\tensorflow_checkpoint\\model07-cp-0045-ckpt\n",
      "2/2 [==============================] - 1s 867ms/step - loss: 0.0438 - mae: 0.1518 - val_loss: 0.0243 - val_mae: 0.1227 - lr: 0.0010\n",
      "Epoch 46/500\n",
      "1/2 [==============>...............] - ETA: 0s - loss: 0.0407 - mae: 0.1465\n",
      "Epoch 46: val_loss improved from 0.02428 to 0.02372, saving model to D:\\tensorflow_checkpoint\\model07-cp-0046-ckpt\n",
      "2/2 [==============================] - 1s 702ms/step - loss: 0.0424 - mae: 0.1500 - val_loss: 0.0237 - val_mae: 0.1218 - lr: 0.0010\n",
      "Epoch 47/500\n",
      "1/2 [==============>...............] - ETA: 0s - loss: 0.0418 - mae: 0.1500\n",
      "Epoch 47: val_loss improved from 0.02372 to 0.02326, saving model to D:\\tensorflow_checkpoint\\model07-cp-0047-ckpt\n",
      "2/2 [==============================] - 1s 649ms/step - loss: 0.0411 - mae: 0.1489 - val_loss: 0.0233 - val_mae: 0.1210 - lr: 0.0010\n",
      "Epoch 48/500\n",
      "1/2 [==============>...............] - ETA: 0s - loss: 0.0425 - mae: 0.1538\n",
      "Epoch 48: val_loss improved from 0.02326 to 0.02291, saving model to D:\\tensorflow_checkpoint\\model07-cp-0048-ckpt\n",
      "2/2 [==============================] - 1s 592ms/step - loss: 0.0398 - mae: 0.1475 - val_loss: 0.0229 - val_mae: 0.1203 - lr: 0.0010\n",
      "Epoch 49/500\n",
      "1/2 [==============>...............] - ETA: 0s - loss: 0.0421 - mae: 0.1563\n",
      "Epoch 49: val_loss improved from 0.02291 to 0.02266, saving model to D:\\tensorflow_checkpoint\\model07-cp-0049-ckpt\n",
      "2/2 [==============================] - 1s 733ms/step - loss: 0.0387 - mae: 0.1468 - val_loss: 0.0227 - val_mae: 0.1202 - lr: 0.0010\n",
      "Epoch 50/500\n",
      "1/2 [==============>...............] - ETA: 0s - loss: 0.0293 - mae: 0.1376\n",
      "Epoch 50: val_loss improved from 0.02266 to 0.02247, saving model to D:\\tensorflow_checkpoint\\model07-cp-0050-ckpt\n",
      "2/2 [==============================] - 1s 683ms/step - loss: 0.0377 - mae: 0.1462 - val_loss: 0.0225 - val_mae: 0.1204 - lr: 0.0010\n",
      "Epoch 51/500\n",
      "1/2 [==============>...............] - ETA: 0s - loss: 0.0396 - mae: 0.1534\n",
      "Epoch 51: val_loss improved from 0.02247 to 0.02233, saving model to D:\\tensorflow_checkpoint\\model07-cp-0051-ckpt\n",
      "2/2 [==============================] - 1s 655ms/step - loss: 0.0369 - mae: 0.1457 - val_loss: 0.0223 - val_mae: 0.1205 - lr: 0.0010\n",
      "Epoch 52/500\n",
      "1/2 [==============>...............] - ETA: 0s - loss: 0.0361 - mae: 0.1431\n",
      "Epoch 52: val_loss improved from 0.02233 to 0.02224, saving model to D:\\tensorflow_checkpoint\\model07-cp-0052-ckpt\n",
      "2/2 [==============================] - 1s 714ms/step - loss: 0.0362 - mae: 0.1456 - val_loss: 0.0222 - val_mae: 0.1207 - lr: 0.0010\n",
      "Epoch 53/500\n",
      "1/2 [==============>...............] - ETA: 0s - loss: 0.0377 - mae: 0.1493\n",
      "Epoch 53: val_loss improved from 0.02224 to 0.02219, saving model to D:\\tensorflow_checkpoint\\model07-cp-0053-ckpt\n",
      "2/2 [==============================] - 1s 646ms/step - loss: 0.0355 - mae: 0.1453 - val_loss: 0.0222 - val_mae: 0.1209 - lr: 0.0010\n",
      "Epoch 54/500\n",
      "1/2 [==============>...............] - ETA: 0s - loss: 0.0372 - mae: 0.1498\n",
      "Epoch 54: val_loss improved from 0.02219 to 0.02217, saving model to D:\\tensorflow_checkpoint\\model07-cp-0054-ckpt\n",
      "2/2 [==============================] - 1s 826ms/step - loss: 0.0349 - mae: 0.1449 - val_loss: 0.0222 - val_mae: 0.1217 - lr: 0.0010\n",
      "Epoch 55/500\n",
      "1/2 [==============>...............] - ETA: 0s - loss: 0.0243 - mae: 0.1277\n",
      "Epoch 55: val_loss did not improve from 0.02217\n",
      "2/2 [==============================] - 0s 60ms/step - loss: 0.0343 - mae: 0.1447 - val_loss: 0.0222 - val_mae: 0.1225 - lr: 0.0010\n",
      "Epoch 56/500\n",
      "1/2 [==============>...............] - ETA: 0s - loss: 0.0345 - mae: 0.1437\n",
      "Epoch 56: ReduceLROnPlateau reducing learning rate to 0.0005000000237487257.\n",
      "\n",
      "Epoch 56: val_loss did not improve from 0.02217\n",
      "2/2 [==============================] - 0s 66ms/step - loss: 0.0340 - mae: 0.1452 - val_loss: 0.0223 - val_mae: 0.1234 - lr: 0.0010\n",
      "Epoch 57/500\n",
      "1/2 [==============>...............] - ETA: 0s - loss: 0.0302 - mae: 0.1346\n",
      "Epoch 57: val_loss did not improve from 0.02217\n",
      "2/2 [==============================] - 0s 144ms/step - loss: 0.0334 - mae: 0.1450 - val_loss: 0.0223 - val_mae: 0.1237 - lr: 5.0000e-04\n",
      "Epoch 58/500\n",
      "1/2 [==============>...............] - ETA: 0s - loss: 0.0335 - mae: 0.1444\n",
      "Epoch 58: val_loss did not improve from 0.02217\n",
      "2/2 [==============================] - 0s 131ms/step - loss: 0.0332 - mae: 0.1451 - val_loss: 0.0223 - val_mae: 0.1241 - lr: 5.0000e-04\n",
      "Epoch 59/500\n",
      "1/2 [==============>...............] - ETA: 0s - loss: 0.0348 - mae: 0.1511\n",
      "Epoch 59: ReduceLROnPlateau reducing learning rate to 0.0002500000118743628.\n",
      "\n",
      "Epoch 59: val_loss did not improve from 0.02217\n",
      "2/2 [==============================] - 0s 87ms/step - loss: 0.0330 - mae: 0.1451 - val_loss: 0.0224 - val_mae: 0.1243 - lr: 5.0000e-04\n",
      "Epoch 60/500\n",
      "1/2 [==============>...............] - ETA: 0s - loss: 0.0298 - mae: 0.1384\n",
      "Epoch 60: val_loss did not improve from 0.02217\n",
      "2/2 [==============================] - 0s 65ms/step - loss: 0.0329 - mae: 0.1451 - val_loss: 0.0224 - val_mae: 0.1245 - lr: 2.5000e-04\n",
      "Epoch 61/500\n",
      "1/2 [==============>...............] - ETA: 0s - loss: 0.0324 - mae: 0.1434\n",
      "Epoch 61: val_loss did not improve from 0.02217\n",
      "2/2 [==============================] - 0s 58ms/step - loss: 0.0328 - mae: 0.1451 - val_loss: 0.0224 - val_mae: 0.1246 - lr: 2.5000e-04\n",
      "Epoch 62/500\n",
      "1/2 [==============>...............] - ETA: 0s - loss: 0.0353 - mae: 0.1529\n",
      "Epoch 62: ReduceLROnPlateau reducing learning rate to 0.0001250000059371814.\n",
      "\n",
      "Epoch 62: val_loss did not improve from 0.02217\n",
      "2/2 [==============================] - 0s 190ms/step - loss: 0.0327 - mae: 0.1452 - val_loss: 0.0224 - val_mae: 0.1248 - lr: 2.5000e-04\n",
      "Epoch 63/500\n",
      "1/2 [==============>...............] - ETA: 0s - loss: 0.0230 - mae: 0.1297\n",
      "Epoch 63: val_loss did not improve from 0.02217\n",
      "2/2 [==============================] - 0s 138ms/step - loss: 0.0326 - mae: 0.1452 - val_loss: 0.0225 - val_mae: 0.1249 - lr: 1.2500e-04\n",
      "Epoch 64/500\n",
      "1/2 [==============>...............] - ETA: 0s - loss: 0.0338 - mae: 0.1470\n",
      "Epoch 64: val_loss did not improve from 0.02217\n",
      "2/2 [==============================] - 0s 69ms/step - loss: 0.0326 - mae: 0.1452 - val_loss: 0.0225 - val_mae: 0.1251 - lr: 1.2500e-04\n",
      "Epoch 64: early stopping\n"
     ]
    }
   ],
   "source": [
    "# result = model.fit(x_train, y_train, epochs=500, validation_data=(x_test, y_test))    #기존 코드\n",
    "\n",
    "# 파일이 저장될 경로(폴더) 지정 이때 한글, 공백, 점(.)이 포함된 경우 에러가 발생\n",
    "checkpoint_path = os.path.join(\"D:\\\\tensorflow_checkpoint\\\\model07-cp-{epoch:04d}-ckpt\")\n",
    "\n",
    "result = model.fit(x_train, y_train, epochs=500, validation_data=(x_test, y_test), callbacks=[\n",
    "    EarlyStopping(monitor='val_loss', patience=10, verbose=1),\n",
    "    ReduceLROnPlateau(monitor= \"val_loss\", patience=3, factor = 0.5, min_lr=0.0001, verbose=1),\n",
    "    ModelCheckpoint(filepath = checkpoint_path, monitor = 'val_loss', verbose=1, save_best_only = True)\n",
    "    # ModelCheckpoint(filepath = 'reg_check_point.h5', monitor = 'val_loss', verbose=1, save_best_only = True)\n",
    "])"
   ]
  },
  {
   "cell_type": "markdown",
   "metadata": {},
   "source": [
    "### 학습결과 시각화"
   ]
  },
  {
   "cell_type": "code",
   "execution_count": 15,
   "metadata": {},
   "outputs": [
    {
     "data": {
      "text/html": [
       "<div>\n",
       "<style scoped>\n",
       "    .dataframe tbody tr th:only-of-type {\n",
       "        vertical-align: middle;\n",
       "    }\n",
       "\n",
       "    .dataframe tbody tr th {\n",
       "        vertical-align: top;\n",
       "    }\n",
       "\n",
       "    .dataframe thead th {\n",
       "        text-align: right;\n",
       "    }\n",
       "</style>\n",
       "<table border=\"1\" class=\"dataframe\">\n",
       "  <thead>\n",
       "    <tr style=\"text-align: right;\">\n",
       "      <th></th>\n",
       "      <th>loss</th>\n",
       "      <th>mae</th>\n",
       "      <th>val_loss</th>\n",
       "      <th>val_mae</th>\n",
       "      <th>lr</th>\n",
       "    </tr>\n",
       "    <tr>\n",
       "      <th>epochs</th>\n",
       "      <th></th>\n",
       "      <th></th>\n",
       "      <th></th>\n",
       "      <th></th>\n",
       "      <th></th>\n",
       "    </tr>\n",
       "  </thead>\n",
       "  <tbody>\n",
       "    <tr>\n",
       "      <th>1</th>\n",
       "      <td>0.316189</td>\n",
       "      <td>0.489843</td>\n",
       "      <td>0.211359</td>\n",
       "      <td>0.405232</td>\n",
       "      <td>0.001000</td>\n",
       "    </tr>\n",
       "    <tr>\n",
       "      <th>2</th>\n",
       "      <td>0.303409</td>\n",
       "      <td>0.477762</td>\n",
       "      <td>0.201659</td>\n",
       "      <td>0.394737</td>\n",
       "      <td>0.001000</td>\n",
       "    </tr>\n",
       "    <tr>\n",
       "      <th>3</th>\n",
       "      <td>0.290926</td>\n",
       "      <td>0.465881</td>\n",
       "      <td>0.192414</td>\n",
       "      <td>0.384466</td>\n",
       "      <td>0.001000</td>\n",
       "    </tr>\n",
       "    <tr>\n",
       "      <th>4</th>\n",
       "      <td>0.279058</td>\n",
       "      <td>0.454256</td>\n",
       "      <td>0.183534</td>\n",
       "      <td>0.374335</td>\n",
       "      <td>0.001000</td>\n",
       "    </tr>\n",
       "    <tr>\n",
       "      <th>5</th>\n",
       "      <td>0.267461</td>\n",
       "      <td>0.442774</td>\n",
       "      <td>0.174909</td>\n",
       "      <td>0.364227</td>\n",
       "      <td>0.001000</td>\n",
       "    </tr>\n",
       "    <tr>\n",
       "      <th>...</th>\n",
       "      <td>...</td>\n",
       "      <td>...</td>\n",
       "      <td>...</td>\n",
       "      <td>...</td>\n",
       "      <td>...</td>\n",
       "    </tr>\n",
       "    <tr>\n",
       "      <th>60</th>\n",
       "      <td>0.032855</td>\n",
       "      <td>0.145119</td>\n",
       "      <td>0.022393</td>\n",
       "      <td>0.124472</td>\n",
       "      <td>0.000250</td>\n",
       "    </tr>\n",
       "    <tr>\n",
       "      <th>61</th>\n",
       "      <td>0.032784</td>\n",
       "      <td>0.145098</td>\n",
       "      <td>0.022421</td>\n",
       "      <td>0.124634</td>\n",
       "      <td>0.000250</td>\n",
       "    </tr>\n",
       "    <tr>\n",
       "      <th>62</th>\n",
       "      <td>0.032727</td>\n",
       "      <td>0.145207</td>\n",
       "      <td>0.022448</td>\n",
       "      <td>0.124786</td>\n",
       "      <td>0.000250</td>\n",
       "    </tr>\n",
       "    <tr>\n",
       "      <th>63</th>\n",
       "      <td>0.032636</td>\n",
       "      <td>0.145151</td>\n",
       "      <td>0.022463</td>\n",
       "      <td>0.124899</td>\n",
       "      <td>0.000125</td>\n",
       "    </tr>\n",
       "    <tr>\n",
       "      <th>64</th>\n",
       "      <td>0.032619</td>\n",
       "      <td>0.145203</td>\n",
       "      <td>0.022479</td>\n",
       "      <td>0.125074</td>\n",
       "      <td>0.000125</td>\n",
       "    </tr>\n",
       "  </tbody>\n",
       "</table>\n",
       "<p>64 rows × 5 columns</p>\n",
       "</div>"
      ],
      "text/plain": [
       "            loss       mae  val_loss   val_mae        lr\n",
       "epochs                                                  \n",
       "1       0.316189  0.489843  0.211359  0.405232  0.001000\n",
       "2       0.303409  0.477762  0.201659  0.394737  0.001000\n",
       "3       0.290926  0.465881  0.192414  0.384466  0.001000\n",
       "4       0.279058  0.454256  0.183534  0.374335  0.001000\n",
       "5       0.267461  0.442774  0.174909  0.364227  0.001000\n",
       "...          ...       ...       ...       ...       ...\n",
       "60      0.032855  0.145119  0.022393  0.124472  0.000250\n",
       "61      0.032784  0.145098  0.022421  0.124634  0.000250\n",
       "62      0.032727  0.145207  0.022448  0.124786  0.000250\n",
       "63      0.032636  0.145151  0.022463  0.124899  0.000125\n",
       "64      0.032619  0.145203  0.022479  0.125074  0.000125\n",
       "\n",
       "[64 rows x 5 columns]"
      ]
     },
     "execution_count": 15,
     "metadata": {},
     "output_type": "execute_result"
    }
   ],
   "source": [
    "result_df = DataFrame(result.history)\n",
    "result_df['epochs'] = result_df.index+1\n",
    "result_df.set_index('epochs', inplace=True)\n",
    "result_df"
   ]
  },
  {
   "cell_type": "markdown",
   "metadata": {},
   "source": [
    "## #07. 학습 결과 평가\n",
    "\n",
    "시각화 결과가 모이지 않으면 `과적합`이므로 `스케일링 또는 데이터 추가`로 개선 진행.\n",
    "\n",
    "또는, callback, EarlyStopping, ReduceLROnPlateau, ModelCheckpoint로 성능 개선"
   ]
  },
  {
   "cell_type": "markdown",
   "metadata": {},
   "source": [
    "### 1. 학습결과 시각화"
   ]
  },
  {
   "cell_type": "code",
   "execution_count": 16,
   "metadata": {},
   "outputs": [
    {
     "data": {
      "image/png": "[encoded data removed]",
      "text/plain": [
       "<Figure size 2250x750 with 2 Axes>"
      ]
     },
     "metadata": {},
     "output_type": "display_data"
    }
   ],
   "source": [
    "# --------------------\n",
    "# 그래프 기본 설정\n",
    "# --------------------\n",
    "plt.rcParams[\"font.family\"] = 'Malgun Gothic'\n",
    "plt.rcParams[\"font.size\"] = 16\n",
    "plt.rcParams['axes.unicode_minus'] = False\n",
    "\n",
    "# --------------------\n",
    "# 그래프를 그리기 위한 객체 생성\n",
    "# --------------------\n",
    "fig, (ax1, ax2) = plt.subplots(1, 2, figsize=(15, 5), dpi=150)\n",
    "\n",
    "# --------------------\n",
    "# 1) 훈련 및 검증 손실 그리기\n",
    "# --------------------\n",
    "sb.lineplot(x=result_df.index, y='loss', data=result_df, color='blue', label='훈련 손실률', ax=ax1)\n",
    "sb.lineplot(x=result_df.index, y='val_loss', data=result_df, color='orange', label='검증 손실률', ax=ax1)\n",
    "ax1.set_title('훈련 및 검증 손실률')\n",
    "ax1.set_xlabel('반복회차')\n",
    "ax1.set_ylabel('손실률')\n",
    "ax1.grid()\n",
    "ax1.legend()\n",
    "\n",
    "# --------------------\n",
    "# 2) 훈련 및 검증 절대오차 그리기\n",
    "# --------------------\n",
    "sb.lineplot(x=result_df.index, y='mae', data=result_df, color = 'blue', label = '훈련 절대오차', ax=ax2)\n",
    "sb.lineplot(x=result_df.index, y='val_mae', data=result_df, color = 'orange', label = '검증 절대오차', ax=ax2)\n",
    "ax2.set_title('훈련 및 검증 절대오차')\n",
    "ax2.set_xlabel('반복회차')\n",
    "ax2.set_ylabel('정확도')\n",
    "ax2.grid()\n",
    "ax2.legend()\n",
    "\n",
    "plt.show()\n",
    "plt.close()"
   ]
  },
  {
   "cell_type": "markdown",
   "metadata": {},
   "source": [
    "> ephocs를 500으로 지정했지만 50회 전에 학습을 멈춘 것을 확인할 수 있다. 즉, `학습을 조기 종료`함으로서 `학습 성능을 향상`시켰다고 할 수 있다."
   ]
  },
  {
   "cell_type": "markdown",
   "metadata": {},
   "source": [
    "### 2. 모델 성능 평가"
   ]
  },
  {
   "cell_type": "code",
   "execution_count": 17,
   "metadata": {},
   "outputs": [
    {
     "name": "stdout",
     "output_type": "stream",
     "text": [
      "1/2 [==============>...............] - ETA: 0s - loss: 0.0316 - mae: 0.1432"
     ]
    },
    {
     "name": "stdout",
     "output_type": "stream",
     "text": [
      "2/2 [==============================] - 0s 5ms/step - loss: 0.0326 - mae: 0.1452\n",
      "최종 훈련 손실률 : 0.032576, 최종 훈련 절대오차 : 0.145185\n",
      "1/1 [==============================] - 0s 26ms/step - loss: 0.0225 - mae: 0.1251\n",
      "최종 검증 손실률 : 0.022479, 최종 검증 절대오차 : 0.125074\n"
     ]
    }
   ],
   "source": [
    "evaluate1 = model.evaluate(x_train, y_train)\n",
    "print(\"최종 훈련 손실률 : %f, 최종 훈련 절대오차 : %f\" % (evaluate1[0], evaluate1[1]))\n",
    "\n",
    "evaluate2 = model.evaluate(x_test, y_test)\n",
    "print(\"최종 검증 손실률 : %f, 최종 검증 절대오차 : %f\" % (evaluate2[0], evaluate2[1]))"
   ]
  },
  {
   "cell_type": "markdown",
   "metadata": {},
   "source": [
    "## #08. 학습 결과 적용\n",
    "\n",
    "`통계`는 `데이터의 경향을 설명`, `머신러닝`은 `미래의 값을 예측`하는 것이 목적"
   ]
  },
  {
   "cell_type": "markdown",
   "metadata": {},
   "source": [
    "### 1. 테스트 데이터에 대한 예측 결과 산정"
   ]
  },
  {
   "cell_type": "code",
   "execution_count": 18,
   "metadata": {},
   "outputs": [
    {
     "name": "stdout",
     "output_type": "stream",
     "text": [
      "1/1 [==============================] - 0s 167ms/step\n",
      "[[0.44163156]\n",
      " [0.33769298]\n",
      " [0.32504296]\n",
      " [0.31148565]\n",
      " [0.40127373]\n",
      " [0.3484884 ]\n",
      " [0.3484884 ]\n",
      " [0.39093727]\n",
      " [0.32504296]\n",
      " [0.40127373]\n",
      " [0.3484884 ]\n",
      " [0.41161007]\n",
      " [0.25052866]\n",
      " [0.33769298]\n",
      " [0.19581248]]\n"
     ]
    }
   ],
   "source": [
    "results = model.predict(x_test)\n",
    "print(results)"
   ]
  },
  {
   "cell_type": "markdown",
   "metadata": {},
   "source": [
    "### 2. 결과 데이터 셋 구성\n",
    "\n",
    "표준화는 2차원, DF는 flatten"
   ]
  },
  {
   "cell_type": "code",
   "execution_count": 19,
   "metadata": {},
   "outputs": [],
   "source": [
    "# y_test"
   ]
  },
  {
   "cell_type": "code",
   "execution_count": 20,
   "metadata": {},
   "outputs": [
    {
     "name": "stdout",
     "output_type": "stream",
     "text": [
      "<class 'numpy.ndarray'>\n"
     ]
    }
   ],
   "source": [
    "print(type(x_test))"
   ]
  },
  {
   "cell_type": "code",
   "execution_count": 21,
   "metadata": {},
   "outputs": [
    {
     "data": {
      "text/html": [
       "<div>\n",
       "<style scoped>\n",
       "    .dataframe tbody tr th:only-of-type {\n",
       "        vertical-align: middle;\n",
       "    }\n",
       "\n",
       "    .dataframe tbody tr th {\n",
       "        vertical-align: top;\n",
       "    }\n",
       "\n",
       "    .dataframe thead th {\n",
       "        text-align: right;\n",
       "    }\n",
       "</style>\n",
       "<table border=\"1\" class=\"dataframe\">\n",
       "  <thead>\n",
       "    <tr style=\"text-align: right;\">\n",
       "      <th></th>\n",
       "      <th>검증데이터</th>\n",
       "      <th>실제값</th>\n",
       "      <th>예측값</th>\n",
       "      <th>예측오차</th>\n",
       "    </tr>\n",
       "  </thead>\n",
       "  <tbody>\n",
       "    <tr>\n",
       "      <th>0</th>\n",
       "      <td>0.904762</td>\n",
       "      <td>0.440678</td>\n",
       "      <td>0.441632</td>\n",
       "      <td>-0.000954</td>\n",
       "    </tr>\n",
       "    <tr>\n",
       "      <th>1</th>\n",
       "      <td>0.428571</td>\n",
       "      <td>0.271186</td>\n",
       "      <td>0.337693</td>\n",
       "      <td>-0.066507</td>\n",
       "    </tr>\n",
       "    <tr>\n",
       "      <th>2</th>\n",
       "      <td>0.380952</td>\n",
       "      <td>0.101695</td>\n",
       "      <td>0.325043</td>\n",
       "      <td>-0.223348</td>\n",
       "    </tr>\n",
       "    <tr>\n",
       "      <th>3</th>\n",
       "      <td>0.333333</td>\n",
       "      <td>0.127119</td>\n",
       "      <td>0.311486</td>\n",
       "      <td>-0.184367</td>\n",
       "    </tr>\n",
       "    <tr>\n",
       "      <th>4</th>\n",
       "      <td>0.714286</td>\n",
       "      <td>0.372881</td>\n",
       "      <td>0.401274</td>\n",
       "      <td>-0.028392</td>\n",
       "    </tr>\n",
       "    <tr>\n",
       "      <th>5</th>\n",
       "      <td>0.476190</td>\n",
       "      <td>0.491525</td>\n",
       "      <td>0.348488</td>\n",
       "      <td>0.143037</td>\n",
       "    </tr>\n",
       "    <tr>\n",
       "      <th>6</th>\n",
       "      <td>0.476190</td>\n",
       "      <td>0.661017</td>\n",
       "      <td>0.348488</td>\n",
       "      <td>0.312529</td>\n",
       "    </tr>\n",
       "    <tr>\n",
       "      <th>7</th>\n",
       "      <td>0.666667</td>\n",
       "      <td>0.338983</td>\n",
       "      <td>0.390937</td>\n",
       "      <td>-0.051954</td>\n",
       "    </tr>\n",
       "    <tr>\n",
       "      <th>8</th>\n",
       "      <td>0.380952</td>\n",
       "      <td>0.152542</td>\n",
       "      <td>0.325043</td>\n",
       "      <td>-0.172501</td>\n",
       "    </tr>\n",
       "    <tr>\n",
       "      <th>9</th>\n",
       "      <td>0.714286</td>\n",
       "      <td>0.559322</td>\n",
       "      <td>0.401274</td>\n",
       "      <td>0.158048</td>\n",
       "    </tr>\n",
       "    <tr>\n",
       "      <th>10</th>\n",
       "      <td>0.476190</td>\n",
       "      <td>0.203390</td>\n",
       "      <td>0.348488</td>\n",
       "      <td>-0.145099</td>\n",
       "    </tr>\n",
       "    <tr>\n",
       "      <th>11</th>\n",
       "      <td>0.761905</td>\n",
       "      <td>0.457627</td>\n",
       "      <td>0.411610</td>\n",
       "      <td>0.046017</td>\n",
       "    </tr>\n",
       "    <tr>\n",
       "      <th>12</th>\n",
       "      <td>0.142857</td>\n",
       "      <td>0.169492</td>\n",
       "      <td>0.250529</td>\n",
       "      <td>-0.081037</td>\n",
       "    </tr>\n",
       "    <tr>\n",
       "      <th>13</th>\n",
       "      <td>0.428571</td>\n",
       "      <td>0.271186</td>\n",
       "      <td>0.337693</td>\n",
       "      <td>-0.066507</td>\n",
       "    </tr>\n",
       "    <tr>\n",
       "      <th>14</th>\n",
       "      <td>0.000000</td>\n",
       "      <td>0.000000</td>\n",
       "      <td>0.195812</td>\n",
       "      <td>-0.195812</td>\n",
       "    </tr>\n",
       "  </tbody>\n",
       "</table>\n",
       "</div>"
      ],
      "text/plain": [
       "       검증데이터       실제값       예측값      예측오차\n",
       "0   0.904762  0.440678  0.441632 -0.000954\n",
       "1   0.428571  0.271186  0.337693 -0.066507\n",
       "2   0.380952  0.101695  0.325043 -0.223348\n",
       "3   0.333333  0.127119  0.311486 -0.184367\n",
       "4   0.714286  0.372881  0.401274 -0.028392\n",
       "5   0.476190  0.491525  0.348488  0.143037\n",
       "6   0.476190  0.661017  0.348488  0.312529\n",
       "7   0.666667  0.338983  0.390937 -0.051954\n",
       "8   0.380952  0.152542  0.325043 -0.172501\n",
       "9   0.714286  0.559322  0.401274  0.158048\n",
       "10  0.476190  0.203390  0.348488 -0.145099\n",
       "11  0.761905  0.457627  0.411610  0.046017\n",
       "12  0.142857  0.169492  0.250529 -0.081037\n",
       "13  0.428571  0.271186  0.337693 -0.066507\n",
       "14  0.000000  0.000000  0.195812 -0.195812"
      ]
     },
     "execution_count": 21,
     "metadata": {},
     "output_type": "execute_result"
    }
   ],
   "source": [
    "kdf = DataFrame({\n",
    "    '검증데이터': x_test.flatten(),\n",
    "    '실제값': y_test.flatten(),\n",
    "    '예측값' : results.flatten()\n",
    "})\n",
    "\n",
    "kdf['예측오차'] = kdf['실제값']-kdf['예측값']\n",
    "\n",
    "kdf"
   ]
  },
  {
   "cell_type": "markdown",
   "metadata": {},
   "source": [
    "### 3. 실제 결과값과 머신러닝에 의한 예측값 비교\n",
    "\n",
    "머신러닝은 통계화는 다르게 실제 값보다 높게 예상하는 경향이 존재"
   ]
  },
  {
   "cell_type": "code",
   "execution_count": 22,
   "metadata": {},
   "outputs": [
    {
     "data": {
      "image/png": "[encoded data removed]",
      "text/plain": [
       "<Figure size 1000x500 with 1 Axes>"
      ]
     },
     "metadata": {},
     "output_type": "display_data"
    }
   ],
   "source": [
    "# 붉은색 - 예측 값, 푸른색 - 실제 값\n",
    "helper.regplot(x_left=kdf['검증데이터'], y_left=kdf['실제값'], y_left_pred=kdf['예측값'])"
   ]
  },
  {
   "cell_type": "markdown",
   "metadata": {},
   "source": [
    "### 3. 임의의 값에 대한 머신러닝 예측 결과\n",
    "\n",
    "- 데이터를 스케일링 했기 때문에 입력하는 임의의 값도 스케일링해야함\n",
    "\n",
    "`통계`는 `데이터의 경향을 설명`, `머신러닝`은 `미래의 값을 예측`하는 것이 목적"
   ]
  },
  {
   "cell_type": "code",
   "execution_count": 23,
   "metadata": {},
   "outputs": [],
   "source": [
    "# 속도가 50일 때의 제동거리 예측\n",
    "my_speed = 50"
   ]
  },
  {
   "cell_type": "code",
   "execution_count": 24,
   "metadata": {},
   "outputs": [
    {
     "name": "stderr",
     "output_type": "stream",
     "text": [
      "c:\\Users\\jehyu\\AppData\\Local\\Programs\\Python\\Python39\\lib\\site-packages\\sklearn\\base.py:464: UserWarning: X does not have valid feature names, but MinMaxScaler was fitted with feature names\n",
      "  warnings.warn(\n"
     ]
    },
    {
     "data": {
      "text/plain": [
       "array([[2.19047619]])"
      ]
     },
     "execution_count": 24,
     "metadata": {},
     "output_type": "execute_result"
    }
   ],
   "source": [
    "# 독립변수 표준화에 사용한 객체를 활용\n",
    "my_speed_scale = x_scaler.transform([[my_speed]])\n",
    "my_speed_scale"
   ]
  },
  {
   "cell_type": "code",
   "execution_count": 25,
   "metadata": {},
   "outputs": [
    {
     "name": "stdout",
     "output_type": "stream",
     "text": [
      "<class 'numpy.ndarray'>\n"
     ]
    }
   ],
   "source": [
    "print(type(my_speed_scale))"
   ]
  },
  {
   "cell_type": "code",
   "execution_count": 26,
   "metadata": {},
   "outputs": [
    {
     "name": "stdout",
     "output_type": "stream",
     "text": [
      "1/1 [==============================] - 0s 25ms/step\n"
     ]
    },
    {
     "data": {
      "text/plain": [
       "array([[0.6847198]], dtype=float32)"
      ]
     },
     "execution_count": 26,
     "metadata": {},
     "output_type": "execute_result"
    }
   ],
   "source": [
    "results = model.predict(my_speed_scale)\n",
    "results"
   ]
  },
  {
   "cell_type": "code",
   "execution_count": 27,
   "metadata": {},
   "outputs": [
    {
     "data": {
      "text/plain": [
       "array([[82.796936]], dtype=float32)"
      ]
     },
     "execution_count": 27,
     "metadata": {},
     "output_type": "execute_result"
    }
   ],
   "source": [
    "# 예측 결과는 표준화된 값으로 나오기 때문에 원래의 단위로 되돌리기 위해 역변환\n",
    "y_scaler.inverse_transform(results)"
   ]
  },
  {
   "cell_type": "markdown",
   "metadata": {},
   "source": [
    "> 속력이 50일 경우 예측되는 제동거리는 99.53879"
   ]
  },
  {
   "cell_type": "code",
   "execution_count": null,
   "metadata": {},
   "outputs": [],
   "source": []
  }
 ],
 "metadata": {
  "kernelspec": {
   "display_name": "Python 3",
   "language": "python",
   "name": "python3"
  },
  "language_info": {
   "codemirror_mode": {
    "name": "ipython",
    "version": 3
   },
   "file_extension": ".py",
   "mimetype": "text/x-python",
   "name": "python",
   "nbconvert_exporter": "python",
   "pygments_lexer": "ipython3",
   "version": "3.9.13"
  },
  "orig_nbformat": 4
 },
 "nbformat": 4,
 "nbformat_minor": 2
}
