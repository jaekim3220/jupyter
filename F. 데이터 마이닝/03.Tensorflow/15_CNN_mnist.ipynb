{
  "cells": [
    {
      "cell_type": "code",
      "execution_count": null,
      "metadata": {
        "colab": {
          "base_uri": "https://localhost:8080/"
        },
        "id": "FlEipQu4Chgw",
        "outputId": "68f6ea9b-53cf-4259-bdd7-2d12ce71a5ef"
      },
      "outputs": [],
      "source": [
        "# # 한글 폰드 설정(collab)\n",
        "# !sudo apt-get install -y fonts-nanum\n",
        "# !sudo fc-cache -fv\n",
        "# !rm ~/.cache/matplotlib -rf"
      ]
    },
    {
      "cell_type": "code",
      "execution_count": null,
      "metadata": {
        "id": "dZ801DmiOWN3"
      },
      "outputs": [],
      "source": [
        "# # collab용\n",
        "# from matplotlib import font_manager as fm\n",
        "# import matplotlib.pyplot as plt\n",
        "\n",
        "# fe = fm.FontEntry(\n",
        "#     fname=r'/usr/share/fonts/truetype/nanum/NanumGothic.ttf', # ttf 파일이 저장되어 있는 경로\n",
        "#     name='NanumGothic')                        # 이 폰트의 원하는 이름 설정\n",
        "# fm.fontManager.ttflist.insert(0, fe)              # Matplotlib에 폰트 추가\n",
        "# plt.rcParams.update({'font.size': 14, 'font.family': 'NanumGothic'}) # 폰트 설정"
      ]
    },
    {
      "cell_type": "code",
      "execution_count": null,
      "metadata": {
        "colab": {
          "base_uri": "https://localhost:8080/"
        },
        "id": "gx_L2KrdOkm9",
        "outputId": "f8ea1782-450a-4abe-85b6-55edad6c3482"
      },
      "outputs": [],
      "source": [
        "# !pip install pca"
      ]
    },
    {
      "cell_type": "markdown",
      "metadata": {
        "id": "DJyDfVStOpqo"
      },
      "source": [
        "# CNN을 활용한 MNIST 이미지 분류\n",
        "\n",
        ">Google Colab 쓰세요."
      ]
    },
    {
      "cell_type": "markdown",
      "metadata": {
        "id": "DdOlDvaPOq4P"
      },
      "source": [
        "## #01. 패키지 및 폰트 초기화"
      ]
    },
    {
      "cell_type": "code",
      "execution_count": null,
      "metadata": {
        "id": "xPButypCOmVc"
      },
      "outputs": [],
      "source": [
        "import sys\n",
        "sys.path.append(\"../../\")\n",
        "import helper\n",
        "\n",
        "from pandas import DataFrame\n",
        "from matplotlib import pyplot as plt\n",
        "import seaborn as sb\n",
        "import numpy as np\n",
        "\n",
        "from tensorflow.keras.models import Sequential\n",
        "from tensorflow.keras.layers import Dense, BatchNormalization, Conv2D, MaxPool2D, Flatten, Dropout\n",
        "from tensorflow.keras.callbacks import EarlyStopping, ReduceLROnPlateau\n",
        "from tensorflow.keras.utils import to_categorical\n",
        "from tensorflow.keras.datasets.mnist import load_data\n",
        "\n",
        "from sklearn.metrics import confusion_matrix\n",
        "from sklearn.model_selection import train_test_split"
      ]
    },
    {
      "cell_type": "code",
      "execution_count": null,
      "metadata": {},
      "outputs": [],
      "source": [
        "plt.rcParams[\"font.family\"] = 'AppleGothic' if sys.platform == 'darwin' else 'Malgun Gothic'\n",
        "plt.rcParams[\"font.size\"] = 12\n",
        "plt.rcParams[\"figure.figsize\"] = (10, 5)\n",
        "plt.rcParams[\"axes.unicode_minus\"] = False"
      ]
    },
    {
      "cell_type": "markdown",
      "metadata": {
        "id": "7zZGUWoOO1Wn"
      },
      "source": [
        "## #02. 데이터셋 준비"
      ]
    },
    {
      "cell_type": "code",
      "execution_count": null,
      "metadata": {
        "id": "RtDkkmhrOtu4"
      },
      "outputs": [],
      "source": [
        "# 걍 load_data 하는게 나음\n",
        "(x_train, y_train), (x_test, y_test) = load_data(path='mnist.npz')"
      ]
    },
    {
      "cell_type": "markdown",
      "metadata": {
        "id": "cdUYy8XLO6Fo"
      },
      "source": [
        "## #03. 데이터 전처리\n",
        "\n",
        "결측치 등의 데이터 이상점이 없는 예제 데이터 이므로 생략"
      ]
    },
    {
      "cell_type": "markdown",
      "metadata": {
        "id": "UdzuBLwKO9vs"
      },
      "source": [
        "## #04. 탐색적 데이터 분석\n",
        "\n",
        "이미 앞의 예제를 통해 데이터 형태를 확인하였으므로 생략"
      ]
    },
    {
      "cell_type": "markdown",
      "metadata": {
        "id": "SpQXmgcHO_vg"
      },
      "source": [
        "## 5. 데이터셋 분할하기"
      ]
    },
    {
      "cell_type": "markdown",
      "metadata": {
        "id": "Vi0EPkqEPBeo"
      },
      "source": [
        "### 랜덤시드 고정"
      ]
    },
    {
      "cell_type": "code",
      "execution_count": null,
      "metadata": {
        "id": "0FrgFaCuO3to"
      },
      "outputs": [],
      "source": [
        "np.random.seed(777)"
      ]
    },
    {
      "cell_type": "markdown",
      "metadata": {
        "id": "U5alpamMPTu_"
      },
      "source": [
        "### 훈련 데이터(독립변수)와 레이블(종속변수) 구분하기\n",
        "\n",
        "처음부터 데이터 셋이 구분되어 있었으므로 생략"
      ]
    },
    {
      "cell_type": "markdown",
      "metadata": {
        "id": "vxC-8U0WPVfZ"
      },
      "source": [
        "### 훈련 데이터와 검증 데이터로 분할\n",
        "\n",
        "처음부터 데이터 셋이 구분되어 있었으므로 생략"
      ]
    },
    {
      "cell_type": "markdown",
      "metadata": {
        "id": "izdNeqNTPWY2"
      },
      "source": [
        "### 레이블(종속변수)에 대한 one-hot-encoding\n",
        "\n",
        "***명목형 처리(더미변수/카테고리화)***\n",
        "\n",
        "- `더미변수`는 `변수의 값이 최소 2개를 초과`할 경우 수행. 아니면 단순 category 타입으로 변경.\n",
        "\n",
        "범주형(명목형) 데이터(카테고리가 1~3등급)를 각 카테고리별로 나누어 표현 - 명목형은 계산할 수 있는 값이 아니기 때문\n",
        "\n",
        "ex) 태아의 성별, 위암 등급, 승무원의 등급\n",
        "\n",
        ">명목형 확인을 위해서는 데이터의 종류가 몇 가지인지 확인.\n",
        "즉, 명목형으로 의심되면 일단 value_counts()로 확인.\n",
        "type, shape, info 등을 사용해 객체 형태 및 정보를 확인 가능.\n",
        "\n",
        ">sigmoid는 이항분류, softmax는 다항분류(one-hot-encoding-즉, 더미변수화)\n",
        "\n",
        "***종속변수 카테고리의 기준***\n",
        "\n",
        ">탐색적 데이터 분석에서 사용하기 위해 카테고리화를 진행 - (단, 통계에서는 카테고리 형식으로 데이터를 분석하지 않고 int 형식으로 사용)\n",
        "\n",
        ">정석대로라면 카테고리로 변경하지 않음.\n",
        "단, 탐색적 데이터 분석을 한다면 명목형 변수를 제거해야 하는데 명목형을 카테고리로 변경하면 자동으로 제거해주기 때문에 카테고리 형식으로 변환 후 진행.\n",
        "\n",
        ">category 대신 더미변수로 변경하면 int로 돌아오므로 더미변수화를 추천."
      ]
    },
    {
      "cell_type": "code",
      "execution_count": null,
      "metadata": {
        "colab": {
          "base_uri": "https://localhost:8080/"
        },
        "id": "HhshUHmZPSRk",
        "outputId": "da155afc-e3cc-44cc-8417-ac6fb173adde"
      },
      "outputs": [],
      "source": [
        "y_train_one_hot = to_categorical(y_train)\n",
        "y_test_one_hot = to_categorical(y_test)\n",
        "print(y_test_one_hot)"
      ]
    },
    {
      "cell_type": "markdown",
      "metadata": {
        "id": "KK0wxyMSPx4X"
      },
      "source": [
        "### 훈련, 검증용 독립변수(이미지)의 차수 재설정\n",
        "\n",
        "기본 CNN 골격에 맞게 28x28x1로 차원을 변경\n",
        "\n",
        "CNN은 3차원 이미지(컬러 이미지)"
      ]
    },
    {
      "cell_type": "code",
      "execution_count": null,
      "metadata": {
        "colab": {
          "base_uri": "https://localhost:8080/"
        },
        "id": "vQ_Xc-iWPe6Z",
        "outputId": "6d76b2d3-a3c5-470d-c0b3-ab436ea14318"
      },
      "outputs": [],
      "source": [
        "x_train.shape"
      ]
    },
    {
      "cell_type": "code",
      "execution_count": null,
      "metadata": {
        "colab": {
          "base_uri": "https://localhost:8080/"
        },
        "id": "gWDJVZOdP07-",
        "outputId": "0a81a739-82fd-4398-edba-d0f69df1b619"
      },
      "outputs": [],
      "source": [
        "x_train_reshape = x_train.reshape(x_train.shape[0], x_train.shape[1], x_train.shape[2], 1)\n",
        "x_test_reshape = x_test.reshape(x_test.shape[0], x_test.shape[1], x_test.shape[2], 1)\n",
        "print(f'훈련 데이터 {x_train_reshape.shape} / 검증 데이터 {x_test_reshape.shape}')"
      ]
    },
    {
      "cell_type": "markdown",
      "metadata": {
        "id": "L1fBXYbrQQu3"
      },
      "source": [
        "### 이미지 데이터 정규화\n",
        "\n",
        "이미지와 같이 복잡한 데이터의 경우 BatchNormalization층을 적용하여 텐서플로우 모델 구성시 표준화를 수행하는 학습층을 추가할 수 있다.\n",
        "\n",
        "그 경우 독립변수 데이터를 직접 표준화 할 필요가 없다."
      ]
    },
    {
      "cell_type": "markdown",
      "metadata": {
        "id": "lGhOmn4sQVFm"
      },
      "source": [
        "## 6) 모델 개발"
      ]
    },
    {
      "cell_type": "markdown",
      "metadata": {
        "id": "PfupWtAOQTuE"
      },
      "source": [
        "### 모델 정의\n",
        "\n",
        "(`Conv2D 적용 [-> BatchNormalization층 적용] -> MaxPool2D 적용 [-> Dropout]`)의 과정을 n번 반복 -> Flatten 레이어 추가 -> Dense층 n개 추가\n",
        "\n",
        "- **Conv2D 층**\n",
        "    - 영상이나 이미지의 특징을 확인하기 위한 함수\n",
        "    - `filters`: 필터(커널)의 개수\n",
        "    - `kernel_size`: 필터의 크기\n",
        "    - `strides`: 필터의 이동 간격\n",
        "    - `padding`: valid(패딩 없음), same(인풋과 아웃풋이 같도록 패딩)\n",
        "    - `activation`: 활성화 함수\n",
        "    - `input_shape`: 첫 레이어에 인풋으로 들어오는 크기\n",
        "- **BatchNormalization (배치정규화)**\n",
        "    - 신경망 입력데이터를 평균 0, 분산 1로 정규화해서 학습이 잘 이루어지도록 하는 방법\n",
        "    - BatchNormalization 층에서 정규화를 수행하므로 별도의 정규화를 적용할 필요가 없다.\n",
        "    - 만약 이 층을 적용하지 않는다면 학습 전에 별도의 정규화를 수행하는 것이 좋다.\n",
        "- **MaxPool2D**\n",
        "    - 컨볼루션 레이어의 출력 이미지에서 주요값만 뽑아 크기가 작은 출력 영상을 만든다.\n",
        "    - `pool_size`: 축소시킬 필터의 크기(비율)\n",
        "    - `strides`: 필터의 이동 간격. 기본값으로 pool_size를 갖는다.\n",
        "    - 일반적으로 strides는 pool_size와 동일하게 적용되므로 생략하는 편.\n",
        "\n",
        "> filter가 클수록, kernel_size가 작을 수록 모델이 성능이 개선됨.\n",
        "단, 학습 시간도 오래 걸림."
      ]
    },
    {
      "cell_type": "code",
      "execution_count": null,
      "metadata": {
        "colab": {
          "base_uri": "https://localhost:8080/"
        },
        "id": "o9hbUnNhQOaj",
        "outputId": "37f77d6d-cf0c-4cea-c849-a5734c3cbbad"
      },
      "outputs": [],
      "source": [
        "model = Sequential()\n",
        "\n",
        "# 모델 차수가 많을 수록 생성에 오래걸림\n",
        "\n",
        "# ------------------------#\n",
        "# 1차\n",
        "# ------------------------#\n",
        "# Conv2D\n",
        "model.add(Conv2D(filters=32, kernel_size=(5, 5), strides=(1, 1), padding='same', activation='relu', input_shape=(28, 28, 1)))\n",
        "# 표준화\n",
        "model.add(BatchNormalization())\n",
        "# MaxPool2D\n",
        "model.add(MaxPool2D(pool_size=(2, 2), strides=(2, 2)))\n",
        "# 랜덤으로 25%의 뉴런을 쉬게함  #속도는 향상, 성능은 저하(순수 성능을 위한 명령어)\n",
        "model.add(Dropout(0.25))\n",
        "\n",
        "# ------------------------#\n",
        "# 2차\n",
        "# ------------------------#\n",
        "# 이전보다 filter는 크게, kelnel_size는 작게, input_shape는 최초에만 적용하므로 여기서는 생략\n",
        "model.add(Conv2D(filters=64, kernel_size=(3, 3), strides=(1, 1), padding='same', activation='relu'))\n",
        "model.add(BatchNormalization())\n",
        "model.add(MaxPool2D(pool_size=(2, 2), strides=(2, 2)))\n",
        "# 랜덤으로 25%의 뉴런을 쉬게함\n",
        "model.add(Dropout(0.25))\n",
        "\n",
        "# ------------------------#\n",
        "# 모델 정의 끝\n",
        "# ------------------------#\n",
        "# 1차원으로 변환하기 위한 Layer --> Dense Layer을 쌓기 전 마지막 처리\n",
        "model.add(Flatten())\n",
        "\n",
        "model.add(Dense(512, activation='relu'))\n",
        "\n",
        "# 최종 아웃풋의 수는 one_hot_encoding의 원소 수 만큼\n",
        "model.add(Dense(10, activation='softmax'))\n",
        "\n",
        "model.compile(optimizer='adam', loss='categorical_crossentropy', metrics=['acc'])\n",
        "model.summary()"
      ]
    },
    {
      "cell_type": "markdown",
      "metadata": {
        "id": "3cTr_nl4R0i-"
      },
      "source": [
        "### 학습하기"
      ]
    },
    {
      "cell_type": "code",
      "execution_count": null,
      "metadata": {
        "colab": {
          "base_uri": "https://localhost:8080/"
        },
        "id": "iATveINKRtp3",
        "outputId": "efd54a65-0c0c-4edd-da86-d12c47aee8c5"
      },
      "outputs": [],
      "source": [
        "result = model.fit(x_train_reshape, y_train_one_hot, epochs=500, validation_data=(x_test_reshape, y_test_one_hot), callbacks = [\n",
        "    EarlyStopping(monitor = 'val_loss', patience=5, verbose = 1),\n",
        "    ReduceLROnPlateau(monitor= \"val_loss\", patience=3, factor = 0.5, min_lr=0.0001, verbose=1)\n",
        "])"
      ]
    },
    {
      "cell_type": "markdown",
      "metadata": {
        "id": "ZMPHD9t7R8Ev"
      },
      "source": [
        "## #07. 학습 결과 평가"
      ]
    },
    {
      "cell_type": "code",
      "execution_count": null,
      "metadata": {
        "colab": {
          "base_uri": "https://localhost:8080/",
          "height": 483
        },
        "id": "amQYTTBFR2Yv",
        "outputId": "c93e7a09-f339-47f8-f535-46ee6f457bdd"
      },
      "outputs": [],
      "source": [
        "helper.tf_result_plot(result)\n",
        "\n",
        "evaluate1 = model.evaluate(x_train_reshape, y_train_one_hot)\n",
        "print(\"최종 훈련 손실률: %f, 최종 훈련 정확도: %f\" % (evaluate1[0], evaluate1[1]))\n",
        "\n",
        "evaluate2 = model.evaluate(x_test_reshape, y_test_one_hot)\n",
        "print(\"최종 검증 손실률: %f, 최종 검증 정확도: %f\" % (evaluate2[0], evaluate2[1]))"
      ]
    },
    {
      "cell_type": "markdown",
      "metadata": {
        "id": "nEVM61cAR--0"
      },
      "source": [
        "## #8. 학습 결과 적용"
      ]
    },
    {
      "cell_type": "markdown",
      "metadata": {
        "id": "j2nn74lFSB5C"
      },
      "source": [
        "### 훈련 데이터에 대한 예측 결과 산정"
      ]
    },
    {
      "cell_type": "code",
      "execution_count": null,
      "metadata": {
        "colab": {
          "base_uri": "https://localhost:8080/"
        },
        "id": "EMthehHiSCns",
        "outputId": "e4b54b56-5d24-4897-9d3c-6df97b0cd52b"
      },
      "outputs": [],
      "source": [
        "result = model.predict(x_train_reshape)\n",
        "data_count, case_count = result.shape\n",
        "print(\"%d개의 검증 데이터가 %d개의 경우의 수를 갖는다.\" % (data_count, case_count))\n",
        "result[0]"
      ]
    },
    {
      "cell_type": "markdown",
      "metadata": {
        "id": "eJ8v0YePSG8B"
      },
      "source": [
        "### 가장 큰 확률 값의 인덱스를 별도 리스트로 추출"
      ]
    },
    {
      "cell_type": "code",
      "execution_count": null,
      "metadata": {
        "colab": {
          "base_uri": "https://localhost:8080/"
        },
        "id": "QYQmGM4qSFch",
        "outputId": "06e37592-2f50-4d70-b186-472a6d35fec8"
      },
      "outputs": [],
      "source": [
        "arg_result = np.argmax(result, axis=-1)\n",
        "arg_result"
      ]
    },
    {
      "cell_type": "markdown",
      "metadata": {
        "id": "qSfqkv1zSJti"
      },
      "source": [
        "### 데이터 비교"
      ]
    },
    {
      "cell_type": "code",
      "execution_count": null,
      "metadata": {
        "colab": {
          "base_uri": "https://localhost:8080/",
          "height": 695
        },
        "id": "LHpmF2R5SIdh",
        "outputId": "769a75a7-7757-412b-b0ff-7a05fb6ef5df"
      },
      "outputs": [],
      "source": [
        "row = 3\n",
        "col = 5\n",
        "fig, ax = plt.subplots(row, col, figsize=((col+1)*4, (row+1)*4), dpi=100)\n",
        "\n",
        "size = row*col\n",
        "length = len(y_train)\n",
        "\n",
        "for i in range(0, size):\n",
        "    k = np.random.randint(length)\n",
        "    train = x_train[k]\n",
        "    label = y_train[k]\n",
        "    ax[i//col][i%col].imshow(train)\n",
        "    ax[i//col][i%col].set_title(\"label=%d, LM=%d\" % (label, arg_result[k]))\n",
        "\n",
        "plt.show()\n",
        "plt.close()"
      ]
    },
    {
      "cell_type": "markdown",
      "metadata": {
        "id": "k6Svs-26SMEy"
      },
      "source": [
        "### 혼동행렬\n",
        "\n",
        "정확도(accuracy) 외에도 모델의 성능을 다양한 측면에서 평가"
      ]
    },
    {
      "cell_type": "code",
      "execution_count": null,
      "metadata": {
        "colab": {
          "base_uri": "https://localhost:8080/",
          "height": 363
        },
        "id": "QGDeEENQSKzc",
        "outputId": "68f829fa-6ad8-440d-8ed3-4d7e94702c46"
      },
      "outputs": [],
      "source": [
        "cm = confusion_matrix(y_train, arg_result)\n",
        "cmdf2 = DataFrame(cm, columns=list(map(lambda x: \"실제값(%d)\" % x, range(10))), index=list(map(lambda x: \"예측값(%d)\" % x, range(10))))\n",
        "cmdf2"
      ]
    },
    {
      "cell_type": "markdown",
      "metadata": {
        "id": "Zxicy8waSVsL"
      },
      "source": [
        "### 혼동행렬 히트맵"
      ]
    },
    {
      "cell_type": "code",
      "execution_count": null,
      "metadata": {
        "colab": {
          "base_uri": "https://localhost:8080/",
          "height": 726
        },
        "id": "4HLsG-JBST9e",
        "outputId": "0030bcca-6b72-4434-971c-79c3a94404e5"
      },
      "outputs": [],
      "source": [
        "plt.figure(figsize=(15, 10))\n",
        "sb.heatmap(cmdf2, annot = True, fmt = 'd', cmap = 'Blues')\n",
        "plt.xlabel('결과값')\n",
        "plt.ylabel('예측값')\n",
        "plt.show()\n",
        "plt.close()"
      ]
    },
    {
      "cell_type": "code",
      "execution_count": null,
      "metadata": {
        "id": "KePCY6nZSWwJ"
      },
      "outputs": [],
      "source": []
    }
  ],
  "metadata": {
    "accelerator": "GPU",
    "colab": {
      "gpuType": "T4",
      "provenance": []
    },
    "kernelspec": {
      "display_name": "Python 3",
      "name": "python3"
    },
    "language_info": {
      "codemirror_mode": {
        "name": "ipython",
        "version": 3
      },
      "file_extension": ".py",
      "mimetype": "text/x-python",
      "name": "python",
      "nbconvert_exporter": "python",
      "pygments_lexer": "ipython3",
      "version": "3.9.13"
    }
  },
  "nbformat": 4,
  "nbformat_minor": 0
}
