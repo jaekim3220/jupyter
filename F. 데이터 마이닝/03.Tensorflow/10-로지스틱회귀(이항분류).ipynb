{
 "cells": [
  {
   "cell_type": "markdown",
   "metadata": {},
   "source": [
    "# 로지스틱 회귀 - 이항분류\n",
    "\n",
    "분류는 분석보다 더 많은 데이터를 요구하는 경향이 있음\n",
    "\n",
    "분석 - negative 요소 확인, 분류 - positive 요소 확인"
   ]
  },
  {
   "cell_type": "markdown",
   "metadata": {},
   "source": [
    "## #01. 패키지 및 그래프 설정"
   ]
  },
  {
   "cell_type": "code",
   "execution_count": 1,
   "metadata": {},
   "outputs": [],
   "source": [
    "import sys\n",
    "sys.path.append(\"../../\")\n",
    "import helper\n",
    "\n",
    "from pandas import read_excel, DataFrame\n",
    "from matplotlib import pyplot as plt\n",
    "import seaborn as sb\n",
    "import numpy as np\n",
    "\n",
    "from sklearn.model_selection import train_test_split\n",
    "from sklearn.preprocessing import StandardScaler\n",
    "from sklearn.metrics import classification_report, confusion_matrix, roc_curve, roc_auc_score, accuracy_score, recall_score, precision_score, f1_score\n",
    "\n",
    "from tensorflow.keras.models import Sequential\n",
    "from tensorflow.keras.layers import Dense\n",
    "from tensorflow.keras.callbacks import EarlyStopping\n",
    "from tensorflow.keras.callbacks import ReduceLROnPlateau\n",
    "from tensorflow.keras.callbacks import ModelCheckpoint"
   ]
  },
  {
   "cell_type": "code",
   "execution_count": 11,
   "metadata": {},
   "outputs": [],
   "source": [
    "plt.rcParams[\"font.family\"] = 'AppleGothic' if sys.platform == 'darwin' else 'Malgun Gothic'\n",
    "plt.rcParams[\"font.size\"] = 12\n",
    "plt.rcParams[\"figure.figsize\"] = (10, 5)\n",
    "plt.rcParams[\"axes.unicode_minus\"] = False"
   ]
  },
  {
   "cell_type": "markdown",
   "metadata": {},
   "source": [
    "## #02. 데이터셋 준비\n",
    "\n",
    "방사선학 석사과정 대학원생 모집을 하였다. 이 때 지원한 방사선사의 대학원 합격 여부에 따른 주요 요인이 무엇인지 분석하라.\n",
    "\n",
    "단, 독립변수는 정규분포를 따른다고 가정한다.\n",
    "\n",
    "| 변수 | 구분 | 설명 |\n",
    "|---|---|---\n",
    "| 합격여부 | 범주형 | 1=합격, 0=불합격 |\n",
    "| 필기점수 | 연속형 | 800점 만점 |\n",
    "| 학부성적 | 연속형 | 4.0 만점 |\n",
    "| 병원경력 | 범주형 | 1: 10년이상, 2: 2~5년, 3: 1~5년, 4: 1년 미만 |"
   ]
  },
  {
   "cell_type": "code",
   "execution_count": 2,
   "metadata": {},
   "outputs": [
    {
     "data": {
      "text/html": [
       "<div>\n",
       "<style scoped>\n",
       "    .dataframe tbody tr th:only-of-type {\n",
       "        vertical-align: middle;\n",
       "    }\n",
       "\n",
       "    .dataframe tbody tr th {\n",
       "        vertical-align: top;\n",
       "    }\n",
       "\n",
       "    .dataframe thead th {\n",
       "        text-align: right;\n",
       "    }\n",
       "</style>\n",
       "<table border=\"1\" class=\"dataframe\">\n",
       "  <thead>\n",
       "    <tr style=\"text-align: right;\">\n",
       "      <th></th>\n",
       "      <th>합격여부</th>\n",
       "      <th>필기점수</th>\n",
       "      <th>학부성적</th>\n",
       "      <th>병원경력</th>\n",
       "    </tr>\n",
       "  </thead>\n",
       "  <tbody>\n",
       "    <tr>\n",
       "      <th>0</th>\n",
       "      <td>0</td>\n",
       "      <td>380</td>\n",
       "      <td>3.61</td>\n",
       "      <td>3</td>\n",
       "    </tr>\n",
       "    <tr>\n",
       "      <th>1</th>\n",
       "      <td>1</td>\n",
       "      <td>660</td>\n",
       "      <td>3.67</td>\n",
       "      <td>3</td>\n",
       "    </tr>\n",
       "    <tr>\n",
       "      <th>2</th>\n",
       "      <td>1</td>\n",
       "      <td>800</td>\n",
       "      <td>4.00</td>\n",
       "      <td>1</td>\n",
       "    </tr>\n",
       "    <tr>\n",
       "      <th>3</th>\n",
       "      <td>1</td>\n",
       "      <td>640</td>\n",
       "      <td>3.19</td>\n",
       "      <td>4</td>\n",
       "    </tr>\n",
       "    <tr>\n",
       "      <th>4</th>\n",
       "      <td>0</td>\n",
       "      <td>520</td>\n",
       "      <td>2.93</td>\n",
       "      <td>4</td>\n",
       "    </tr>\n",
       "  </tbody>\n",
       "</table>\n",
       "</div>"
      ],
      "text/plain": [
       "   합격여부  필기점수  학부성적  병원경력\n",
       "0     0   380  3.61     3\n",
       "1     1   660  3.67     3\n",
       "2     1   800  4.00     1\n",
       "3     1   640  3.19     4\n",
       "4     0   520  2.93     4"
      ]
     },
     "execution_count": 2,
     "metadata": {},
     "output_type": "execute_result"
    }
   ],
   "source": [
    "origin = read_excel(\"https://data.hossam.kr/E05/gradeuate.xlsx\")\n",
    "origin.head()"
   ]
  },
  {
   "cell_type": "markdown",
   "metadata": {},
   "source": [
    "## #03. 데이터 전처리"
   ]
  },
  {
   "cell_type": "markdown",
   "metadata": {},
   "source": [
    "### 결측치 확인"
   ]
  },
  {
   "cell_type": "code",
   "execution_count": 3,
   "metadata": {},
   "outputs": [
    {
     "data": {
      "text/plain": [
       "합격여부    0\n",
       "필기점수    0\n",
       "학부성적    0\n",
       "병원경력    0\n",
       "dtype: int64"
      ]
     },
     "execution_count": 3,
     "metadata": {},
     "output_type": "execute_result"
    }
   ],
   "source": [
    "origin.isna().sum()"
   ]
  },
  {
   "cell_type": "markdown",
   "metadata": {},
   "source": [
    "### 명목형에 대한 데이터 타입 설정\n",
    "\n",
    "- 더미변수는 변수의 값이 최소 2개를 초과할 경우 수행. 아니면 단순 category 타입으로."
   ]
  },
  {
   "cell_type": "code",
   "execution_count": 4,
   "metadata": {},
   "outputs": [
    {
     "data": {
      "text/plain": [
       "Index(['합격여부', '필기점수', '학부성적', '병원경력'], dtype='object')"
      ]
     },
     "execution_count": 4,
     "metadata": {},
     "output_type": "execute_result"
    }
   ],
   "source": [
    "origin.columns"
   ]
  },
  {
   "cell_type": "code",
   "execution_count": 8,
   "metadata": {},
   "outputs": [
    {
     "data": {
      "text/plain": [
       "합격여부\n",
       "0    273\n",
       "1    127\n",
       "Name: count, dtype: int64"
      ]
     },
     "execution_count": 8,
     "metadata": {},
     "output_type": "execute_result"
    }
   ],
   "source": [
    "# origin['병원경력'].value_counts()\n",
    "origin['합격여부'].value_counts()"
   ]
  },
  {
   "cell_type": "code",
   "execution_count": 5,
   "metadata": {},
   "outputs": [
    {
     "name": "stdout",
     "output_type": "stream",
     "text": [
      "<class 'pandas.core.frame.DataFrame'>\n",
      "RangeIndex: 400 entries, 0 to 399\n",
      "Data columns (total 4 columns):\n",
      " #   Column  Non-Null Count  Dtype   \n",
      "---  ------  --------------  -----   \n",
      " 0   합격여부    400 non-null    category\n",
      " 1   필기점수    400 non-null    int64   \n",
      " 2   학부성적    400 non-null    float64 \n",
      " 3   병원경력    400 non-null    int64   \n",
      "dtypes: category(1), float64(1), int64(2)\n",
      "memory usage: 10.0 KB\n"
     ]
    }
   ],
   "source": [
    "origin['합격여부'] = origin['합격여부'].astype('category')\n",
    "origin.info()"
   ]
  },
  {
   "cell_type": "markdown",
   "metadata": {},
   "source": [
    "***종속변수 카테고리의 기준***\n",
    "\n",
    ">탐색적 데이터 분석에서 사용하기 위해 카테고리화를 진행 - (단, 통계에서는 카테고리 형식으로 데이터를 분석하지 않고 int 형식으로 사용)\n",
    "\n",
    ">정석대로라면 카테고리로 변경하지 않음. \n",
    "단, 탐색적 데이터 분석을 한다면 명목형 변수를 제거해야 하는데 명목형을 카테고리로 변경하면 자동으로 제거해주기 때문에 카테고리 형식으로 변환 후 진행. \n",
    "\n",
    "> category 대신 더미변수로 변경하면 int로 돌아오므로 더미변수화를 추천."
   ]
  },
  {
   "cell_type": "markdown",
   "metadata": {},
   "source": [
    "## #04. 탐색적 데이터 분석"
   ]
  },
  {
   "cell_type": "markdown",
   "metadata": {},
   "source": [
    "### 기본(기초)통계 확인\n",
    "\n",
    "describe"
   ]
  },
  {
   "cell_type": "code",
   "execution_count": 9,
   "metadata": {},
   "outputs": [
    {
     "data": {
      "text/html": [
       "<div>\n",
       "<style scoped>\n",
       "    .dataframe tbody tr th:only-of-type {\n",
       "        vertical-align: middle;\n",
       "    }\n",
       "\n",
       "    .dataframe tbody tr th {\n",
       "        vertical-align: top;\n",
       "    }\n",
       "\n",
       "    .dataframe thead th {\n",
       "        text-align: right;\n",
       "    }\n",
       "</style>\n",
       "<table border=\"1\" class=\"dataframe\">\n",
       "  <thead>\n",
       "    <tr style=\"text-align: right;\">\n",
       "      <th></th>\n",
       "      <th>필기점수</th>\n",
       "      <th>학부성적</th>\n",
       "      <th>병원경력</th>\n",
       "    </tr>\n",
       "  </thead>\n",
       "  <tbody>\n",
       "    <tr>\n",
       "      <th>count</th>\n",
       "      <td>400.000000</td>\n",
       "      <td>400.000000</td>\n",
       "      <td>400.00000</td>\n",
       "    </tr>\n",
       "    <tr>\n",
       "      <th>mean</th>\n",
       "      <td>587.700000</td>\n",
       "      <td>3.389900</td>\n",
       "      <td>2.48500</td>\n",
       "    </tr>\n",
       "    <tr>\n",
       "      <th>std</th>\n",
       "      <td>115.516536</td>\n",
       "      <td>0.380567</td>\n",
       "      <td>0.94446</td>\n",
       "    </tr>\n",
       "    <tr>\n",
       "      <th>min</th>\n",
       "      <td>220.000000</td>\n",
       "      <td>2.260000</td>\n",
       "      <td>1.00000</td>\n",
       "    </tr>\n",
       "    <tr>\n",
       "      <th>25%</th>\n",
       "      <td>520.000000</td>\n",
       "      <td>3.130000</td>\n",
       "      <td>2.00000</td>\n",
       "    </tr>\n",
       "    <tr>\n",
       "      <th>50%</th>\n",
       "      <td>580.000000</td>\n",
       "      <td>3.395000</td>\n",
       "      <td>2.00000</td>\n",
       "    </tr>\n",
       "    <tr>\n",
       "      <th>75%</th>\n",
       "      <td>660.000000</td>\n",
       "      <td>3.670000</td>\n",
       "      <td>3.00000</td>\n",
       "    </tr>\n",
       "    <tr>\n",
       "      <th>max</th>\n",
       "      <td>800.000000</td>\n",
       "      <td>4.000000</td>\n",
       "      <td>4.00000</td>\n",
       "    </tr>\n",
       "  </tbody>\n",
       "</table>\n",
       "</div>"
      ],
      "text/plain": [
       "             필기점수        학부성적       병원경력\n",
       "count  400.000000  400.000000  400.00000\n",
       "mean   587.700000    3.389900    2.48500\n",
       "std    115.516536    0.380567    0.94446\n",
       "min    220.000000    2.260000    1.00000\n",
       "25%    520.000000    3.130000    2.00000\n",
       "50%    580.000000    3.395000    2.00000\n",
       "75%    660.000000    3.670000    3.00000\n",
       "max    800.000000    4.000000    4.00000"
      ]
     },
     "execution_count": 9,
     "metadata": {},
     "output_type": "execute_result"
    }
   ],
   "source": [
    "origin.describe()"
   ]
  },
  {
   "cell_type": "markdown",
   "metadata": {},
   "source": [
    "### boxplot\n",
    "\n",
    "표준화 여부 결정에 도움.\n",
    "\n",
    "각 변수의 분포가 너무 상이할 경우 표준화 진행."
   ]
  },
  {
   "cell_type": "code",
   "execution_count": 12,
   "metadata": {},
   "outputs": [
    {
     "data": {
      "image/png": "[encoded data removed]",
      "text/plain": [
       "<Figure size 1000x500 with 1 Axes>"
      ]
     },
     "metadata": {},
     "output_type": "display_data"
    }
   ],
   "source": [
    "plt.figure()\n",
    "sb.boxplot(data=origin)\n",
    "plt.grid()\n",
    "plt.show()\n",
    "plt.close()"
   ]
  },
  {
   "cell_type": "markdown",
   "metadata": {},
   "source": [
    "> 데이터 단위가 크게 상이하므로 표준화가 필요해 보임."
   ]
  },
  {
   "cell_type": "markdown",
   "metadata": {},
   "source": [
    "## #05. 데이터셋 분할"
   ]
  },
  {
   "cell_type": "markdown",
   "metadata": {},
   "source": [
    "### 랜덤시드 고정"
   ]
  },
  {
   "cell_type": "code",
   "execution_count": 13,
   "metadata": {},
   "outputs": [],
   "source": [
    "np.random.seed(777)"
   ]
  },
  {
   "cell_type": "markdown",
   "metadata": {},
   "source": [
    "### 훈련 데이터(독립변수)와 레이블(종속변수) 구분하기"
   ]
  },
  {
   "cell_type": "code",
   "execution_count": 15,
   "metadata": {},
   "outputs": [
    {
     "data": {
      "text/plain": [
       "Index(['합격여부', '필기점수', '학부성적', '병원경력'], dtype='object')"
      ]
     },
     "execution_count": 15,
     "metadata": {},
     "output_type": "execute_result"
    }
   ],
   "source": [
    "origin.columns"
   ]
  },
  {
   "cell_type": "code",
   "execution_count": 16,
   "metadata": {},
   "outputs": [
    {
     "data": {
      "text/plain": [
       "((400, 3), (400, 1))"
      ]
     },
     "execution_count": 16,
     "metadata": {},
     "output_type": "execute_result"
    }
   ],
   "source": [
    "x = origin[['필기점수','학부성적','병원경력']]\n",
    "y = origin[['합격여부']]\n",
    "x.shape, y.shape"
   ]
  },
  {
   "cell_type": "markdown",
   "metadata": {},
   "source": [
    "### 데이터 표준화\n",
    "\n",
    "- 통계에서는 종속변수 표준화를 권장하지 않음\n",
    "- 예측 값을 역 표준화 해야하지 때문\n",
    "- 단, 머신러닝 선능을 위해서 종속변수 표준화 권장\n",
    "\n",
    "- 표준화를 거치면 numpy 배열 형태(2차원 데이터 배열) -> [0]로 열 길이 출력 가능\n",
    "- 표준화를 진행하지 않으면 DF 형태(1차원 형태) -> iloc[0]로 열 길이 출력 가능\n",
    "- type, shape, info 등을 사용해 객체 형태 및 정보를 확인 가능"
   ]
  },
  {
   "cell_type": "code",
   "execution_count": 21,
   "metadata": {},
   "outputs": [
    {
     "name": "stdout",
     "output_type": "stream",
     "text": [
      "(400, 3)\n"
     ]
    },
    {
     "data": {
      "text/plain": [
       "array([[-1.80026271,  0.57907192,  0.54596793],\n",
       "       [ 0.62666824,  0.73692942,  0.54596793],\n",
       "       [ 1.84013372,  1.60514289, -1.57429586],\n",
       "       ...,\n",
       "       [-1.10685387, -1.99925902, -0.51416397],\n",
       "       [ 0.97337266,  0.68431046, -0.51416397],\n",
       "       [ 0.10661161,  1.31573861,  0.54596793]])"
      ]
     },
     "execution_count": 21,
     "metadata": {},
     "output_type": "execute_result"
    }
   ],
   "source": [
    "x_scaller = StandardScaler()\n",
    "x_scale = x_scaller.fit_transform(x)\n",
    "# type(x_scale.shape)\n",
    "print(x_scale.shape)\n",
    "x_scale"
   ]
  },
  {
   "cell_type": "markdown",
   "metadata": {},
   "source": [
    "### 표준화 전 후 상자그림 비교"
   ]
  },
  {
   "cell_type": "code",
   "execution_count": 22,
   "metadata": {},
   "outputs": [
    {
     "data": {
      "image/png": "[encoded data removed]",
      "text/plain": [
       "<Figure size 2250x750 with 2 Axes>"
      ]
     },
     "metadata": {},
     "output_type": "display_data"
    }
   ],
   "source": [
    "# 임시로 독립변수와 종속변수를 하나의 DataFrame으로 병합\n",
    "x_scale_df = DataFrame(x_scale, columns=['필기점수','학부성적','병원경력'])\n",
    "\n",
    "fig, ax = plt.subplots(1, 2, figsize=(15, 5), dpi=150)\n",
    "sb.boxplot(data=origin, ax=ax[0])\n",
    "sb.boxplot(data=x_scale_df, ax=ax[1])\n",
    "ax[0].set_title('before')\n",
    "ax[1].set_title('after')\n",
    "plt.show()\n",
    "plt.close()"
   ]
  },
  {
   "cell_type": "markdown",
   "metadata": {},
   "source": [
    "### 훈련 데이터와 검증 데이터로 분할"
   ]
  },
  {
   "cell_type": "code",
   "execution_count": 23,
   "metadata": {},
   "outputs": [
    {
     "data": {
      "text/plain": [
       "((280, 3), (120, 3), (280, 1), (120, 1))"
      ]
     },
     "execution_count": 23,
     "metadata": {},
     "output_type": "execute_result"
    }
   ],
   "source": [
    "# 종속변수 y는 표준화 미진행 -> y사용\n",
    "x_train, x_test, y_train, y_test = train_test_split(x_scale, y, test_size=0.3, random_state=777)\n",
    "x_train.shape, x_test.shape, y_train.shape, y_test.shape"
   ]
  },
  {
   "cell_type": "markdown",
   "metadata": {},
   "source": [
    "## #06. 모델 개발"
   ]
  },
  {
   "cell_type": "markdown",
   "metadata": {},
   "source": [
    "### 모델 정의\n",
    "\n",
    "> [relu], sigmoid, rmsporp, binary_crossentropy, acc\n",
    "\n",
    "- input_shape은 독립변수 수\n",
    "- Dense(출력 수) 신경망 개수의 수에 따라서 모델의 성능에 차이가 발생\n",
    "    - 직감으로 맞춤(다른 방법 없음) 보통 16 또는 32 이상\n",
    "    - 최적의 값을 직접 탐색(너무 많으면 컴퓨터 다운)\n",
    "- activation은 모델과 분석 종류에 따라서 다름 \n",
    "    - 보통 시작은 relu, 분류는 sigmoid, 회귀는 linear\n",
    "- optimizer은 모르면 Adam\n",
    "- epochs는 많아도 크게 상관이 없음\n",
    "- 2차항을 하고 싶다면 sklearn으로 2차항 생성 후 Sequential에 입력"
   ]
  },
  {
   "cell_type": "code",
   "execution_count": 24,
   "metadata": {},
   "outputs": [
    {
     "name": "stdout",
     "output_type": "stream",
     "text": [
      "Model: \"sequential\"\n",
      "_________________________________________________________________\n",
      " Layer (type)                Output Shape              Param #   \n",
      "=================================================================\n",
      " dense (Dense)               (None, 32)                128       \n",
      "                                                                 \n",
      " dense_1 (Dense)             (None, 1)                 33        \n",
      "                                                                 \n",
      "=================================================================\n",
      "Total params: 161 (644.00 Byte)\n",
      "Trainable params: 161 (644.00 Byte)\n",
      "Non-trainable params: 0 (0.00 Byte)\n",
      "_________________________________________________________________\n"
     ]
    }
   ],
   "source": [
    "model = Sequential()\n",
    "model.add(Dense(32, activation='relu', input_shape=(3, )))\n",
    "model.add(Dense(1, activation='sigmoid'))\n",
    "model.compile(optimizer='rmsprop', loss = 'binary_crossentropy', metrics = ['acc'])\n",
    "model.summary()"
   ]
  },
  {
   "cell_type": "markdown",
   "metadata": {},
   "source": [
    "### 학습하기\n",
    "\n",
    "- epochs는 많아도 크게 상관이 없음(단, 너무 크면 오래 걸리고 오차가 증가)\n",
    "    - callback을 사용해 모델의 학습 방향, 저장 시점, 학습 정지 시점 등에 관한 상황을 모니터링\n",
    "    - EarlyStopping 콜백과 같이 patience 인자를 지정하여, 지정된 기간 동안 `평가지표에서 성능 향상이 일어나지 않으면 학습률을 조정하는 콜백`\n",
    "    - ReduceLROnPlateau EarlyStopping 콜백과 같이 patience 인자를 지정하여, 지정된 기간 동안 `평가지표에서 성능 향상이 일어나지 않으면 학습률을 조정하는 콜백`\n",
    "    - ModelCheckpoint 지정한 평가지표를 기준으로 가장 뛰어난 성능을 보여주는 모델을 저장 할 때 사용"
   ]
  },
  {
   "cell_type": "code",
   "execution_count": 25,
   "metadata": {},
   "outputs": [
    {
     "name": "stdout",
     "output_type": "stream",
     "text": [
      "Epoch 1/500\n",
      "9/9 [==============================] - 1s 37ms/step - loss: 0.6644 - acc: 0.6321 - val_loss: 0.6454 - val_acc: 0.6833 - lr: 0.0010\n",
      "Epoch 2/500\n",
      "9/9 [==============================] - 0s 10ms/step - loss: 0.6472 - acc: 0.6714 - val_loss: 0.6295 - val_acc: 0.7167 - lr: 0.0010\n",
      "Epoch 3/500\n",
      "9/9 [==============================] - 0s 24ms/step - loss: 0.6366 - acc: 0.7036 - val_loss: 0.6167 - val_acc: 0.7250 - lr: 0.0010\n",
      "Epoch 4/500\n",
      "9/9 [==============================] - 0s 10ms/step - loss: 0.6284 - acc: 0.7000 - val_loss: 0.6052 - val_acc: 0.7417 - lr: 0.0010\n",
      "Epoch 5/500\n",
      "9/9 [==============================] - 0s 7ms/step - loss: 0.6220 - acc: 0.7036 - val_loss: 0.5970 - val_acc: 0.7417 - lr: 0.0010\n",
      "Epoch 6/500\n",
      "9/9 [==============================] - 0s 7ms/step - loss: 0.6169 - acc: 0.7036 - val_loss: 0.5890 - val_acc: 0.7333 - lr: 0.0010\n",
      "Epoch 7/500\n",
      "9/9 [==============================] - 0s 7ms/step - loss: 0.6124 - acc: 0.7000 - val_loss: 0.5818 - val_acc: 0.7333 - lr: 0.0010\n",
      "Epoch 8/500\n",
      "9/9 [==============================] - 0s 7ms/step - loss: 0.6083 - acc: 0.7000 - val_loss: 0.5746 - val_acc: 0.7333 - lr: 0.0010\n",
      "Epoch 9/500\n",
      "9/9 [==============================] - 0s 8ms/step - loss: 0.6049 - acc: 0.7000 - val_loss: 0.5684 - val_acc: 0.7333 - lr: 0.0010\n",
      "Epoch 10/500\n",
      "9/9 [==============================] - 0s 7ms/step - loss: 0.6023 - acc: 0.6964 - val_loss: 0.5638 - val_acc: 0.7333 - lr: 0.0010\n",
      "Epoch 11/500\n",
      "9/9 [==============================] - 0s 7ms/step - loss: 0.6006 - acc: 0.7036 - val_loss: 0.5598 - val_acc: 0.7333 - lr: 0.0010\n",
      "Epoch 12/500\n",
      "9/9 [==============================] - 0s 9ms/step - loss: 0.5990 - acc: 0.7000 - val_loss: 0.5566 - val_acc: 0.7333 - lr: 0.0010\n",
      "Epoch 13/500\n",
      "9/9 [==============================] - 0s 7ms/step - loss: 0.5975 - acc: 0.7071 - val_loss: 0.5537 - val_acc: 0.7250 - lr: 0.0010\n",
      "Epoch 14/500\n",
      "9/9 [==============================] - 0s 8ms/step - loss: 0.5966 - acc: 0.7107 - val_loss: 0.5515 - val_acc: 0.7250 - lr: 0.0010\n",
      "Epoch 15/500\n",
      "9/9 [==============================] - 0s 7ms/step - loss: 0.5961 - acc: 0.7036 - val_loss: 0.5495 - val_acc: 0.7250 - lr: 0.0010\n",
      "Epoch 16/500\n",
      "9/9 [==============================] - 0s 7ms/step - loss: 0.5948 - acc: 0.7071 - val_loss: 0.5482 - val_acc: 0.7250 - lr: 0.0010\n",
      "Epoch 17/500\n",
      "9/9 [==============================] - 0s 8ms/step - loss: 0.5943 - acc: 0.7071 - val_loss: 0.5462 - val_acc: 0.7250 - lr: 0.0010\n",
      "Epoch 18/500\n",
      "9/9 [==============================] - 0s 9ms/step - loss: 0.5940 - acc: 0.7071 - val_loss: 0.5449 - val_acc: 0.7333 - lr: 0.0010\n",
      "Epoch 19/500\n",
      "9/9 [==============================] - 0s 9ms/step - loss: 0.5937 - acc: 0.7071 - val_loss: 0.5438 - val_acc: 0.7333 - lr: 0.0010\n",
      "Epoch 20/500\n",
      "9/9 [==============================] - 0s 6ms/step - loss: 0.5932 - acc: 0.7000 - val_loss: 0.5426 - val_acc: 0.7333 - lr: 0.0010\n",
      "Epoch 21/500\n",
      "9/9 [==============================] - 0s 7ms/step - loss: 0.5927 - acc: 0.7071 - val_loss: 0.5421 - val_acc: 0.7333 - lr: 0.0010\n",
      "Epoch 22/500\n",
      "9/9 [==============================] - 0s 6ms/step - loss: 0.5925 - acc: 0.7036 - val_loss: 0.5411 - val_acc: 0.7333 - lr: 0.0010\n",
      "Epoch 23/500\n",
      "9/9 [==============================] - 0s 7ms/step - loss: 0.5923 - acc: 0.6964 - val_loss: 0.5407 - val_acc: 0.7333 - lr: 0.0010\n",
      "Epoch 24/500\n",
      "9/9 [==============================] - 0s 7ms/step - loss: 0.5918 - acc: 0.7036 - val_loss: 0.5404 - val_acc: 0.7333 - lr: 0.0010\n",
      "Epoch 25/500\n",
      "9/9 [==============================] - 0s 7ms/step - loss: 0.5916 - acc: 0.7036 - val_loss: 0.5398 - val_acc: 0.7333 - lr: 0.0010\n",
      "Epoch 26/500\n",
      "9/9 [==============================] - 0s 8ms/step - loss: 0.5916 - acc: 0.7036 - val_loss: 0.5393 - val_acc: 0.7333 - lr: 0.0010\n",
      "Epoch 27/500\n",
      "9/9 [==============================] - 0s 7ms/step - loss: 0.5909 - acc: 0.7071 - val_loss: 0.5389 - val_acc: 0.7333 - lr: 0.0010\n",
      "Epoch 28/500\n",
      "9/9 [==============================] - 0s 8ms/step - loss: 0.5910 - acc: 0.7036 - val_loss: 0.5387 - val_acc: 0.7333 - lr: 0.0010\n",
      "Epoch 29/500\n",
      "9/9 [==============================] - 0s 8ms/step - loss: 0.5906 - acc: 0.7071 - val_loss: 0.5385 - val_acc: 0.7333 - lr: 0.0010\n",
      "Epoch 30/500\n",
      "9/9 [==============================] - 0s 7ms/step - loss: 0.5900 - acc: 0.7036 - val_loss: 0.5385 - val_acc: 0.7333 - lr: 0.0010\n",
      "Epoch 31/500\n",
      "9/9 [==============================] - 0s 6ms/step - loss: 0.5901 - acc: 0.7071 - val_loss: 0.5380 - val_acc: 0.7333 - lr: 0.0010\n",
      "Epoch 32/500\n",
      "9/9 [==============================] - 0s 6ms/step - loss: 0.5897 - acc: 0.7071 - val_loss: 0.5380 - val_acc: 0.7333 - lr: 0.0010\n",
      "Epoch 33/500\n",
      "9/9 [==============================] - 0s 6ms/step - loss: 0.5893 - acc: 0.7071 - val_loss: 0.5383 - val_acc: 0.7333 - lr: 0.0010\n",
      "Epoch 34/500\n",
      "1/9 [==>...........................] - ETA: 0s - loss: 0.6176 - acc: 0.6875\n",
      "Epoch 34: ReduceLROnPlateau reducing learning rate to 0.0005000000237487257.\n",
      "9/9 [==============================] - 0s 6ms/step - loss: 0.5897 - acc: 0.7036 - val_loss: 0.5383 - val_acc: 0.7333 - lr: 0.0010\n",
      "Epoch 35/500\n",
      "9/9 [==============================] - 0s 9ms/step - loss: 0.5888 - acc: 0.7071 - val_loss: 0.5383 - val_acc: 0.7333 - lr: 5.0000e-04\n",
      "Epoch 36/500\n",
      "9/9 [==============================] - 0s 11ms/step - loss: 0.5886 - acc: 0.7071 - val_loss: 0.5383 - val_acc: 0.7333 - lr: 5.0000e-04\n",
      "Epoch 37/500\n",
      "1/9 [==>...........................] - ETA: 0s - loss: 0.4323 - acc: 0.8125\n",
      "Epoch 37: ReduceLROnPlateau reducing learning rate to 0.0002500000118743628.\n",
      "9/9 [==============================] - 0s 7ms/step - loss: 0.5885 - acc: 0.7071 - val_loss: 0.5383 - val_acc: 0.7333 - lr: 5.0000e-04\n",
      "Epoch 37: early stopping\n"
     ]
    }
   ],
   "source": [
    "result = model.fit(x_train, y_train, epochs = 500, validation_data = (x_test, y_test), callbacks = [\n",
    "    EarlyStopping(monitor = 'val_loss', patience=5, verbose = 1),\n",
    "    ReduceLROnPlateau(monitor= \"val_loss\", patience=3, factor = 0.5, min_lr=0.0001, verbose=1)\n",
    "])"
   ]
  },
  {
   "cell_type": "markdown",
   "metadata": {},
   "source": [
    "## #08. 학습 결과 적용"
   ]
  },
  {
   "cell_type": "markdown",
   "metadata": {},
   "source": [
    "### 훈련 데이터에 대한 예측 결과 산정\n",
    "\n",
    "> 데이터가 0하고 1일 경우 결과 값이 1일 확률"
   ]
  },
  {
   "cell_type": "code",
   "execution_count": 26,
   "metadata": {},
   "outputs": [
    {
     "name": "stdout",
     "output_type": "stream",
     "text": [
      "9/9 [==============================] - 0s 1ms/step\n",
      "280개의 훈련 데이터가 1개의 경우의 수를 갖는다.\n",
      "[[0.3988085 ]\n",
      " [0.56584376]\n",
      " [0.14529271]\n",
      " [0.23186235]\n",
      " [0.17090195]\n",
      " [0.14103979]\n",
      " [0.48243845]\n",
      " [0.49944088]\n",
      " [0.33228543]\n",
      " [0.42661667]\n",
      " [0.31330302]\n",
      " [0.36984202]\n",
      " [0.44644728]\n",
      " [0.28592068]\n",
      " [0.18299483]\n",
      " [0.40638313]\n",
      " [0.20178434]\n",
      " [0.4735671 ]\n",
      " [0.5817927 ]\n",
      " [0.48840976]\n",
      " [0.33221883]\n",
      " [0.53564525]\n",
      " [0.32822955]\n",
      " [0.15002695]\n",
      " [0.3566738 ]\n",
      " [0.31146613]\n",
      " [0.3927868 ]\n",
      " [0.3238073 ]\n",
      " [0.4514143 ]\n",
      " [0.4837207 ]\n",
      " [0.32421094]\n",
      " [0.483528  ]\n",
      " [0.3430631 ]\n",
      " [0.23985212]\n",
      " [0.35078397]\n",
      " [0.2783131 ]\n",
      " [0.18496372]\n",
      " [0.09091704]\n",
      " [0.3244921 ]\n",
      " [0.4078382 ]\n",
      " [0.4008747 ]\n",
      " [0.14886314]\n",
      " [0.4479366 ]\n",
      " [0.32311606]\n",
      " [0.28682408]\n",
      " [0.45079193]\n",
      " [0.08878051]\n",
      " [0.28786415]\n",
      " [0.4507046 ]\n",
      " [0.15365036]\n",
      " [0.43237022]\n",
      " [0.35912874]\n",
      " [0.46278113]\n",
      " [0.15988971]\n",
      " [0.48622862]\n",
      " [0.5534818 ]\n",
      " [0.3530565 ]\n",
      " [0.43237022]\n",
      " [0.15407757]\n",
      " [0.3076967 ]\n",
      " [0.37136927]\n",
      " [0.4272511 ]\n",
      " [0.2613396 ]\n",
      " [0.31688038]\n",
      " [0.22553337]\n",
      " [0.23287074]\n",
      " [0.48391333]\n",
      " [0.24563777]\n",
      " [0.16496313]\n",
      " [0.3229994 ]\n",
      " [0.30684373]\n",
      " [0.27296162]\n",
      " [0.35418788]\n",
      " [0.2505215 ]\n",
      " [0.4311434 ]\n",
      " [0.46136004]\n",
      " [0.4507046 ]\n",
      " [0.4484728 ]\n",
      " [0.49288467]\n",
      " [0.32326362]\n",
      " [0.38793272]\n",
      " [0.3136611 ]\n",
      " [0.17796284]\n",
      " [0.16906866]\n",
      " [0.33514878]\n",
      " [0.23777203]\n",
      " [0.30912906]\n",
      " [0.49022913]\n",
      " [0.15897194]\n",
      " [0.58352816]\n",
      " [0.4219629 ]\n",
      " [0.11132921]\n",
      " [0.13782915]\n",
      " [0.3156931 ]\n",
      " [0.4425476 ]\n",
      " [0.31272382]\n",
      " [0.44064257]\n",
      " [0.62186503]\n",
      " [0.24196763]\n",
      " [0.4740273 ]\n",
      " [0.32032034]\n",
      " [0.2056542 ]\n",
      " [0.47402146]\n",
      " [0.48651612]\n",
      " [0.5558773 ]\n",
      " [0.2735556 ]\n",
      " [0.25406557]\n",
      " [0.27739632]\n",
      " [0.1841129 ]\n",
      " [0.12906814]\n",
      " [0.51710474]\n",
      " [0.3501599 ]\n",
      " [0.4284024 ]\n",
      " [0.49283302]\n",
      " [0.39011517]\n",
      " [0.20081107]\n",
      " [0.1100207 ]\n",
      " [0.3692647 ]\n",
      " [0.3218438 ]\n",
      " [0.08877575]\n",
      " [0.12154581]\n",
      " [0.23957609]\n",
      " [0.44252357]\n",
      " [0.33004603]\n",
      " [0.17215806]\n",
      " [0.36792806]\n",
      " [0.3681717 ]\n",
      " [0.27153295]\n",
      " [0.33079475]\n",
      " [0.1153689 ]\n",
      " [0.26273814]\n",
      " [0.36599618]\n",
      " [0.38499197]\n",
      " [0.2203906 ]\n",
      " [0.21529636]\n",
      " [0.23607516]\n",
      " [0.105722  ]\n",
      " [0.30421916]\n",
      " [0.25849724]\n",
      " [0.19521517]\n",
      " [0.05284197]\n",
      " [0.33583137]\n",
      " [0.24454677]\n",
      " [0.34274197]\n",
      " [0.14653902]\n",
      " [0.5085181 ]\n",
      " [0.34115487]\n",
      " [0.3525533 ]\n",
      " [0.20384365]\n",
      " [0.56808275]\n",
      " [0.4508187 ]\n",
      " [0.47572532]\n",
      " [0.07199751]\n",
      " [0.4793794 ]\n",
      " [0.43159577]\n",
      " [0.23261979]\n",
      " [0.42974642]\n",
      " [0.31592897]\n",
      " [0.37560418]\n",
      " [0.4323917 ]\n",
      " [0.35885915]\n",
      " [0.2949765 ]\n",
      " [0.49639702]\n",
      " [0.4781101 ]\n",
      " [0.04347857]\n",
      " [0.4280561 ]\n",
      " [0.5187653 ]\n",
      " [0.15078126]\n",
      " [0.34266064]\n",
      " [0.39326537]\n",
      " [0.5431802 ]\n",
      " [0.249174  ]\n",
      " [0.3059248 ]\n",
      " [0.3920862 ]\n",
      " [0.20672171]\n",
      " [0.23456861]\n",
      " [0.40549457]\n",
      " [0.1964783 ]\n",
      " [0.48322064]\n",
      " [0.24328417]\n",
      " [0.3533333 ]\n",
      " [0.4538178 ]\n",
      " [0.20856479]\n",
      " [0.18425521]\n",
      " [0.19074318]\n",
      " [0.44548494]\n",
      " [0.22542433]\n",
      " [0.2244358 ]\n",
      " [0.23682581]\n",
      " [0.15309249]\n",
      " [0.33245808]\n",
      " [0.3902986 ]\n",
      " [0.5324674 ]\n",
      " [0.36552507]\n",
      " [0.23521273]\n",
      " [0.17662694]\n",
      " [0.18872833]\n",
      " [0.18115452]\n",
      " [0.3447219 ]\n",
      " [0.4740273 ]\n",
      " [0.2997587 ]\n",
      " [0.45180032]\n",
      " [0.44420338]\n",
      " [0.32781503]\n",
      " [0.2503499 ]\n",
      " [0.44605398]\n",
      " [0.11277191]\n",
      " [0.18392761]\n",
      " [0.3650758 ]\n",
      " [0.06290983]\n",
      " [0.3178733 ]\n",
      " [0.36258468]\n",
      " [0.47451538]\n",
      " [0.5586955 ]\n",
      " [0.49812284]\n",
      " [0.13830078]\n",
      " [0.26001713]\n",
      " [0.32127273]\n",
      " [0.43680334]\n",
      " [0.22765326]\n",
      " [0.13137381]\n",
      " [0.32032034]\n",
      " [0.38228145]\n",
      " [0.43600583]\n",
      " [0.3402794 ]\n",
      " [0.35807878]\n",
      " [0.31671754]\n",
      " [0.43973193]\n",
      " [0.38859126]\n",
      " [0.30830228]\n",
      " [0.44750357]\n",
      " [0.36614478]\n",
      " [0.44031435]\n",
      " [0.2828119 ]\n",
      " [0.17944849]\n",
      " [0.44799438]\n",
      " [0.33222914]\n",
      " [0.520843  ]\n",
      " [0.40884015]\n",
      " [0.20802891]\n",
      " [0.3814849 ]\n",
      " [0.3452112 ]\n",
      " [0.46361077]\n",
      " [0.6392679 ]\n",
      " [0.32668796]\n",
      " [0.2683669 ]\n",
      " [0.38423043]\n",
      " [0.56808275]\n",
      " [0.13194634]\n",
      " [0.4446144 ]\n",
      " [0.3268555 ]\n",
      " [0.14793883]\n",
      " [0.13244513]\n",
      " [0.21101049]\n",
      " [0.3288298 ]\n",
      " [0.14829288]\n",
      " [0.24880415]\n",
      " [0.34179118]\n",
      " [0.26415277]\n",
      " [0.3654287 ]\n",
      " [0.47893703]\n",
      " [0.33221883]\n",
      " [0.5683983 ]\n",
      " [0.15165347]\n",
      " [0.3917847 ]\n",
      " [0.4273101 ]\n",
      " [0.48316208]\n",
      " [0.31955054]\n",
      " [0.22594757]\n",
      " [0.24051459]\n",
      " [0.4775964 ]\n",
      " [0.22152412]\n",
      " [0.3613613 ]\n",
      " [0.22382829]\n",
      " [0.53701955]\n",
      " [0.05269738]\n",
      " [0.45677263]\n",
      " [0.15988971]\n",
      " [0.46559635]\n",
      " [0.3641614 ]]\n"
     ]
    }
   ],
   "source": [
    "train_pred = model.predict(x_train)\n",
    "data_count, case_count = train_pred.shape\n",
    "print(\"%d개의 훈련 데이터가 %d개의 경우의 수를 갖는다.\" % (data_count, case_count))\n",
    "print(train_pred)"
   ]
  },
  {
   "cell_type": "markdown",
   "metadata": {},
   "source": [
    "### 검증 데이터에 대한 예측 결과 산정"
   ]
  },
  {
   "cell_type": "code",
   "execution_count": 29,
   "metadata": {},
   "outputs": [
    {
     "name": "stdout",
     "output_type": "stream",
     "text": [
      "1/4 [======>.......................] - ETA: 0s"
     ]
    },
    {
     "name": "stdout",
     "output_type": "stream",
     "text": [
      "4/4 [==============================] - 0s 2ms/step\n",
      "120개의 검증 데이터가 1개의 경우의 수를 갖는다.\n"
     ]
    }
   ],
   "source": [
    "test_pred = model.predict(x_test)\n",
    "data_count, case_count = test_pred.shape\n",
    "print(\"%d개의 검증 데이터가 %d개의 경우의 수를 갖는다.\" % (data_count, case_count))\n",
    "# print(test_pred)"
   ]
  },
  {
   "cell_type": "markdown",
   "metadata": {},
   "source": [
    "### 결과 데이터 셋 구성"
   ]
  },
  {
   "cell_type": "code",
   "execution_count": 30,
   "metadata": {},
   "outputs": [
    {
     "data": {
      "text/html": [
       "<div>\n",
       "<style scoped>\n",
       "    .dataframe tbody tr th:only-of-type {\n",
       "        vertical-align: middle;\n",
       "    }\n",
       "\n",
       "    .dataframe tbody tr th {\n",
       "        vertical-align: top;\n",
       "    }\n",
       "\n",
       "    .dataframe thead th {\n",
       "        text-align: right;\n",
       "    }\n",
       "</style>\n",
       "<table border=\"1\" class=\"dataframe\">\n",
       "  <thead>\n",
       "    <tr style=\"text-align: right;\">\n",
       "      <th></th>\n",
       "      <th>결과값</th>\n",
       "      <th>예측치</th>\n",
       "      <th>합격확률(%)</th>\n",
       "    </tr>\n",
       "  </thead>\n",
       "  <tbody>\n",
       "    <tr>\n",
       "      <th>0</th>\n",
       "      <td>1</td>\n",
       "      <td>0.0</td>\n",
       "      <td>39.900002</td>\n",
       "    </tr>\n",
       "    <tr>\n",
       "      <th>1</th>\n",
       "      <td>1</td>\n",
       "      <td>1.0</td>\n",
       "      <td>56.599998</td>\n",
       "    </tr>\n",
       "    <tr>\n",
       "      <th>2</th>\n",
       "      <td>1</td>\n",
       "      <td>0.0</td>\n",
       "      <td>14.500000</td>\n",
       "    </tr>\n",
       "    <tr>\n",
       "      <th>3</th>\n",
       "      <td>0</td>\n",
       "      <td>0.0</td>\n",
       "      <td>23.200001</td>\n",
       "    </tr>\n",
       "    <tr>\n",
       "      <th>4</th>\n",
       "      <td>0</td>\n",
       "      <td>0.0</td>\n",
       "      <td>17.100000</td>\n",
       "    </tr>\n",
       "    <tr>\n",
       "      <th>...</th>\n",
       "      <td>...</td>\n",
       "      <td>...</td>\n",
       "      <td>...</td>\n",
       "    </tr>\n",
       "    <tr>\n",
       "      <th>275</th>\n",
       "      <td>0</td>\n",
       "      <td>0.0</td>\n",
       "      <td>5.300000</td>\n",
       "    </tr>\n",
       "    <tr>\n",
       "      <th>276</th>\n",
       "      <td>0</td>\n",
       "      <td>0.0</td>\n",
       "      <td>45.700001</td>\n",
       "    </tr>\n",
       "    <tr>\n",
       "      <th>277</th>\n",
       "      <td>0</td>\n",
       "      <td>0.0</td>\n",
       "      <td>16.000000</td>\n",
       "    </tr>\n",
       "    <tr>\n",
       "      <th>278</th>\n",
       "      <td>1</td>\n",
       "      <td>0.0</td>\n",
       "      <td>46.599998</td>\n",
       "    </tr>\n",
       "    <tr>\n",
       "      <th>279</th>\n",
       "      <td>0</td>\n",
       "      <td>0.0</td>\n",
       "      <td>36.400002</td>\n",
       "    </tr>\n",
       "  </tbody>\n",
       "</table>\n",
       "<p>280 rows × 3 columns</p>\n",
       "</div>"
      ],
      "text/plain": [
       "    결과값  예측치    합격확률(%)\n",
       "0     1  0.0  39.900002\n",
       "1     1  1.0  56.599998\n",
       "2     1  0.0  14.500000\n",
       "3     0  0.0  23.200001\n",
       "4     0  0.0  17.100000\n",
       "..   ..  ...        ...\n",
       "275   0  0.0   5.300000\n",
       "276   0  0.0  45.700001\n",
       "277   0  0.0  16.000000\n",
       "278   1  0.0  46.599998\n",
       "279   0  0.0  36.400002\n",
       "\n",
       "[280 rows x 3 columns]"
      ]
     },
     "execution_count": 30,
     "metadata": {},
     "output_type": "execute_result"
    }
   ],
   "source": [
    "kdf = DataFrame({\n",
    "    '결과값': y_train['합격여부'].values,\n",
    "    '예측치' : np.round(train_pred.flatten()),\n",
    "    '합격확률(%)': np.round(train_pred.flatten() * 100, 1)\n",
    "})\n",
    "\n",
    "kdf"
   ]
  },
  {
   "cell_type": "markdown",
   "metadata": {},
   "source": [
    "### 혼동행렬"
   ]
  },
  {
   "cell_type": "code",
   "execution_count": 32,
   "metadata": {},
   "outputs": [
    {
     "name": "stdout",
     "output_type": "stream",
     "text": [
      "184 5 77 14\n"
     ]
    },
    {
     "data": {
      "text/html": [
       "<div>\n",
       "<style scoped>\n",
       "    .dataframe tbody tr th:only-of-type {\n",
       "        vertical-align: middle;\n",
       "    }\n",
       "\n",
       "    .dataframe tbody tr th {\n",
       "        vertical-align: top;\n",
       "    }\n",
       "\n",
       "    .dataframe thead th {\n",
       "        text-align: right;\n",
       "    }\n",
       "</style>\n",
       "<table border=\"1\" class=\"dataframe\">\n",
       "  <thead>\n",
       "    <tr style=\"text-align: right;\">\n",
       "      <th></th>\n",
       "      <th>Negative</th>\n",
       "      <th>Positive</th>\n",
       "    </tr>\n",
       "  </thead>\n",
       "  <tbody>\n",
       "    <tr>\n",
       "      <th>True</th>\n",
       "      <td>184</td>\n",
       "      <td>77</td>\n",
       "    </tr>\n",
       "    <tr>\n",
       "      <th>False</th>\n",
       "      <td>5</td>\n",
       "      <td>14</td>\n",
       "    </tr>\n",
       "  </tbody>\n",
       "</table>\n",
       "</div>"
      ],
      "text/plain": [
       "       Negative  Positive\n",
       "True        184        77\n",
       "False         5        14"
      ]
     },
     "execution_count": 32,
     "metadata": {},
     "output_type": "execute_result"
    }
   ],
   "source": [
    "cm = confusion_matrix(kdf['결과값'], kdf['예측치'])\n",
    "tn, fp, fn, tp = cm.ravel()\n",
    "print(tn, fp, fn, tp)\n",
    "cmdf1 = DataFrame([[tn, fn], [fp, tp]], index=['True', 'False'], columns=['Negative', 'Positive'])\n",
    "cmdf1"
   ]
  },
  {
   "cell_type": "markdown",
   "metadata": {},
   "source": [
    "#### DF 설명\n",
    "\n",
    "| | Negative|Positive|\n",
    "|--|--|--|\n",
    "| True | TN | FP |\n",
    "| False | FN | TP |\n",
    "\n",
    "#### 각 항목의 의미\n",
    "\n",
    "| 구분 | 설명 |\n",
    "|--|--|\n",
    "| TN(True Negative, Negative Negative) | 실제는 Negative인데, Negative로 예측함. |\n",
    "| FP(False Positive, Negative Positive) | 실제는 Negative인데, Positive로 예측함. (Type1 Error) |\n",
    "| FN(False Negative, Positive Negative) | 실제는 Positive인데, Negative로 예측함. (Type2 Error) |\n",
    "| TP(True Positive, Positive Positive) | 실제는 Positive인데, Positive로 예측함. |"
   ]
  },
  {
   "cell_type": "code",
   "execution_count": 33,
   "metadata": {},
   "outputs": [
    {
     "data": {
      "image/png": "[encoded data removed]",
      "text/plain": [
       "<Figure size 500x300 with 2 Axes>"
      ]
     },
     "metadata": {},
     "output_type": "display_data"
    }
   ],
   "source": [
    "plt.figure(figsize=(5,3))\n",
    "# 오차 행렬을 히트맵 그래프로 표현\n",
    "# -> annot : 그래프의 각 칸에 수치값 출력\n",
    "# -> fmt : 수치값 출력 format (여기서는 10진수)\n",
    "# -> cmap : 색상맵 (<https://matplotlib.org/3.2.1/tutorials/colors/colormaps.html>)\n",
    "sb.heatmap(cm, annot = True, fmt = 'd',cmap = 'Blues')\n",
    "plt.xticks([0.5, 1.5], ['Negative', 'Positive'])\n",
    "plt.yticks([0.5, 1.5], ['True', 'False'])\n",
    "plt.xlabel('예측값')\n",
    "plt.ylabel('결과값')\n",
    "plt.show()"
   ]
  },
  {
   "cell_type": "markdown",
   "metadata": {},
   "source": [
    "### 평가지표"
   ]
  },
  {
   "cell_type": "code",
   "execution_count": 34,
   "metadata": {},
   "outputs": [
    {
     "data": {
      "image/png": "[encoded data removed]",
      "text/plain": [
       "<Figure size 1000x500 with 1 Axes>"
      ]
     },
     "metadata": {},
     "output_type": "display_data"
    }
   ],
   "source": [
    "ras = roc_auc_score(kdf['결과값'], kdf['예측치'])\n",
    "\n",
    "# 위양성율, 재현율, 임계값(사용안함)\n",
    "fpr, tpr, thresholds = roc_curve(kdf['결과값'], kdf['예측치'])\n",
    "\n",
    "plt.figure()\n",
    "sb.lineplot(x=fpr, y=tpr)\n",
    "sb.lineplot(x=[0,1], y=[0,1], color='red', linestyle=':', alpha=0.5)\n",
    "plt.title('AUC={:.4f}'.format(ras))\n",
    "plt.grid()\n",
    "plt.show()\n",
    "plt.close()"
   ]
  },
  {
   "cell_type": "code",
   "execution_count": 35,
   "metadata": {},
   "outputs": [
    {
     "name": "stdout",
     "output_type": "stream",
     "text": [
      "+--------------------------+----------+\n",
      "|                          |        0 |\n",
      "|--------------------------+----------|\n",
      "| 정확도(Accuracy)         | 0.707143 |\n",
      "| 정밀도(Precision)        | 0.736842 |\n",
      "| 재현율(Recall, TPR)      | 0.153846 |\n",
      "| 위양성율(Fallout, FPR)   | 0.026455 |\n",
      "| 특이성(Specificity, TNR) | 0.973545 |\n",
      "| RAS                      | 0.563696 |\n",
      "| f1_score                 | 0.254545 |\n",
      "+--------------------------+----------+\n"
     ]
    }
   ],
   "source": [
    "# 정확도\n",
    "acc = accuracy_score(kdf['결과값'], kdf['예측치'])\n",
    "\n",
    "# 정밀도\n",
    "pre = precision_score(kdf['결과값'], kdf['예측치'])\n",
    "\n",
    "# 재현율\n",
    "recall = recall_score(kdf['결과값'], kdf['예측치'])\n",
    "\n",
    "# F1 score\n",
    "f1 = f1_score(kdf['결과값'], kdf['예측치'])\n",
    "\n",
    "# 위양성율\n",
    "fallout = fp / (fp + tn)\n",
    "\n",
    "# 특이성\n",
    "spe = 1 - fallout\n",
    "\n",
    "result_df = DataFrame({'정확도(Accuracy)':[acc], '정밀도(Precision)':[pre], '재현율(Recall, TPR)':[recall], '위양성율(Fallout, FPR)': [fallout], '특이성(Specificity, TNR)':[spe], 'RAS': [ras], 'f1_score':[f1]})\n",
    "\n",
    "helper.prettyPrint(result_df.T)"
   ]
  },
  {
   "cell_type": "markdown",
   "metadata": {},
   "source": [
    "### 분류 보고서\n",
    "\n",
    "- `precision` : 정밀도 (분류기가 참으로 분류한 항목 중에서 실제 데이터가 참인 비율)\n",
    "- `recall` : 재현율 (실제 참 중에서 분류기가 참으로 분류한 비율)\n",
    "- `f1-score` : 2*(Recall * Precision) / (Recall + Precision)\n",
    "    - Precision과 Recall의 조화평균\n",
    "    - 주로 분류 클래스 간 데이터가 심각한 불균형을 이루는 경우에 사용\n",
    "    - 정확도의 경우, 클래스가 데이터 분류가 균일하지 못하면 머신의 성능을 제대로 나타내줄 수 없기 때문에 F1을 사용한다.\n",
    "- `support` : 전체 데이터 수\n",
    "\n",
    "분류 보고서 작성 시 특정 부분에서 적절하게 분류하지 못하는(학습률이 떨어지는) 경우 발생 시 해당 부분의 데이터를 보완"
   ]
  },
  {
   "cell_type": "code",
   "execution_count": 36,
   "metadata": {},
   "outputs": [
    {
     "name": "stdout",
     "output_type": "stream",
     "text": [
      "              precision    recall  f1-score   support\n",
      "\n",
      "           0       0.70      0.97      0.82       189\n",
      "           1       0.74      0.15      0.25        91\n",
      "\n",
      "    accuracy                           0.71       280\n",
      "   macro avg       0.72      0.56      0.54       280\n",
      "weighted avg       0.72      0.71      0.63       280\n",
      "\n"
     ]
    }
   ],
   "source": [
    "report = classification_report(kdf['결과값'], kdf['예측치'])\n",
    "print(report)"
   ]
  },
  {
   "cell_type": "code",
   "execution_count": null,
   "metadata": {},
   "outputs": [],
   "source": []
  }
 ],
 "metadata": {
  "kernelspec": {
   "display_name": "Python 3",
   "language": "python",
   "name": "python3"
  },
  "language_info": {
   "codemirror_mode": {
    "name": "ipython",
    "version": 3
   },
   "file_extension": ".py",
   "mimetype": "text/x-python",
   "name": "python",
   "nbconvert_exporter": "python",
   "pygments_lexer": "ipython3",
   "version": "3.9.13"
  },
  "orig_nbformat": 4
 },
 "nbformat": 4,
 "nbformat_minor": 2
}
