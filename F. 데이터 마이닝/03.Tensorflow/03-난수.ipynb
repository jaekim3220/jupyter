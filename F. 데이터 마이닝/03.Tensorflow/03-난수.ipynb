{
 "cells": [
  {
   "cell_type": "markdown",
   "metadata": {},
   "source": [
    "# 난수"
   ]
  },
  {
   "cell_type": "markdown",
   "metadata": {},
   "source": [
    "## #01. 작업준비"
   ]
  },
  {
   "cell_type": "markdown",
   "metadata": {},
   "source": [
    "### 패키지 참조"
   ]
  },
  {
   "cell_type": "code",
   "execution_count": 1,
   "metadata": {},
   "outputs": [],
   "source": [
    "import tensorflow as tf"
   ]
  },
  {
   "cell_type": "markdown",
   "metadata": {},
   "source": [
    "## #02. 균등 분포 난수\n",
    "\n",
    "일반적으로 각 이벤트의 결과값을 알 수 없는 경우 미래에 발생할 이벤트의 결과값 $x$가 각 예상되는 범위별로 균등한 확률로 일어날 것이라고 예상될 때 사용.\n",
    "\n",
    "### 1) 균등 분포 난수의 사용 예\n",
    "\n",
    "#### 주사위에 대한 확률\n",
    "\n",
    "- 200번을 던지고 201번째  주사위를 던진다고 했을 때 201번째 결과값은 앞의 1에서 200번까지 결과값에 영향을 받지 않는다.\n",
    "- 201번째 결과값이 1,2,3,4,5,6 각각의 결과값으로 나올 확률은 6분의 1이며 이는 앞의 1~200번째 결과값에 영향을 받아 줄어들거나 늘어나지 않는다는 것이다.\n",
    "- 이처럼 미래 결과값이 경험적으로 알 수 없을 상황에서 사용하는 것이 균등분포이다."
   ]
  },
  {
   "cell_type": "markdown",
   "metadata": {},
   "source": [
    "### 2) 균등 분포 난수 실험\n",
    "\n",
    "#### 스칼라 형태의 균등 분포 난수"
   ]
  },
  {
   "cell_type": "code",
   "execution_count": 8,
   "metadata": {},
   "outputs": [
    {
     "name": "stdout",
     "output_type": "stream",
     "text": [
      "44\n"
     ]
    }
   ],
   "source": [
    "# 난수 생성\n",
    "uni_rnd1 = tf.random.uniform(shape=[], minval=0, maxval=100, dtype=tf.int32)\n",
    "tf.print(uni_rnd1)"
   ]
  },
  {
   "cell_type": "markdown",
   "metadata": {},
   "source": [
    "#### 백터 형태의 균등 분포 난수 - 1차원"
   ]
  },
  {
   "cell_type": "code",
   "execution_count": 14,
   "metadata": {},
   "outputs": [
    {
     "name": "stdout",
     "output_type": "stream",
     "text": [
      "[14 15 94 3 92]\n"
     ]
    }
   ],
   "source": [
    "# 벡터 형태로 난수 생성\n",
    "uni_rnd2 = tf.random.uniform(shape=[5], minval=0, maxval=100, dtype=tf.int32)\n",
    "tf.print(uni_rnd2)"
   ]
  },
  {
   "cell_type": "markdown",
   "metadata": {},
   "source": [
    "#### 행렬 형태의 균등 분포 난수 - 2차원"
   ]
  },
  {
   "cell_type": "code",
   "execution_count": 15,
   "metadata": {},
   "outputs": [
    {
     "name": "stdout",
     "output_type": "stream",
     "text": [
      "[[63 66 99]\n",
      " [15 96 34]]\n"
     ]
    }
   ],
   "source": [
    "# 행렬 형태의 난수 생성\n",
    "uni_rnd3 = tf.random.uniform(shape=[2,3], minval=0, maxval=100, dtype=tf.int32)\n",
    "tf.print(uni_rnd3)"
   ]
  },
  {
   "cell_type": "markdown",
   "metadata": {},
   "source": [
    "#### 텐서 형태의 균등 분포 난수 - 3차원"
   ]
  },
  {
   "cell_type": "code",
   "execution_count": 16,
   "metadata": {},
   "outputs": [
    {
     "name": "stdout",
     "output_type": "stream",
     "text": [
      "[[[85 29 21 10]\n",
      "  [91 14 38 17]\n",
      "  [72 94 47 38]]\n",
      "\n",
      " [[44 75 44 13]\n",
      "  [8 13 51 20]\n",
      "  [70 91 47 43]]]\n"
     ]
    }
   ],
   "source": [
    "# 텐서 형태의 난수 생성\n",
    "uni_rnd4 = tf.random.uniform(shape=[2,3,4], minval=0, maxval=100, dtype=tf.int32)\n",
    "tf.print(uni_rnd4)"
   ]
  },
  {
   "cell_type": "markdown",
   "metadata": {},
   "source": [
    "### 3) 렌덤값을 갖는 행렬 곱 예시"
   ]
  },
  {
   "cell_type": "markdown",
   "metadata": {},
   "source": [
    "#### 랜덤값을 갖는 3행2열의 행렬을 변수 x로 정의"
   ]
  },
  {
   "cell_type": "code",
   "execution_count": 17,
   "metadata": {},
   "outputs": [
    {
     "name": "stdout",
     "output_type": "stream",
     "text": [
      "[[0.331782341 0.205891728]\n",
      " [0.267096281 0.420716882]\n",
      " [0.0198105574 0.825423479]]\n"
     ]
    }
   ],
   "source": [
    "# uniform([3, 2]) -> 3행 2열\n",
    "x = tf.Variable(tf.random.uniform([3, 2]))\n",
    "tf.print(x)"
   ]
  },
  {
   "cell_type": "markdown",
   "metadata": {},
   "source": [
    "#### 랜덤값을 갖는 2행1열의 행렬을 변수 y로 정의"
   ]
  },
  {
   "cell_type": "code",
   "execution_count": 18,
   "metadata": {},
   "outputs": [
    {
     "name": "stdout",
     "output_type": "stream",
     "text": [
      "[[0.856167555]\n",
      " [0.906526685]]\n"
     ]
    }
   ],
   "source": [
    "# uniform([2, 1]) -> 2행 1열\n",
    "y = tf.Variable(tf.random.uniform([2, 1]))\n",
    "tf.print(y)"
   ]
  },
  {
   "cell_type": "markdown",
   "metadata": {},
   "source": [
    "#### `행렬곱`에 대한 연산을 수행하는 노드 정의"
   ]
  },
  {
   "cell_type": "code",
   "execution_count": 19,
   "metadata": {},
   "outputs": [
    {
     "name": "stdout",
     "output_type": "stream",
     "text": [
      "[[0.470707625]\n",
      " [0.610070229]\n",
      " [0.765229583]]\n"
     ]
    }
   ],
   "source": [
    "# x-3행 2열, y-2행 1열\n",
    "expr = tf.matmul(x, y)\n",
    "tf.print(expr)"
   ]
  },
  {
   "cell_type": "markdown",
   "metadata": {},
   "source": [
    "## #03. 정규 분포 난수\n",
    "\n",
    "정규분포란 과거의 축적된 경험적 데이터를 이미 보유하고 있는 상태에서 이용하여 미래에 발생할 결과값 $x$의 각 예상되는 범위별로 발생될 확률을 어느 정도 추정할 수 있을 때 사용\n",
    "\n",
    "### 1) 정규 분포 난수의 사용 예\n",
    "\n",
    "#### 매장의 매출액 예측\n",
    "\n",
    "- 이전 3개월의 매출이 2천만원, 2천백만원, 2천2백원 발생한 경우 평균이나 범위에 대한 예측이 가능하다.\n",
    "- **`평균`에 대한 예측** → 이번달 매출은 과거 3개월의 매출평균인 2천백만원으로 예측.\n",
    "- **`범위`에 대한 예측** → 최소 2천만원 ~  최대 2천2백만원까지 매출이 발생할 수 있다는 예상이 가능함.\n",
    "\n",
    "#### 로또 추첨\n",
    "\n",
    "- 64개의 공 중에서 하나를 랜덤으로 추출하면, 두 번째 랜덤 범위는 첫 번째 추출된 공을 제외한 범위 안에서 생성된다.\n",
    "- 만약 로또 추첨시 하나의 공을 뽑아 번호를 확인하고 그 공을 다시 추첨 대상에 포함시켰다면 균등분포 난수가 된다."
   ]
  },
  {
   "cell_type": "markdown",
   "metadata": {},
   "source": [
    "### 2) 정규 분포 난수 실험\n",
    "\n",
    "`정규 분포 난수`를 생성할 때는 `평균(mean)과 표준편차(stddev)를 지정`해야 한다."
   ]
  },
  {
   "cell_type": "markdown",
   "metadata": {},
   "source": [
    "#### 스칼라 형태의 정규 분포 난수"
   ]
  },
  {
   "cell_type": "code",
   "execution_count": 21,
   "metadata": {},
   "outputs": [
    {
     "name": "stdout",
     "output_type": "stream",
     "text": [
      "-1.04369843\n"
     ]
    }
   ],
   "source": [
    "# 차원(랭크)가 0\n",
    "normal_rnd1 = tf.random.normal(shape=[], mean=0.0, stddev=1.0)\n",
    "tf.print(normal_rnd1)"
   ]
  },
  {
   "cell_type": "markdown",
   "metadata": {},
   "source": [
    "#### 백터 형태의 정규 분포 난수"
   ]
  },
  {
   "cell_type": "code",
   "execution_count": 22,
   "metadata": {},
   "outputs": [
    {
     "name": "stdout",
     "output_type": "stream",
     "text": [
      "[1.34755969 -0.2438346 -0.0720280707 0.2487562 0.0944584534]\n"
     ]
    }
   ],
   "source": [
    "# shape=[5] -> 5열\n",
    "uni_rnd2 = tf.random.normal(shape=[5], mean=0.0, stddev=1.0)\n",
    "tf.print(uni_rnd2)"
   ]
  },
  {
   "cell_type": "markdown",
   "metadata": {},
   "source": [
    "#### 행렬 형태의 정규 분포 난수"
   ]
  },
  {
   "cell_type": "code",
   "execution_count": 23,
   "metadata": {},
   "outputs": [
    {
     "name": "stdout",
     "output_type": "stream",
     "text": [
      "[[0.199062929 2.21989489 2.13130331]\n",
      " [1.6405834 0.00508371694 0.803399801]]\n"
     ]
    }
   ],
   "source": [
    "# shape=[2,3] -> 2행 3열\n",
    "normal_rnd3 = tf.random.normal(shape=[2,3], mean=0.0, stddev=1.0)\n",
    "tf.print(normal_rnd3)"
   ]
  },
  {
   "cell_type": "markdown",
   "metadata": {},
   "source": [
    "#### 텐서 형태의 정규 분포 난수"
   ]
  },
  {
   "cell_type": "code",
   "execution_count": 24,
   "metadata": {},
   "outputs": [
    {
     "name": "stdout",
     "output_type": "stream",
     "text": [
      "[[[-1.10132 -0.883835733 -0.66920197 0.252384126]\n",
      "  [-0.170888498 0.421493322 0.831888318 -0.795214474]\n",
      "  [0.151588142 -0.436711133 0.670097888 -0.319718748]]\n",
      "\n",
      " [[-0.47072807 -0.940027356 -2.19026566 -1.82446265]\n",
      "  [1.07938337 -0.815032125 -0.758381546 3.10527587]\n",
      "  [0.0803181753 -1.53447735 -0.0811417252 0.707211435]]]\n"
     ]
    }
   ],
   "source": [
    "# shape=[2,3,4] -> 2개의 3행 4열\n",
    "normal_rnd4 = tf.random.normal(shape=[2,3,4], mean=0.0, stddev=1.0)\n",
    "tf.print(normal_rnd4)"
   ]
  },
  {
   "cell_type": "code",
   "execution_count": null,
   "metadata": {},
   "outputs": [],
   "source": []
  }
 ],
 "metadata": {
  "kernelspec": {
   "display_name": "Python 3",
   "language": "python",
   "name": "python3"
  },
  "language_info": {
   "codemirror_mode": {
    "name": "ipython",
    "version": 3
   },
   "file_extension": ".py",
   "mimetype": "text/x-python",
   "name": "python",
   "nbconvert_exporter": "python",
   "pygments_lexer": "ipython3",
   "version": "3.9.13"
  },
  "orig_nbformat": 4
 },
 "nbformat": 4,
 "nbformat_minor": 2
}
