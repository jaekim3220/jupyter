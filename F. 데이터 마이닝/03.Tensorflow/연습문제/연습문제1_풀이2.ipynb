{
 "cells": [
  {
   "cell_type": "markdown",
   "metadata": {},
   "source": [
    "# 표준화 진행 후 훈련/검증 데이터 분할 결과\n",
    "\n",
    "## #01. 패키지"
   ]
  },
  {
   "cell_type": "code",
   "execution_count": null,
   "metadata": {},
   "outputs": [],
   "source": [
    "import sys\n",
    "sys.path.append('../../../')\n",
    "import helper\n",
    "\n",
    "from pandas import read_excel, DataFrame, merge\n",
    "from matplotlib import pyplot as plt\n",
    "import seaborn as sb\n",
    "import numpy as np\n",
    "\n",
    "from tensorflow.keras.models import Sequential\n",
    "from tensorflow.keras.layers import Dense\n",
    "from sklearn.model_selection import train_test_split\n",
    "from tensorflow.keras.callbacks import EarlyStopping\n",
    "from tensorflow.keras.callbacks import ReduceLROnPlateau\n",
    "from tensorflow.keras.callbacks import ModelCheckpoint\n",
    "\n",
    "from sklearn.preprocessing import StandardScaler\n",
    "from sklearn.preprocessing import PolynomialFeatures    #다항식 변환 모듈"
   ]
  },
  {
   "cell_type": "markdown",
   "metadata": {},
   "source": [
    "## #02. 데이터 준비"
   ]
  },
  {
   "cell_type": "code",
   "execution_count": null,
   "metadata": {},
   "outputs": [],
   "source": [
    "origin = read_excel(\"https://data.hossam.kr/F02/fish2.xlsx\")\n",
    "origin.head()"
   ]
  },
  {
   "cell_type": "markdown",
   "metadata": {},
   "source": [
    "## #05. 데이터셋 분할하기\n",
    "\n",
    "### 랜덤시드 고정"
   ]
  },
  {
   "cell_type": "code",
   "execution_count": null,
   "metadata": {},
   "outputs": [],
   "source": [
    "np.random.seed(777)"
   ]
  },
  {
   "cell_type": "markdown",
   "metadata": {},
   "source": [
    "### 훈련 데이터(독립변수)와 레이블(종속변수) 구분하기"
   ]
  },
  {
   "cell_type": "code",
   "execution_count": null,
   "metadata": {},
   "outputs": [],
   "source": [
    "origin.columns"
   ]
  },
  {
   "cell_type": "code",
   "execution_count": null,
   "metadata": {},
   "outputs": [],
   "source": [
    "x = origin[['길이','높이','두께']]\n",
    "y = origin[['무게']]\n",
    "# (행 수, 열 수)\n",
    "x.shape, y.shape"
   ]
  },
  {
   "cell_type": "markdown",
   "metadata": {},
   "source": [
    "### 데이터 표준화\n",
    "\n",
    "- 표준화를 거치면 numpy 배열 형태(1차원 데이터 배열) -> [0]로 열 길이 출력 가능\n",
    "- 표준화를 진행하지 않으면 DF 형태(2차원 형태) -> iloc[0]로 열 길이 출력 가능\n",
    "- type, shape, info 등을 사용해 객체 형태 및 정보를 확인 가능\n",
    "\n",
    ">- Series, numpy 객체는 1차원 데이터 배열. 다만, numpy는 다차원 배열에도 적용이 가능\n",
    ">- DF 형태는 Flatten 형태 불가 -> 2차원 형태"
   ]
  },
  {
   "cell_type": "code",
   "execution_count": null,
   "metadata": {},
   "outputs": [],
   "source": [
    "x_scaller = StandardScaler()\n",
    "x_scale = x_scaller.fit_transform(x)\n",
    "\n",
    "y_scaller = StandardScaler()\n",
    "y_scale = y_scaller.fit_transform(y)\n",
    "\n",
    "x_scale.shape, y_scale.shape"
   ]
  },
  {
   "cell_type": "code",
   "execution_count": null,
   "metadata": {},
   "outputs": [],
   "source": [
    "x_scale_df = DataFrame(x_scale, columns=['길이','높이','두께'])\n",
    "x_scale_df"
   ]
  },
  {
   "cell_type": "markdown",
   "metadata": {},
   "source": [
    "### 독립변수를 다항식으로 변환"
   ]
  },
  {
   "cell_type": "code",
   "execution_count": null,
   "metadata": {},
   "outputs": [],
   "source": [
    "poly = PolynomialFeatures(degree=2, include_bias=False)\n",
    "fit = poly.fit_transform(x_scale_df)\n",
    "x2 = DataFrame(fit, columns=poly.get_feature_names_out())\n",
    "x2.head()"
   ]
  },
  {
   "cell_type": "markdown",
   "metadata": {},
   "source": [
    "### 훈련/검증 데이터 분할"
   ]
  },
  {
   "cell_type": "code",
   "execution_count": null,
   "metadata": {},
   "outputs": [],
   "source": [
    "x_train, x_test, y_train, y_test = train_test_split(x2, y_scale, test_size=0.3, random_state=777)\n",
    "x_train.shape, x_test.shape, y_train.shape, y_test.shape"
   ]
  },
  {
   "cell_type": "markdown",
   "metadata": {},
   "source": [
    "## #06. 모델 개발\n",
    "\n",
    "### 모델 정의\n",
    "\n",
    "\n",
    "- 표준화를 거치면 numpy 배열 형태(1차원 데이터 배열) -> [0]로 열 길이 출력 가능\n",
    "- 표준화를 진행하지 않으면 DF 형태(2차원 형태) -> iloc[0]로 열 길이 출력 가능\n",
    "- type, shape, info 등을 사용해 객체 형태 및 정보를 확인 가능\n",
    "\n",
    ">- Series, numpy 객체는 1차원 데이터 배열. 다만, numpy는 다차원 배열에도 적용이 가능\n",
    ">- DF 형태는 Flatten 형태 불가 -> 2차원 형태"
   ]
  },
  {
   "cell_type": "code",
   "execution_count": null,
   "metadata": {},
   "outputs": [],
   "source": [
    "model = Sequential()\n",
    "\n",
    "# 1차원의 데이터를 입력으로 받고, 64개의 출력을 가지는 첫 번째 Dense 층\n",
    "model.add(Dense(64, activation = 'relu', input_shape = (len(x_train.iloc[0]), )))\n",
    "model.add(Dense(32, activation = 'relu'))\n",
    "\n",
    "# 하나의 값을 출력 정답의 범위가 정해지지 않기 때문에 활성화 함수는 linear\n",
    "model.add(Dense(1, activation = 'linear'))\n",
    "\n",
    "model.compile(optimizer = 'adam', loss = 'mse', metrics = ['mae'])\n",
    "model.summary()"
   ]
  },
  {
   "cell_type": "markdown",
   "metadata": {},
   "source": [
    "### 학습하기"
   ]
  },
  {
   "cell_type": "code",
   "execution_count": null,
   "metadata": {},
   "outputs": [],
   "source": [
    "result = model.fit(x_train, y_train, epochs=500, validation_data=(x_test, y_test), callbacks=[\n",
    "    EarlyStopping(monitor='val_loss', patience=10, verbose=1),\n",
    "    ReduceLROnPlateau(monitor= \"val_loss\", patience=3, factor = 0.5, min_lr=0.001, verbose=1)\n",
    "])"
   ]
  },
  {
   "cell_type": "markdown",
   "metadata": {},
   "source": [
    "## #07. 학습 결과 평가"
   ]
  },
  {
   "cell_type": "code",
   "execution_count": null,
   "metadata": {},
   "outputs": [],
   "source": [
    "# 학습결과 시각화\n",
    "result_df = DataFrame(result.history)\n",
    "result_df['epochs'] = result_df.index+1\n",
    "result_df.set_index('epochs', inplace=True)\n",
    "result_df"
   ]
  },
  {
   "cell_type": "code",
   "execution_count": null,
   "metadata": {},
   "outputs": [],
   "source": [
    "# ------------------------------\n",
    "# 그래프 초기화\n",
    "# ------------------------------\n",
    "plt.rcParams[\"font.family\"] = 'AppleGothic' if sys.platform == 'darwin' else 'Malgun Gothic'\n",
    "plt.rcParams[\"font.size\"] = 12\n",
    "plt.rcParams[\"figure.figsize\"] = (10, 5)\n",
    "plt.rcParams[\"axes.unicode_minus\"] = False\n",
    "# ------------------------------\n",
    "# 그래프를 그리기 위한 객체 생성\n",
    "# ------------------------------\n",
    "fig, (ax1, ax2) = plt.subplots(1, 2, figsize=(15, 5), dpi=150)\n",
    "# ------------------------------\n",
    "# 1) 훈련 및 검증 손실 그리기\n",
    "# ------------------------------\n",
    "sb.lineplot(x=result_df.index, y='loss', data=result_df, color='blue', label='훈련 손실률', ax=ax1)\n",
    "sb.lineplot(x=result_df.index, y='val_loss', data=result_df, color='orange', label='검증 손실률', ax=ax1)\n",
    "ax1.set_title('훈련 및 검증 손실률')\n",
    "ax1.set_xlabel('반복회차')\n",
    "ax1.set_ylabel('손실률')\n",
    "ax1.grid()\n",
    "ax1.legend()\n",
    "# ------------------------------\n",
    "# 2) 훈련 및 검증 절대오차 그리기\n",
    "# ------------------------------\n",
    "sb.lineplot(x=result_df.index, y='mae', data=result_df, color = 'blue', label = '훈련 절대오차', ax=ax2)\n",
    "sb.lineplot(x=result_df.index, y='val_mae', data=result_df, color = 'orange', label = '검증 절대오차', ax=ax2)\n",
    "ax2.set_title('훈련 및 검증 절대오차')\n",
    "ax2.set_xlabel('반복회차')\n",
    "ax2.set_ylabel('정확도')\n",
    "ax2.grid()\n",
    "ax2.legend()\n",
    "\n",
    "plt.show()\n",
    "plt.close()"
   ]
  },
  {
   "cell_type": "code",
   "execution_count": null,
   "metadata": {},
   "outputs": [],
   "source": [
    "evaluate1 = model.evaluate(x_train, y_train)\n",
    "print(\"최종 훈련 손실률: %f, 최종 훈련 절대오차: %f\" % (evaluate1[0], evaluate1[1]))\n",
    "\n",
    "evaluate2 = model.evaluate(x_test, y_test)\n",
    "print(\"최종 검증 손실률: %f, 최종 검증 절대오차: %f\" % (evaluate2[0], evaluate2[1]))"
   ]
  },
  {
   "cell_type": "markdown",
   "metadata": {},
   "source": [
    "## #08. 학습 결과 적용\n",
    "\n",
    "### 테스트 데이터에 대한 예측 결과 산정"
   ]
  },
  {
   "cell_type": "code",
   "execution_count": null,
   "metadata": {},
   "outputs": [],
   "source": [
    "train_pred = model.predict(x_train)\n",
    "test_pred = model.predict(x_test)"
   ]
  },
  {
   "cell_type": "markdown",
   "metadata": {},
   "source": [
    "### 결과 데이터 셋 구성"
   ]
  },
  {
   "cell_type": "code",
   "execution_count": null,
   "metadata": {},
   "outputs": [],
   "source": [
    "x2.columns"
   ]
  },
  {
   "cell_type": "code",
   "execution_count": null,
   "metadata": {},
   "outputs": [],
   "source": [
    "# 학습 데이터\n",
    "train_df = DataFrame(x_train, columns=x2.columns)\n",
    "train_df['무게(관측치)'] = y_train.flatten()\n",
    "train_df['무게(예측치)'] = train_pred.flatten()\n",
    "\n",
    "train_df['훈련오차'] = train_df['무게(관측치)']-train_df['무게(예측치)']\n",
    "\n",
    "train_df.head()"
   ]
  },
  {
   "cell_type": "code",
   "execution_count": null,
   "metadata": {},
   "outputs": [],
   "source": [
    "# 검증 데이터\n",
    "test_df = DataFrame(x_test, columns=x2.columns)\n",
    "test_df['무게(관측치)'] = y_test.flatten()\n",
    "test_df['무게(예측치)'] = test_pred.flatten()\n",
    "\n",
    "test_df['훈련오차'] = test_df['무게(관측치)']-test_df['무게(예측치)']\n",
    "\n",
    "test_df.head()"
   ]
  },
  {
   "cell_type": "markdown",
   "metadata": {},
   "source": [
    "### 실제 결과값과 머신러닝에 의한 예측값 비교"
   ]
  },
  {
   "cell_type": "code",
   "execution_count": null,
   "metadata": {},
   "outputs": [],
   "source": [
    "for key in ['길이','높이','두께']:\n",
    "    helper.regplot(train_df[key], train_df['무게(관측치)'], train_df['무게(예측치)'], \"훈련데이터\",\n",
    "                   test_df[key], test_df['무게(관측치)'], test_df['무게(예측치)'], \"검증데이터\",\n",
    "                   figsize=(15, 5))"
   ]
  },
  {
   "cell_type": "markdown",
   "metadata": {},
   "source": [
    "> 결론 : 표준화 진행 후 독립변수를 다항식으로 변환한 경우 성능면에서 개선"
   ]
  },
  {
   "cell_type": "code",
   "execution_count": null,
   "metadata": {},
   "outputs": [],
   "source": []
  }
 ],
 "metadata": {
  "kernelspec": {
   "display_name": "Python 3",
   "language": "python",
   "name": "python3"
  },
  "language_info": {
   "codemirror_mode": {
    "name": "ipython",
    "version": 3
   },
   "file_extension": ".py",
   "mimetype": "text/x-python",
   "name": "python",
   "nbconvert_exporter": "python",
   "pygments_lexer": "ipython3",
   "version": "3.9.13"
  },
  "orig_nbformat": 4
 },
 "nbformat": 4,
 "nbformat_minor": 2
}
