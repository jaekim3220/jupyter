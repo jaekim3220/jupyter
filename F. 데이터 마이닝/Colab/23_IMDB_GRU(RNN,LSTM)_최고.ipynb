{
  "cells": [
    {
      "cell_type": "markdown",
      "metadata": {
        "id": "aVf-hWMbw9u8"
      },
      "source": [
        "# IMDB GRU, (RNN, LSTM)\n",
        "\n",
        "RNN은 순서와 맥락을 고려하지는 않음\n",
        "-> 일치하는 단어가 얼마나 있는가를 확인\n",
        "\n",
        "## #01. 텍스트 분석 알고리즘\n",
        "\n",
        "### 1. 텍스트 분석을 위해 개선된 알고리즘의 종류\n",
        "\n",
        "#### GRU\n",
        "> 이게 최고임\n",
        "\n",
        "- 게이트 메커니즘이 적용된 RNN의 일종으로 LSTM에서 영감을 받았으며 더 간략한 구조를 갖는다.\n",
        "- 한국인 조경현 박사님이 제안한 방법\n",
        "\n",
        "#### RNN\n",
        "\n",
        "- Embedding층은 단순하게 데이터의 표현을 학습하여 데이터 사전을 구축하는 것\n",
        "- 하지만 유사한 의미의 단어를 비슷한 공간에 매핑할 수 있지만, 시퀀스 데이터의 중요한 특성인 순서와 맥락까지 고려한 것은 아니다.\n",
        "- 순환 신경망은 이 문제를 해결하기 위해 고안된 층\n",
        "- 완전연결층, 컨볼루션 신경망의 반대되는 개념.\n",
        "- 완전연결층과 컨볼루션 신경망은 피드 포워드 네트워크(feed-forward network)라고 표현\n",
        "- 피드 포워드 네트워크는 신경망이 가지는 모든 출력값이 마지막층인 출력층을 향한다.\n",
        "- 하지만 순환 신경망은 각 층의 결과값이 출력층을 향하면서도 동시에 현재 층의 다음 계산에 사용된다.\n",
        "\n",
        "#### LSTM\n",
        "\n",
        "- RNN의 그래디언트 손실문제를 보완한 방법\n",
        "- 정보를 여러 시점에 걸쳐 나르는 장치(‘Cell state’)가 추가되었다.\n",
        "- 이로 인해 그래디언트를 보존할 수 있어 그래디언트 손실 문제가 발생하지 않도록 도와준다.\n",
        "\n",
        "### 2. 텍스트 분석 알고리즘 적용하기\n",
        "\n",
        "전체 소스코드는 지금까지의 예제들과 동일하게 진행된다.\n",
        "\n",
        "```\n",
        "💡 패키지 준비 → 데이터셋 준비 → 데이터 전처리 → 탐색적 데이터 분석(문자열 토큰화, 데이터를 동일한 길이로 맞추기) → 데이터 셋 분할 → 모델 개발(정의+학습) → 학습 결과 평가 → 학습결과 적용\n",
        "```\n",
        "\n",
        "이 과정에서 학습 모델을 정의하는 부분에서 적용할 알고리즘만 변경하면 되기 때문에 여기서는 RNN을 먼저 적용해 본 후, 학습 모델을 LSTM과 GRU로 각각 변경하여 다시 학습을 수행해 보도록 한다.\n",
        "\n",
        "학습 시간이 매우 오래 걸리는 예제이므로 가급적 GPU가 탑재된 컴퓨터에서 실습하는 것이 좋다."
      ]
    },
    {
      "cell_type": "markdown",
      "metadata": {
        "id": "Xtjv8l7oxGx6"
      },
      "source": [
        "## #01. 패키지 준비"
      ]
    },
    {
      "cell_type": "code",
      "execution_count": null,
      "metadata": {
        "id": "B8wn-c3Av3Yb"
      },
      "outputs": [],
      "source": [
        "import sys\n",
        "import os\n",
        "sys.path.append(\"/content/drive/MyDrive/DLMLJUPYTER\")\n",
        "import helper_colab\n",
        "from pandas import DataFrame\n",
        "import seaborn as sb\n",
        "import numpy as np\n",
        "\n",
        "from tensorflow.keras.models import Sequential\n",
        "from tensorflow.keras.layers import Dense, Embedding, Flatten, GRU #SimpleRNN, LSTM\n",
        "from tensorflow.keras.preprocessing.sequence import pad_sequences\n",
        "from tensorflow.keras.callbacks import EarlyStopping, ReduceLROnPlateau\n",
        "from tensorflow.keras.preprocessing.text import Tokenizer\n",
        "from tensorflow.keras.datasets import imdb\n",
        "\n",
        "from sklearn.model_selection import train_test_split\n",
        "from sklearn.metrics import confusion_matrix"
      ]
    },
    {
      "cell_type": "code",
      "execution_count": null,
      "metadata": {
        "id": "CZG-OhsGxavG"
      },
      "outputs": [],
      "source": [
        "# from google.colab import drive\n",
        "# drive.mount('/content/drive')"
      ]
    },
    {
      "cell_type": "markdown",
      "metadata": {
        "id": "GwbWLfPDzBwu"
      },
      "source": [
        "## #02. 데이터 준비"
      ]
    },
    {
      "cell_type": "code",
      "execution_count": null,
      "metadata": {
        "colab": {
          "base_uri": "https://localhost:8080/"
        },
        "id": "xMJ5_7e9y-d9",
        "outputId": "4edbcd11-808d-4968-835f-eaebd96dc843"
      },
      "outputs": [
        {
          "output_type": "stream",
          "name": "stdout",
          "text": [
            "훈련 데이터 (25000,) 레이블 (25000,)\n",
            "훈련 데이터 (25000,) 레이블 (25000,)\n"
          ]
        }
      ],
      "source": [
        "# 가장 빈번하게 사용되는 단어의 개수 예제 데이터 다운로드\n",
        "num_words = 10000\n",
        "(x_train, y_train), (x_test, y_test) = imdb.load_data(num_words = num_words)\n",
        "print(f\"훈련 데이터 {x_train.shape} 레이블 {y_train.shape}\")\n",
        "print(f\"훈련 데이터 {x_test.shape} 레이블 {y_test.shape}\")"
      ]
    },
    {
      "cell_type": "markdown",
      "metadata": {
        "id": "aQQmWjkEzZXT"
      },
      "source": [
        "## #03. 데이터 전처리"
      ]
    },
    {
      "cell_type": "markdown",
      "metadata": {
        "id": "1fZx1QF-zaeN"
      },
      "source": [
        "### 1. 데이터를 동일한 길이로 맞추기 (padding)\n",
        "\n",
        "Embedding층을 사용하기 위해서는 시퀀스 데이터(여기서는 문장을 나타냄)의 길이가 전부 동일해야 한다.\n",
        "\n",
        "길이를 맞추기 위해 pad_sequences() 함수 사용\n",
        "\n",
        "- 데이터가 지정해준 길이보다 짧은 경우 0으로 채워 넣으며, 긴 경우는 잘라낸다.\n",
        "- 단어의 뒤에 패딩을 추가하고 싶다면, padding 인자를 post로 지정한다.\n",
        "\n",
        "> Embedding(임베딩)은 문장의 길이를 동일하게 맞추는 것\n",
        "\n",
        "padding에는 pre(앞에 0)와 post(뒤에 0)가 존재\n",
        "\n",
        "- pre-padding일 경우에는 앞단에 0이 채워져 마지막 단어로 제로 패딩이 입력으로 들어가는 일 없이 올바른 시퀀스 모델링이 진행\n",
        "- post-padding일 경우에는 뒷단에 0이 채워져 마지막 단어로 제로 패딩이 입력으로 사용"
      ]
    },
    {
      "cell_type": "code",
      "execution_count": null,
      "metadata": {
        "colab": {
          "base_uri": "https://localhost:8080/"
        },
        "id": "b_wMbxuvzXNS",
        "outputId": "fd952f19-7a8b-407c-edcf-bbfcfd4366e0"
      },
      "outputs": [
        {
          "output_type": "stream",
          "name": "stdout",
          "text": [
            "padding 이전 : 218 189\n",
            "padding 이후 : 500 500\n"
          ]
        }
      ],
      "source": [
        "# 최대 문장 길이\n",
        "max_len = 500\n",
        "\n",
        "print(\"padding 이전 :\", len(x_train[0]), len(x_train[1]))\n",
        "\n",
        "pad_x_train = pad_sequences(x_train, maxlen=max_len, padding='pre')\n",
        "pad_x_test = pad_sequences(x_test, maxlen=max_len, padding='pre')\n",
        "\n",
        "#  pre-padding으로 원래 단어의 앞에 '지정해준 단어의 길이 – 원래 단어의 길이' (500 –218)만큼 0이 추가된 것을 볼 수 있다.\n",
        "print('padding 이후 :', len(pad_x_train[0]), len(pad_x_train[1]))"
      ]
    },
    {
      "cell_type": "markdown",
      "metadata": {
        "id": "ZZ6QQQhS0Hsq"
      },
      "source": [
        "#### pre-padding 결과 확인"
      ]
    },
    {
      "cell_type": "code",
      "execution_count": null,
      "metadata": {
        "colab": {
          "base_uri": "https://localhost:8080/"
        },
        "id": "OEOV1BOUz5Xe",
        "outputId": "b1eaab01-a6d3-4636-d27c-a0f86d2a6abd"
      },
      "outputs": [
        {
          "output_type": "stream",
          "name": "stdout",
          "text": [
            "[   0    0    0    0    0    0    0    0    0    0    0    0    0    0\n",
            "    0    0    0    0    0    0    0    0    0    0    0    0    0    0\n",
            "    0    0    0    0    0    0    0    0    0    0    0    0    0    0\n",
            "    0    0    0    0    0    0    0    0    0    0    0    0    0    0\n",
            "    0    0    0    0    0    0    0    0    0    0    0    0    0    0\n",
            "    0    0    0    0    0    0    0    0    0    0    0    0    0    0\n",
            "    0    0    0    0    0    0    0    0    0    0    0    0    0    0\n",
            "    0    0    0    0    0    0    0    0    0    0    0    0    0    0\n",
            "    0    0    0    0    0    0    0    0    0    0    0    0    0    0\n",
            "    0    0    0    0    0    0    0    0    0    0    0    0    0    0\n",
            "    0    0    0    0    0    0    0    0    0    0    0    0    0    0\n",
            "    0    0    0    0    0    0    0    0    0    0    0    0    0    0\n",
            "    0    0    0    0    0    0    0    0    0    0    0    0    0    0\n",
            "    0    0    0    0    0    0    0    0    0    0    0    0    0    0\n",
            "    0    0    0    0    0    0    0    0    0    0    0    0    0    0\n",
            "    0    0    0    0    0    0    0    0    0    0    0    0    0    0\n",
            "    0    0    0    0    0    0    0    0    0    0    0    0    0    0\n",
            "    0    0    0    0    0    0    0    0    0    0    0    0    0    0\n",
            "    0    0    0    0    0    0    0    0    0    0    0    0    0    0\n",
            "    0    0    0    0    0    0    0    0    0    0    0    0    0    0\n",
            "    0    0    1   14   22   16   43  530  973 1622 1385   65  458 4468\n",
            "   66 3941    4  173   36  256    5   25  100   43  838  112   50  670\n",
            "    2    9   35  480  284    5  150    4  172  112  167    2  336  385\n",
            "   39    4  172 4536 1111   17  546   38   13  447    4  192   50   16\n",
            "    6  147 2025   19   14   22    4 1920 4613  469    4   22   71   87\n",
            "   12   16   43  530   38   76   15   13 1247    4   22   17  515   17\n",
            "   12   16  626   18    2    5   62  386   12    8  316    8  106    5\n",
            "    4 2223 5244   16  480   66 3785   33    4  130   12   16   38  619\n",
            "    5   25  124   51   36  135   48   25 1415   33    6   22   12  215\n",
            "   28   77   52    5   14  407   16   82    2    8    4  107  117 5952\n",
            "   15  256    4    2    7 3766    5  723   36   71   43  530  476   26\n",
            "  400  317   46    7    4    2 1029   13  104   88    4  381   15  297\n",
            "   98   32 2071   56   26  141    6  194 7486   18    4  226   22   21\n",
            "  134  476   26  480    5  144   30 5535   18   51   36   28  224   92\n",
            "   25  104    4  226   65   16   38 1334   88   12   16  283    5   16\n",
            " 4472  113  103   32   15   16 5345   19  178   32]\n"
          ]
        }
      ],
      "source": [
        "print(pad_x_train[0])"
      ]
    },
    {
      "cell_type": "code",
      "execution_count": null,
      "metadata": {
        "colab": {
          "base_uri": "https://localhost:8080/"
        },
        "id": "lhfY-9sX0E0c",
        "outputId": "4ada9083-b8ea-4c32-aea2-dca356329fdc"
      },
      "outputs": [
        {
          "output_type": "stream",
          "name": "stdout",
          "text": [
            "[   0    0    0    0    0    0    0    0    0    0    0    0    0    0\n",
            "    0    0    0    0    0    0    0    0    0    0    0    0    0    0\n",
            "    0    0    0    0    0    0    0    0    0    0    0    0    0    0\n",
            "    0    0    0    0    0    0    0    0    0    0    0    0    0    0\n",
            "    0    0    0    0    0    0    0    0    0    0    0    0    0    0\n",
            "    0    0    0    0    0    0    0    0    0    0    0    0    0    0\n",
            "    0    0    0    0    0    0    0    0    0    0    0    0    0    0\n",
            "    0    0    0    0    0    0    0    0    0    0    0    0    0    0\n",
            "    0    0    0    0    0    0    0    0    0    0    0    0    0    0\n",
            "    0    0    0    0    0    0    0    0    0    0    0    0    0    0\n",
            "    0    0    0    0    0    0    0    0    0    0    0    0    0    0\n",
            "    0    0    0    0    0    0    0    0    0    0    0    0    0    0\n",
            "    0    0    0    0    0    0    0    0    0    0    0    0    0    0\n",
            "    0    0    0    0    0    0    0    0    0    0    0    0    0    0\n",
            "    0    0    0    0    0    0    0    0    0    0    0    0    0    0\n",
            "    0    0    0    0    0    0    0    0    0    0    0    0    0    0\n",
            "    0    0    0    0    0    0    0    0    0    0    0    0    0    0\n",
            "    0    0    0    0    0    0    0    0    0    0    0    0    0    0\n",
            "    0    0    0    0    0    0    0    0    0    0    0    0    0    0\n",
            "    0    0    0    0    0    0    0    0    0    0    0    0    0    0\n",
            "    0    0    0    0    0    0    0    0    0    0    0    0    0    0\n",
            "    0    0    0    0    0    0    0    0    0    0    0    0    0    0\n",
            "    0    0    0    1  194 1153  194 8255   78  228    5    6 1463 4369\n",
            " 5012  134   26    4  715    8  118 1634   14  394   20   13  119  954\n",
            "  189  102    5  207  110 3103   21   14   69  188    8   30   23    7\n",
            "    4  249  126   93    4  114    9 2300 1523    5  647    4  116    9\n",
            "   35 8163    4  229    9  340 1322    4  118    9    4  130 4901   19\n",
            "    4 1002    5   89   29  952   46   37    4  455    9   45   43   38\n",
            " 1543 1905  398    4 1649   26 6853    5  163   11 3215    2    4 1153\n",
            "    9  194  775    7 8255    2  349 2637  148  605    2 8003   15  123\n",
            "  125   68    2 6853   15  349  165 4362   98    5    4  228    9   43\n",
            "    2 1157   15  299  120    5  120  174   11  220  175  136   50    9\n",
            " 4373  228 8255    5    2  656  245 2350    5    4 9837  131  152  491\n",
            "   18    2   32 7464 1212   14    9    6  371   78   22  625   64 1382\n",
            "    9    8  168  145   23    4 1690   15   16    4 1355    5   28    6\n",
            "   52  154  462   33   89   78  285   16  145   95]\n"
          ]
        }
      ],
      "source": [
        "print(pad_x_train[1])"
      ]
    },
    {
      "cell_type": "markdown",
      "metadata": {
        "id": "vk2y_Ozz0eUd"
      },
      "source": [
        "## #04. 탐색적 데이터 분석\n",
        "\n",
        "> 실전에서는 **탐색적 데이터분석** 과정에서 긍정/부정의 비율이 동일한지 확인 후 모델을 개발하고 학습을 진행. 이 과정을 건너뛰면 모델 생성, 학습이 제대로 되지 않음. -> 데이터 비율이 맞지 않기 때문임.\n",
        "\n",
        "여기서는 동일한 비율로 나눈 예제 데이터를 사용하기 때문에 생략."
      ]
    },
    {
      "cell_type": "markdown",
      "metadata": {
        "id": "pDuT5iKP0NOr"
      },
      "source": [
        "## #05. 데이터 셋 분할하기\n",
        "\n",
        "이미 데이터셋이 훈련데이터와 검증데이터로 분리되어 있기 때문에 별도의 분할 작업을 수행할 필요는 없다.\n",
        "\n",
        "> 실제로는 **탐색적 데이터분석** 과정에서 긍정/부정의 비율이 동일한지 확인 후 모델을 개발, 학습을 진행. 이 과정을 건너뛰면 모델 생성, 학습이 제대로 되지 않음."
      ]
    },
    {
      "cell_type": "markdown",
      "metadata": {
        "id": "KzCSlARy0kIj"
      },
      "source": [
        "## #06. 모델 개발"
      ]
    },
    {
      "cell_type": "markdown",
      "metadata": {
        "id": "owpJaXfF0ldu"
      },
      "source": [
        "### 모델 정의 (GRU)\n",
        "\n",
        "return_sequences 파라미터가 True로 지정되면 모든 학습 시점의 은닉 상태를 출력해 준다. False인 경우는 마지막 시점의 은닉 상태만 출력한다. (기본값=False)\n",
        "\n",
        "dropout은 지정된 비율만큼 학습을 건너뛰게 하는 파라미터. 이 파라미터를 사용하게 되면 과거 학습정보를 잃어버릴 확률이 높아지고 그에 따라 모델 성능이 나빠질 가능성이 있다.\n",
        "\n",
        ">dropout은 무작위로 건너뛰는 비율로 학습 속도는 향상되지만 과거 학습 정보를 잃어버릴 확률이 높아져 모델의 성능 저하가 발생할 수 있음.\n",
        "\n",
        "recurrent_dropout(순환드롭아웃)은 과거 학습정보를 잃어버리는 문제를 해결하기 위해 적용하는 옵션.\n",
        "\n",
        "- --------------------\n",
        "\n",
        "> Embedding층은 모델의 첫 번째 층으로만 사용할 수 있으며, 주로 순환 신경망과 연결하여 사용.\n",
        "\n",
        "- --------------------\n",
        "\n",
        " > filter가 클수록, kernel_size가 작을 수록 모델이 성능이 개선됨.\n",
        " 단, 학습 시간도 오래 걸림.\n",
        "\n",
        "> activation : 다중분류 = softmax, unit 10, 이진분류 = sigmoid, unit 1/0 - 주로 `relu`\n",
        "\n",
        "> loss : 다중분류 = categorical_crossentropy, 이진분류 = binary_crossentropy\n",
        "\n",
        "> Sequential : 모델을 하나 하나 차례로 집어 넣는다\n",
        "\n",
        "> Dense : 완전 연결 층\n",
        "\n",
        "> optimizer : 경사하강법 변화 버전(sgd, adam 등등)\n",
        "\n",
        "> metrics : 평가지표(학습 판단 기준) mse, mae, acc 등"
      ]
    },
    {
      "cell_type": "code",
      "execution_count": null,
      "metadata": {
        "colab": {
          "base_uri": "https://localhost:8080/"
        },
        "id": "pJFWFLoE0DBL",
        "outputId": "7702f9e1-071d-4cfe-be36-a9203fc27c49"
      },
      "outputs": [
        {
          "output_type": "stream",
          "name": "stdout",
          "text": [
            "Model: \"sequential_1\"\n",
            "_________________________________________________________________\n",
            " Layer (type)                Output Shape              Param #   \n",
            "=================================================================\n",
            " embedding_1 (Embedding)     (None, 500, 32)           320000    \n",
            "                                                                 \n",
            " gru_1 (GRU)                 (None, 32)                6336      \n",
            "                                                                 \n",
            " dense_1 (Dense)             (None, 1)                 33        \n",
            "                                                                 \n",
            "=================================================================\n",
            "Total params: 326369 (1.24 MB)\n",
            "Trainable params: 326369 (1.24 MB)\n",
            "Non-trainable params: 0 (0.00 Byte)\n",
            "_________________________________________________________________\n"
          ]
        }
      ],
      "source": [
        "model = Sequential()\n",
        "\n",
        "model.add(Embedding(input_dim = num_words, output_dim = 32, input_length = max_len))\n",
        "# 딱 한 층만 쌓아올림. -> 그래서 최고\n",
        "model.add(GRU(32))  #뉴런 32\n",
        "model.add(Dense(1, activation='sigmoid'))   #이진분류 = sigmoid\n",
        "\n",
        "# 결국은 긍정, 부정을 분류 하는 문제이므로 이진분류에 해당한다.\n",
        "model.compile(optimizer='adam',loss = 'binary_crossentropy', metrics = ['acc'])\n",
        "model.summary()"
      ]
    },
    {
      "cell_type": "markdown",
      "metadata": {
        "id": "sMctDHOh1YYq"
      },
      "source": [
        "### 학습하기\n",
        "\n",
        "- epochs는 많아도 크게 상관이 없음(단, 너무 크면 오래 걸리고 검증 오차가 증가)\n",
        "    - callback을 사용해 모델의 학습 방향, 저장 시점, 학습 정지 시점 등에 관한 상황을 모니터링\n",
        "    - EarlyStopping 콜백과 같이 patience 인자를 지정하여, 지정된 기간 동안 `평가지표에서 성능 향상이 일어나지 않으면 학습률을 조정하는 콜백`\n",
        "    - ReduceLROnPlateau EarlyStopping 콜백과 같이 patience 인자를 지정하여, 지정된 기간 동안 `평가지표에서 성능 향상이 일어나지 않으면 학습률을 조정하는 콜백`\n",
        "    - ModelCheckpoint 지정한 평가지표를 기준으로 가장 뛰어난 성능을 보여주는 모델을 저장 할 때 사용"
      ]
    },
    {
      "cell_type": "code",
      "execution_count": null,
      "metadata": {
        "colab": {
          "base_uri": "https://localhost:8080/"
        },
        "id": "xDz2Sffs1V1t",
        "outputId": "24e4bbc0-d1ce-4355-aa2b-8b1f0b948ebe"
      },
      "outputs": [
        {
          "output_type": "stream",
          "name": "stdout",
          "text": [
            "Epoch 1/500\n",
            "782/782 [==============================] - 224s 283ms/step - loss: 0.4441 - acc: 0.7863 - val_loss: 0.3260 - val_acc: 0.8652 - lr: 0.0010\n",
            "Epoch 2/500\n",
            "782/782 [==============================] - 226s 289ms/step - loss: 0.2554 - acc: 0.8999 - val_loss: 0.3036 - val_acc: 0.8734 - lr: 0.0010\n",
            "Epoch 3/500\n",
            "782/782 [==============================] - 227s 290ms/step - loss: 0.1908 - acc: 0.9287 - val_loss: 0.3207 - val_acc: 0.8702 - lr: 0.0010\n",
            "Epoch 4/500\n",
            "782/782 [==============================] - 225s 288ms/step - loss: 0.1430 - acc: 0.9482 - val_loss: 0.3587 - val_acc: 0.8692 - lr: 0.0010\n",
            "Epoch 5/500\n",
            "782/782 [==============================] - ETA: 0s - loss: 0.1018 - acc: 0.9651\n",
            "Epoch 5: ReduceLROnPlateau reducing learning rate to 0.0005000000237487257.\n",
            "782/782 [==============================] - 227s 290ms/step - loss: 0.1018 - acc: 0.9651 - val_loss: 0.3789 - val_acc: 0.8652 - lr: 0.0010\n",
            "Epoch 6/500\n",
            "782/782 [==============================] - 227s 291ms/step - loss: 0.0581 - acc: 0.9819 - val_loss: 0.4499 - val_acc: 0.8634 - lr: 5.0000e-04\n",
            "Epoch 7/500\n",
            "782/782 [==============================] - 227s 291ms/step - loss: 0.0416 - acc: 0.9881 - val_loss: 0.5384 - val_acc: 0.8665 - lr: 5.0000e-04\n",
            "Epoch 7: early stopping\n",
            "CPU times: user 37min 11s, sys: 45.1 s, total: 37min 56s\n",
            "Wall time: 26min 22s\n"
          ]
        }
      ],
      "source": [
        "%%time\n",
        "result = model.fit(pad_x_train, y_train, epochs=500, validation_data=(pad_x_test, y_test), callbacks = [\n",
        "    EarlyStopping(monitor = 'val_loss', patience=5, verbose = 1),\n",
        "    ReduceLROnPlateau(monitor= \"val_loss\", patience=3, factor = 0.5, min_lr=0.0001, verbose=1)\n",
        "])"
      ]
    },
    {
      "cell_type": "markdown",
      "source": [
        "## #05. 학습결과 평가"
      ],
      "metadata": {
        "id": "12Q2ZEZCau6E"
      }
    },
    {
      "cell_type": "code",
      "source": [
        "from matplotlib import pyplot as plt"
      ],
      "metadata": {
        "id": "L8X9_3CTa_TT"
      },
      "execution_count": null,
      "outputs": []
    },
    {
      "cell_type": "code",
      "execution_count": null,
      "metadata": {
        "id": "FKjKXjC_1fop",
        "colab": {
          "base_uri": "https://localhost:8080/",
          "height": 262
        },
        "outputId": "a396892e-6bd1-4cb3-ba03-298011cae7eb"
      },
      "outputs": [
        {
          "output_type": "display_data",
          "data": {
            "text/plain": [
              "<Figure size 2250x750 with 2 Axes>"
            ],
            "image/png": "[encoded data removed]"
          },
          "metadata": {}
        }
      ],
      "source": [
        "# helper_colab.tf_result_plot(result)\n",
        "\n",
        "result_df = DataFrame(result.history)\n",
        "result_df['epochs'] = result_df.index+1\n",
        "result_df.set_index('epochs', inplace=True)\n",
        "\n",
        "# 학습 결과 그래프의 컬럼 명\n",
        "column_names = result_df.columns\n",
        "\n",
        "# 학습데이터에 대한 필드이름\n",
        "train_column_name = [column_names[0], column_names[1]]\n",
        "\n",
        "# 검증데이터에 대한 필드이름\n",
        "test_column_name = [column_names[2], column_names[3]]\n",
        "\n",
        "# 학습 결과 그래프\n",
        "\n",
        "# # 그래프 객체 생성\n",
        "fig, ax = plt.subplots(1,2, figsize=(15, 5), dpi=150)\n",
        "\n",
        "# # 훈련 및 검증 데이터의 손실률, 절대오차 그래프 그리기\n",
        "for i, v in enumerate(ax):\n",
        "    sb.lineplot(x=result_df.index, y=train_column_name[i], data=result_df, color='blue', label=train_column_name[i], ax=v)\n",
        "    sb.lineplot(x=result_df.index, y=test_column_name[i], data=result_df, color='orange', label=test_column_name[i], ax=v)\n",
        "    v.set_title(train_column_name[i])\n",
        "    v.set_xlabel('ephocs')\n",
        "    v.set_ylabel(train_column_name[i])\n",
        "    v.grid()\n",
        "    v.legend()\n",
        "\n",
        "plt.show()\n",
        "plt.close()"
      ]
    },
    {
      "cell_type": "code",
      "source": [
        "evaluate1 = model.evaluate(pad_x_train, y_train)\n",
        "print(\"최종 훈련 손실률 : %f, 최종 훈련 정확도: %f\" % (evaluate1[0], evaluate1[1]))\n",
        "\n",
        "evaluate2 = model.evaluate(pad_x_test, y_test)\n",
        "print(\"최종 검증 손실률 : %f, 최종 검증 정확도: %f\" % (evaluate2[0], evaluate2[1]))"
      ],
      "metadata": {
        "id": "CcWayfhIawPW",
        "colab": {
          "base_uri": "https://localhost:8080/"
        },
        "outputId": "52b3ea09-d889-4633-ea9d-f5c0496f5acb"
      },
      "execution_count": null,
      "outputs": [
        {
          "output_type": "stream",
          "name": "stdout",
          "text": [
            "782/782 [==============================] - 34s 44ms/step - loss: 0.0236 - acc: 0.9948\n",
            "최종 훈련 손실률 : 0.023641, 최종 훈련 정확도: 0.994760\n",
            "782/782 [==============================] - 42s 54ms/step - loss: 0.5384 - acc: 0.8665\n",
            "최종 검증 손실률 : 0.538350, 최종 검증 정확도: 0.866520\n"
          ]
        }
      ]
    },
    {
      "cell_type": "markdown",
      "source": [
        "## #06. 학습 결과 적용"
      ],
      "metadata": {
        "id": "pdBcuHQ3IsEp"
      }
    },
    {
      "cell_type": "markdown",
      "source": [
        "### 검증 데이터에 대한 예측 결과 산정"
      ],
      "metadata": {
        "id": "L9qFY6L3ItrF"
      }
    },
    {
      "cell_type": "code",
      "source": [
        "result = model.predict(pad_x_train)\n",
        "data_count, case_count = result.shape\n",
        "print(\"%d개의 검증 데이터가 %d개의 경우의 수를 갖는다.\" % (data_count, case_count))\n",
        "result"
      ],
      "metadata": {
        "id": "ZVXBLRrCa_1T",
        "colab": {
          "base_uri": "https://localhost:8080/"
        },
        "outputId": "91ecfc35-6675-4f95-bc52-473080dd78bf"
      },
      "execution_count": null,
      "outputs": [
        {
          "output_type": "stream",
          "name": "stdout",
          "text": [
            "782/782 [==============================] - 46s 58ms/step\n",
            "25000개의 검증 데이터가 1개의 경우의 수를 갖는다.\n"
          ]
        },
        {
          "output_type": "execute_result",
          "data": {
            "text/plain": [
              "array([[9.99760926e-01],\n",
              "       [5.00445312e-04],\n",
              "       [1.11839356e-04],\n",
              "       ...,\n",
              "       [4.25703404e-03],\n",
              "       [9.99608099e-01],\n",
              "       [4.62369435e-02]], dtype=float32)"
            ]
          },
          "metadata": {},
          "execution_count": 29
        }
      ]
    },
    {
      "cell_type": "markdown",
      "source": [
        "### 예측 결과를 1차원 배열로 변환\n",
        "\n",
        "DataFrame화"
      ],
      "metadata": {
        "id": "B77M-T6cIwAM"
      }
    },
    {
      "cell_type": "code",
      "source": [
        "f_results = result.flatten()\n",
        "f_results"
      ],
      "metadata": {
        "id": "drCROoJJIwlW",
        "colab": {
          "base_uri": "https://localhost:8080/"
        },
        "outputId": "a7428522-ed60-4694-d61f-ff6b9a39c761"
      },
      "execution_count": null,
      "outputs": [
        {
          "output_type": "execute_result",
          "data": {
            "text/plain": [
              "array([9.99760926e-01, 5.00445312e-04, 1.11839356e-04, ...,\n",
              "       4.25703404e-03, 9.99608099e-01, 4.62369435e-02], dtype=float32)"
            ]
          },
          "metadata": {},
          "execution_count": 30
        }
      ]
    },
    {
      "cell_type": "markdown",
      "source": [
        "### 결과 데이터 프레임 구성"
      ],
      "metadata": {
        "id": "KNDA1WHTI04t"
      }
    },
    {
      "cell_type": "code",
      "source": [
        "kdf = DataFrame({\n",
        "    'train': y_train,\n",
        "    'pred' : np.round(f_results)\n",
        "})\n",
        "\n",
        "kdf['pred'] = kdf['pred'].astype('int')\n",
        "kdf"
      ],
      "metadata": {
        "id": "xzLCsAQkI1RW",
        "colab": {
          "base_uri": "https://localhost:8080/",
          "height": 423
        },
        "outputId": "c48af7ef-2fa0-489d-ee11-f24b9318014b"
      },
      "execution_count": null,
      "outputs": [
        {
          "output_type": "execute_result",
          "data": {
            "text/plain": [
              "       train  pred\n",
              "0          1     1\n",
              "1          0     0\n",
              "2          0     0\n",
              "3          1     1\n",
              "4          0     0\n",
              "...      ...   ...\n",
              "24995      1     1\n",
              "24996      0     0\n",
              "24997      0     0\n",
              "24998      1     1\n",
              "24999      0     0\n",
              "\n",
              "[25000 rows x 2 columns]"
            ],
            "text/html": [
              "\n",
              "  <div id=\"df-5c57657f-c232-4c7c-9279-e848afcecc23\" class=\"colab-df-container\">\n",
              "    <div>\n",
              "<style scoped>\n",
              "    .dataframe tbody tr th:only-of-type {\n",
              "        vertical-align: middle;\n",
              "    }\n",
              "\n",
              "    .dataframe tbody tr th {\n",
              "        vertical-align: top;\n",
              "    }\n",
              "\n",
              "    .dataframe thead th {\n",
              "        text-align: right;\n",
              "    }\n",
              "</style>\n",
              "<table border=\"1\" class=\"dataframe\">\n",
              "  <thead>\n",
              "    <tr style=\"text-align: right;\">\n",
              "      <th></th>\n",
              "      <th>train</th>\n",
              "      <th>pred</th>\n",
              "    </tr>\n",
              "  </thead>\n",
              "  <tbody>\n",
              "    <tr>\n",
              "      <th>0</th>\n",
              "      <td>1</td>\n",
              "      <td>1</td>\n",
              "    </tr>\n",
              "    <tr>\n",
              "      <th>1</th>\n",
              "      <td>0</td>\n",
              "      <td>0</td>\n",
              "    </tr>\n",
              "    <tr>\n",
              "      <th>2</th>\n",
              "      <td>0</td>\n",
              "      <td>0</td>\n",
              "    </tr>\n",
              "    <tr>\n",
              "      <th>3</th>\n",
              "      <td>1</td>\n",
              "      <td>1</td>\n",
              "    </tr>\n",
              "    <tr>\n",
              "      <th>4</th>\n",
              "      <td>0</td>\n",
              "      <td>0</td>\n",
              "    </tr>\n",
              "    <tr>\n",
              "      <th>...</th>\n",
              "      <td>...</td>\n",
              "      <td>...</td>\n",
              "    </tr>\n",
              "    <tr>\n",
              "      <th>24995</th>\n",
              "      <td>1</td>\n",
              "      <td>1</td>\n",
              "    </tr>\n",
              "    <tr>\n",
              "      <th>24996</th>\n",
              "      <td>0</td>\n",
              "      <td>0</td>\n",
              "    </tr>\n",
              "    <tr>\n",
              "      <th>24997</th>\n",
              "      <td>0</td>\n",
              "      <td>0</td>\n",
              "    </tr>\n",
              "    <tr>\n",
              "      <th>24998</th>\n",
              "      <td>1</td>\n",
              "      <td>1</td>\n",
              "    </tr>\n",
              "    <tr>\n",
              "      <th>24999</th>\n",
              "      <td>0</td>\n",
              "      <td>0</td>\n",
              "    </tr>\n",
              "  </tbody>\n",
              "</table>\n",
              "<p>25000 rows × 2 columns</p>\n",
              "</div>\n",
              "    <div class=\"colab-df-buttons\">\n",
              "\n",
              "  <div class=\"colab-df-container\">\n",
              "    <button class=\"colab-df-convert\" onclick=\"convertToInteractive('df-5c57657f-c232-4c7c-9279-e848afcecc23')\"\n",
              "            title=\"Convert this dataframe to an interactive table.\"\n",
              "            style=\"display:none;\">\n",
              "\n",
              "  <svg xmlns=\"http://www.w3.org/2000/svg\" height=\"24px\" viewBox=\"0 -960 960 960\">\n",
              "    <path d=\"M120-120v-720h720v720H120Zm60-500h600v-160H180v160Zm220 220h160v-160H400v160Zm0 220h160v-160H400v160ZM180-400h160v-160H180v160Zm440 0h160v-160H620v160ZM180-180h160v-160H180v160Zm440 0h160v-160H620v160Z\"/>\n",
              "  </svg>\n",
              "    </button>\n",
              "\n",
              "  <style>\n",
              "    .colab-df-container {\n",
              "      display:flex;\n",
              "      gap: 12px;\n",
              "    }\n",
              "\n",
              "    .colab-df-convert {\n",
              "      background-color: #E8F0FE;\n",
              "      border: none;\n",
              "      border-radius: 50%;\n",
              "      cursor: pointer;\n",
              "      display: none;\n",
              "      fill: #1967D2;\n",
              "      height: 32px;\n",
              "      padding: 0 0 0 0;\n",
              "      width: 32px;\n",
              "    }\n",
              "\n",
              "    .colab-df-convert:hover {\n",
              "      background-color: #E2EBFA;\n",
              "      box-shadow: 0px 1px 2px rgba(60, 64, 67, 0.3), 0px 1px 3px 1px rgba(60, 64, 67, 0.15);\n",
              "      fill: #174EA6;\n",
              "    }\n",
              "\n",
              "    .colab-df-buttons div {\n",
              "      margin-bottom: 4px;\n",
              "    }\n",
              "\n",
              "    [theme=dark] .colab-df-convert {\n",
              "      background-color: #3B4455;\n",
              "      fill: #D2E3FC;\n",
              "    }\n",
              "\n",
              "    [theme=dark] .colab-df-convert:hover {\n",
              "      background-color: #434B5C;\n",
              "      box-shadow: 0px 1px 3px 1px rgba(0, 0, 0, 0.15);\n",
              "      filter: drop-shadow(0px 1px 2px rgba(0, 0, 0, 0.3));\n",
              "      fill: #FFFFFF;\n",
              "    }\n",
              "  </style>\n",
              "\n",
              "    <script>\n",
              "      const buttonEl =\n",
              "        document.querySelector('#df-5c57657f-c232-4c7c-9279-e848afcecc23 button.colab-df-convert');\n",
              "      buttonEl.style.display =\n",
              "        google.colab.kernel.accessAllowed ? 'block' : 'none';\n",
              "\n",
              "      async function convertToInteractive(key) {\n",
              "        const element = document.querySelector('#df-5c57657f-c232-4c7c-9279-e848afcecc23');\n",
              "        const dataTable =\n",
              "          await google.colab.kernel.invokeFunction('convertToInteractive',\n",
              "                                                    [key], {});\n",
              "        if (!dataTable) return;\n",
              "\n",
              "        const docLinkHtml = 'Like what you see? Visit the ' +\n",
              "          '<a target=\"_blank\" href=https://colab.research.google.com/notebooks/data_table.ipynb>data table notebook</a>'\n",
              "          + ' to learn more about interactive tables.';\n",
              "        element.innerHTML = '';\n",
              "        dataTable['output_type'] = 'display_data';\n",
              "        await google.colab.output.renderOutput(dataTable, element);\n",
              "        const docLink = document.createElement('div');\n",
              "        docLink.innerHTML = docLinkHtml;\n",
              "        element.appendChild(docLink);\n",
              "      }\n",
              "    </script>\n",
              "  </div>\n",
              "\n",
              "\n",
              "<div id=\"df-4f34a521-8e9b-4bba-b49c-29642daecb43\">\n",
              "  <button class=\"colab-df-quickchart\" onclick=\"quickchart('df-4f34a521-8e9b-4bba-b49c-29642daecb43')\"\n",
              "            title=\"Suggest charts.\"\n",
              "            style=\"display:none;\">\n",
              "\n",
              "<svg xmlns=\"http://www.w3.org/2000/svg\" height=\"24px\"viewBox=\"0 0 24 24\"\n",
              "     width=\"24px\">\n",
              "    <g>\n",
              "        <path d=\"M19 3H5c-1.1 0-2 .9-2 2v14c0 1.1.9 2 2 2h14c1.1 0 2-.9 2-2V5c0-1.1-.9-2-2-2zM9 17H7v-7h2v7zm4 0h-2V7h2v10zm4 0h-2v-4h2v4z\"/>\n",
              "    </g>\n",
              "</svg>\n",
              "  </button>\n",
              "\n",
              "<style>\n",
              "  .colab-df-quickchart {\n",
              "      --bg-color: #E8F0FE;\n",
              "      --fill-color: #1967D2;\n",
              "      --hover-bg-color: #E2EBFA;\n",
              "      --hover-fill-color: #174EA6;\n",
              "      --disabled-fill-color: #AAA;\n",
              "      --disabled-bg-color: #DDD;\n",
              "  }\n",
              "\n",
              "  [theme=dark] .colab-df-quickchart {\n",
              "      --bg-color: #3B4455;\n",
              "      --fill-color: #D2E3FC;\n",
              "      --hover-bg-color: #434B5C;\n",
              "      --hover-fill-color: #FFFFFF;\n",
              "      --disabled-bg-color: #3B4455;\n",
              "      --disabled-fill-color: #666;\n",
              "  }\n",
              "\n",
              "  .colab-df-quickchart {\n",
              "    background-color: var(--bg-color);\n",
              "    border: none;\n",
              "    border-radius: 50%;\n",
              "    cursor: pointer;\n",
              "    display: none;\n",
              "    fill: var(--fill-color);\n",
              "    height: 32px;\n",
              "    padding: 0;\n",
              "    width: 32px;\n",
              "  }\n",
              "\n",
              "  .colab-df-quickchart:hover {\n",
              "    background-color: var(--hover-bg-color);\n",
              "    box-shadow: 0 1px 2px rgba(60, 64, 67, 0.3), 0 1px 3px 1px rgba(60, 64, 67, 0.15);\n",
              "    fill: var(--button-hover-fill-color);\n",
              "  }\n",
              "\n",
              "  .colab-df-quickchart-complete:disabled,\n",
              "  .colab-df-quickchart-complete:disabled:hover {\n",
              "    background-color: var(--disabled-bg-color);\n",
              "    fill: var(--disabled-fill-color);\n",
              "    box-shadow: none;\n",
              "  }\n",
              "\n",
              "  .colab-df-spinner {\n",
              "    border: 2px solid var(--fill-color);\n",
              "    border-color: transparent;\n",
              "    border-bottom-color: var(--fill-color);\n",
              "    animation:\n",
              "      spin 1s steps(1) infinite;\n",
              "  }\n",
              "\n",
              "  @keyframes spin {\n",
              "    0% {\n",
              "      border-color: transparent;\n",
              "      border-bottom-color: var(--fill-color);\n",
              "      border-left-color: var(--fill-color);\n",
              "    }\n",
              "    20% {\n",
              "      border-color: transparent;\n",
              "      border-left-color: var(--fill-color);\n",
              "      border-top-color: var(--fill-color);\n",
              "    }\n",
              "    30% {\n",
              "      border-color: transparent;\n",
              "      border-left-color: var(--fill-color);\n",
              "      border-top-color: var(--fill-color);\n",
              "      border-right-color: var(--fill-color);\n",
              "    }\n",
              "    40% {\n",
              "      border-color: transparent;\n",
              "      border-right-color: var(--fill-color);\n",
              "      border-top-color: var(--fill-color);\n",
              "    }\n",
              "    60% {\n",
              "      border-color: transparent;\n",
              "      border-right-color: var(--fill-color);\n",
              "    }\n",
              "    80% {\n",
              "      border-color: transparent;\n",
              "      border-right-color: var(--fill-color);\n",
              "      border-bottom-color: var(--fill-color);\n",
              "    }\n",
              "    90% {\n",
              "      border-color: transparent;\n",
              "      border-bottom-color: var(--fill-color);\n",
              "    }\n",
              "  }\n",
              "</style>\n",
              "\n",
              "  <script>\n",
              "    async function quickchart(key) {\n",
              "      const quickchartButtonEl =\n",
              "        document.querySelector('#' + key + ' button');\n",
              "      quickchartButtonEl.disabled = true;  // To prevent multiple clicks.\n",
              "      quickchartButtonEl.classList.add('colab-df-spinner');\n",
              "      try {\n",
              "        const charts = await google.colab.kernel.invokeFunction(\n",
              "            'suggestCharts', [key], {});\n",
              "      } catch (error) {\n",
              "        console.error('Error during call to suggestCharts:', error);\n",
              "      }\n",
              "      quickchartButtonEl.classList.remove('colab-df-spinner');\n",
              "      quickchartButtonEl.classList.add('colab-df-quickchart-complete');\n",
              "    }\n",
              "    (() => {\n",
              "      let quickchartButtonEl =\n",
              "        document.querySelector('#df-4f34a521-8e9b-4bba-b49c-29642daecb43 button');\n",
              "      quickchartButtonEl.style.display =\n",
              "        google.colab.kernel.accessAllowed ? 'block' : 'none';\n",
              "    })();\n",
              "  </script>\n",
              "</div>\n",
              "    </div>\n",
              "  </div>\n"
            ]
          },
          "metadata": {},
          "execution_count": 31
        }
      ]
    },
    {
      "cell_type": "markdown",
      "source": [
        "### 실제 결과값과 머신러닝에 의한 예측값 비교"
      ],
      "metadata": {
        "id": "iXM2UL12I3mt"
      }
    },
    {
      "cell_type": "code",
      "source": [
        "cm = confusion_matrix(kdf['train'], kdf['pred'])\n",
        "\n",
        "plt.figure(figsize=(7, 3))\n",
        "sb.heatmap(cm, annot = True, fmt = 'd',cmap = 'Blues')\n",
        "plt.title('GRU Result')\n",
        "plt.show()\n",
        "plt.close()"
      ],
      "metadata": {
        "id": "01G0qzF9I4F6",
        "colab": {
          "base_uri": "https://localhost:8080/",
          "height": 314
        },
        "outputId": "fc8010cb-beeb-495d-bcf0-fce2a8f143cf"
      },
      "execution_count": null,
      "outputs": [
        {
          "output_type": "display_data",
          "data": {
            "text/plain": [
              "<Figure size 700x300 with 2 Axes>"
            ],
            "image/png": "[encoded data removed]"
          },
          "metadata": {}
        }
      ]
    },
    {
      "cell_type": "code",
      "source": [],
      "metadata": {
        "id": "IdL0Bw3kRSzg"
      },
      "execution_count": null,
      "outputs": []
    }
  ],
  "metadata": {
    "accelerator": "GPU",
    "colab": {
      "provenance": [],
      "gpuType": "T4"
    },
    "kernelspec": {
      "display_name": "Python 3",
      "name": "python3"
    },
    "language_info": {
      "name": "python"
    }
  },
  "nbformat": 4,
  "nbformat_minor": 0
}