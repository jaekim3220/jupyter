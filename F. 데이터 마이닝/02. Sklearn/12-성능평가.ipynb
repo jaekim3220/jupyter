{
 "cells": [
  {
   "cell_type": "markdown",
   "metadata": {},
   "source": [
    "# 성능평가 방법\n",
    "\n",
    "iris 데이터셋에 대해 KNN과 나이브 베이즈를 통해 각각 분류 모델을 구현하고 두 모델의 HW적 성능을 비교"
   ]
  },
  {
   "cell_type": "markdown",
   "metadata": {},
   "source": [
    "## #01. 패키지"
   ]
  },
  {
   "cell_type": "code",
   "execution_count": 1,
   "metadata": {},
   "outputs": [],
   "source": [
    "# 경고 메시지 출력 방지\n",
    "import warnings\n",
    "warnings.filterwarnings(\"ignore\")\n",
    "\n",
    "import os\n",
    "import numpy as np\n",
    "from pandas import read_excel, DataFrame, pivot_table\n",
    "from matplotlib import pyplot as plt\n",
    "import seaborn as sb\n",
    "\n",
    "# 분류 알고리즘 관련 패키지\n",
    "from sklearn.neighbors import KNeighborsClassifier\n",
    "# 분류 결과 평가를 위한 패키지\n",
    "from sklearn.metrics import accuracy_score\n",
    "\n",
    "# 연속형 변수 분류에 사용\n",
    "from sklearn.naive_bayes import GaussianNB\n",
    "\n",
    "# GaussianNB는 연속형 변수, CategoricalNB는 범주형 변수, MultinomialNB는 다항분포형 변수에 사용"
   ]
  },
  {
   "cell_type": "markdown",
   "metadata": {},
   "source": [
    "## #02. 데이터"
   ]
  },
  {
   "cell_type": "code",
   "execution_count": 2,
   "metadata": {},
   "outputs": [
    {
     "data": {
      "text/html": [
       "<div>\n",
       "<style scoped>\n",
       "    .dataframe tbody tr th:only-of-type {\n",
       "        vertical-align: middle;\n",
       "    }\n",
       "\n",
       "    .dataframe tbody tr th {\n",
       "        vertical-align: top;\n",
       "    }\n",
       "\n",
       "    .dataframe thead th {\n",
       "        text-align: right;\n",
       "    }\n",
       "</style>\n",
       "<table border=\"1\" class=\"dataframe\">\n",
       "  <thead>\n",
       "    <tr style=\"text-align: right;\">\n",
       "      <th></th>\n",
       "      <th>Sepal.Length</th>\n",
       "      <th>Sepal.Width</th>\n",
       "      <th>Petal.Length</th>\n",
       "      <th>Petal.Width</th>\n",
       "      <th>Species</th>\n",
       "    </tr>\n",
       "  </thead>\n",
       "  <tbody>\n",
       "    <tr>\n",
       "      <th>0</th>\n",
       "      <td>5.1</td>\n",
       "      <td>3.5</td>\n",
       "      <td>1.4</td>\n",
       "      <td>0.2</td>\n",
       "      <td>setosa</td>\n",
       "    </tr>\n",
       "    <tr>\n",
       "      <th>1</th>\n",
       "      <td>4.9</td>\n",
       "      <td>3.0</td>\n",
       "      <td>1.4</td>\n",
       "      <td>0.2</td>\n",
       "      <td>setosa</td>\n",
       "    </tr>\n",
       "    <tr>\n",
       "      <th>2</th>\n",
       "      <td>4.7</td>\n",
       "      <td>3.2</td>\n",
       "      <td>1.3</td>\n",
       "      <td>0.2</td>\n",
       "      <td>setosa</td>\n",
       "    </tr>\n",
       "    <tr>\n",
       "      <th>3</th>\n",
       "      <td>4.6</td>\n",
       "      <td>3.1</td>\n",
       "      <td>1.5</td>\n",
       "      <td>0.2</td>\n",
       "      <td>setosa</td>\n",
       "    </tr>\n",
       "    <tr>\n",
       "      <th>4</th>\n",
       "      <td>5.0</td>\n",
       "      <td>3.6</td>\n",
       "      <td>1.4</td>\n",
       "      <td>0.2</td>\n",
       "      <td>setosa</td>\n",
       "    </tr>\n",
       "  </tbody>\n",
       "</table>\n",
       "</div>"
      ],
      "text/plain": [
       "   Sepal.Length  Sepal.Width  Petal.Length  Petal.Width Species\n",
       "0           5.1          3.5           1.4          0.2  setosa\n",
       "1           4.9          3.0           1.4          0.2  setosa\n",
       "2           4.7          3.2           1.3          0.2  setosa\n",
       "3           4.6          3.1           1.5          0.2  setosa\n",
       "4           5.0          3.6           1.4          0.2  setosa"
      ]
     },
     "execution_count": 2,
     "metadata": {},
     "output_type": "execute_result"
    }
   ],
   "source": [
    "origin = read_excel(\"https://data.hossam.kr/G02/iris.xlsx\")\n",
    "origin.head()"
   ]
  },
  {
   "cell_type": "markdown",
   "metadata": {},
   "source": [
    "## #03. `KNN 데이터 분류`"
   ]
  },
  {
   "cell_type": "markdown",
   "metadata": {},
   "source": [
    "### 독립변수(feature), 종속변수(label) 분리\n",
    "\n",
    "`%%timeit` 명령이 상단에 명시된 블록은 기본적으로 100회 실행.\n",
    "\n",
    "각 회차마다의 실행 시간에 대한 평균을 마지막에 출력.\n",
    "\n",
    "`-r회차 -n회차` 옵션을 추가하면 반복 회차를 직접 조절 가능\n",
    "- `-r` : 몇 번 loop 돌 것인지를 설정\n",
    "- `-n` : 각 loop당 몇 번 실행할 것인지를 설정"
   ]
  },
  {
   "cell_type": "code",
   "execution_count": 3,
   "metadata": {},
   "outputs": [
    {
     "data": {
      "text/plain": [
       "Index(['Sepal.Length', 'Sepal.Width', 'Petal.Length', 'Petal.Width',\n",
       "       'Species'],\n",
       "      dtype='object')"
      ]
     },
     "execution_count": 3,
     "metadata": {},
     "output_type": "execute_result"
    }
   ],
   "source": [
    "origin.columns"
   ]
  },
  {
   "cell_type": "code",
   "execution_count": 4,
   "metadata": {},
   "outputs": [
    {
     "data": {
      "text/plain": [
       "((150, 4), (150,))"
      ]
     },
     "execution_count": 4,
     "metadata": {},
     "output_type": "execute_result"
    }
   ],
   "source": [
    "x= origin.drop(\"Species\", axis=1)\n",
    "y = origin['Species']\n",
    "x.shape, y.shape"
   ]
  },
  {
   "cell_type": "markdown",
   "metadata": {},
   "source": [
    "### 1. 100회 반복 후 평균 실행 시간 측정"
   ]
  },
  {
   "cell_type": "code",
   "execution_count": 5,
   "metadata": {},
   "outputs": [
    {
     "name": "stdout",
     "output_type": "stream",
     "text": [
      "정확도 : 96.00%\n",
      "정확도 : 96.00%\n",
      "정확도 : 96.00%\n",
      "정확도 : 96.00%\n",
      "정확도 : 96.00%\n",
      "정확도 : 96.00%\n",
      "정확도 : 96.00%\n",
      "정확도 : 96.00%\n",
      "정확도 : 96.00%\n"
     ]
    },
    {
     "name": "stdout",
     "output_type": "stream",
     "text": [
      "정확도 : 96.00%\n",
      "정확도 : 96.00%\n",
      "정확도 : 96.00%\n",
      "정확도 : 96.00%\n",
      "정확도 : 96.00%\n",
      "정확도 : 96.00%\n",
      "정확도 : 96.00%\n",
      "정확도 : 96.00%\n",
      "정확도 : 96.00%\n",
      "정확도 : 96.00%\n",
      "정확도 : 96.00%\n",
      "정확도 : 96.00%\n",
      "정확도 : 96.00%\n",
      "정확도 : 96.00%\n",
      "정확도 : 96.00%\n",
      "정확도 : 96.00%\n",
      "정확도 : 96.00%\n",
      "정확도 : 96.00%\n",
      "정확도 : 96.00%\n",
      "정확도 : 96.00%\n",
      "정확도 : 96.00%\n",
      "정확도 : 96.00%\n",
      "정확도 : 96.00%\n",
      "정확도 : 96.00%\n",
      "정확도 : 96.00%\n",
      "정확도 : 96.00%\n",
      "정확도 : 96.00%\n",
      "정확도 : 96.00%\n",
      "정확도 : 96.00%\n",
      "정확도 : 96.00%\n",
      "정확도 : 96.00%\n",
      "정확도 : 96.00%\n",
      "정확도 : 96.00%\n",
      "정확도 : 96.00%\n",
      "정확도 : 96.00%\n",
      "정확도 : 96.00%\n",
      "정확도 : 96.00%\n",
      "정확도 : 96.00%\n",
      "정확도 : 96.00%\n",
      "정확도 : 96.00%\n",
      "정확도 : 96.00%\n",
      "정확도 : 96.00%\n",
      "정확도 : 96.00%\n",
      "정확도 : 96.00%\n",
      "정확도 : 96.00%\n",
      "정확도 : 96.00%\n",
      "정확도 : 96.00%\n",
      "정확도 : 96.00%\n",
      "정확도 : 96.00%\n",
      "정확도 : 96.00%\n",
      "정확도 : 96.00%\n",
      "정확도 : 96.00%\n",
      "정확도 : 96.00%\n",
      "정확도 : 96.00%\n",
      "정확도 : 96.00%\n",
      "정확도 : 96.00%\n",
      "정확도 : 96.00%\n",
      "정확도 : 96.00%\n",
      "정확도 : 96.00%\n",
      "정확도 : 96.00%\n",
      "정확도 : 96.00%\n",
      "정확도 : 96.00%\n",
      "정확도 : 96.00%\n",
      "정확도 : 96.00%\n",
      "정확도 : 96.00%\n",
      "정확도 : 96.00%\n",
      "정확도 : 96.00%\n",
      "정확도 : 96.00%\n",
      "정확도 : 96.00%\n",
      "정확도 : 96.00%\n",
      "정확도 : 96.00%\n",
      "정확도 : 96.00%\n",
      "16.7 ms ± 5.57 ms per loop (mean ± std. dev. of 7 runs, 10 loops each)\n"
     ]
    }
   ],
   "source": [
    "%%timeit\n",
    "\n",
    "knn = KNeighborsClassifier(n_neighbors=3)\n",
    "\n",
    "# 학습\n",
    "knn.fit(x, y)\n",
    "# 예측값(실제 서비스에 탑제될 모델)\n",
    "y_pred = knn.predict(x) \n",
    "# 정확도\n",
    "score = accuracy_score(y.values, y_pred)\n",
    "\n",
    "print(\"정확도 : %.2f%%\"%(score*100))"
   ]
  },
  {
   "cell_type": "markdown",
   "metadata": {},
   "source": [
    "### 2. 1회만 실행 수 시간 측정"
   ]
  },
  {
   "cell_type": "code",
   "execution_count": 6,
   "metadata": {},
   "outputs": [
    {
     "name": "stdout",
     "output_type": "stream",
     "text": [
      "정확도 : 96.00%\n",
      "18.7 ms ± 0 ns per loop (mean ± std. dev. of 1 run, 1 loop each)\n"
     ]
    }
   ],
   "source": [
    "%%timeit -r1 -n1\n",
    "\n",
    "knn = KNeighborsClassifier(n_neighbors=3)\n",
    "\n",
    "# 학습\n",
    "knn.fit(x, y)\n",
    "# 예측값(실제 서비스에 탑제될 모델)\n",
    "y_pred = knn.predict(x)\n",
    "# 정확도\n",
    "score = accuracy_score(y.values, y_pred)\n",
    "\n",
    "print(\"정확도 : %.2f%%\"%(score*100))"
   ]
  },
  {
   "cell_type": "markdown",
   "metadata": {},
   "source": [
    "## #04. 나이브 베이즈 모델\n",
    "\n",
    "다른 모델보다 수학적인 모델, 언어 모델에 성능이 좋음\n",
    "\n",
    "클래스가 주어졌을 때 독립변수의 조건부 확률에 조건부 독립 가정을 추가한 분류기\n",
    "\n",
    "각 사건이 독립이라는 가정\n",
    "\n",
    "ex) 스팸메일 분류기\n",
    "\n",
    "공식 참고 \n",
    "> https://scikit-learn.org/stable/modules/naive_bayes.html "
   ]
  },
  {
   "cell_type": "markdown",
   "metadata": {},
   "source": [
    "### 1회만 실행 후 시간 측정"
   ]
  },
  {
   "cell_type": "code",
   "execution_count": 7,
   "metadata": {},
   "outputs": [
    {
     "name": "stdout",
     "output_type": "stream",
     "text": [
      "정확도 : 96.00%\n",
      "11.2 ms ± 0 ns per loop (mean ± std. dev. of 1 run, 1 loop each)\n"
     ]
    }
   ],
   "source": [
    "%%timeit -r1 -n1\n",
    "\n",
    "nb = GaussianNB()\n",
    "# 학습\n",
    "nb.fit(x,y)\n",
    "# 예측값(실제 서비스에 탑제될 모델)\n",
    "y_pred=nb.predict(x)\n",
    "# 정확도\n",
    "score = accuracy_score(y.values, y_pred)\n",
    "\n",
    "print(\"정확도 : %.2f%%\"%(score*100))"
   ]
  },
  {
   "cell_type": "markdown",
   "metadata": {},
   "source": [
    "## #05. 학습과 예측에 대한 실행 시간 비교"
   ]
  },
  {
   "cell_type": "markdown",
   "metadata": {},
   "source": [
    "### 1. 학습 시간 비교"
   ]
  },
  {
   "cell_type": "code",
   "execution_count": 8,
   "metadata": {},
   "outputs": [
    {
     "name": "stdout",
     "output_type": "stream",
     "text": [
      "3.01 ms ± 0 ns per loop (mean ± std. dev. of 1 run, 1 loop each)\n",
      "5.08 ms ± 0 ns per loop (mean ± std. dev. of 1 run, 1 loop each)\n"
     ]
    }
   ],
   "source": [
    "nb = GaussianNB()\n",
    "%timeit -r1 -n1 nb.fit(x,y)\n",
    "\n",
    "knn = KNeighborsClassifier(n_neighbors=3)\n",
    "%timeit -r1 -n1 knn.fit(x,y)"
   ]
  },
  {
   "cell_type": "markdown",
   "metadata": {},
   "source": [
    "> knn이 학습에 걸리는 시간은 짧음."
   ]
  },
  {
   "cell_type": "markdown",
   "metadata": {},
   "source": [
    "### 2. 예측 시간 비교"
   ]
  },
  {
   "cell_type": "code",
   "execution_count": 9,
   "metadata": {},
   "outputs": [
    {
     "name": "stdout",
     "output_type": "stream",
     "text": [
      "4.62 ms ± 0 ns per loop (mean ± std. dev. of 1 run, 1 loop each)\n",
      "16.8 ms ± 0 ns per loop (mean ± std. dev. of 1 run, 1 loop each)\n"
     ]
    }
   ],
   "source": [
    "nb = GaussianNB()\n",
    "nb.fit(x,y)\n",
    "%timeit -r1 -n1 nb.predict(x)\n",
    "\n",
    "knn = KNeighborsClassifier(n_neighbors=3)\n",
    "knn.fit(x,y)\n",
    "%timeit -r1 -n1 knn.predict(x)"
   ]
  },
  {
   "cell_type": "markdown",
   "metadata": {},
   "source": [
    "## #06. 사용되는 메모리 계산\n",
    "\n",
    "`memory_profiler` 패키지 설치 필요\n",
    "\n",
    "코드 블록 상단에 `%%memit` 명령을 명시하면 해당 블록이 실행되면서 소비되는 메모리 용량을 선정"
   ]
  },
  {
   "cell_type": "markdown",
   "metadata": {},
   "source": [
    "### 외부 라이브러리 로딩"
   ]
  },
  {
   "cell_type": "code",
   "execution_count": 14,
   "metadata": {},
   "outputs": [],
   "source": [
    "%load_ext memory_profiler"
   ]
  },
  {
   "cell_type": "code",
   "execution_count": 15,
   "metadata": {},
   "outputs": [
    {
     "name": "stdout",
     "output_type": "stream",
     "text": [
      "정확도 : 96.00%\n",
      "peak memory: 196.33 MiB, increment: 0.05 MiB\n"
     ]
    }
   ],
   "source": [
    "%%memit\n",
    "\n",
    "nb = GaussianNB()\n",
    "# 학습\n",
    "nb.fit(x,y)\n",
    "# 예측값(실제 서비스에 탑제될 모델)\n",
    "y_pred=nb.predict(x)\n",
    "# 정확도\n",
    "score = accuracy_score(y.values, y_pred)\n",
    "\n",
    "print(\"정확도 : %.2f%%\"%(score*100))"
   ]
  },
  {
   "cell_type": "code",
   "execution_count": 17,
   "metadata": {},
   "outputs": [
    {
     "name": "stdout",
     "output_type": "stream",
     "text": [
      "정확도 : 96.00%\n",
      "peak memory: 196.34 MiB, increment: 0.00 MiB\n"
     ]
    }
   ],
   "source": [
    "%%memit\n",
    "\n",
    "knn = KNeighborsClassifier(n_neighbors=3)\n",
    "\n",
    "# 학습\n",
    "knn.fit(x, y)\n",
    "# 예측값(실제 서비스에 탑제될 모델)\n",
    "y_pred = knn.predict(x)\n",
    "# 정확도\n",
    "score = accuracy_score(y.values, y_pred)\n",
    "\n",
    "print(\"정확도 : %.2f%%\"%(score*100))"
   ]
  },
  {
   "cell_type": "code",
   "execution_count": null,
   "metadata": {},
   "outputs": [],
   "source": []
  }
 ],
 "metadata": {
  "kernelspec": {
   "display_name": "Python 3",
   "language": "python",
   "name": "python3"
  },
  "language_info": {
   "codemirror_mode": {
    "name": "ipython",
    "version": 3
   },
   "file_extension": ".py",
   "mimetype": "text/x-python",
   "name": "python",
   "nbconvert_exporter": "python",
   "pygments_lexer": "ipython3",
   "version": "3.9.13"
  }
 },
 "nbformat": 4,
 "nbformat_minor": 2
}
