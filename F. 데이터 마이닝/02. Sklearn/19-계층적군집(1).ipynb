{
 "cells": [
  {
   "cell_type": "markdown",
   "metadata": {},
   "source": [
    "# 계층적 군집 (1)\n",
    "\n",
    "## Hierarchical Clustering\n",
    "\n",
    "계층적 군집 분석은 `데이터와 데이터`, `군집과 데이터`, `군집과 군집` 간의 **거리**에 대한 유사도로 군집을 형성\n",
    "\n",
    "## 동작하는 방식\n",
    "\n",
    "두 점 사이를 가까운 것끼리 합침. 이 과정을 반복하여 전체가 하나의 클러스터에 속할 때까지 반복\n",
    "\n",
    "> 이 과정에 대한 시각화 결과물이 덴드로그램 형태로 나타남\n",
    "\n",
    "어떻게 두 점 사이의  거리를 결정할지에 대한 측정 방식이 필요함\n",
    "\n",
    "> 유클리디안 거리 측정(직선거리), 맨하탄 거리 측정 방식(블록거리)\n",
    "\n",
    "## 군집간의 거리를 구하는 방법\n",
    "\n",
    "### 1. Min(Single Link)\n",
    "\n",
    "군집과 군집의 거리를 구할 때 가장 최소 거리인 것을 유사도로 측정하는 방식\n",
    "\n",
    "![h1](res/h1.png)\n",
    "\n",
    "### 2. Max(Complete Link)\n",
    "\n",
    "군집과 군집의 거리를 구할 때 가장 최대 거리인 것을 유사도로 측정하는 방식\n",
    "\n",
    "![h2](res/h2.png)\n",
    "\n",
    "### 3. Average Link\n",
    "\n",
    "군집과 군집의 거리를 구할 때 거리의 평균을 구해 유사도로 측정하는 방식\n",
    "\n",
    "![h3](res/h3.png)\n",
    "\n",
    "### 4. Centroids\n",
    "\n",
    "군집과 군집의 거리를 구할 때 데이터의 중심점 거리를 유사도로 측정하는 방식\n",
    "\n",
    "![h4](res/h4.png)\n",
    "\n",
    "### 5. Ward's method\n",
    "\n",
    "두 개의 군집이 병합되었을 때 증가하는 변동성의 양으로 유사도를 측정하는 방식\n",
    "\n",
    "#### 변동성\n",
    "\n",
    "두 군집의 중앙값과 두 군집에 있는 모든 데이터와의 거리의 합에서 군집간에 형성되는 거리를 뺀 값\n",
    "\n",
    "![h5](res/h5.png)\n",
    "\n",
    "세부 군집 알고리즘으로 Agglomerative Hierarchical Clustering(sklearn을 제공), Divisive Hierarchical Clustering 이 존재\n",
    "\n",
    "> 참고1 : https://blog.naver.com/breezehome50/222374389827\n",
    "\n",
    "> 참고2 : https://blog.naver.com/jaehong7719/221941329165\n",
    "\n",
    "> 참고3 : https://datascienceschool.net/03%20machine%20learning/16.04%20%EA%B3%84%EC%B8%B5%EC%A0%81%20%EA%B5%B0%EC%A7%91%ED%99%94.html"
   ]
  },
  {
   "cell_type": "markdown",
   "metadata": {},
   "source": [
    "## #01. 패키지\n",
    "\n",
    "모델 : scipy.cluster.AgglomerativeClustering\n",
    "\n",
    "거리계산 : scipy.cluster.hierarchy.linkage\n",
    "\n",
    "시각화 : scipy.cluster.hierarchy.dendrogram\n",
    "\n",
    "평가 : sklearn.metrics.silhouette_score , silhouette_samples, yellowbrick.cluster.KElbowVisualizer"
   ]
  },
  {
   "cell_type": "code",
   "execution_count": 10,
   "metadata": {},
   "outputs": [],
   "source": [
    "import seaborn as sb\n",
    "import numpy as np\n",
    "from matplotlib import pyplot as plt\n",
    "from scipy.cluster.hierarchy import dendrogram, linkage\n",
    "\n",
    "# sklearn은 AgglomerativeClustering() 함수를 제공\n",
    "from sklearn.cluster import AgglomerativeClustering"
   ]
  },
  {
   "cell_type": "markdown",
   "metadata": {},
   "source": [
    "## #02. 실습 데이터"
   ]
  },
  {
   "cell_type": "code",
   "execution_count": 4,
   "metadata": {},
   "outputs": [
    {
     "data": {
      "text/plain": [
       "array([[ 5,  3],\n",
       "       [10, 15],\n",
       "       [15, 12],\n",
       "       [24, 10],\n",
       "       [30, 30],\n",
       "       [85, 70],\n",
       "       [71, 80],\n",
       "       [60, 78],\n",
       "       [70, 55],\n",
       "       [80, 91]])"
      ]
     },
     "execution_count": 4,
     "metadata": {},
     "output_type": "execute_result"
    }
   ],
   "source": [
    "# 임의의 numpy 데이터\n",
    "X = np.array([[5,3],\n",
    "    [10,15],\n",
    "    [15,12],\n",
    "    [24,10],\n",
    "    [30,30],\n",
    "    [85,70],\n",
    "    [71,80],\n",
    "    [60,78],\n",
    "    [70,55],\n",
    "    [80,91],])\n",
    "X"
   ]
  },
  {
   "cell_type": "code",
   "execution_count": 6,
   "metadata": {},
   "outputs": [
    {
     "data": {
      "image/png": "[encoded data removed]",
      "text/plain": [
       "<Figure size 1000x600 with 1 Axes>"
      ]
     },
     "metadata": {},
     "output_type": "display_data"
    }
   ],
   "source": [
    "plt.figure(figsize=(10,6))\n",
    "sb.scatterplot(x=X[:,0], y=X[:,1])\n",
    "plt.grid()\n",
    "plt.show()\n",
    "plt.close()"
   ]
  },
  {
   "cell_type": "markdown",
   "metadata": {},
   "source": [
    "## #03. 계층 군집 수행"
   ]
  },
  {
   "cell_type": "markdown",
   "metadata": {},
   "source": [
    "### method 파라미터\n",
    "\n",
    "군집간의 거리를 구하는 방법\n",
    "\n",
    "`single`(기본 값), `complete`, `average`, `weighted`, `centroid` 중 선택\n",
    "\n",
    "> 참고 : https://docs.scipy.org/doc/scipy/reference/generated/scipy.cluster.hierarchy.linkage.html\n",
    "\n",
    "### metric 파라미터\n",
    "\n",
    "> scipy.spatial.distance.pdist 클래스의 인스턴스\n",
    "\n",
    "- `euclidean(직선)` : metric의 기본이며 점 사이의 `직선 거리 측정`\n",
    "- `cityblock` : 점 사이의 `맨하탄 거리 측정(블록 형태)`\n",
    "- `seuclidean` : 표준화된 유클리디안\n",
    "- `sqeuclidean` : 제곱된 유클리디안\n",
    "- `cosine` : 코사인 거리 계산\n",
    "- 콜백함수 지정 가능\n",
    "\n",
    "> 참고 : https://docs.scipy.org/doc/scipy/reference/generated/scipy.spatial.distance.pdist.html#scipy-spatial-distance-pdist"
   ]
  },
  {
   "cell_type": "markdown",
   "metadata": {},
   "source": [
    "- linkage : 거리 측정 방법 지정\n",
    "- 기본 값 : ward\n",
    "- 그 외 값 :  ‘ward’, ‘complete’, ‘average’, ‘single’"
   ]
  },
  {
   "cell_type": "code",
   "execution_count": 7,
   "metadata": {},
   "outputs": [
    {
     "data": {
      "text/plain": [
       "array([[ 1.        ,  2.        ,  5.83095189,  2.        ],\n",
       "       [ 3.        , 10.        ,  9.21954446,  3.        ],\n",
       "       [ 6.        ,  7.        , 11.18033989,  2.        ],\n",
       "       [ 0.        , 11.        , 13.        ,  4.        ],\n",
       "       [ 9.        , 12.        , 14.2126704 ,  3.        ],\n",
       "       [ 5.        , 14.        , 17.20465053,  4.        ],\n",
       "       [ 4.        , 13.        , 20.88061302,  5.        ],\n",
       "       [ 8.        , 15.        , 21.21320344,  5.        ],\n",
       "       [16.        , 17.        , 47.16990566, 10.        ]])"
      ]
     },
     "execution_count": 7,
     "metadata": {},
     "output_type": "execute_result"
    }
   ],
   "source": [
    "lnk = linkage(X, method='single', metric=\"euclidean\")\n",
    "lnk"
   ]
  },
  {
   "cell_type": "markdown",
   "metadata": {},
   "source": [
    "### 군집 결과 시각화"
   ]
  },
  {
   "cell_type": "code",
   "execution_count": 9,
   "metadata": {},
   "outputs": [
    {
     "data": {
      "image/png": "[encoded data removed]",
      "text/plain": [
       "<Figure size 1000x600 with 1 Axes>"
      ]
     },
     "metadata": {},
     "output_type": "display_data"
    }
   ],
   "source": [
    "plt.figure(figsize=(10,6))\n",
    "# scipy 패키지에서 제공\n",
    "dendrogram(lnk,\n",
    "           orientation='top',   #방향 : top(기본값), bottom, left, right\n",
    "           labels=range(1,11), #라벨 인덱스\n",
    "\n",
    "           # count_sort : 각 노드 n에 대해 두 하위 링크가 표시되는 순서\n",
    "           # False : 아무것도 안함(기본값)\n",
    "           # ascending : 클러스터 원본 개체수가 가장 적은 하위 객체가 먼저 출력\n",
    "           # descending : 클러스터 원본 개체수가 가장 많은 하위 객체가 먼저 출력\n",
    "           count_sort=\"ascending\",\n",
    "\n",
    "           # distance_sort : 각 노드 n에 대해 두 하위 링크가 표시되는 순서\n",
    "           # False : 아무것도 안함(기본값)\n",
    "           # ascending : 직계 자손의 사이의 거리가 최소인 하위 객체가 먼저 출력\n",
    "           # descending : 직계 자손의 사이의 거리가 최대인 하위 객체가 먼저 출력\n",
    "           distance_sort=\"ascending\",\n",
    "           show_leaf_counts=True, #True : 맨 아래 노드에 속한 개체 수 표시(k>1 경우만)\n",
    "           )\n",
    "\n",
    "# plt.grid()\n",
    "plt.show()\n",
    "plt.close()"
   ]
  },
  {
   "cell_type": "markdown",
   "metadata": {},
   "source": [
    "> 여기까지는 scipy 과정\n",
    "\n",
    "> 결과값이 나오지 않으므로 분석해야함.\n",
    "2가지의 색으로 군집이 나누어지는 만큼 클러스터는 2개라고 판단"
   ]
  },
  {
   "cell_type": "markdown",
   "metadata": {},
   "source": [
    "## #03. 병합군집(sklearn)"
   ]
  },
  {
   "cell_type": "markdown",
   "metadata": {},
   "source": [
    "### 1. 학습 모델 구현"
   ]
  },
  {
   "cell_type": "code",
   "execution_count": 11,
   "metadata": {},
   "outputs": [
    {
     "data": {
      "text/html": [
       "<style>#sk-container-id-1 {color: black;}#sk-container-id-1 pre{padding: 0;}#sk-container-id-1 div.sk-toggleable {background-color: white;}#sk-container-id-1 label.sk-toggleable__label {cursor: pointer;display: block;width: 100%;margin-bottom: 0;padding: 0.3em;box-sizing: border-box;text-align: center;}#sk-container-id-1 label.sk-toggleable__label-arrow:before {content: \"▸\";float: left;margin-right: 0.25em;color: #696969;}#sk-container-id-1 label.sk-toggleable__label-arrow:hover:before {color: black;}#sk-container-id-1 div.sk-estimator:hover label.sk-toggleable__label-arrow:before {color: black;}#sk-container-id-1 div.sk-toggleable__content {max-height: 0;max-width: 0;overflow: hidden;text-align: left;background-color: #f0f8ff;}#sk-container-id-1 div.sk-toggleable__content pre {margin: 0.2em;color: black;border-radius: 0.25em;background-color: #f0f8ff;}#sk-container-id-1 input.sk-toggleable__control:checked~div.sk-toggleable__content {max-height: 200px;max-width: 100%;overflow: auto;}#sk-container-id-1 input.sk-toggleable__control:checked~label.sk-toggleable__label-arrow:before {content: \"▾\";}#sk-container-id-1 div.sk-estimator input.sk-toggleable__control:checked~label.sk-toggleable__label {background-color: #d4ebff;}#sk-container-id-1 div.sk-label input.sk-toggleable__control:checked~label.sk-toggleable__label {background-color: #d4ebff;}#sk-container-id-1 input.sk-hidden--visually {border: 0;clip: rect(1px 1px 1px 1px);clip: rect(1px, 1px, 1px, 1px);height: 1px;margin: -1px;overflow: hidden;padding: 0;position: absolute;width: 1px;}#sk-container-id-1 div.sk-estimator {font-family: monospace;background-color: #f0f8ff;border: 1px dotted black;border-radius: 0.25em;box-sizing: border-box;margin-bottom: 0.5em;}#sk-container-id-1 div.sk-estimator:hover {background-color: #d4ebff;}#sk-container-id-1 div.sk-parallel-item::after {content: \"\";width: 100%;border-bottom: 1px solid gray;flex-grow: 1;}#sk-container-id-1 div.sk-label:hover label.sk-toggleable__label {background-color: #d4ebff;}#sk-container-id-1 div.sk-serial::before {content: \"\";position: absolute;border-left: 1px solid gray;box-sizing: border-box;top: 0;bottom: 0;left: 50%;z-index: 0;}#sk-container-id-1 div.sk-serial {display: flex;flex-direction: column;align-items: center;background-color: white;padding-right: 0.2em;padding-left: 0.2em;position: relative;}#sk-container-id-1 div.sk-item {position: relative;z-index: 1;}#sk-container-id-1 div.sk-parallel {display: flex;align-items: stretch;justify-content: center;background-color: white;position: relative;}#sk-container-id-1 div.sk-item::before, #sk-container-id-1 div.sk-parallel-item::before {content: \"\";position: absolute;border-left: 1px solid gray;box-sizing: border-box;top: 0;bottom: 0;left: 50%;z-index: -1;}#sk-container-id-1 div.sk-parallel-item {display: flex;flex-direction: column;z-index: 1;position: relative;background-color: white;}#sk-container-id-1 div.sk-parallel-item:first-child::after {align-self: flex-end;width: 50%;}#sk-container-id-1 div.sk-parallel-item:last-child::after {align-self: flex-start;width: 50%;}#sk-container-id-1 div.sk-parallel-item:only-child::after {width: 0;}#sk-container-id-1 div.sk-dashed-wrapped {border: 1px dashed gray;margin: 0 0.4em 0.5em 0.4em;box-sizing: border-box;padding-bottom: 0.4em;background-color: white;}#sk-container-id-1 div.sk-label label {font-family: monospace;font-weight: bold;display: inline-block;line-height: 1.2em;}#sk-container-id-1 div.sk-label-container {text-align: center;}#sk-container-id-1 div.sk-container {/* jupyter's `normalize.less` sets `[hidden] { display: none; }` but bootstrap.min.css set `[hidden] { display: none !important; }` so we also need the `!important` here to be able to override the default hidden behavior on the sphinx rendered scikit-learn.org. See: https://github.com/scikit-learn/scikit-learn/issues/21755 */display: inline-block !important;position: relative;}#sk-container-id-1 div.sk-text-repr-fallback {display: none;}</style><div id=\"sk-container-id-1\" class=\"sk-top-container\"><div class=\"sk-text-repr-fallback\"><pre>AgglomerativeClustering(compute_distances=True, linkage=&#x27;single&#x27;,\n",
       "                        metric=&#x27;euclidean&#x27;)</pre><b>In a Jupyter environment, please rerun this cell to show the HTML representation or trust the notebook. <br />On GitHub, the HTML representation is unable to render, please try loading this page with nbviewer.org.</b></div><div class=\"sk-container\" hidden><div class=\"sk-item\"><div class=\"sk-estimator sk-toggleable\"><input class=\"sk-toggleable__control sk-hidden--visually\" id=\"sk-estimator-id-1\" type=\"checkbox\" checked><label for=\"sk-estimator-id-1\" class=\"sk-toggleable__label sk-toggleable__label-arrow\">AgglomerativeClustering</label><div class=\"sk-toggleable__content\"><pre>AgglomerativeClustering(compute_distances=True, linkage=&#x27;single&#x27;,\n",
       "                        metric=&#x27;euclidean&#x27;)</pre></div></div></div></div></div>"
      ],
      "text/plain": [
       "AgglomerativeClustering(compute_distances=True, linkage='single',\n",
       "                        metric='euclidean')"
      ]
     },
     "execution_count": 11,
     "metadata": {},
     "output_type": "execute_result"
    }
   ],
   "source": [
    "ac = AgglomerativeClustering(n_clusters=2, # 찾아야 할 클러스터 수(earlystopping과 유사)\n",
    "                            # 클러스터 간 거리 측정 방법(euclidean, cityblock, manhattan, cosine)\n",
    "                            # affinity 파라미터는 sklearn 1.4.0 버전부터 사용 불가\n",
    "                             metric=\"euclidean\",\n",
    "                            # 'ward'(기본값), 'complete', 'average', 'single'\n",
    "                             linkage=\"single\",\n",
    "                            # 노드간의 거리 계산값을 저장할지 여부(시각화를 위해서는 True를 필수 적용)\n",
    "                             compute_distances=True\n",
    "                             )\n",
    "clustering = ac.fit(X)  #학습\n",
    "clustering"
   ]
  },
  {
   "cell_type": "markdown",
   "metadata": {},
   "source": [
    "### 2. 군집 결과 확인"
   ]
  },
  {
   "cell_type": "code",
   "execution_count": 12,
   "metadata": {},
   "outputs": [
    {
     "data": {
      "text/plain": [
       "array([1, 1, 1, 1, 1, 0, 0, 0, 0, 0], dtype=int64)"
      ]
     },
     "execution_count": 12,
     "metadata": {},
     "output_type": "execute_result"
    }
   ],
   "source": [
    "labels = clustering.labels_\n",
    "labels"
   ]
  },
  {
   "cell_type": "markdown",
   "metadata": {},
   "source": [
    "### 3. 노드간의 거리 확인\n",
    "\n",
    "학습 모델 객체 생성 과정에서 반드시 `compute_distances=True`로 설정돼야만 한다."
   ]
  },
  {
   "cell_type": "markdown",
   "metadata": {},
   "source": [
    "### 4. 군집결과 시각화"
   ]
  },
  {
   "cell_type": "code",
   "execution_count": 15,
   "metadata": {},
   "outputs": [
    {
     "data": {
      "text/plain": [
       "array([[ 1,  2],\n",
       "       [10,  3],\n",
       "       [ 6,  7],\n",
       "       [ 0, 11],\n",
       "       [12,  9],\n",
       "       [ 5, 14],\n",
       "       [13,  4],\n",
       "       [ 8, 15],\n",
       "       [16, 17]])"
      ]
     },
     "execution_count": 15,
     "metadata": {},
     "output_type": "execute_result"
    }
   ],
   "source": [
    "# 각 노드의 자식 정보\n",
    "clustering.children_"
   ]
  },
  {
   "cell_type": "code",
   "execution_count": 22,
   "metadata": {},
   "outputs": [
    {
     "data": {
      "image/png": "[encoded data removed]",
      "text/plain": [
       "<Figure size 1000x600 with 1 Axes>"
      ]
     },
     "metadata": {},
     "output_type": "display_data"
    }
   ],
   "source": [
    "# scipy는 아래의 과정을 자동으로 수행, sklearn은 수동으로 설정(공식으로 판단할 것)\n",
    "\n",
    "counts = np.zeros(clustering.children_.shape[0])    #zeros 모든 원소가 0인 요소\n",
    "n_samples = len(clustering.labels_)\n",
    "# labels_ : 각 입력 데이터의 그룹 번호\n",
    "\n",
    "# 자식 노드를 반복하면서 점을 찍어준다(자식이 몇개 있는지 확인하는 과정)\n",
    "for i, merge in enumerate(clustering.children_):\n",
    "    current_count = 0\n",
    "    for child_idx in merge:\n",
    "        if child_idx < n_samples:\n",
    "            current_count += 1  # leaf node\n",
    "        else:\n",
    "            current_count += counts[child_idx - n_samples]\n",
    "    counts[i] = current_count\n",
    "\n",
    "# 자식 노드의 수를 저장하는 배열\n",
    "linkage_matrix = np.column_stack(\n",
    "    [clustering.children_, clustering.distances_, counts]\n",
    ").astype(float)\n",
    "\n",
    "# plt를 설정하지 않으면 쓸데 없는 값도 함께 추출됨\n",
    "# dendrogram(linkage_matrix)\n",
    "\n",
    "plt.figure(figsize=(10,6))\n",
    "dendrogram(linkage_matrix)\n",
    "plt.show()\n",
    "plt.close()"
   ]
  },
  {
   "cell_type": "code",
   "execution_count": null,
   "metadata": {},
   "outputs": [],
   "source": []
  },
  {
   "cell_type": "code",
   "execution_count": null,
   "metadata": {},
   "outputs": [],
   "source": []
  }
 ],
 "metadata": {
  "kernelspec": {
   "display_name": "Python 3",
   "language": "python",
   "name": "python3"
  },
  "language_info": {
   "codemirror_mode": {
    "name": "ipython",
    "version": 3
   },
   "file_extension": ".py",
   "mimetype": "text/x-python",
   "name": "python",
   "nbconvert_exporter": "python",
   "pygments_lexer": "ipython3",
   "version": "3.9.13"
  }
 },
 "nbformat": 4,
 "nbformat_minor": 2
}
