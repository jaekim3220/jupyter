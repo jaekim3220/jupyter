{
 "cells": [
  {
   "cell_type": "markdown",
   "metadata": {},
   "source": [
    "# XGBoost (2) - SklearnWrapper\n",
    "\n",
    "XGBoost 라이브러리를 sklearn과의 호환을 위해 Wrappering한 클래스"
   ]
  },
  {
   "cell_type": "markdown",
   "metadata": {},
   "source": [
    "## #01. 패키지"
   ]
  },
  {
   "cell_type": "code",
   "execution_count": 14,
   "metadata": {},
   "outputs": [],
   "source": [
    "import warnings\n",
    "warnings.filterwarnings('ignore')\n",
    "\n",
    "import numpy as np\n",
    "import xgboost as xgb\n",
    "from xgboost import XGBClassifier\n",
    "from xgboost import plot_importance\n",
    "\n",
    "from matplotlib import pyplot as plt\n",
    "from pandas import read_excel\n",
    "from sklearn.preprocessing import StandardScaler\n",
    "from sklearn.model_selection import train_test_split, GridSearchCV\n",
    "# 성능향상\n",
    "from imblearn.over_sampling import SMOTE\n",
    "\n",
    "from sklearn.metrics import confusion_matrix, accuracy_score\n",
    "from sklearn.metrics import precision_score, recall_score\n",
    "from sklearn.metrics import f1_score, roc_auc_score"
   ]
  },
  {
   "cell_type": "markdown",
   "metadata": {},
   "source": [
    "## #02. 데이터 로딩 및 전처리"
   ]
  },
  {
   "cell_type": "code",
   "execution_count": 15,
   "metadata": {},
   "outputs": [
    {
     "data": {
      "text/plain": [
       "((426, 30), (143, 30), (426,), (143,))"
      ]
     },
     "execution_count": 15,
     "metadata": {},
     "output_type": "execute_result"
    }
   ],
   "source": [
    "# 데이터 로드\n",
    "origin = read_excel(\"https://data.hossam.kr/G02/breast_cancer.xlsx\")\n",
    "# print(origin.info())\n",
    "# origin.head()\n",
    "\n",
    "# 독립/종속변수 분리\n",
    "x = origin.drop('target', axis=1)\n",
    "y = origin['target']\n",
    "# x.shape, y.shape\n",
    "\n",
    "# 데이터 스케일링\n",
    "std_x = StandardScaler().fit_transform(x)\n",
    "\n",
    "# 훈련/검증 데이터 분리(test_size 미지정시 자동 0.25)\n",
    "x_train, x_test, y_train, y_test = train_test_split(std_x, y, random_state=2021)\n",
    "x_train.shape, x_test.shape, y_train.shape, y_test.shape"
   ]
  },
  {
   "cell_type": "markdown",
   "metadata": {},
   "source": [
    "### 데이터 불균형 처리\n",
    "\n",
    "#### Over Sampling - SMOTE\n",
    "\n",
    "소수 집단의 데이터를 바탕으로 새로운 데이터를 생성.\n",
    "\n",
    "단순히 소수 집단의 데이터를 복원 추출하는 것이 아니라 소수 집단 데이터를 분석해 어떤 특징이 있는지 살피고 그와 유사한 패턴을 가지는 가짜 데이터를 생성.\n",
    "\n",
    "##### `sampling_strategy 파라미터`\n",
    "\n",
    "sampling_strategy : 2진 분류일 경우 실수로 설정 가능\n",
    "\n",
    "| 값 | 설명 |\n",
    "| -- | -- |\n",
    "| `minority` | `소수 클래스만` 다시 샘플링 |\n",
    "| `not majority` | `다수 아님` : 다수 클래스를 제외한 모든 클래스를 다시 샘플링 |\n",
    "| `not minority` | `소수 아님` : 소수 클래스를 제외한 모든 클래스를 다시 샘플링 |\n",
    "| `all` | `모든 클래스`를 다시 샘플링 |\n",
    "| `auto` | 자동 처리 |\n",
    "\n",
    "혹은 실수 타입으로 설정할 경우 샘플 수의 비율을 의미\n",
    "\n",
    "##### `k_neighbors 파라미터 (int)`\n",
    "\n",
    "합성 샘플을 생성하는데 사용할 샘플의 가장 가까운 이웃 수 (기본값=5)"
   ]
  },
  {
   "cell_type": "code",
   "execution_count": 16,
   "metadata": {},
   "outputs": [
    {
     "data": {
      "text/plain": [
       "((530, 30), (143, 30), (530,), (143,))"
      ]
     },
     "execution_count": 16,
     "metadata": {},
     "output_type": "execute_result"
    }
   ],
   "source": [
    "# SMOTE 적용\n",
    "x_sm, y_sm = SMOTE(random_state=2021).fit_resample(x_train, y_train)\n",
    "x_sm.shape, x_test.shape, y_sm.shape, y_test.shape"
   ]
  },
  {
   "cell_type": "markdown",
   "metadata": {},
   "source": [
    "## #03. 훈련모델 구축"
   ]
  },
  {
   "cell_type": "markdown",
   "metadata": {},
   "source": [
    "### XGBoost 전용 데이터 생성\n",
    "\n",
    "sklearnwrapper에서는 전용 데이터를 생성할 필요가 없음.\n",
    "\n",
    "> 기존의 DataFrame 형식을 사용 가능"
   ]
  },
  {
   "cell_type": "markdown",
   "metadata": {},
   "source": [
    "### 학습 모델 적합\n",
    "\n",
    "- `eta` 파라미터는 `learning_rate`로 이름이 변경\n",
    "- `num_boost_round` 파라미터는 `n_estimator`로 이름이 변경\n",
    "- sub_sample -> subsample\n",
    "- lambda -> reg_lambda\n",
    "- alpha -> reg_alpha\n",
    "\n",
    "> 예측치를 산정할 경우 각 클래스에 속할 확률이 아니라 클래스의 분류 결과를 반환"
   ]
  },
  {
   "cell_type": "code",
   "execution_count": 17,
   "metadata": {},
   "outputs": [
    {
     "data": {
      "text/html": [
       "<style>#sk-container-id-2 {color: black;}#sk-container-id-2 pre{padding: 0;}#sk-container-id-2 div.sk-toggleable {background-color: white;}#sk-container-id-2 label.sk-toggleable__label {cursor: pointer;display: block;width: 100%;margin-bottom: 0;padding: 0.3em;box-sizing: border-box;text-align: center;}#sk-container-id-2 label.sk-toggleable__label-arrow:before {content: \"▸\";float: left;margin-right: 0.25em;color: #696969;}#sk-container-id-2 label.sk-toggleable__label-arrow:hover:before {color: black;}#sk-container-id-2 div.sk-estimator:hover label.sk-toggleable__label-arrow:before {color: black;}#sk-container-id-2 div.sk-toggleable__content {max-height: 0;max-width: 0;overflow: hidden;text-align: left;background-color: #f0f8ff;}#sk-container-id-2 div.sk-toggleable__content pre {margin: 0.2em;color: black;border-radius: 0.25em;background-color: #f0f8ff;}#sk-container-id-2 input.sk-toggleable__control:checked~div.sk-toggleable__content {max-height: 200px;max-width: 100%;overflow: auto;}#sk-container-id-2 input.sk-toggleable__control:checked~label.sk-toggleable__label-arrow:before {content: \"▾\";}#sk-container-id-2 div.sk-estimator input.sk-toggleable__control:checked~label.sk-toggleable__label {background-color: #d4ebff;}#sk-container-id-2 div.sk-label input.sk-toggleable__control:checked~label.sk-toggleable__label {background-color: #d4ebff;}#sk-container-id-2 input.sk-hidden--visually {border: 0;clip: rect(1px 1px 1px 1px);clip: rect(1px, 1px, 1px, 1px);height: 1px;margin: -1px;overflow: hidden;padding: 0;position: absolute;width: 1px;}#sk-container-id-2 div.sk-estimator {font-family: monospace;background-color: #f0f8ff;border: 1px dotted black;border-radius: 0.25em;box-sizing: border-box;margin-bottom: 0.5em;}#sk-container-id-2 div.sk-estimator:hover {background-color: #d4ebff;}#sk-container-id-2 div.sk-parallel-item::after {content: \"\";width: 100%;border-bottom: 1px solid gray;flex-grow: 1;}#sk-container-id-2 div.sk-label:hover label.sk-toggleable__label {background-color: #d4ebff;}#sk-container-id-2 div.sk-serial::before {content: \"\";position: absolute;border-left: 1px solid gray;box-sizing: border-box;top: 0;bottom: 0;left: 50%;z-index: 0;}#sk-container-id-2 div.sk-serial {display: flex;flex-direction: column;align-items: center;background-color: white;padding-right: 0.2em;padding-left: 0.2em;position: relative;}#sk-container-id-2 div.sk-item {position: relative;z-index: 1;}#sk-container-id-2 div.sk-parallel {display: flex;align-items: stretch;justify-content: center;background-color: white;position: relative;}#sk-container-id-2 div.sk-item::before, #sk-container-id-2 div.sk-parallel-item::before {content: \"\";position: absolute;border-left: 1px solid gray;box-sizing: border-box;top: 0;bottom: 0;left: 50%;z-index: -1;}#sk-container-id-2 div.sk-parallel-item {display: flex;flex-direction: column;z-index: 1;position: relative;background-color: white;}#sk-container-id-2 div.sk-parallel-item:first-child::after {align-self: flex-end;width: 50%;}#sk-container-id-2 div.sk-parallel-item:last-child::after {align-self: flex-start;width: 50%;}#sk-container-id-2 div.sk-parallel-item:only-child::after {width: 0;}#sk-container-id-2 div.sk-dashed-wrapped {border: 1px dashed gray;margin: 0 0.4em 0.5em 0.4em;box-sizing: border-box;padding-bottom: 0.4em;background-color: white;}#sk-container-id-2 div.sk-label label {font-family: monospace;font-weight: bold;display: inline-block;line-height: 1.2em;}#sk-container-id-2 div.sk-label-container {text-align: center;}#sk-container-id-2 div.sk-container {/* jupyter's `normalize.less` sets `[hidden] { display: none; }` but bootstrap.min.css set `[hidden] { display: none !important; }` so we also need the `!important` here to be able to override the default hidden behavior on the sphinx rendered scikit-learn.org. See: https://github.com/scikit-learn/scikit-learn/issues/21755 */display: inline-block !important;position: relative;}#sk-container-id-2 div.sk-text-repr-fallback {display: none;}</style><div id=\"sk-container-id-2\" class=\"sk-top-container\"><div class=\"sk-text-repr-fallback\"><pre>XGBClassifier(base_score=None, booster=None, callbacks=None,\n",
       "              colsample_bylevel=None, colsample_bynode=None,\n",
       "              colsample_bytree=None, device=None, early_stopping_rounds=None,\n",
       "              enable_categorical=False, eval_metric=None, feature_types=None,\n",
       "              gamma=None, grow_policy=None, importance_type=None,\n",
       "              interaction_constraints=None, learning_rate=0.1, max_bin=None,\n",
       "              max_cat_threshold=None, max_cat_to_onehot=None,\n",
       "              max_delta_step=None, max_depth=3, max_leaves=None,\n",
       "              min_child_weight=None, missing=nan, monotone_constraints=None,\n",
       "              multi_strategy=None, n_estimator=400, n_estimators=None,\n",
       "              n_jobs=None, num_parallel_tree=None, ...)</pre><b>In a Jupyter environment, please rerun this cell to show the HTML representation or trust the notebook. <br />On GitHub, the HTML representation is unable to render, please try loading this page with nbviewer.org.</b></div><div class=\"sk-container\" hidden><div class=\"sk-item\"><div class=\"sk-estimator sk-toggleable\"><input class=\"sk-toggleable__control sk-hidden--visually\" id=\"sk-estimator-id-2\" type=\"checkbox\" checked><label for=\"sk-estimator-id-2\" class=\"sk-toggleable__label sk-toggleable__label-arrow\">XGBClassifier</label><div class=\"sk-toggleable__content\"><pre>XGBClassifier(base_score=None, booster=None, callbacks=None,\n",
       "              colsample_bylevel=None, colsample_bynode=None,\n",
       "              colsample_bytree=None, device=None, early_stopping_rounds=None,\n",
       "              enable_categorical=False, eval_metric=None, feature_types=None,\n",
       "              gamma=None, grow_policy=None, importance_type=None,\n",
       "              interaction_constraints=None, learning_rate=0.1, max_bin=None,\n",
       "              max_cat_threshold=None, max_cat_to_onehot=None,\n",
       "              max_delta_step=None, max_depth=3, max_leaves=None,\n",
       "              min_child_weight=None, missing=nan, monotone_constraints=None,\n",
       "              multi_strategy=None, n_estimator=400, n_estimators=None,\n",
       "              n_jobs=None, num_parallel_tree=None, ...)</pre></div></div></div></div></div>"
      ],
      "text/plain": [
       "XGBClassifier(base_score=None, booster=None, callbacks=None,\n",
       "              colsample_bylevel=None, colsample_bynode=None,\n",
       "              colsample_bytree=None, device=None, early_stopping_rounds=None,\n",
       "              enable_categorical=False, eval_metric=None, feature_types=None,\n",
       "              gamma=None, grow_policy=None, importance_type=None,\n",
       "              interaction_constraints=None, learning_rate=0.1, max_bin=None,\n",
       "              max_cat_threshold=None, max_cat_to_onehot=None,\n",
       "              max_delta_step=None, max_depth=3, max_leaves=None,\n",
       "              min_child_weight=None, missing=nan, monotone_constraints=None,\n",
       "              multi_strategy=None, n_estimator=400, n_estimators=None,\n",
       "              n_jobs=None, num_parallel_tree=None, ...)"
      ]
     },
     "execution_count": 17,
     "metadata": {},
     "output_type": "execute_result"
    }
   ],
   "source": [
    "# 모델 생성\n",
    "xgb_model = XGBClassifier(n_estimator=400,\n",
    "                          learning_rate = 0.1,\n",
    "                          max_depth = 3\n",
    "                          )\n",
    "# 학습\n",
    "xgb_model.fit(x_sm, y_sm)"
   ]
  },
  {
   "cell_type": "markdown",
   "metadata": {},
   "source": [
    "### 학습 결과 확인"
   ]
  },
  {
   "cell_type": "code",
   "execution_count": 18,
   "metadata": {},
   "outputs": [
    {
     "name": "stdout",
     "output_type": "stream",
     "text": [
      "predict() 수행 결과값을 10개만 표시, 분류 결과 값\n",
      "[1 1 1 0 1 0 0 1 0 1]\n",
      "\n",
      "predict() 수행 결과값을 10개만 표시, 예측 확률 값\n",
      "[9.9415153e-01 9.8284322e-01 9.9651504e-01 8.9002063e-04 9.9269450e-01\n",
      " 6.7870319e-03 7.0146541e-04 9.9319988e-01 3.0535446e-03 9.9932778e-01]\n"
     ]
    }
   ],
   "source": [
    "# 예측치를 산정할 경우 각 클래스에 속할 확률이 아니라 클래스의 분류 결과를 반환\n",
    "preds = xgb_model.predict(x_test)\n",
    "print(\"predict() 수행 결과값을 10개만 표시, 분류 결과 값\")\n",
    "print(preds[:10])\n",
    "\n",
    "print()\n",
    "\n",
    "# 클래스에 속할 확률값(이진분류이므로 1에 속할 확률만 취함)\n",
    "pred_probs = xgb_model.predict_proba(x_test)[:,1]\n",
    "print(\"predict() 수행 결과값을 10개만 표시, 예측 확률 값\")\n",
    "print(pred_probs[:10])"
   ]
  },
  {
   "cell_type": "markdown",
   "metadata": {},
   "source": [
    "### 성능평가"
   ]
  },
  {
   "cell_type": "markdown",
   "metadata": {},
   "source": [
    "#### 오차 행렬"
   ]
  },
  {
   "cell_type": "code",
   "execution_count": 19,
   "metadata": {},
   "outputs": [
    {
     "data": {
      "text/plain": [
       "array([[48,  3],\n",
       "       [ 2, 90]], dtype=int64)"
      ]
     },
     "execution_count": 19,
     "metadata": {},
     "output_type": "execute_result"
    }
   ],
   "source": [
    "confusion = confusion_matrix(y_test, preds)\n",
    "confusion"
   ]
  },
  {
   "cell_type": "markdown",
   "metadata": {},
   "source": [
    "#### 성능지표 확인"
   ]
  },
  {
   "cell_type": "code",
   "execution_count": 20,
   "metadata": {},
   "outputs": [
    {
     "name": "stdout",
     "output_type": "stream",
     "text": [
      "정확도 : 0.9650, 정밀도 : 0.9677, 재현율 : 0.9783,  F1 : 0.9730, AUC : 0.9966\n"
     ]
    }
   ],
   "source": [
    "accuracy = accuracy_score(y_test, preds)\n",
    "precision = precision_score(y_test, preds)\n",
    "recall = recall_score(y_test, preds)\n",
    "f1 = f1_score(y_test, preds)\n",
    "roc_auc = roc_auc_score(y_test, pred_probs)\n",
    "print(\"정확도 : {0:.4f}, 정밀도 : {1:.4f}, 재현율 : {2:.4f},  F1 : {3:.4f}, AUC : {4:.4f}\".format(accuracy, precision, recall, f1, roc_auc))"
   ]
  },
  {
   "cell_type": "markdown",
   "metadata": {},
   "source": [
    "### 변수별 중요도 확인\n",
    "\n",
    "feature_names 미지정으로 이름을 알아보기 어려움"
   ]
  },
  {
   "cell_type": "code",
   "execution_count": 21,
   "metadata": {},
   "outputs": [
    {
     "data": {
      "image/png": "[encoded data removed]",
      "text/plain": [
       "<Figure size 1000x1500 with 1 Axes>"
      ]
     },
     "metadata": {},
     "output_type": "display_data"
    }
   ],
   "source": [
    "plt.figure(figsize=(10,15))\n",
    "# xgb.DMatrix에서 feature_names 설정 안 하면 이름이 안 나와서 알아보기 어려움\n",
    "plot_importance(xgb_model, ax=plt.gca())\n",
    "plt.grid(True)\n",
    "plt.show()\n",
    "plt.close()"
   ]
  },
  {
   "cell_type": "markdown",
   "metadata": {},
   "source": [
    "## #04. 하이퍼 파라미터 튜닝\n",
    "\n",
    "최적의 하이퍼 파라미터 추출을 목표"
   ]
  },
  {
   "cell_type": "markdown",
   "metadata": {},
   "source": [
    "### 모델 적합\n",
    "\n",
    "#### `주요 일반 파라미터`\n",
    "\n",
    "| 파라미터명 | 설명 |\n",
    "| -- | -- |\n",
    "| booster | gbtree(tree based model) 또는 gblinear(linear model) 선택, default는 gbtree |\n",
    "| silent | default는 0이며, 출력 메세지를 나타내고 싶지 않을 경우 1로 설정 |\n",
    "| nthread | CPU의 실행 스레드 개수를 조정하며, default는 CPU의 전체 스레드를 다 사용하는 것이다. <br/>멀티 코어/스레트 CPU 시스템에서 전체 CPU를 사용하지 않고 일부 CPU만 사용해 ML 애플리케이션을 구동하는경우에 변경 |\n",
    "\n",
    "#### `주요 부스터 파라미터`\n",
    "\n",
    "| 파라미터명 | 설명 |\n",
    "| -- | -- |\n",
    "| learning_rate (eta) | 학습률. <br/>0에서 1 사이의 값을 지정하며 부스팅 스텝을 반복적으로 수행할 때 업데이트되는 학습률 값기본 xgboost를 이용할 경우 default는 0.3이고 사이킷런 래퍼 클래스를 이용할 경우 eta는 learning_rate 파라미터로 대체되며, default는 0.1이다.\n",
    "보통은 0.01 ~ 0.2 사이의 값을 선호 |\n",
    "| n_estimators(num_boost_rounds) | 부스팅 반복 횟수 |\n",
    "| min_child_weight | 트리에서 추가적으로 가지를 나눌지를 결정하기 위해 필요한 데이터들의\n",
    "weight 총합, min_child_weight가 클수록 분할을 자제한다. 과적합을 조절하기위해 사용된다.(기본값=1) |\n",
    "| min_split_loss(gamma) | 트리의 리프 노드를 추가적으로 나눌지를 결정할 최소 손실 감소 값이다. <br/>해당 값보다 큰 손실(loss)이 감소된 경우에 리프 노드를 분리한다.\n",
    "값이 클수록 과적합 감소 효과가 있다.(기본값=0) |\n",
    "| max_depth | 트리 기반 알고리즘의 max_depth와 같다. <br/>0을 지정하면 깊이에 제한이 없다. <br/>max_depth가 높으면 특정 피쳐 조건에 특화되어 룰 조건이 만들어지므로 과적합 가능성이 높아지며 보통은 3~10 사이의 값을 적용(기본값=6) |\n",
    "| sub_sample(subsample) | 트리가 커져서 과적합되는 것을 제어하기 위해 데이터를 샘플링하는 비율을지정한다. <br/>sub_sample=0.5로 지정하면 전체 데이터의 절반을 트리를 생성하는데 사용한다. <br/>0에서 1사이의 값이 가능하나 일반적으로 0.5 ~ 1 사이의 값을 사용(기본값=1) |\n",
    "| colsample_bytree | GBM의 max_feature와 유사하다. <br/>트리 생성에 필요한 피처(column)를 임의로샘플링하는 데 사용된다. <br/>매우 많은 피처가 있는 경우 과적합을 조정하는 데 적용(default=1) |\n",
    "\n",
    "#### `학습 태스크 파라미터`\n",
    "\n",
    "##### `objective`\n",
    "\n",
    "최솟값을 가져야할 손실 함수\n",
    "\n",
    "| 함수 | 설명 |\n",
    "| -- | -- |\n",
    "| `binary:logitic` | 이진 분류일 때 적용한다. |\n",
    "| `multi:softmax` | 다중 분류일 때 적용한다.<br/>손실함수가  `multi:softmax` 일 경우에는 label 클래스의 개수인 num_class parameter를 지정해야 한다. |\n",
    "| `multi:softprob` | multi:softmax와 유사하나 개별 label 클래스의 해당되는 예측 확률을 반환한다. |\n",
    "\n",
    "##### `eval_metric`\n",
    "\n",
    "- 검증에 사용되는 함수를 정의.\n",
    "- defalut는 회귀인 경우는  `rmse`, 분류일 경우에는 `error`이다."
   ]
  },
  {
   "cell_type": "code",
   "execution_count": 22,
   "metadata": {},
   "outputs": [
    {
     "name": "stdout",
     "output_type": "stream",
     "text": [
      "{'learning_rate': 0.15, 'max_depth': 5, 'n_estimators': 300}\n",
      "0.9679245283018869\n",
      "\n",
      "XGBClassifier(base_score=None, booster=None, callbacks=None,\n",
      "              colsample_bylevel=None, colsample_bynode=None,\n",
      "              colsample_bytree=None, device=None, early_stopping_rounds=None,\n",
      "              enable_categorical=False, eval_metric=None, feature_types=None,\n",
      "              gamma=None, grow_policy=None, importance_type=None,\n",
      "              interaction_constraints=None, learning_rate=0.15, max_bin=None,\n",
      "              max_cat_threshold=None, max_cat_to_onehot=None,\n",
      "              max_delta_step=None, max_depth=5, max_leaves=None,\n",
      "              min_child_weight=None, missing=nan, monotone_constraints=None,\n",
      "              multi_strategy=None, n_estimators=300, n_jobs=None,\n",
      "              num_parallel_tree=None, random_state=None, ...)\n",
      "\n",
      "최종 모델의 성능(테스트 데이터) : 0.9790209790209791\n"
     ]
    }
   ],
   "source": [
    "xgb_model = XGBClassifier()\n",
    "\n",
    "params = {\n",
    "    'n_estimators':[300,400],\n",
    "    \"learning_rate\":[0.05, 0.1, 0.15],\n",
    "    'max_depth':[5,7]\n",
    "}\n",
    "\n",
    "# 모델 생성\n",
    "grid = GridSearchCV(xgb_model, param_grid=params, scoring=\"accuracy\", cv=5)\n",
    "# 모델 학습\n",
    "grid.fit(x_sm, y_sm)\n",
    "\n",
    "print(grid.best_params_)\n",
    "print(grid.best_score_)\n",
    "best_model = grid.best_estimator_\n",
    "\n",
    "print()\n",
    "\n",
    "print(best_model)\n",
    "\n",
    "print()\n",
    "\n",
    "y_pred = best_model.predict(x_test)\n",
    "print(\"최종 모델의 성능(테스트 데이터) :\", accuracy_score(y_test,y_pred))"
   ]
  },
  {
   "cell_type": "markdown",
   "metadata": {},
   "source": [
    "#### 모델의 과적합 문제 해결\n",
    "\n",
    "1. eta 값을 낮춘다. (`0.01 ~ 0.1`). 그리고 eta 값을 낮추면 num_round(또는 n_estimator)는 반대로 높여준다.\n",
    "2. max_depth 값을 낮춘다.\n",
    "3. min_child_weight 값을 높인다.\n",
    "4. subsample과 cosample_bytree를 조정하는 것도 트리가 너무 복잡하게 생성되는 것을 막아 과적합 문제에 도움이 될 수 있다."
   ]
  },
  {
   "cell_type": "markdown",
   "metadata": {},
   "source": [
    "# 이후 과정은 ~37을 참고\n",
    "\n",
    "- ### 성능 검증(분류 보고서, AUC/ROC 곡선)"
   ]
  },
  {
   "cell_type": "code",
   "execution_count": null,
   "metadata": {},
   "outputs": [],
   "source": []
  }
 ],
 "metadata": {
  "kernelspec": {
   "display_name": "Python 3",
   "language": "python",
   "name": "python3"
  },
  "language_info": {
   "codemirror_mode": {
    "name": "ipython",
    "version": 3
   },
   "file_extension": ".py",
   "mimetype": "text/x-python",
   "name": "python",
   "nbconvert_exporter": "python",
   "pygments_lexer": "ipython3",
   "version": "3.9.13"
  }
 },
 "nbformat": 4,
 "nbformat_minor": 2
}
