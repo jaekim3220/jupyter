{
 "cells": [
  {
   "cell_type": "markdown",
   "metadata": {},
   "source": [
    "# 군집 - DBSCAN\n",
    "\n",
    "Density-based spatial clustering of Application Noise\n",
    "\n",
    "밀도 기반 데이터 클러스터링 알고리즘\n",
    "\n",
    "클러스터의 개수를 미리 지정할 필요가 없다.\n",
    "\n",
    "복잡한 형상의 데이터 셋에도 무리 없이 적용 가능\n",
    "\n",
    "어떤 클래스에도 속하지 않는 포인트를 구분할 수 있다.\n",
    "\n",
    "속도는 다소 느리다."
   ]
  },
  {
   "cell_type": "markdown",
   "metadata": {},
   "source": [
    "## #01. 패키지 참조"
   ]
  },
  {
   "cell_type": "code",
   "execution_count": 1,
   "metadata": {},
   "outputs": [],
   "source": [
    "import seaborn as sb\n",
    "from matplotlib import pyplot as plt\n",
    "\n",
    "# 데이터샛 생성 함수\n",
    "from sklearn.datasets import make_moons\n",
    "\n",
    "# 클러스터 알고리즘 참조\n",
    "from sklearn.cluster import DBSCAN\n",
    "\n",
    "from sklearn.preprocessing import StandardScaler\n",
    "from sklearn.metrics import silhouette_score"
   ]
  },
  {
   "cell_type": "code",
   "execution_count": null,
   "metadata": {},
   "outputs": [],
   "source": []
  }
 ],
 "metadata": {
  "kernelspec": {
   "display_name": "Python 3",
   "language": "python",
   "name": "python3"
  },
  "language_info": {
   "codemirror_mode": {
    "name": "ipython",
    "version": 3
   },
   "file_extension": ".py",
   "mimetype": "text/x-python",
   "name": "python",
   "nbconvert_exporter": "python",
   "pygments_lexer": "ipython3",
   "version": "3.9.13"
  }
 },
 "nbformat": 4,
 "nbformat_minor": 2
}
