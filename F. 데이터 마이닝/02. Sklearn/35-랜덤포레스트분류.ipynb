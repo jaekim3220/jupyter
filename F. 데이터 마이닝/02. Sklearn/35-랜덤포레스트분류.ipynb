{
 "cells": [
  {
   "cell_type": "markdown",
   "metadata": {},
   "source": [
    "# 랜덤포레스트 분류"
   ]
  },
  {
   "cell_type": "markdown",
   "metadata": {},
   "source": [
    "## #01. 패키지"
   ]
  },
  {
   "cell_type": "code",
   "execution_count": null,
   "metadata": {},
   "outputs": [],
   "source": [
    "import warnings\n",
    "warnings.filterwarnings('ignore')\n",
    "\n",
    "from matplotlib import pyplot as plt\n",
    "import seaborn as sb\n",
    "# 회귀를 위한 더미변수 생성\n",
    "from pandas import read_excel, DataFrame, melt\n",
    "\n",
    "from sklearn.ensemble import RandomForestClassifier\n",
    "from sklearn.preprocessing import StandardScaler\n",
    "from sklearn.model_selection import train_test_split, GridSearchCV\n",
    "from sklearn.model_selection import cross_val_score, cross_validate\n",
    "from sklearn.metrics import accuracy_score, classification_report\n",
    "\n",
    "# 데이터 불균형 해소를 위한 smpling 패키지\n",
    "from imblearn.under_sampling import RandomUnderSampler \n",
    "from imblearn.over_sampling import RandomOverSampler\n",
    "from imblearn.over_sampling import SMOTE"
   ]
  },
  {
   "cell_type": "markdown",
   "metadata": {},
   "source": [
    "## #02. 데이터\n",
    "\n",
    "| 필드명 | 설명  |\n",
    "|---|---|\n",
    "| id | 고유 식별 번호 |\n",
    "| age | 나이 |\n",
    "| height(cm) | 키 |\n",
    "| weight(kg) | 몸무게 |\n",
    "| waist(cm) | 허리둘레 |\n",
    "| eyesight(left) | 시력(왼쪽) |\n",
    "| eyesight(right) | 시력(오른쪽) |\n",
    "| hearing(left) | 청력(왼쪽) |\n",
    "| hearing(right) | 청력(오른쪽) |\n",
    "| systolic | 수축기 혈압(mmHg 단위) |\n",
    "| relaxation | 휴식 혈압(mmHg 단위) |\n",
    "| fasting blood sugar | 공복 혈당 수치(mg/dL 단위) |\n",
    "| Cholesterol | 콜레스테롤 수치(mg/dL 단위) |\n",
    "| triglyceride | 중성지방 수치(mg/dL 단위) |\n",
    "| HDL | 고밀도 지단백 수치 (mg/dL) |\n",
    "| LDL | 저밀도 지단백 수치 (mg/dL) |\n",
    "| hemoglobin | 헤모글로빈 수치(g/dL) |\n",
    "| Urine protein | 소변내 단백질 수준 |\n",
    "| serum creatinine | 혈청 크레아티닌 수치(mg/dL) |\n",
    "| AST | 아스파르트 아미노전이효소(AST) 수준 |\n",
    "| ALT | 알라닌아미노 전이효소 수준 |\n",
    "| Gtp | 감마-글루타밀 전이효소 수준 |\n",
    "| dental caries | 1인당 치아우식증 유무를 나타내는 값(0: 없음, 1: 있음) |\n",
    "| smoking | 흡연상태(0: 비흡연자, 1: 흡연자) |"
   ]
  },
  {
   "cell_type": "code",
   "execution_count": null,
   "metadata": {},
   "outputs": [],
   "source": [
    "origin = read_excel(\"https://data.hossam.kr/G02/smoker_status.xlsx\")\n",
    "# print(origin.info())\n",
    "origin.head().T"
   ]
  },
  {
   "cell_type": "markdown",
   "metadata": {},
   "source": [
    "### 데이터 확인"
   ]
  },
  {
   "cell_type": "code",
   "execution_count": null,
   "metadata": {},
   "outputs": [],
   "source": [
    "print(origin.shape)"
   ]
  },
  {
   "cell_type": "code",
   "execution_count": null,
   "metadata": {},
   "outputs": [],
   "source": [
    "origin.isnull().any()"
   ]
  },
  {
   "cell_type": "code",
   "execution_count": null,
   "metadata": {},
   "outputs": [],
   "source": [
    "origin.info()"
   ]
  },
  {
   "cell_type": "markdown",
   "metadata": {},
   "source": [
    "### 목적변수 비율 확인"
   ]
  },
  {
   "cell_type": "code",
   "execution_count": null,
   "metadata": {},
   "outputs": [],
   "source": [
    "origin.columns"
   ]
  },
  {
   "cell_type": "code",
   "execution_count": null,
   "metadata": {},
   "outputs": [],
   "source": [
    "plt.figure(figsize=(5,5))\n",
    "plt.pie(origin['smoking'].value_counts(), labels=['non-smoker', 'smoker'], autopct='%1.1f%%')\n",
    "plt.show()\n",
    "plt.close()"
   ]
  },
  {
   "cell_type": "markdown",
   "metadata": {},
   "source": [
    "### 변수 값 분리(종속/독립변수)"
   ]
  },
  {
   "cell_type": "code",
   "execution_count": null,
   "metadata": {},
   "outputs": [],
   "source": [
    "x = origin.drop('smoking', axis=1)\n",
    "y = origin['smoking']\n",
    "x.shape, y.shape"
   ]
  },
  {
   "cell_type": "markdown",
   "metadata": {},
   "source": [
    "### 훈련/검증데이터 분할"
   ]
  },
  {
   "cell_type": "code",
   "execution_count": null,
   "metadata": {},
   "outputs": [],
   "source": [
    "x_train, x_test, y_train, y_test = train_test_split(x, y, test_size=0.3, random_state=777)\n",
    "x_train.shape, x_test.shape, y_train.shape, y_test.shape"
   ]
  },
  {
   "cell_type": "markdown",
   "metadata": {},
   "source": [
    "### 데이터 불균형 해소\n",
    "\n",
    "#### Over Sampling - SMOTE\n",
    "\n",
    "소수 집단의 데이터를 바탕으로 새로운 데이터를 생성.\n",
    "\n",
    "단순히 소수 집단의 데이터를 복원 추출하는 것이 아니라 소수 집단 데이터를 분석해 어떤 특징이 있는지 살피고 그와 유사한 패턴을 가지는 가짜 데이터를 생성.\n",
    "\n",
    "##### `sampling_strategy 파라미터`\n",
    "\n",
    "sampling_strategy : 2진 분류일 경우 실수로 설정 가능\n",
    "\n",
    "| 값 | 설명 |\n",
    "| -- | -- |\n",
    "| `minority` | `소수 클래스만` 다시 샘플링 |\n",
    "| `not majority` | `다수 아님` : 다수 클래스를 제외한 모든 클래스를 다시 샘플링 |\n",
    "| `not minority` | `소수 아님` : 소수 클래스를 제외한 모든 클래스를 다시 샘플링 |\n",
    "| `all` | `모든 클래스`를 다시 샘플링 |\n",
    "| `auto` | 자동 처리 |\n",
    "\n",
    "혹은 실수 타입으로 설정할 경우 샘플 수의 비율을 의미\n",
    "\n",
    "##### `k_neighbors 파라미터 (int)`\n",
    "\n",
    "합성 샘플을 생성하는데 사용할 샘플의 가장 가까운 이웃 수 (기본값=5)"
   ]
  },
  {
   "cell_type": "code",
   "execution_count": null,
   "metadata": {},
   "outputs": [],
   "source": [
    "smote_sampler = SMOTE(sampling_strategy='minority', random_state=777)\n",
    "x_sm, y_sm = smote_sampler.fit_resample(x_train, y_train)\n",
    "print(x_sm.shape, y_sm.shape)\n",
    "\n",
    "y_sm.value_counts().sort_index()"
   ]
  },
  {
   "cell_type": "markdown",
   "metadata": {},
   "source": [
    "## #04. 훈련모델 적합\n",
    "\n",
    "### RandomForestClassifier 하이퍼 파라미터\n",
    "\n",
    "| n_estimators | 결정 트리의 갯수를 지정(기본값=10). 즉, 반복 횟수.<br/>성능에 비례, 속도에 반비례 |\n",
    "| -- | -- |\n",
    "| min_samples_split | 노드를 분할하기 위한 최소한의 샘플 데이터 수.<br/>과적합을 제어하는 데 사용(기본값=2), 값이 작을 수록 분할 노드가 증가하여 과적합 가능성이 높아짐. |\n",
    "| min_samples_leaf | 리프노드가 되기 위한 최소한의 샘플 데이터 수.<br/>과적합을 제어하는데 사용 |\n",
    "| max_features | 최적의 분할을 위해 고려할 최대 feature 개수(기본값=auto), int 형일 경우 갯수, float 형일 경우 비율 |\n",
    "| max_depth | 트리의 최대 깊이(기본값=None).<br/>`max_depth`가 `None`일 경우 완벽하게 클래스 값이 결정되거나 데이터 개수가 min_samples_split에서 설정한 값보다 작아질 때 까지 분할 |\n",
    "| max_leaf_nodes | 리프 노드의 최대 개수 |\n",
    "\n",
    "### 하이퍼 파라미터 튜닝\n",
    "\n",
    "> GridSearchCV\n",
    "\n",
    "`cv` : 쪼개는 단위\n",
    "\n",
    "`n_jobs` : 실행할 병렬 작업의 수. CPU의 프로세스 수만큼 설정 가능. -1은 모든 프로세서를 사용함을 의미."
   ]
  },
  {
   "cell_type": "code",
   "execution_count": null,
   "metadata": {},
   "outputs": [],
   "source": [
    "# 모델 생성\n",
    "rfc = RandomForestClassifier(random_state=777)\n",
    "\n",
    "# 사용할 파라미터 설정\n",
    "params = {\n",
    "    'random_state':[20,50,100],\n",
    "    \"max_depth\":[5,30,100],\n",
    "    # 아래거 실행하면 시간 오래 걸림\n",
    "    # 'min_samples_split':[2,5,10],\n",
    "    # 'min_samples_leaf':[1,5,10]\n",
    "}\n",
    "\n",
    "# 모델 생성\n",
    "grid = GridSearchCV(rfc, param_grid=params, cv=5, n_jobs=-1)\n",
    "# 학습\n",
    "grid.fit(x_sm, y_sm)\n",
    "\n",
    "print(\"최적의 하이퍼 파라미터 :\",grid.best_params_)\n",
    "print(\"최적의 모델 평균 성능(훈련데이터) :\",grid.best_score_)\n",
    "\n",
    "# 검증 정확도 유도\n",
    "best_model = grid.best_estimator_\n",
    "y_pred = best_model.predict(x_test)\n",
    "print(\"최종 모델의 성능(테스트 데이터) :\", accuracy_score(y_test,y_pred))"
   ]
  },
  {
   "cell_type": "markdown",
   "metadata": {},
   "source": [
    "### 분류 보고서\n",
    "\n",
    "- precision : 정밀도(양성 클래스라고 예측한 샘플 중 실제로 양성 클래스에 속하는 샘플). 높을 수록 좋음\n",
    "- recall : 재현율, 실제로 양성 클래스에 속한 샘플 중에서 양성 클래스라고 예측한 샘플 수의 비율. 높을 수록 좋음\n",
    "- f1-score : 정밀도와 재현율의 가중 조화 평균값. 높을 수록 좋음\n",
    "- support : 각 Label에 대한 실제 샘플 수. 높을 수록 좋음\n",
    "- accuracy : 정확도. 전체 샘플 중 맞게 예측한 샘플 수의 비율. 높을 수록 좋음\n",
    "- macro avg : 단순 평균값(샘플 수의 불균형을 고려하지 않은 값)\n",
    "- weighted avg : 각 클래스에 속하는 표본의 개수로 가중 평균을 낸 값(샘플 수의 불균형을 고려한 값)"
   ]
  },
  {
   "cell_type": "code",
   "execution_count": null,
   "metadata": {},
   "outputs": [],
   "source": [
    "print(classification_report(y_test, y_pred))"
   ]
  }
 ],
 "metadata": {
  "kernelspec": {
   "display_name": "Python 3",
   "language": "python",
   "name": "python3"
  },
  "language_info": {
   "codemirror_mode": {
    "name": "ipython",
    "version": 3
   },
   "file_extension": ".py",
   "mimetype": "text/x-python",
   "name": "python",
   "nbconvert_exporter": "python",
   "pygments_lexer": "ipython3",
   "version": "3.9.13"
  }
 },
 "nbformat": 4,
 "nbformat_minor": 2
}
