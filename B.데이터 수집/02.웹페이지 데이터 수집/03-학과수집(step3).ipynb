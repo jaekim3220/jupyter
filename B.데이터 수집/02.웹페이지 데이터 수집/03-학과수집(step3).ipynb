{
 "cells": [
  {
   "attachments": {},
   "cell_type": "markdown",
   "metadata": {},
   "source": [
    "숙명여대 학과정보 수집"
   ]
  },
  {
   "attachments": {},
   "cell_type": "markdown",
   "metadata": {},
   "source": [
    "* 모듈 입력"
   ]
  },
  {
   "cell_type": "code",
   "execution_count": null,
   "metadata": {},
   "outputs": [],
   "source": [
    "import requests\n",
    "from bs4 import BeautifulSoup\n",
    "from pandas import DataFrame"
   ]
  },
  {
   "attachments": {},
   "cell_type": "markdown",
   "metadata": {},
   "source": [
    "* 수집할 주소"
   ]
  },
  {
   "cell_type": "code",
   "execution_count": null,
   "metadata": {},
   "outputs": [],
   "source": [
    "url = \"https://www.sookmyung.ac.kr/sookmyungkr/1030/subview.do\""
   ]
  },
  {
   "cell_type": "code",
   "execution_count": null,
   "metadata": {},
   "outputs": [],
   "source": [
    "# 접속객체 생성\n",
    "session = requests.Session()\n",
    "\n",
    "# 접속객체에 부가정보 삽입\n",
    "session.headers.update({\n",
    "    \"Referer\" : \"\",\n",
    "    \"User-Agent\" : \"Mozilla/5.0 (Windows NT 10.0; Win64; x64) AppleWebKit/537.36 (KHTML, like Gecko) Chrome/114.0.0.0 Safari/537.36\"\n",
    "})\n",
    "\n",
    "# 생성한 접속 객체를 활용해 API 접속\n",
    "r = session.get(url)\n",
    "\n",
    "# 접속 실패시 에러 메시지 생성\n",
    "if r.status_code != 200:\n",
    "    msg = \"[%d Error] %s 에러 발생\" %(r.status_code, r.reason)\n",
    "    raise Exception(msg)\n",
    "\n",
    "r.encoding = \"utf-8\"\n",
    "# url 텍스트 추출\n",
    "# print(r.text)\n",
    "soup = BeautifulSoup(r.text)\n",
    "soup"
   ]
  },
  {
   "attachments": {},
   "cell_type": "markdown",
   "metadata": {},
   "source": [
    "* 응답결과로부터 데이터 추출하기"
   ]
  },
  {
   "cell_type": "code",
   "execution_count": null,
   "metadata": {},
   "outputs": [],
   "source": [
    "# 가독성을 위한 방법 1 : 구분 선 print(\"-\"*10)\n",
    "# 가독성을 위한 방법 2 : 쉼표를 넣어서 구분 print(a, )\n",
    "# 가독성을 위한 방법 2 : end 파라미터를 사용 print(a, end=\"\\n-------\\n\")"
   ]
  },
  {
   "cell_type": "code",
   "execution_count": null,
   "metadata": {},
   "outputs": [],
   "source": [
    "# 수집한 정보를 저장할 리스트 생성\n",
    "학과목록_리스트 = []\n",
    "\n",
    "# 전체 웹 페이지에서 '학과'만 추출\n",
    "college_list = soup.select(\".college_list\")\n",
    "# print(college_list)\n",
    "\n",
    "# item은 학과의 정보\n",
    "for item in college_list:\n",
    "    # print(item)\n",
    "    # print(\"-\"*30)\n",
    "\n",
    "\n",
    "    # 학과 이름\n",
    "    h5El = item.select(\"h5\")\n",
    "    name = h5El[0].text.strip()\n",
    "    # print(name)\n",
    "    # print(\"-\"*30)\n",
    "\n",
    "\n",
    "    # 상세보기 UR\n",
    "    viewEl = item.select(\".view\")\n",
    "    # href 속성을 가져오기 위해 attrs 내부의 href 호출\n",
    "    view = viewEl[0].attrs['href']\n",
    "    if view.find(\"https://www.sookmyung.ac.kr\") == -1:\n",
    "        view = \"https://www.sookmyung.ac.kr\" + view\n",
    "    # print(view)\n",
    "    # print(\"-\"*30)\n",
    "    \n",
    "\n",
    "    #---------------------------------------\n",
    "    # PDF 파일 크롤링, 저장을 위한 변수 변경(step3)\n",
    "    #---------------------------------------\n",
    "    # 학과소개 pdf\n",
    "    pdfEl = item.select(\".info\")\n",
    "    pdf = pdfEl[0].attrs['href']\n",
    "    # print(pdf)\n",
    "    # print(\"-\"*30)\n",
    "\n",
    "    # 학과홈페이지\n",
    "    # soup은 웹 페이지 전체\n",
    "    # item은 \n",
    "    homepageEl = item.select(\".homepage\")\n",
    "    # href 속성을 가져오기 위해 attrs 내부의 href 호출\n",
    "    homepage = homepageEl[0].attrs['href']\n",
    "\n",
    "    # 수집한 값들을 딕셔너리로 묶은 후 리스트에 추가\n",
    "    college_dict = {\"학과이름\": name , \"상세페이지\": view, \"홈페이지\": homepage}\n",
    "    \n",
    "\n",
    "    #---------------------------------------\n",
    "    # 상세보기 URL을 새롭게 수집03-학과수집(step2)\n",
    "    # 기본 class 이후 class가 부재하므로 일일이 노가다해서 확인, 추출\n",
    "    #---------------------------------------\n",
    "    r = session.get(view)\n",
    "\n",
    "    # 에러코드와 에러메시지 출력\n",
    "    if r.status_code != 200:\n",
    "        msg = \"[%d Error] %s 에러가 발생\" % (r.status_code, r.reason)\n",
    "        print(msg)\n",
    "        continue\n",
    "\n",
    "    r.encoding = \"utf-8\"\n",
    "    detailSoup = BeautifulSoup(r.text)\n",
    "    # print(detailSoup)\n",
    "    \n",
    "\n",
    "    # 같은 구조를 갖는 전화번호, 팩스번호, 위치, 이메일주소 추출\n",
    "    # 자손연산자를 사용 (자식 연산자는 '>'로 파일 하나하나 다 설정)\n",
    "    infoEl = detailSoup.select(\".college_info_data dl\")\n",
    "    # print(infoEl)\n",
    "    # print(\"-\" * 50)\n",
    "\n",
    "\n",
    "    for info in infoEl:\n",
    "        # print(info)\n",
    "        # dt와 dd는 class 내부의 정보를 담고 있는 부분\n",
    "        dt = info.select(\"dt\")[0].text.replace(\":\", \"\").strip()\n",
    "        dd = info.select(\"dd\")[0].text.replace(\":\", \"\").strip()\n",
    "        # print(dt, dd)\n",
    "        # print(\"-\" * 50)\n",
    "        college_dict[dt] = dd\n",
    "    #---------------------------------------\n",
    "    # 상세보기 URL을 새롭게 수집03-학과수집(step2) 끝\n",
    "    # 기본 class 이후 class가 부재하므로 일일이 노가다해서 확인, 추출\n",
    "    #---------------------------------------\n",
    "    학과목록_리스트.append(college_dict)\n",
    "    # print(school_lsit)\n",
    "\n",
    "    #---------------------------------------\n",
    "    # PDF 파일 크롤링, 저장(step3)\n",
    "    #---------------------------------------\n",
    "    # pdf 파일 다운로드\n",
    "    # url 저장하고 있는 변수는 pdf로 변경\n",
    "    r = session.get(pdf, stream=True)\n",
    "    # 정상 접근일 경우\n",
    "    if r.status_code == 200:\n",
    "        r.encoding = 'utf-8'\n",
    "        with open(\"%s.pdf\" % name, 'wb') as f:\n",
    "            f.write(r.raw.read())\n"
   ]
  },
  {
   "cell_type": "code",
   "execution_count": null,
   "metadata": {},
   "outputs": [],
   "source": [
    "# 상세보기 URL에 view 처리를 하는 이유\n",
    "# 가져온 페이지 주소의 예) /sookmyungkr/1012/subview.do\n",
    "# 같은 사이트 안에서 이동할 때는 앞부분 \"https:.sookmyung.ac.kr\"을 생략 가능하지만\n",
    "# 외부에서 직접 접근할 때는 반드시 전체 주소가 필요함.\n",
    "# 가져온 값이 전체주소가 아니므로 검사하여 누락된 부분을 덧붙여야 한다.\n",
    "# 결론\n",
    "# 내부에서 웹 사이트 접근 시 부분 주소가 가능하지만\n",
    "# 외부에서 웹 사이트 접근 시 전체 주소가 요구됨"
   ]
  },
  {
   "cell_type": "code",
   "execution_count": null,
   "metadata": {},
   "outputs": [],
   "source": [
    "df = DataFrame(학과목록_리스트)\n",
    "df.to_excel(\"result3.xlsx\", index = False)\n",
    "df"
   ]
  },
  {
   "cell_type": "code",
   "execution_count": null,
   "metadata": {},
   "outputs": [],
   "source": [
    "df = DataFrame(학과목록_리스트)\n",
    "df.to_excel(\"result2.xlsx\", index = False)\n",
    "df"
   ]
  },
  {
   "cell_type": "code",
   "execution_count": null,
   "metadata": {},
   "outputs": [],
   "source": []
  }
 ],
 "metadata": {
  "kernelspec": {
   "display_name": "Python 3",
   "language": "python",
   "name": "python3"
  },
  "language_info": {
   "codemirror_mode": {
    "name": "ipython",
    "version": 3
   },
   "file_extension": ".py",
   "mimetype": "text/x-python",
   "name": "python",
   "nbconvert_exporter": "python",
   "pygments_lexer": "ipython3",
   "version": "3.11.0"
  },
  "orig_nbformat": 4
 },
 "nbformat": 4,
 "nbformat_minor": 2
}
