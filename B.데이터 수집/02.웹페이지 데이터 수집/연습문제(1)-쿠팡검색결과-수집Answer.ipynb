{
 "cells": [
  {
   "attachments": {},
   "cell_type": "markdown",
   "metadata": {},
   "source": [
    "쿠팡에서 데이터 긁어오기"
   ]
  },
  {
   "attachments": {},
   "cell_type": "markdown",
   "metadata": {},
   "source": [
    "1. 패키지 설치"
   ]
  },
  {
   "cell_type": "code",
   "execution_count": null,
   "metadata": {},
   "outputs": [],
   "source": [
    "# requests : 온라인상의 데이터 수집\n",
    "import requests\n",
    "# BeautifulSoup : \n",
    "from bs4 import BeautifulSoup\n",
    "# pandas : 표 형식으로 데이터를 정리\n",
    "from pandas import DataFrame"
   ]
  },
  {
   "attachments": {},
   "cell_type": "markdown",
   "metadata": {},
   "source": [
    "2. 데이터 수집할 웹 페이지"
   ]
  },
  {
   "cell_type": "code",
   "execution_count": null,
   "metadata": {},
   "outputs": [],
   "source": [
    "# 수집할 컨텐츠가 있는 웹 페이지 주소\n",
    "url = \"https://www.coupang.com/np/search?q=%EB%85%B8%ED%8A%B8%EB%B6%81&listSize=72&channel=user\"\n",
    "\n",
    "# 브라우저 버전정보\n",
    "userAgent = 'Mozilla/5.0 (Windows NT 10.0; Win64; x64)AppleWebKit/537.36 (KHTML, like Gecko) Chrome/114.0.0.0 Safari/537.36'\n",
    "\n",
    "# 접속 객체 생성\n",
    "# request는 직접 header 정보 갱신이 불가능해 session 생성\n",
    "session = requests.Session()\n",
    "\n",
    "# 접속 객체에 부가정보(header) 삽입\n",
    "session.headers.update({\n",
    "    \"Referer\": \"\",\n",
    "    \"User-Agent\": userAgent,\n",
    "    \"Accept-Language\": \"ko-KR,ko;q=0.8,en-US;q=0.5,en;q=0.3\"\n",
    "})\n",
    "\n",
    "# 생성한 접속 객체를 활용해 API에 접속\n",
    "r = session.get(url)\n",
    "\n",
    "# 접속 실패 시 에러 코드와 에러 메시지 출력\n",
    "if r.status_code != 200:\n",
    "    msg = \"[%d Error] %s 에러 발생\"%(r.status_code, r.reason)\n",
    "    raise Exception(msg)\n",
    "\n",
    "# 인코딩 형식을 지정해 beautifulsoup 객체를 생성\n",
    "r.encoding = 'utf-8'\n",
    "# r 변수에 저장된 text 정보를 시각화, 확인\n",
    "# print(r.text)\n",
    "\n",
    "# BeautifulSoup 객체 soup를 생성\n",
    "soup = BeautifulSoup(r.text)\n",
    "soup"
   ]
  },
  {
   "attachments": {},
   "cell_type": "markdown",
   "metadata": {},
   "source": [
    "3. 필요한 내용 추출\\\n",
    "dataList에서 soup에 담겨지는 select의 범위를 비교해 볼 것"
   ]
  },
  {
   "cell_type": "code",
   "execution_count": null,
   "metadata": {},
   "outputs": [],
   "source": [
    "# class가 post인 요소의 데이터 추출\n",
    "# dataList = soup.select('.search-product')\n",
    "product = soup.select('.search-product-wrap')\n",
    "print(\"검색결과 수: \", len(product))"
   ]
  },
  {
   "attachments": {},
   "cell_type": "markdown",
   "metadata": {},
   "source": [
    "아래는 내가 짠 코드"
   ]
  },
  {
   "cell_type": "code",
   "execution_count": null,
   "metadata": {},
   "outputs": [],
   "source": [
    "# 추출할 데이터 삽입 리스트\n",
    "data = []\n",
    "\n",
    "for p in product:\n",
    "\n",
    "    # 상품 이름 추출\n",
    "    nameEl = p.select(\".name\")\n",
    "    if nameEl:\n",
    "        name = nameEl[0].text.strip()\n",
    "    else: \n",
    "        # 상품 이름이 없는 경우 처리\n",
    "        name = None\n",
    "    # print(name)\n",
    "    \n",
    "\n",
    "    # 가격(정가)\n",
    "    basePriceEl = p.select(\".base-price\")\n",
    "    if basePriceEl:\n",
    "        basePrice = int(basePriceEl[0].text.strip().replace(\",\", \"\"))\n",
    "    # .replace(\",\", \"/\")로 금액에 사용되는 ,를 공백으로 변경해 가겨의(문자열) int 변환 시 에러를 방지\n",
    "    else:\n",
    "        basePrice = None  # 결측치 생성(정가 없는 경우)\n",
    "    # print(basePrice)\n",
    "\n",
    "\n",
    "    # 할인율 추출\n",
    "    discountEl = p.select(\".instant-discount-rate\")\n",
    "    if discountEl:\n",
    "        discount = int(discountEl[0].text.strip().replace(\"%\",\"\"))/100\n",
    "        # 수치를 위해서는 숫자 값만 필요하므로 %는 삭제, 백분율을 위해 나누기 100\n",
    "    else:\n",
    "        discount = None # 결측치(정가 없는 경우)\n",
    "    # print(discount)\n",
    "\n",
    "\n",
    "    # 할인 가격 추출\n",
    "    priceEl = p.select(\".price-value\")\n",
    "    if priceEl:\n",
    "        price = int(priceEl[0].text.strip().replace(\",\", \"\"))\n",
    "        # 수치를 위해서는 숫자 값만 필요하므로 가격의 ,는 삭제\n",
    "    else:\n",
    "        price = None # 결측치(정가 없는 경우)\n",
    "    # print(discount)\n",
    "\n",
    "\n",
    "    # 별점 추출\n",
    "    ratingEl = p.select(\".rating\")\n",
    "    if ratingEl:\n",
    "        rating = float(ratingEl[0].text.strip())\n",
    "    else:\n",
    "        rating = None\n",
    "    # print(rating)\n",
    "\n",
    "\n",
    "    # 리뷰수 rating-total-count\n",
    "    reviewEl = p.select(\".rating-total-count\")\n",
    "    if reviewEl:\n",
    "        review = reviewEl[0].text.strip()\n",
    "        review = int(review[1:-1])\n",
    "        # int(review[1:-1])로 데이터의 괄호를 없애준다\n",
    "    else:\n",
    "        review = None\n",
    "    # print(review)\n",
    "\n",
    "\n",
    "    # # 상품 이미지는 blank 개념이 존재(현재 진도 범위를 벗어남)\n",
    "    # # 상품 이미지 주소\n",
    "    # imageEl = p.select(\".search-product-wrap-img\")\n",
    "    # if imageEl:\n",
    "    #     if \"data-img-src\" in imageEl[0].attrs:\n",
    "    #         image = \"https:\" + imageEl[0].attrs['data-img-src']\n",
    "    #     else:\n",
    "    #         image = \"https:\" + imageEl[0].attrs['src']\n",
    "    # else:\n",
    "    #     image = None\n",
    "    # #print(image)\n",
    "\n",
    "    # 중고상품 판별 조건\n",
    "    if not basePrice and not price:\n",
    "        continue\n",
    "\n",
    "    # 상품 하나에 대한 값들을 딕셔너리로 묶음\n",
    "    item = {\n",
    "        \"상품명\" : name,\n",
    "        \"가격\" : basePrice,\n",
    "        \"할인율\" : discount,\n",
    "        \"할인가\" : price,\n",
    "        \"별점\" : rating,\n",
    "        \"리뷰수\" : review\n",
    "    }\n",
    "    data.append(item)\n",
    "df = DataFrame(data)\n",
    "df"
   ]
  },
  {
   "attachments": {},
   "cell_type": "markdown",
   "metadata": {},
   "source": [
    "크롤링은 법적으로 불법이니 코드 공부는 상관없지만 결과물은 문제 생기니 엑셀, txt 등 파일로 저장하지 말 것"
   ]
  },
  {
   "cell_type": "code",
   "execution_count": null,
   "metadata": {},
   "outputs": [],
   "source": [
    "# # 수집한 정보를 excel 형식으로 저장\n",
    "# df = DataFrame(result)\n",
    "# df.to_excel(\"쿠팡상품정보.xlsx\", index=False)\n",
    "# df"
   ]
  },
  {
   "cell_type": "code",
   "execution_count": null,
   "metadata": {},
   "outputs": [],
   "source": []
  }
 ],
 "metadata": {
  "kernelspec": {
   "display_name": "Python 3",
   "language": "python",
   "name": "python3"
  },
  "language_info": {
   "codemirror_mode": {
    "name": "ipython",
    "version": 3
   },
   "file_extension": ".py",
   "mimetype": "text/x-python",
   "name": "python",
   "nbconvert_exporter": "python",
   "pygments_lexer": "ipython3",
   "version": "3.11.0"
  },
  "orig_nbformat": 4
 },
 "nbformat": 4,
 "nbformat_minor": 2
}
