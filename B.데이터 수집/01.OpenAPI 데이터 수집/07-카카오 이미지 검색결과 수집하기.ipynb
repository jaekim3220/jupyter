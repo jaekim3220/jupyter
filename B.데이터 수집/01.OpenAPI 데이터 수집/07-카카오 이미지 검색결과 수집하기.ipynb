{
 "cells": [
  {
   "attachments": {},
   "cell_type": "markdown",
   "metadata": {},
   "source": [
    "카카오 이미지 검색결과 수집하기"
   ]
  },
  {
   "attachments": {},
   "cell_type": "markdown",
   "metadata": {},
   "source": [
    "###### 패션 잡지에 넣을 봄을 주제로 한 옷차림을 알아보고자 한다. 해당 주제로 검색된 이미지를 수집하여라"
   ]
  },
  {
   "attachments": {},
   "cell_type": "markdown",
   "metadata": {},
   "source": [
    "kakao developers 참고"
   ]
  },
  {
   "cell_type": "code",
   "execution_count": null,
   "metadata": {},
   "outputs": [],
   "source": [
    "# 필요한 모듈 설정\n",
    "import requests\n",
    "# json 데이터\n",
    "import json\n",
    "# 데이터 시각화 처리\n",
    "from pandas import DataFrame\n",
    "# 운영 체제와 관련된 기능들을 제공\n",
    "import os"
   ]
  },
  {
   "cell_type": "code",
   "execution_count": null,
   "metadata": {},
   "outputs": [],
   "source": [
    "# 접속할 URL 설정\n",
    "\n",
    "urlFmt = \"https://dapi.kakao.com/v2/search/image?query={query}&page={page}&size={size}\""
   ]
  },
  {
   "cell_type": "code",
   "execution_count": null,
   "metadata": {},
   "outputs": [],
   "source": [
    "# 요청변수\n",
    "query = '봄 패션'\n",
    "page = 1\n",
    "size = 80\n",
    "key = '3b23dfd1bf5a535f83c2792589d13d21'"
   ]
  },
  {
   "cell_type": "code",
   "execution_count": null,
   "metadata": {},
   "outputs": [],
   "source": [
    "# 브라우저 버전 정보\n",
    "userAgent = 'Mozilla/5.0 (Windows NT 10.0; Win64; x64) AppleWebKit/537.36 (KHTML, like Gecko) Chrome/114.0.0.0 Safari/537.36'"
   ]
  },
  {
   "cell_type": "code",
   "execution_count": null,
   "metadata": {},
   "outputs": [],
   "source": [
    "# 접속객체 생성\n",
    "session = requests.Session()\n",
    "\n",
    "# 접속 객체에 부가정보 (header) 삽입\n",
    "session.headers.update({\n",
    "    \"Authorization\":\"KakaoAK %s\" %key\n",
    "})"
   ]
  },
  {
   "attachments": {},
   "cell_type": "markdown",
   "metadata": {},
   "source": [
    "이론상 4000장의 사진을 긁어오기 때문에 그 이하의 정보를 저장하고 싶으면 반복문에서 break를 걸어준다"
   ]
  },
  {
   "cell_type": "code",
   "execution_count": null,
   "metadata": {},
   "outputs": [],
   "source": [
    "# 다음 페이지 존재 여부(False인 동안은 while문 반복 유도)\n",
    "isEnd = False\n",
    "\n",
    "# 1페이지부터 시작\n",
    "page = 1\n",
    "\n",
    "# 저장된 이미지 카운트\n",
    "count = 0\n",
    "\n",
    "while (not isEnd):\n",
    "    # 여기는 이전(05, 06)코드\n",
    "    url = urlFmt.format(query=query,page=page,size=size)\n",
    "    url\n",
    "    # 생성한 접속객체를 활용하여 API에 접속\n",
    "    r = session.get(url)\n",
    "\n",
    "    # 접속 실패 시 에러 메시지\n",
    "    if r.status_code != 200:\n",
    "        msg = \"[%d Error] %s 에러 발생\" % (r.status_code, r.reason)\n",
    "        raise Exception(msg)\n",
    "    \n",
    "    # 인코딩 형식 지정\n",
    "    r.encoding = \"utf-8\"\n",
    "    # 가져온 문자열을 딕셔너리로 변환\n",
    "    data = json.loads(r.text)\n",
    "    # data\n",
    "    # 여기까지 이전(05, 06)코드\n",
    "\n",
    "    # 검색 결과를 가지고 있는 딕셔너리 포함 리스트 추출\n",
    "    searchList = data ['documents']\n",
    "\n",
    "    # 증감식에 해당하는 isEnd 변수 추출\n",
    "    isEnd = bool(data['meta']['is_end'])\n",
    "    page+=1\n",
    "    print(\"isEnd=\",isEnd,\"/ 다음페이지=\",page)\n",
    "\n",
    "    # 이미지 저장 폴더 생성\n",
    "    # 현재 폴더에 query로된 이름의 폴더가 없으면\n",
    "    # query를 사용해 폴더 생성\n",
    "    # 상대경로는 그냥 이름(현재 폴더)\n",
    "    # 절대경로는 C 또는 //로 시작하는 폴더 이름\n",
    "    if os.path.exists(query) == False:\n",
    "        os.mkdir(query)\n",
    "    \n",
    "    # 이미지 저장\n",
    "    for i, v in enumerate(searchList):\n",
    "        # 숫자 카운트\n",
    "        count += 1\n",
    "\n",
    "        # 이미지 URL 추출\n",
    "        docUrl = v['doc_url']\n",
    "        imageUrl = v['image_url']\n",
    "        print(imageUrl)\n",
    "\n",
    "        # 접속객체에 부가정보(header) 삽입하기\n",
    "        session.headers.update({\n",
    "            \"Authorization\" : \"KakaoAK %s\" % key,\n",
    "            \"Referer\" : docUrl,\n",
    "            \"User-Agen\": userAgent\n",
    "        })\n",
    "\n",
    "        # 텍스트 이외의 파일 형식을 가져오기 위해 stream 파라미터 추가\n",
    "        try:\n",
    "            # 다운로드를 위해 stram=True\n",
    "            r = session.get(imageUrl, stream=True)\n",
    "        except:\n",
    "            continue\n",
    "        # 다운로드에 실패한 경우 다음 이미지로 이동\n",
    "        if r.status_code != 200:\n",
    "            continue\n",
    "\n",
    "        # 파일이름 설정\n",
    "        # query폴더에 nnnnn.png로 저장\n",
    "        fileName = \"%s/%05d.png\" % (query, count)\n",
    "\n",
    "        with open(fileName, 'wb') as f:\n",
    "            # 통신으로 가져온 내용의 바이너리(기계어)를 직접 추출\n",
    "            f.write(r.raw.read())\n",
    "            print(fileName, \"(이)가 저장\")\n",
    "print(\"종료\")"
   ]
  },
  {
   "cell_type": "code",
   "execution_count": null,
   "metadata": {},
   "outputs": [],
   "source": []
  }
 ],
 "metadata": {
  "kernelspec": {
   "display_name": "Python 3",
   "language": "python",
   "name": "python3"
  },
  "language_info": {
   "codemirror_mode": {
    "name": "ipython",
    "version": 3
   },
   "file_extension": ".py",
   "mimetype": "text/x-python",
   "name": "python",
   "nbconvert_exporter": "python",
   "pygments_lexer": "ipython3",
   "version": "3.11.0"
  },
  "orig_nbformat": 4
 },
 "nbformat": 4,
 "nbformat_minor": 2
}
