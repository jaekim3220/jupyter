{
 "cells": [
  {
   "attachments": {},
   "cell_type": "markdown",
   "metadata": {},
   "source": [
    "파파고 번역기"
   ]
  },
  {
   "attachments": {},
   "cell_type": "markdown",
   "metadata": {},
   "source": [
    "* 모듈 설치"
   ]
  },
  {
   "cell_type": "code",
   "execution_count": null,
   "metadata": {},
   "outputs": [],
   "source": [
    "import chromedriver_autoinstaller\n",
    "from selenium import webdriver\n",
    "from selenium.webdriver.common.by import By\n",
    "from selenium.webdriver.support.ui import WebDriverWait\n",
    "from bs4 import BeautifulSoup\n",
    "from pandas import DataFrame\n",
    "import time\n",
    "import datetime as dt"
   ]
  },
  {
   "attachments": {},
   "cell_type": "markdown",
   "metadata": {},
   "source": [
    "* 번역할 파일 가져오기\n",
    "----------\n",
    "###### 행 단위로 입력된 영문 텍스트 파일"
   ]
  },
  {
   "cell_type": "code",
   "execution_count": null,
   "metadata": {},
   "outputs": [],
   "source": [
    "# 파일 가져올 변수 초기화\n",
    "source = None\n",
    "with open(\"news.txt\", \"r\", encoding='utf-8') as f:\n",
    "    source = f.readlines()\n",
    "# 행 단위로 잘 입력 됐는지 확인\n",
    "# source"
   ]
  },
  {
   "attachments": {},
   "cell_type": "markdown",
   "metadata": {},
   "source": [
    "* 웹 브라우저 준비"
   ]
  },
  {
   "cell_type": "code",
   "execution_count": null,
   "metadata": {},
   "outputs": [],
   "source": [
    "# 크롬 드라이버 자동 설치\n",
    "chromedriver_autoinstaller.install()\n",
    "\n",
    "# 크롬 드라이버를 통해 크롬 실행\n",
    "driver = webdriver.Chrome()\n",
    "\n",
    "# 브라우저 준비될 때 까지 최대 5초 대기\n",
    "driver.implicitly_wait(5)\n",
    "\n",
    "# 파파고 페이지로 이동\n",
    "driver.get(\"https://papago.naver.com/\")\n",
    "# 최대 3초 대기\n",
    "time.sleep(3)"
   ]
  },
  {
   "attachments": {},
   "cell_type": "markdown",
   "metadata": {},
   "source": [
    "* 번역 수행"
   ]
  },
  {
   "cell_type": "code",
   "execution_count": null,
   "metadata": {},
   "outputs": [],
   "source": [
    "# 번역 결과 저장할 텍스트 파일 생성\n",
    "fileName = dt.datetime.now().strftime(\"%y%m%d_%H%M%S.md\")\n",
    "\n",
    "with open(fileName, \"w\", encoding=\"utf-8\") as f:\n",
    "    \n",
    "    # 읽어올 텍스트의 원소(행)만큼 반복\n",
    "    for s in source:\n",
    "\n",
    "        # 줄바꿈 문자 등 앞/뒤 공백 제거\n",
    "        s = s.strip()\n",
    "\n",
    "        # 번역할 내용이 빈 행이라면 다음 문장으로 이동\n",
    "        if not s:\n",
    "            continue\n",
    "        \n",
    "        print(s)\n",
    "\n",
    "\n",
    "        # 번역할 원문 입력 장소의 요소 취득\n",
    "        txtSource = WebDriverWait(driver, 3).until(lambda x : x.find_element(By.CSS_SELECTOR, \"#txtSource\"))\n",
    "        # 기존 입력내용 삭제\n",
    "        txtSource.clear()\n",
    "        # 번역할 한 행을 입력 장소에 키보드로 입력\n",
    "        txtSource.send_keys(s)\n",
    "\n",
    "\n",
    "        # 번역 버튼 요소 취득\n",
    "        btnTranslate = WebDriverWait(driver, 3).until(lambda x : x.find_element(By.CSS_SELECTOR, \"#btnTranslate\"))\n",
    "        # 번역 버튼 클릭\n",
    "        btnTranslate.click()\n",
    "\n",
    "        # 번역되는 동안 1초 대기\n",
    "        time.sleep(1)\n",
    "\n",
    "        #----------------------------------------------\n",
    "\n",
    "        # 번역결과 표시 요소 취득\n",
    "        txtTarget = WebDriverWait(driver, 3).until(lambda x : x.find_element(By.CSS_SELECTOR, \"#txtTarget\"))\n",
    "        # 공백 제거 후 번역 결과 추출\n",
    "        currentTrans = txtTarget.text.strip()\n",
    "        print(currentTrans)\n",
    "\n",
    "        # 번역이 되는 동안 1초 대기\n",
    "        time.sleep(1)\n",
    "        #----------------------------------------------\n",
    "\n",
    "        # 번역 결과를 파일에 기록\n",
    "        # 원문 기록\n",
    "        f.write(s)\n",
    "        # 줄바꿈 2회\n",
    "        f.write(\"\\n\\n\")\n",
    "        # 마크다운 선언\n",
    "        f.write(\"> \")\n",
    "        # 번역 결과 기록\n",
    "        f.write(currentTrans)\n",
    "        # 다음 기록을 위해 줄바꿈 2회\n",
    "        f.write(\"\\n\\n\")\n",
    "\n",
    "print(\"----------작업 종료----------\")"
   ]
  },
  {
   "cell_type": "code",
   "execution_count": null,
   "metadata": {},
   "outputs": [],
   "source": []
  }
 ],
 "metadata": {
  "kernelspec": {
   "display_name": "Python 3",
   "language": "python",
   "name": "python3"
  },
  "language_info": {
   "codemirror_mode": {
    "name": "ipython",
    "version": 3
   },
   "file_extension": ".py",
   "mimetype": "text/x-python",
   "name": "python",
   "nbconvert_exporter": "python",
   "pygments_lexer": "ipython3",
   "version": "3.11.0"
  },
  "orig_nbformat": 4
 },
 "nbformat": 4,
 "nbformat_minor": 2
}
