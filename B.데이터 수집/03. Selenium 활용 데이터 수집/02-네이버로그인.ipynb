{
 "cells": [
  {
   "attachments": {},
   "cell_type": "markdown",
   "metadata": {},
   "source": [
    "네이버 로그인"
   ]
  },
  {
   "cell_type": "code",
   "execution_count": 1,
   "metadata": {},
   "outputs": [],
   "source": [
    "# ChromeDriver 자동 설치 모듈\n",
    "import chromedriver_autoinstaller\n",
    "# 크롬 제어용 객체\n",
    "from selenium import webdriver\n",
    "# 크롬이 웹 페이지 로딩 완료할 때까지 최대 n초간 대기\n",
    "from selenium.webdriver.support.ui import WebDriverWait\n",
    "# 원하는 부분 추출 방식을 지정하는 객체\n",
    "from selenium.webdriver.common.by import By\n",
    "from bs4 import BeautifulSoup\n",
    "from pandas import DataFrame\n",
    "# 지정된 시간동안 랙을 거는 모듈\n",
    "import time"
   ]
  },
  {
   "attachments": {},
   "cell_type": "markdown",
   "metadata": {},
   "source": [
    "* 크롬 브라우저 가동"
   ]
  },
  {
   "attachments": {},
   "cell_type": "markdown",
   "metadata": {},
   "source": [
    "보안이 강한 웹 페이지는 JS등으로 크롤링이 불가\\\n",
    "따라서 페이지의 정보를 새로운 브라우저에 할당해\\\n",
    "크롤링이 가능하도록 유도"
   ]
  },
  {
   "cell_type": "code",
   "execution_count": 2,
   "metadata": {},
   "outputs": [],
   "source": [
    "# 크롬 드라이버 자동 설치\n",
    "chromedriver_autoinstaller.install()\n",
    "\n",
    "# 크롬드라이버를 통해 크롬 실행\n",
    "driver = webdriver.Chrome()\n",
    "\n",
    "# 크롬 브라우저 준비될 때 까지 최대 5초 대기\n",
    "driver.implicitly_wait(5)"
   ]
  },
  {
   "attachments": {},
   "cell_type": "markdown",
   "metadata": {},
   "source": [
    "* 크롬 브라우저 페이지 이동"
   ]
  },
  {
   "cell_type": "code",
   "execution_count": 3,
   "metadata": {},
   "outputs": [],
   "source": [
    "# 네이버 로그인 페이지로 이동\n",
    "driver.get(\"https://nid.naver.com/nidlogin.login?mode=form&url=https://www.naver.com/\")\n",
    "\n",
    "# 페이지 로딩 완료될 때 까지 1초간 대기\n",
    "time.sleep(1)"
   ]
  },
  {
   "attachments": {},
   "cell_type": "markdown",
   "metadata": {},
   "source": [
    "* 아이디, 비밀번호 자동 입력"
   ]
  },
  {
   "cell_type": "code",
   "execution_count": 5,
   "metadata": {},
   "outputs": [],
   "source": [
    "# 최대 3초까지 대기 하면서 id속성값이 `id`인 요소를 찾아서 id_input에 저장\n",
    "id_input = WebDriverWait(driver,3).until(lambda x: x.find_element(By.CSS_SELECTOR, \"#id\"))\n",
    "# id_input에 키보드 입력을 전달\n",
    "id_input.send_keys(\"본인네이버아이디\")"
   ]
  },
  {
   "cell_type": "code",
   "execution_count": 6,
   "metadata": {},
   "outputs": [],
   "source": [
    "# 같은 방식으로 비밀번호 입력\n",
    "pw_input = WebDriverWait(driver, 3).until(lambda x:x.find_element(By.CSS_SELECTOR, \"#pw\"))\n",
    "\n",
    "pw_input.send_keys(\"네이버비밀번호\")"
   ]
  },
  {
   "cell_type": "code",
   "execution_count": 7,
   "metadata": {},
   "outputs": [],
   "source": [
    "# 버튼객체 취득\n",
    "# 버튼은 class로 실행\n",
    "login_button = WebDriverWait(driver, 3).until(lambda x: x.find_element(By.CSS_SELECTOR, \".btn_login\"))\n",
    "\n",
    "# 버튼 클릭\n",
    "login_button.click()\n",
    "\n",
    "# 로그인이 처리되는 동안 3초간 대기\n",
    "time.sleep(3)"
   ]
  },
  {
   "attachments": {},
   "cell_type": "markdown",
   "metadata": {},
   "source": [
    "보안에 신경쓰는 빅테크는 반자동 개입을 요구해서 다중보안 페이지로 이동(이때 반자동 개입 요구)"
   ]
  }
 ],
 "metadata": {
  "kernelspec": {
   "display_name": "Python 3",
   "language": "python",
   "name": "python3"
  },
  "language_info": {
   "codemirror_mode": {
    "name": "ipython",
    "version": 3
   },
   "file_extension": ".py",
   "mimetype": "text/x-python",
   "name": "python",
   "nbconvert_exporter": "python",
   "pygments_lexer": "ipython3",
   "version": "3.11.0"
  },
  "orig_nbformat": 4
 },
 "nbformat": 4,
 "nbformat_minor": 2
}
