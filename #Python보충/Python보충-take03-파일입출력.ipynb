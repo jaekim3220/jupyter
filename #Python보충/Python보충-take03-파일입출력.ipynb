{
 "cells": [
  {
   "attachments": {},
   "cell_type": "markdown",
   "metadata": {},
   "source": [
    "#03 파이썬 보충 Take 03"
   ]
  },
  {
   "attachments": {},
   "cell_type": "markdown",
   "metadata": {},
   "source": [
    "#01. 파일 입출력 객체를 위한 open 함수"
   ]
  },
  {
   "attachments": {},
   "cell_type": "markdown",
   "metadata": {},
   "source": [
    "* 파일쓰기"
   ]
  },
  {
   "cell_type": "code",
   "execution_count": 7,
   "metadata": {},
   "outputs": [],
   "source": [
    "# 새로운 파일 생성, 혹은 기존의 파일 열기\n",
    "# 파일 경로와 파일 열기 모드 설정\n",
    "# r:읽기, w:쓰기(내용 덮어쓰기), a:추가(기존 내용 유지)"
   ]
  },
  {
   "cell_type": "code",
   "execution_count": 8,
   "metadata": {},
   "outputs": [],
   "source": [
    "f = open(\"helloworld.txt\", \"w\", encoding=\"utf-8\")\n",
    "\n",
    "# 파일에 내용 기록\n",
    "# 두 문장을 연달아서 한 줄에 기록\n",
    "# 줄바꿈은 \\n 사용\n",
    "f.write(\"!!!Hello Python!!!\\n\")\n",
    "f.write(\"!!!안녕 파이썬!!!\\n\")\n",
    "\n",
    "# open()함수를 단독으로 사용할 경우\n",
    "# 파일작업 완료 후 닫기를 반드시 수행\n",
    "f.close()"
   ]
  },
  {
   "attachments": {},
   "cell_type": "markdown",
   "metadata": {},
   "source": [
    "* 파일 읽기"
   ]
  },
  {
   "cell_type": "code",
   "execution_count": 9,
   "metadata": {},
   "outputs": [
    {
     "name": "stdout",
     "output_type": "stream",
     "text": [
      "!!!Hello Python!!!\n",
      "!!!안녕 파이썬!!!\n",
      "\n"
     ]
    }
   ],
   "source": [
    "# 이전에 생성한 파일을 읽기 위해 연다\n",
    "# 읽기모드 r 지정에 유의\n",
    "# 인코딩 방식은 저장 방식과 동일하게 지정(다르면 에러)\n",
    "f = open(\"helloworld.txt\", \"r\", encoding='utf-8')\n",
    "# 파일의 모든 내용을 한 번에 문자열로 읽는다\n",
    "data = f.read()\n",
    "print(data)\n",
    "f.close() \n",
    "# open()함수를 단독으로 사용할 경우 반드시 닫아라"
   ]
  },
  {
   "attachments": {},
   "cell_type": "markdown",
   "metadata": {},
   "source": [
    "#02. with 블록을 활용한 파일 입/출력"
   ]
  },
  {
   "attachments": {},
   "cell_type": "markdown",
   "metadata": {},
   "source": [
    "* 파일 쓰기"
   ]
  },
  {
   "cell_type": "code",
   "execution_count": 10,
   "metadata": {},
   "outputs": [
    {
     "name": "stdout",
     "output_type": "stream",
     "text": [
      "파일 저장 완료\n"
     ]
    }
   ],
   "source": [
    "# f.close()처리는 자동으로 수행하기 위해 변경\n",
    "# f = open(\"helloworld.html\", \"r\", encoding=\"utf-8\")\n",
    "# 새로운 hellopython.html 생성\n",
    "with open(\"hellopython.txt\", \"w\", encoding='utf-8') as f:\n",
    "    # with 블록 내에서만 파일 객체 f가 유효\n",
    "    for i in range(0, 10):\n",
    "        f.write(\"%d >> \" % i)\n",
    "        f.write(\"Life is too short, \")\n",
    "        f.write(\"you need python\\n\")\n",
    "    print(\"파일 저장 완료\")"
   ]
  },
  {
   "attachments": {},
   "cell_type": "markdown",
   "metadata": {},
   "source": [
    "* 파일 읽기"
   ]
  },
  {
   "cell_type": "code",
   "execution_count": 11,
   "metadata": {},
   "outputs": [
    {
     "name": "stdout",
     "output_type": "stream",
     "text": [
      "0 >> Life is too short, you need python\n",
      "1 >> Life is too short, you need python\n",
      "2 >> Life is too short, you need python\n",
      "3 >> Life is too short, you need python\n",
      "4 >> Life is too short, you need python\n",
      "5 >> Life is too short, you need python\n",
      "6 >> Life is too short, you need python\n",
      "7 >> Life is too short, you need python\n",
      "8 >> Life is too short, you need python\n",
      "9 >> Life is too short, you need python\n",
      "\n"
     ]
    }
   ],
   "source": [
    "# 읽기 모드로 파일 객체 생성\n",
    "# `w`에서 `r`로 모드가 변경되어야 하므로 \n",
    "# 파일 객체를 새로 생성\n",
    "with open(\"hellopython.txt\", \"r\", encoding='utf-8') as f:\n",
    "    # 파일 내용을 변수에 저장\n",
    "    data = f.read()\n",
    "    print(data)"
   ]
  },
  {
   "attachments": {},
   "cell_type": "markdown",
   "metadata": {},
   "source": [
    "* 파일 내용을 한 줄 씩 읽기"
   ]
  },
  {
   "cell_type": "code",
   "execution_count": 12,
   "metadata": {},
   "outputs": [
    {
     "name": "stdout",
     "output_type": "stream",
     "text": [
      "['!!!Hello Python!!!\\n', '!!!안녕 파이썬!!!\\n']\n",
      "----------\n",
      "읽어들인 데이터는 총 2 줄\n",
      "----------\n",
      "!!!Hello Python!!!\n",
      "!!!안녕 파이썬!!!\n"
     ]
    }
   ],
   "source": [
    "with open(\"helloworld.txt\", \"r\", encoding='utf-8') as f:\n",
    "    # 파일의 각 행을 원소로 갖는 리스트 생성\n",
    "    lines = f.readlines()\n",
    "    print(lines)\n",
    "    print(\"-\"*10)\n",
    "\n",
    "    # 전체 리스트 크기 확인\n",
    "    size = len(lines)\n",
    "    print(\"읽어들인 데이터는 총 %d 줄\" %size)\n",
    "    print(\"-\"*10)\n",
    "\n",
    "    for item in lines:\n",
    "        print(item.strip())"
   ]
  },
  {
   "cell_type": "code",
   "execution_count": null,
   "metadata": {},
   "outputs": [],
   "source": []
  }
 ],
 "metadata": {
  "kernelspec": {
   "display_name": "Python 3",
   "language": "python",
   "name": "python3"
  },
  "language_info": {
   "codemirror_mode": {
    "name": "ipython",
    "version": 3
   },
   "file_extension": ".py",
   "mimetype": "text/x-python",
   "name": "python",
   "nbconvert_exporter": "python",
   "pygments_lexer": "ipython3",
   "version": "3.11.0"
  },
  "orig_nbformat": 4
 },
 "nbformat": 4,
 "nbformat_minor": 2
}
