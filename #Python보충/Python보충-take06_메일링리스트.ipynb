{
 "cells": [
  {
   "attachments": {},
   "cell_type": "markdown",
   "metadata": {},
   "source": [
    "파이썬 보충 Take 6"
   ]
  },
  {
   "attachments": {},
   "cell_type": "markdown",
   "metadata": {},
   "source": [
    "> 메일링 리스트"
   ]
  },
  {
   "attachments": {},
   "cell_type": "markdown",
   "metadata": {},
   "source": [
    "* 메일 발송에 필요한 모듈 입력"
   ]
  },
  {
   "cell_type": "code",
   "execution_count": null,
   "metadata": {},
   "outputs": [],
   "source": [
    "import Sendmail\n",
    "import datetime as dt"
   ]
  },
  {
   "attachments": {},
   "cell_type": "markdown",
   "metadata": {},
   "source": [
    "* 날짜 성분 값 초기화"
   ]
  },
  {
   "cell_type": "code",
   "execution_count": null,
   "metadata": {},
   "outputs": [],
   "source": [
    "today = dt.datetime.now()\n",
    "year = today.year\n",
    "month = today.month\n",
    "day = today.day\n",
    "# 오늘 날짜 확인\n",
    "# print(year, month, day)"
   ]
  },
  {
   "attachments": {},
   "cell_type": "markdown",
   "metadata": {},
   "source": [
    "* 보내는 사람, 메일 제목"
   ]
  },
  {
   "cell_type": "code",
   "execution_count": null,
   "metadata": {},
   "outputs": [],
   "source": [
    "# 메일 발신자 정보\n",
    "fromAddr = \"jehyunkim21@naver.com\"\n",
    "# 네이버의 경우 fromAddr = \"운영지원틴 <jehyunkim21@naver.com>\"가 아닌\n",
    "# 순수하게 메일 주소만 기임 (인식을 못함)\n",
    "\n",
    "# 메일 제목 템플릿\n",
    "subjectTmpl = \"{name}님의 {yy}년 {mm}월 급여 명세서입니다.\""
   ]
  },
  {
   "attachments": {},
   "cell_type": "markdown",
   "metadata": {},
   "source": [
    "* 메일 본문 가져오기"
   ]
  },
  {
   "cell_type": "code",
   "execution_count": null,
   "metadata": {},
   "outputs": [],
   "source": [
    "with open(\"mail\\content.txt\", \"r\", encoding=\"utf-8\") as f:\n",
    "    contentTmpl = f.read()\n",
    "    # 가져온 mail\\content.txt가 잘 작동하는지 내용 확인\n",
    "    # print(contentTmpl)"
   ]
  },
  {
   "attachments": {},
   "cell_type": "markdown",
   "metadata": {},
   "source": [
    "* 수신자 목록에 대한 CSV파일에 대한 반복 수행"
   ]
  },
  {
   "cell_type": "code",
   "execution_count": null,
   "metadata": {},
   "outputs": [],
   "source": [
    "with open(\"mail\\mail_list.csv\", \"r\", encoding=\"euc-kr\") as f:\n",
    "    csv = f.readlines()\n",
    "    # 가져온 mail\\mail_list.csv가 잘 작동하는지 내용 확인\n",
    "    # print(csv)\n",
    "\n",
    "    # mail\\content.txt내용을 CSV 파일의 라인 수 만큼 반복\n",
    "    for line in csv:\n",
    "        # print(line)\n",
    "\n",
    "        # 여기서 name을 namea로 설정하면 다음에 사용하는 name과 구분이 가능하다\n",
    "        name, email, file1, file2 = line.strip().split(\",\")\n",
    "        # print(name, email, file1, file2)\n",
    "\n",
    "        # 메일 제목\n",
    "        subject = subjectTmpl.format(name=name, yy=year, mm=month)\n",
    "        # print(subject)\n",
    "\n",
    "        # 메일내용\n",
    "        content = contentTmpl.format(name=name, yy=year, mm=month, dd=day)\n",
    "        # print(content)\n",
    "\n",
    "        Sendmail.sendMail(fromAddr, email, subject, content, [file1, file2])\n",
    "        print(\"%s님에게 메일이 발송됐습니다.\" % email)"
   ]
  },
  {
   "cell_type": "code",
   "execution_count": null,
   "metadata": {},
   "outputs": [],
   "source": []
  }
 ],
 "metadata": {
  "kernelspec": {
   "display_name": "Python 3",
   "language": "python",
   "name": "python3"
  },
  "language_info": {
   "codemirror_mode": {
    "name": "ipython",
    "version": 3
   },
   "file_extension": ".py",
   "mimetype": "text/x-python",
   "name": "python",
   "nbconvert_exporter": "python",
   "pygments_lexer": "ipython3",
   "version": "3.11.0"
  },
  "orig_nbformat": 4
 },
 "nbformat": 4,
 "nbformat_minor": 2
}
