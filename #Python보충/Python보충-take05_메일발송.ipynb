{
 "cells": [
  {
   "attachments": {},
   "cell_type": "markdown",
   "metadata": {},
   "source": [
    "#파이썬 보충 Take5"
   ]
  },
  {
   "attachments": {},
   "cell_type": "markdown",
   "metadata": {},
   "source": [
    "###### 메일 발송"
   ]
  },
  {
   "cell_type": "code",
   "execution_count": null,
   "metadata": {},
   "outputs": [],
   "source": [
    "# 경로 정보를 취득\n",
    "import os\n",
    "# 발송서버와 연동하기 위한 모듈\n",
    "from smtplib import SMTP\n",
    "# 본문 구성 기능\n",
    "from email.mime.text import MIMEText\n",
    "# 파일을 Multipart 형식으로 변환\n",
    "from email.mime.application import MIMEApplication\n",
    "# 파일을 본문에 추가하는 기능 제공\n",
    "from email.mime.multipart import MIMEMultipart"
   ]
  },
  {
   "attachments": {},
   "cell_type": "markdown",
   "metadata": {},
   "source": [
    "* 메일 발송에 필요한 정보 설정"
   ]
  },
  {
   "cell_type": "code",
   "execution_count": null,
   "metadata": {},
   "outputs": [],
   "source": [
    "# 송신인 주소\n",
    "from_addr = \"jehyunkim21@naver.com\"\n",
    "\n",
    "# 수신인 주소\n",
    "to_addr = \"jehyunkim9@gmail.com\"\n",
    "\n",
    "# 제목\n",
    "subject = \"파이썬을 사용한 메일 발송 테스트 입니다.\"\n",
    "\n",
    "# 본문내용 작성\n",
    "# 삼중따옴표 안에서는 줄바꿈이 자유롭다\n",
    "content = \"\"\"안녕하세요. 이 메일은 파이썬을 사용한 메일입니다.\n",
    "이 메일을 활용해 스팸 메일 코드를 작성할 수 있습니다.\n",
    "수신인을 list로 작성하고 반복문을 돌리면 됩니다.\"\"\"\n",
    "\n",
    "# 첨부파일이 필요 없는 경우\n",
    "# files = []\n",
    "\n",
    "# 첨부파일이 필요한 경우 (파일이 실제로 존재해야 함)\n",
    "files = [\"hellopython.txt\", \"helloworld.txt\"]"
   ]
  },
  {
   "attachments": {},
   "cell_type": "markdown",
   "metadata": {},
   "source": [
    "* SMTP 연동 정보 설정"
   ]
  },
  {
   "cell_type": "code",
   "execution_count": null,
   "metadata": {},
   "outputs": [],
   "source": [
    "# 컨텐츠 형식 (plain or html)\n",
    "content_type = \"plain\"\n",
    "\n",
    "# 로그인 계정 이름 (네이버=아이디, 구글=메일주소)\n",
    "username = \"네이버아이디\"\n",
    "\n",
    "# 비밀번호 (네이버=개인비밀번호,애플리케이션 비밀번호, 구글=앱 비밀번호)\n",
    "password = \"네이버비번\"\n",
    "\n",
    "# 구글 발송 서버 주소와 포트 (고정값)\n",
    "smtp = \"smtp.gmail.com\"\n",
    "port = 587\n",
    "\n",
    "# 네이버 발송 서버 주소와 포트 (고정값)\n",
    "smtp = \"smtp.naver.com\"\n",
    "port = 465"
   ]
  },
  {
   "attachments": {},
   "cell_type": "markdown",
   "metadata": {},
   "source": [
    "* 메일 발송정보 구성"
   ]
  },
  {
   "cell_type": "code",
   "execution_count": null,
   "metadata": {},
   "outputs": [],
   "source": [
    "# 메일 발송 정보를 저장하기 위한 객체\n",
    "msg = MIMEMultipart()\n",
    "\n",
    "# 메일 제목\n",
    "msg['Subject'] = subject \n",
    "# 송신인\n",
    "msg[\"From\"] = from_addr\n",
    "# 수신인\n",
    "msg['To'] = to_addr\n",
    "\n",
    "# 본문 설정\n",
    "# 메일 내용과 형식 지정\n",
    "msg.attach(MIMEText(content, content_type))"
   ]
  },
  {
   "attachments": {},
   "cell_type": "markdown",
   "metadata": {},
   "source": [
    "* 메일 발송 정보에 첨부파일 추가"
   ]
  },
  {
   "cell_type": "code",
   "execution_count": null,
   "metadata": {},
   "outputs": [],
   "source": [
    "# 리스트 변수의 원소가 하나라도 존재할 경우 True\n",
    "# 이전에 설정한 files가 공백일 경우 건너뛴다\n",
    "if files:\n",
    "    for f in files:\n",
    "        # 바이너리 형식으로 읽기\n",
    "        with open(f, 'rb') as a_file:\n",
    "            # 전체 경로에서 파일 이름만 추출\n",
    "            basename = os.path.basename(f)\n",
    "            # 파일 내용과 파일 이름을 메일에 첨부할 형식으로 변환\n",
    "            part = MIMEApplication(a_file.read(), Name = basename)\n",
    "\n",
    "            # 파일첨부\n",
    "            part['Content-Disposition'] = 'attachment: filename = \"%s\"' %basename\n",
    "            msg.attach(part)"
   ]
  },
  {
   "attachments": {},
   "cell_type": "markdown",
   "metadata": {},
   "source": [
    "* 메일 보내기"
   ]
  },
  {
   "cell_type": "code",
   "execution_count": null,
   "metadata": {},
   "outputs": [],
   "source": [
    "mail = SMTP(smtp)\n",
    "# 메일 서버 접속\n",
    "mail.ehlo()\n",
    "# 메일 서버 연동 설정\n",
    "mail.starttls()\n",
    "# 메일 서버 로그인\n",
    "mail.login(username, password)\n",
    "# 메일 보내기\n",
    "mail.sendmail(from_addr, to_addr, msg.as_string())\n",
    "# 메일 서버 접속 종료\n",
    "mail.quit()"
   ]
  },
  {
   "cell_type": "code",
   "execution_count": null,
   "metadata": {},
   "outputs": [],
   "source": []
  }
 ],
 "metadata": {
  "kernelspec": {
   "display_name": "Python 3",
   "language": "python",
   "name": "python3"
  },
  "language_info": {
   "codemirror_mode": {
    "name": "ipython",
    "version": 3
   },
   "file_extension": ".py",
   "mimetype": "text/x-python",
   "name": "python",
   "nbconvert_exporter": "python",
   "pygments_lexer": "ipython3",
   "version": "3.11.0"
  },
  "orig_nbformat": 4
 },
 "nbformat": 4,
 "nbformat_minor": 2
}
