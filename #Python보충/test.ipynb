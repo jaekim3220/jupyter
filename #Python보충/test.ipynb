{
 "cells": [
  {
   "attachments": {},
   "cell_type": "markdown",
   "metadata": {},
   "source": [
    "정렬 알고리즘\n",
    "for i in range(0, len(리스트)-1):\n",
    "    for j in range(i+1, len(리스트)):\n",
    "        if 리스트[i]>리스트[j]:\n",
    "            리스트[i],리스트[j] = 리스트[j],리스트[i]"
   ]
  },
  {
   "cell_type": "code",
   "execution_count": 1,
   "metadata": {},
   "outputs": [
    {
     "name": "stdout",
     "output_type": "stream",
     "text": [
      "23920000\n",
      "21973000.0\n",
      "1947000.0\n"
     ]
    }
   ],
   "source": [
    "# 문제 1\n",
    "a = 89000\n",
    "b = 751000\n",
    "c = a*100+b*20\n",
    "print(c)\n",
    "# 문제 2\n",
    "a1 = a*0.95\n",
    "b1 = b*0.9\n",
    "c1 = a1*100+b1*20\n",
    "print(c1)\n",
    "d=c-c1\n",
    "print(d)"
   ]
  },
  {
   "cell_type": "code",
   "execution_count": 7,
   "metadata": {},
   "outputs": [
    {
     "name": "stdout",
     "output_type": "stream",
     "text": [
      "55.5kg\n",
      "1.78m\n",
      "17.516727685898246 \n",
      "\n",
      "저체중\n"
     ]
    }
   ],
   "source": [
    "myWeight = float(input(\"체중 입력(kg) : \"))\n",
    "print(myWeight, end='kg\\n')\n",
    "myHeight = float(input(\"신장 입력(m) : \"))\n",
    "print(myHeight, end='m\\n')\n",
    "\n",
    "BMI = myWeight/pow(myHeight,2)\n",
    "print(BMI,\"\\n\")\n",
    "if BMI < 20:\n",
    "    print(\"저체중\")\n",
    "elif BMI >= 20 and BMI<=24:\n",
    "    print(\"정상\")\n",
    "elif BMI >= 25 and BMI<=29:\n",
    "    print(\"과체중\")\n",
    "else:\n",
    "    print(\"비만\")"
   ]
  },
  {
   "cell_type": "code",
   "execution_count": 2,
   "metadata": {},
   "outputs": [
    {
     "name": "stdout",
     "output_type": "stream",
     "text": [
      "Daum KaKao\n",
      "KaKao Daum\n"
     ]
    }
   ],
   "source": [
    "# 문제 4\n",
    "s = 'Daum KaKao'\n",
    "print(s)\n",
    "s1 = s[5:] + ' ' + s[:4]\n",
    "print(s1)"
   ]
  },
  {
   "cell_type": "code",
   "execution_count": 1,
   "metadata": {},
   "outputs": [
    {
     "name": "stdout",
     "output_type": "stream",
     "text": [
      "폴더의 위치 : C:\\myphoto\n",
      "파일이름 : helloworld\n",
      "확장자 : jpg\n"
     ]
    }
   ],
   "source": [
    "# 문제 5\n",
    "# find 함수를 사용한 문제 풀이\n",
    "url = \"C:\\\\myphoto\\\\helloworld.jpg\"\n",
    "\n",
    "# 마지막 역슬레시 위치\n",
    "u1 = url.rfind(\"\\\\\")\n",
    "\n",
    "# 마지막 점(.) 위치\n",
    "u2 = url.rfind(\".\")\n",
    "\n",
    "# 폴더 위치\n",
    "folder = url[:u1]\n",
    "print(\"폴더의 위치 : %s\" % folder)\n",
    "\n",
    "# 파일 이름\n",
    "file = url[u1+1:u2]\n",
    "print(\"파일이름 : %s\" %file)\n",
    "\n",
    "# 확장자\n",
    "ext = url[u2+1:]\n",
    "\n",
    "print(\"확장자 : %s\" %ext)"
   ]
  },
  {
   "cell_type": "code",
   "execution_count": 17,
   "metadata": {},
   "outputs": [
    {
     "name": "stdout",
     "output_type": "stream",
     "text": [
      "90.33333333333333\n"
     ]
    }
   ],
   "source": [
    "# 문제 6\n",
    "score = [82,74,93,65,32,71,90,88,74]\n",
    "score.sort(reverse=True)\n",
    "result = 0\n",
    "for a in range(3):\n",
    "    result += score[a]\n",
    "avg = result/3\n",
    "print(avg)\n",
    "\n",
    "# sorted(score)는 파라미터를 받아서 정렬 값을 보여줌\n",
    "# score.sort는 return 값 없이 원본 자체를 바꾼다"
   ]
  },
  {
   "cell_type": "code",
   "execution_count": 4,
   "metadata": {},
   "outputs": [
    {
     "name": "stdout",
     "output_type": "stream",
     "text": [
      "90.33333333333333\n"
     ]
    }
   ],
   "source": [
    "# 문제 6(정렬함수 사용)\n",
    "score = [82,74,93,65,32,71,90,88,74]\n",
    "for i in range(0, len(score)-1):\n",
    "    for j in range(i+1, len(score)):\n",
    "        if score[i]<score[j]:\n",
    "            score[i], score[j] = score[j], score[i]\n",
    "total = 0\n",
    "for k in range(0,3):\n",
    "    total+=score[k]\n",
    "\n",
    "avg = total/3\n",
    "print(avg)"
   ]
  },
  {
   "cell_type": "code",
   "execution_count": null,
   "metadata": {},
   "outputs": [],
   "source": [
    "# 연령대 구하기\n",
    "age = int(input(\"나이를 입력하세요 : \"))\n",
    "if age >=0 and age <=9:\n",
    "    print(\"어린이입니다.\")\n",
    "elif age >=10 and age <=19:\n",
    "    print(\"10대입니다.\")\n",
    "elif age >=20 and age <=29:\n",
    "    print(\"20대입니다.\")\n",
    "elif age >=30 and age <=39:\n",
    "    print(\"30대입니다.\")\n",
    "elif age >=40 and age <=49:\n",
    "    print(\"40대입니다.\")\n",
    "elif age >=50 and age <=59:\n",
    "    print(\"50대입니다.\")\n",
    "else:\n",
    "    print(\"노년층입니다.\")\n",
    "# print(f\"당신은 {}입니다.\")"
   ]
  },
  {
   "cell_type": "code",
   "execution_count": null,
   "metadata": {},
   "outputs": [],
   "source": [
    "# 비만도\n",
    "myHeight = float(input(\"키 : \"))\n",
    "myWeight = float(input(\"체중 : \"))\n",
    "if myHeight<= 150:\n",
    "    standardWeight = myHeight-100\n",
    "else:\n",
    "    standardWeight = (myHeight-100)*0.9\n",
    "print(standardWeight)\n",
    "obesity = ((myWeight-standardWeight)/standardWeight)*100\n",
    "\n",
    "if obesity<=0.2:\n",
    "    print(\"안심\")\n",
    "elif obesity>0.2 and obesity<=0.3:\n",
    "    print(\"경도비만\")\n",
    "elif obesity>0.3 and obesity<=0.5:\n",
    "    print(\"중등도비만\")\n",
    "else:\n",
    "    print(\"고도비만\")"
   ]
  },
  {
   "cell_type": "code",
   "execution_count": null,
   "metadata": {},
   "outputs": [],
   "source": [
    "# 짝수의 합 구하기\n",
    "result = 0\n",
    "for a in range(0,101,2):\n",
    "    result+=a\n",
    "print(result)"
   ]
  },
  {
   "cell_type": "code",
   "execution_count": null,
   "metadata": {},
   "outputs": [],
   "source": [
    "blood = ['A', 'A', 'A', 'O', 'B', 'B', 'O', 'AB', 'AB', 'O']\n",
    "blood_dict = {}\n",
    "for a in blood:\n",
    "    if a in blood_dict:\n",
    "        blood_dict[a]+=1\n",
    "    else:\n",
    "        blood_dict[a] = 1\n",
    "print(blood_dict)"
   ]
  },
  {
   "cell_type": "code",
   "execution_count": null,
   "metadata": {},
   "outputs": [],
   "source": [
    "# 팩토리얼 구하기\n",
    "x = int(input(\"팩토리얼 : \"))\n",
    "result = 1\n",
    "for a in range(1,x+1):\n",
    "    result *= a\n",
    "print(result)"
   ]
  },
  {
   "cell_type": "code",
   "execution_count": null,
   "metadata": {},
   "outputs": [],
   "source": [
    "# 두 개의 주사위 던지기\n",
    "count = 0\n",
    "for dice1 in range(1,7):\n",
    "    for dice2 in range(1,7):\n",
    "        if dice1+dice2==6:\n",
    "            print([dice1,dice2])\n",
    "            count+=1\n",
    "print(f\"총 {count}가지의 수\")"
   ]
  },
  {
   "cell_type": "code",
   "execution_count": null,
   "metadata": {},
   "outputs": [],
   "source": [
    "# 공배수 구하기\n",
    "i = int(input(\"i 값 : \"))\n",
    "x = int(input(\"x 값 : \"))\n",
    "number = 0\n",
    "for a in range(1,101):\n",
    "    if a%(i*x)==0:\n",
    "        number+=a\n",
    "print(number)\n"
   ]
  },
  {
   "cell_type": "code",
   "execution_count": null,
   "metadata": {},
   "outputs": [],
   "source": [
    "# 일주일간의 시급\n",
    "time = [4,3,3,4,5,7,6]\n",
    "week = 9500\n",
    "weekend = 13000\n",
    "total_money = 0\n",
    "for a in range(len(time)):\n",
    "    if a <5:\n",
    "        total_money += time[a]*95000\n",
    "    else:\n",
    "        total_money += time[a]*13000\n",
    "print(f\"총 급여 : {total_money}\")\n"
   ]
  },
  {
   "cell_type": "code",
   "execution_count": null,
   "metadata": {},
   "outputs": [],
   "source": [
    "item = [{\"수량\":291,\"단가\":500},\n",
    "        {\"수량\":586,\"단가\":320},\n",
    "        {\"수량\":460,\"단가\":100},\n",
    "        {\"수량\":558,\"단가\":120}, \n",
    "        {\"수량\":72,\"단가\":30}]\n",
    "total_budget = 0\n",
    "for a in range(len(item)):\n",
    "    amount = item[a][\"수량\"]\n",
    "    price = (item[a][\"단가\"])*0.9\n",
    "    total_budget += amount*price\n",
    "print(f\"{round(total_budget,2)}골드\")"
   ]
  },
  {
   "cell_type": "code",
   "execution_count": null,
   "metadata": {},
   "outputs": [],
   "source": []
  }
 ],
 "metadata": {
  "kernelspec": {
   "display_name": "Python 3",
   "language": "python",
   "name": "python3"
  },
  "language_info": {
   "codemirror_mode": {
    "name": "ipython",
    "version": 3
   },
   "file_extension": ".py",
   "mimetype": "text/x-python",
   "name": "python",
   "nbconvert_exporter": "python",
   "pygments_lexer": "ipython3",
   "version": "3.11.0"
  },
  "orig_nbformat": 4
 },
 "nbformat": 4,
 "nbformat_minor": 2
}
