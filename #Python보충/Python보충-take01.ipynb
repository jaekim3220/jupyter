{
 "cells": [
  {
   "attachments": {},
   "cell_type": "markdown",
   "metadata": {},
   "source": [
    "#파이썬 보충 Take 1"
   ]
  },
  {
   "attachments": {},
   "cell_type": "markdown",
   "metadata": {},
   "source": [
    "#문자열 포메팅"
   ]
  },
  {
   "attachments": {},
   "cell_type": "markdown",
   "metadata": {},
   "source": [
    "1) 형식 문자 활용 포매팅"
   ]
  },
  {
   "cell_type": "code",
   "execution_count": 4,
   "metadata": {},
   "outputs": [
    {
     "data": {
      "text/plain": [
       "'나는 1000원을 가지고 있다'"
      ]
     },
     "execution_count": 4,
     "metadata": {},
     "output_type": "execute_result"
    }
   ],
   "source": [
    "# \"%\"연산자 뒤의 값이 %d를 치환한다 (%+문자), %d:정수, %s:문자, %f:실수\n",
    "str1 = \"나는 %d원을 가지고 있다\"%1000\n",
    "str1"
   ]
  },
  {
   "cell_type": "code",
   "execution_count": 13,
   "metadata": {},
   "outputs": [
    {
     "name": "stdout",
     "output_type": "stream",
     "text": [
      "10% 세일합니다\n"
     ]
    }
   ],
   "source": [
    "# 순수한 % 출력은 %%로 표현\n",
    "str2 = \"%d%% 세일합니다\"%10\n",
    "print(str2)"
   ]
  },
  {
   "cell_type": "code",
   "execution_count": 14,
   "metadata": {},
   "outputs": [
    {
     "name": "stdout",
     "output_type": "stream",
     "text": [
      "Python practice\n"
     ]
    }
   ],
   "source": [
    "word = \"Python\"\n",
    "str3 = \"%s practice\"%word\n",
    "print(str3)"
   ]
  },
  {
   "cell_type": "code",
   "execution_count": 21,
   "metadata": {},
   "outputs": [
    {
     "name": "stdout",
     "output_type": "stream",
     "text": [
      "모임 날짜는 2023년 6월 24일 입니다\n",
      "다음 모임 날짜는 2024년 6월 24일 입니다\n"
     ]
    }
   ],
   "source": [
    "# 여러 형식 문자를 사용한 예시\n",
    "str4 = \"%s 날짜는 %d년 %d월 %d일 입니다\"\n",
    "\n",
    "# 여러 형식 문자 치환 시 값을 괄호로 묶을 것\n",
    "msg1 = str4 % (\"모임\", 2023, 6, 24)\n",
    "print(msg1)\n",
    "msg2 = str4 % (\"다음 모임\", 2024, 6, 24)\n",
    "\n",
    "print(msg2)"
   ]
  },
  {
   "cell_type": "code",
   "execution_count": 9,
   "metadata": {},
   "outputs": [
    {
     "name": "stdout",
     "output_type": "stream",
     "text": [
      "[    120000]원 입금\n"
     ]
    }
   ],
   "source": [
    "# 자리수 지정 : 오른쪽 정렬, 빈 자리는 공백\n",
    "print(\"[%10d]원 입금\"%120000)"
   ]
  },
  {
   "cell_type": "code",
   "execution_count": 10,
   "metadata": {},
   "outputs": [
    {
     "name": "stdout",
     "output_type": "stream",
     "text": [
      "[0000120000]원 입금\n"
     ]
    }
   ],
   "source": [
    "# 자리수 지정 : 오른쪽 정렬, 빈 자리는 0\n",
    "print(\"[%010d]원 입금\"%120000)"
   ]
  },
  {
   "cell_type": "code",
   "execution_count": 11,
   "metadata": {},
   "outputs": [
    {
     "name": "stdout",
     "output_type": "stream",
     "text": [
      "[120000    ]원 입금\n"
     ]
    }
   ],
   "source": [
    "# 자리수 지정 : 왼쪽 정렬, 빈 자리 공백만 가능\n",
    "print(\"[%-10d]원 입금\"%120000)"
   ]
  },
  {
   "cell_type": "code",
   "execution_count": 22,
   "metadata": {},
   "outputs": [
    {
     "name": "stdout",
     "output_type": "stream",
     "text": [
      "[      대한민국]에 살고 있습니다.\n",
      "[대한민국      ]에 살고 있습니다.\n"
     ]
    }
   ],
   "source": [
    "# 문자열의 자리수 지정하기 -> 빈자리는 공백지정만 가능\n",
    "print(\"[%10s]에 살고 있습니다.\" % \"대한민국\")\n",
    "print(\"[%-10s]에 살고 있습니다.\" % \"대한민국\")"
   ]
  },
  {
   "cell_type": "code",
   "execution_count": 24,
   "metadata": {},
   "outputs": [
    {
     "name": "stdout",
     "output_type": "stream",
     "text": [
      "[12345.679]원 입니다.\n"
     ]
    }
   ],
   "source": [
    "# 실습을 위한 변수\n",
    "myMoney = 12345.6789\n",
    "# 소수점 3자리까지 표현하기 -> 소수점 4째자리에서 반올림.\n",
    "print(\"[%0.3f]원 입니다.\" % myMoney)"
   ]
  },
  {
   "attachments": {},
   "cell_type": "markdown",
   "metadata": {},
   "source": [
    "소수점도 자릿수에 포함됨"
   ]
  },
  {
   "cell_type": "code",
   "execution_count": 27,
   "metadata": {},
   "outputs": [
    {
     "name": "stdout",
     "output_type": "stream",
     "text": [
      "[ 12345.679]원 입니다.\n",
      "[12345.679 ]원 입니다.\n"
     ]
    }
   ],
   "source": [
    "# 소수점 3자리까지 표현하되 전체 글자수는 10글자 (빈자리 공백)\n",
    "# 오른쪽 정렬\n",
    "print(\"[%10.3f]원 입니다.\" % myMoney)\n",
    "#  왼쪽 정렬\n",
    "print(\"[%-10.3f]원 입니다.\" % myMoney)"
   ]
  },
  {
   "cell_type": "code",
   "execution_count": 28,
   "metadata": {},
   "outputs": [
    {
     "name": "stdout",
     "output_type": "stream",
     "text": [
      "[012345.679]원 입니다.\n"
     ]
    }
   ],
   "source": [
    "# 소수점 3자리까지 표현하되 전체 글자수는 10글자 (빈자리 0)\n",
    "# 빈 자리 0 할당은 오른쪽 정렬일 경우만 가능\n",
    "print(\"[%010.3f]원 입니다.\" % myMoney)"
   ]
  },
  {
   "attachments": {},
   "cell_type": "markdown",
   "metadata": {},
   "source": [
    "특수문자가 아닌 일반 문자로 사용하는 경우 2개씩 사용\n",
    "(%%, \\\\, {{}})"
   ]
  },
  {
   "cell_type": "code",
   "execution_count": 33,
   "metadata": {},
   "outputs": [
    {
     "name": "stdout",
     "output_type": "stream",
     "text": [
      "15% 세일합니다\n"
     ]
    }
   ],
   "source": [
    "# 순수한 % 출력은 %%로 표현\n",
    "sale = \"%d%% 세일합니다\"%15\n",
    "print(sale)"
   ]
  },
  {
   "cell_type": "code",
   "execution_count": 23,
   "metadata": {},
   "outputs": [
    {
     "name": "stdout",
     "output_type": "stream",
     "text": [
      "C:\\Users\\jehyu\\Desktop\\nationalsupport\\jupyter\n"
     ]
    }
   ],
   "source": [
    "path = \"C:\\\\Users\\\\jehyu\\\\Desktop\\\\nationalsupport\\\\jupyter\"\n",
    "print(path)"
   ]
  },
  {
   "cell_type": "code",
   "execution_count": 36,
   "metadata": {},
   "outputs": [
    {
     "name": "stdout",
     "output_type": "stream",
     "text": [
      "{{}}\n"
     ]
    }
   ],
   "source": [
    "slash = '{{}}'\n",
    "print(slash)"
   ]
  },
  {
   "cell_type": "markdown",
   "metadata": {},
   "source": [
    "2) format()  메서드 활용 포메팅"
   ]
  },
  {
   "cell_type": "code",
   "execution_count": 30,
   "metadata": {},
   "outputs": [
    {
     "name": "stdout",
     "output_type": "stream",
     "text": [
      "I eat 3 apples\n"
     ]
    }
   ],
   "source": [
    "# 0번째 위치에 format()함수에 전달된 0번째 값을 대입\n",
    "msg1 = \"I eat {0} apples\"\n",
    "print( msg1.format(3) )"
   ]
  },
  {
   "cell_type": "code",
   "execution_count": 31,
   "metadata": {},
   "outputs": [
    {
     "name": "stdout",
     "output_type": "stream",
     "text": [
      "개강일은 2023년 1월 26일 입니다.\n"
     ]
    }
   ],
   "source": [
    "# 여러 개의 값을 혼용하기\n",
    "msg2 = \"{0}은 {1}년 {2}월 {3}일 입니다.\"\n",
    "print( msg2.format(\"개강일\", 2023, 1, 26) )"
   ]
  },
  {
   "cell_type": "code",
   "execution_count": 39,
   "metadata": {},
   "outputs": [
    {
     "name": "stdout",
     "output_type": "stream",
     "text": [
      "종강일은 2023년 10월 20일 입니다.\n"
     ]
    }
   ],
   "source": [
    "# 이름으로 넣기 1\n",
    "# format() 메서드에 전달되는 파라미터 순서는 영향이 없다.\n",
    "msg3 = \"{name1}은 {y}년 {m}월 {d}일 입니다.\"\n",
    "print( msg3.format(m=10, name1=\"종강일\", d=20, y=2023) )"
   ]
  },
  {
   "cell_type": "code",
   "execution_count": 38,
   "metadata": {},
   "outputs": [
    {
     "name": "stdout",
     "output_type": "stream",
     "text": [
      "입학날짜는 2024년 06월 23일 입니다.\n"
     ]
    }
   ],
   "source": [
    "# 이름으로 넣기 2\n",
    "name = '입학날짜'\n",
    "yy = 2024\n",
    "mm = '06'\n",
    "dd = 23\n",
    "print(f\"{name}는 {yy}년 {mm}월 {dd}일 입니다.\")"
   ]
  },
  {
   "attachments": {},
   "cell_type": "markdown",
   "metadata": {},
   "source": [
    "# 구조분해"
   ]
  },
  {
   "cell_type": "code",
   "execution_count": 40,
   "metadata": {},
   "outputs": [
    {
     "name": "stdout",
     "output_type": "stream",
     "text": [
      "10 20 30\n"
     ]
    }
   ],
   "source": [
    "# 리스트 혹은 튜플에 대해\n",
    "mylist = [10, 20, 30]\n",
    "a = mylist[0]\n",
    "b = mylist[1]\n",
    "c = mylist[2]\n",
    "print(a, b, c)"
   ]
  },
  {
   "cell_type": "code",
   "execution_count": 41,
   "metadata": {},
   "outputs": [
    {
     "name": "stdout",
     "output_type": "stream",
     "text": [
      "10 20 30\n"
     ]
    }
   ],
   "source": [
    "x, y, z = mylist\n",
    "print(x, y, z)"
   ]
  },
  {
   "cell_type": "code",
   "execution_count": 42,
   "metadata": {},
   "outputs": [],
   "source": [
    "def foo(x, y):\n",
    "    a = x + y    \n",
    "    b = x - y    \n",
    "    return [a, b]"
   ]
  },
  {
   "cell_type": "code",
   "execution_count": 43,
   "metadata": {},
   "outputs": [
    {
     "data": {
      "text/plain": [
       "[100, 40]"
      ]
     },
     "execution_count": 43,
     "metadata": {},
     "output_type": "execute_result"
    }
   ],
   "source": [
    "bar = foo(70,30)\n",
    "bar"
   ]
  },
  {
   "cell_type": "code",
   "execution_count": 44,
   "metadata": {},
   "outputs": [
    {
     "name": "stdout",
     "output_type": "stream",
     "text": [
      "100 20\n"
     ]
    }
   ],
   "source": [
    "i,j = foo(60,40)\n",
    "print(i,j)"
   ]
  },
  {
   "attachments": {},
   "cell_type": "markdown",
   "metadata": {},
   "source": [
    "enumerate"
   ]
  },
  {
   "cell_type": "code",
   "execution_count": 49,
   "metadata": {},
   "outputs": [
    {
     "name": "stdout",
     "output_type": "stream",
     "text": [
      "10\n",
      "20\n",
      "30\n"
     ]
    }
   ],
   "source": [
    "# 매번 인덱스와 요소의 매핑을 다시 찾아함\n",
    "mylist = [10, 20, 30]\n",
    "\n",
    "# for i in range(0, len(mylist)):\n",
    "for i in range(len(mylist)):\n",
    "    print(mylist[i])"
   ]
  },
  {
   "cell_type": "code",
   "execution_count": 50,
   "metadata": {},
   "outputs": [
    {
     "name": "stdout",
     "output_type": "stream",
     "text": [
      "10\n",
      "20\n",
      "30\n"
     ]
    }
   ],
   "source": [
    "# 요소의 인덱스를 직접 추출하지 않기 때문에 몇 번 index인지 알 수 없다\n",
    "mylist = [10, 20, 30]\n",
    "\n",
    "for i in mylist:\n",
    "    print(i)"
   ]
  },
  {
   "cell_type": "code",
   "execution_count": 52,
   "metadata": {},
   "outputs": [
    {
     "name": "stdout",
     "output_type": "stream",
     "text": [
      "0 10\n",
      "1 20\n",
      "2 30\n"
     ]
    }
   ],
   "source": [
    "# enumerate를 사용해\n",
    "# 요소를 추출하면서 동시에 해당 요소의 인덱스에 접근\n",
    "mylist = [10, 20, 30]\n",
    "\n",
    "for i, v in enumerate(mylist):\n",
    "    # i는 index, v는 요소 값\n",
    "    print(i, v)"
   ]
  },
  {
   "cell_type": "code",
   "execution_count": null,
   "metadata": {},
   "outputs": [],
   "source": []
  }
 ],
 "metadata": {
  "kernelspec": {
   "display_name": "Python 3",
   "language": "python",
   "name": "python3"
  },
  "language_info": {
   "codemirror_mode": {
    "name": "ipython",
    "version": 3
   },
   "file_extension": ".py",
   "mimetype": "text/x-python",
   "name": "python",
   "nbconvert_exporter": "python",
   "pygments_lexer": "ipython3",
   "version": "3.11.0"
  },
  "orig_nbformat": 4
 },
 "nbformat": 4,
 "nbformat_minor": 2
}
