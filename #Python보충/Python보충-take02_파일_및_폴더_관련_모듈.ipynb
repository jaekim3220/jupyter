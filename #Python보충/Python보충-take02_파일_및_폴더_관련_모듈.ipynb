{
 "cells": [
  {
   "attachments": {},
   "cell_type": "markdown",
   "metadata": {},
   "source": [
    "### 파이썬 보충 Take 2"
   ]
  },
  {
   "attachments": {},
   "cell_type": "markdown",
   "metadata": {},
   "source": [
    "##### 파일 및 폴더 관련 '모듈'"
   ]
  },
  {
   "attachments": {},
   "cell_type": "markdown",
   "metadata": {},
   "source": [
    "#01. 파일 및 폴더 관련 모듈 활용"
   ]
  },
  {
   "cell_type": "code",
   "execution_count": 34,
   "metadata": {},
   "outputs": [],
   "source": [
    "# 모듈 참조\n",
    "import sys # 현재 시스템의 정보 제공 모듈\n",
    "import os # 운영체체의 기능에 접근할 수 있는 모듈"
   ]
  },
  {
   "attachments": {},
   "cell_type": "markdown",
   "metadata": {},
   "source": [
    "* 현재 운영체제 이름 조회"
   ]
  },
  {
   "cell_type": "code",
   "execution_count": 35,
   "metadata": {},
   "outputs": [
    {
     "name": "stdout",
     "output_type": "stream",
     "text": [
      "win32\n"
     ]
    }
   ],
   "source": [
    "print(sys.platform)"
   ]
  },
  {
   "attachments": {},
   "cell_type": "markdown",
   "metadata": {},
   "source": [
    "* 경로 문자열 관련 기능"
   ]
  },
  {
   "cell_type": "code",
   "execution_count": 36,
   "metadata": {},
   "outputs": [
    {
     "name": "stdout",
     "output_type": "stream",
     "text": [
      "['123qwe!@#.txt', 'Python_연구과제.ipynb', 'Python_연구과제.pdf', 'Python_연구과제_풀이(1).ipynb.pdf', 'Python_연구과제_풀이(2).ipynb.pdf', 'Python보충-take01.ipynb', 'Python보충-take01.ipynb.pdf', 'Python보충-take02_파일_및_폴더_관련_모듈.ipynb', 'Python보충-take02_파일_및_폴더_관련_모듈.ipynb.pdf']\n"
     ]
    }
   ],
   "source": [
    "# 현재 폴더 내의 하위 항목들의 이름을 list로 리턴\n",
    "# \"./\" 또는 '.'은 현재 폴더\n",
    "# '../'는 상위 폴더를 의미\n",
    "ls = os.listdir('./')\n",
    "print(ls)"
   ]
  },
  {
   "cell_type": "code",
   "execution_count": 37,
   "metadata": {},
   "outputs": [
    {
     "name": "stdout",
     "output_type": "stream",
     "text": [
      "False\n"
     ]
    }
   ],
   "source": [
    "# 특정 폴더나 파일 존재 확인\n",
    "# 상대경로일 경우 현재 소스파일(폴더) 기준\n",
    "# 현재 폴더에 hello라는 이름의 파일 존재 유무\n",
    "k = os.path.exists('./hello')\n",
    "print(k)"
   ]
  },
  {
   "cell_type": "code",
   "execution_count": 38,
   "metadata": {},
   "outputs": [
    {
     "name": "stdout",
     "output_type": "stream",
     "text": [
      "c:\\Users\\jehyu\\Desktop\\nationalsupport\\jupyter\\#Python보충\\hello\n"
     ]
    }
   ],
   "source": [
    "# 절대경로 확인\n",
    "# 존재 않해도 경로 값은 확인 가능\n",
    "print(os.path.abspath('./hello'))"
   ]
  },
  {
   "attachments": {},
   "cell_type": "markdown",
   "metadata": {},
   "source": [
    "* 폴더 생성 및 삭제"
   ]
  },
  {
   "cell_type": "code",
   "execution_count": 58,
   "metadata": {},
   "outputs": [
    {
     "name": "stdout",
     "output_type": "stream",
     "text": [
      "hello 폴더 삭제\n"
     ]
    }
   ],
   "source": [
    "if os.path.exists('./hello') == False:\n",
    "    # 없으면 생성\n",
    "    os.mkdir('./hello')\n",
    "    # os.mkdir은 맨 마지막의 폴더만 만들려고 시도\n",
    "    # 경로가 이미 존재해야함(아래 makedirs와 비교)\n",
    "    print(\"hello 폴더 생성\")\n",
    "else:\n",
    "    # 있으면 삭제(mkdir은 빈 폴더만 삭제 가능)\n",
    "    os.rmdir('./hello')\n",
    "    print(\"hello 폴더 삭제\")"
   ]
  },
  {
   "attachments": {},
   "cell_type": "markdown",
   "metadata": {},
   "source": [
    "* 파일이나 폴더 검색"
   ]
  },
  {
   "cell_type": "code",
   "execution_count": 40,
   "metadata": {},
   "outputs": [],
   "source": [
    "# 모듈 추가\n",
    "# glob은 파일 경로의 패턴 매칭을 위한 기능을 제공\n",
    "import glob as gl"
   ]
  },
  {
   "cell_type": "code",
   "execution_count": 41,
   "metadata": {},
   "outputs": [
    {
     "name": "stdout",
     "output_type": "stream",
     "text": [
      "['123qwe!@#.txt', 'hello', 'Python_연구과제.ipynb', 'Python_연구과제.pdf', 'Python_연구과제_풀이(1).ipynb.pdf', 'Python_연구과제_풀이(2).ipynb.pdf', 'Python보충-take01.ipynb', 'Python보충-take01.ipynb.pdf', 'Python보충-take02_파일_및_폴더_관련_모듈.ipynb', 'Python보충-take02_파일_및_폴더_관련_모듈.ipynb.pdf']\n"
     ]
    }
   ],
   "source": [
    "# 현재 폴더의 모든 하위 요소 조회\n",
    "ls = gl.glob('*')\n",
    "print(ls)"
   ]
  },
  {
   "cell_type": "code",
   "execution_count": 42,
   "metadata": {},
   "outputs": [
    {
     "name": "stdout",
     "output_type": "stream",
     "text": [
      "['Python_연구과제.ipynb', 'Python보충-take01.ipynb', 'Python보충-take02_파일_및_폴더_관련_모듈.ipynb']\n"
     ]
    }
   ],
   "source": [
    "# 현재 폴더에서 \".ipynb\" 로 끝나는 모든 요소들 조회\n",
    "ls = gl.glob('*.ipynb')\n",
    "print(ls)"
   ]
  },
  {
   "cell_type": "code",
   "execution_count": 43,
   "metadata": {},
   "outputs": [
    {
     "name": "stdout",
     "output_type": "stream",
     "text": [
      "['123qwe!@#.txt', 'Python_연구과제_풀이(2).ipynb.pdf', 'Python보충-take02_파일_및_폴더_관련_모듈.ipynb', 'Python보충-take02_파일_및_폴더_관련_모듈.ipynb.pdf']\n"
     ]
    }
   ],
   "source": [
    "# 현재 폴더에서 \"2\"를 포함하는 파일 조회\n",
    "ls = gl.glob('*2*')\n",
    "print(ls)"
   ]
  },
  {
   "attachments": {},
   "cell_type": "markdown",
   "metadata": {},
   "source": [
    "* 폴더 트리 생성 및 삭제"
   ]
  },
  {
   "cell_type": "code",
   "execution_count": 57,
   "metadata": {},
   "outputs": [
    {
     "name": "stdout",
     "output_type": "stream",
     "text": [
      "python 폴더 삭제\n"
     ]
    }
   ],
   "source": [
    "# 파일, 폴더 관련 작업에 확장된 기능을 제공\n",
    "import shutil\n",
    "\n",
    "# 현재 작업 위치에서 \"python\" 이라는 이름의 폴더가 없다면?\n",
    "if os.path.exists('python') == False:\n",
    "    # 순환적으로 폴더 생성\n",
    "    os.makedirs('python/test/hello/world', exist_ok=True)\n",
    "    # exist_ok=True 옵션으로 \n",
    "    # 폴더 존재하더라도 에러 발생 안함\n",
    "    print('python 폴더와 하위 폴더들을 생성')\n",
    "# 현재 작업 위치에서 \"python\" 이라는 이름의 폴더가 있다면?\n",
    "else:\n",
    "    # 비어있지 않은 폴더도 강제 삭제\n",
    "    # 존재하지 않는 폴더인 경우 에러\n",
    "    # shutil.rmtree로 하위 폴더가 존재하는 폴더도 재귀적 삭제 가능\n",
    "    shutil.rmtree('python')\n",
    "    print('python 폴더 삭제')"
   ]
  },
  {
   "attachments": {},
   "cell_type": "markdown",
   "metadata": {},
   "source": [
    "* 폴더의 이동과 폴더 트리 복사\n",
    "* 폴더의 이동과 복사 중 하나만 활성화"
   ]
  },
  {
   "cell_type": "code",
   "execution_count": 59,
   "metadata": {},
   "outputs": [],
   "source": [
    "# 폴더 이동\n",
    "# python 폴더 존재 시\n",
    "if os.path.exists('python'):\n",
    "    shutil.move('python', '../created')\n",
    "    # 상위 폴더로 created라는 이름으로 이동\n",
    "    shutil.copytree('../created', './copy')"
   ]
  },
  {
   "cell_type": "code",
   "execution_count": 47,
   "metadata": {},
   "outputs": [],
   "source": [
    "# # 폴더의 복사\n",
    "# if os.path.exists('../created'):\n",
    "#     shutil.copytree('../created', './copy')\n",
    "#     print('python 폴더가 copy로 복사')"
   ]
  },
  {
   "attachments": {},
   "cell_type": "markdown",
   "metadata": {},
   "source": [
    "* 파일의 복사 및 삭제 작업"
   ]
  },
  {
   "cell_type": "code",
   "execution_count": 61,
   "metadata": {},
   "outputs": [
    {
     "name": "stdout",
     "output_type": "stream",
     "text": [
      "hello.txt가 삭제\n",
      "world.txt가 삭제\n"
     ]
    }
   ],
   "source": [
    "# os모듈 내의 path 객체가 갖는 exsits() 함수를 사용\n",
    "# \"hello.txt\"라는 파일이 존재하지 않는다면?\n",
    "if os.path.exists('hello.txt') == False:\n",
    "    # 테스트용 파일 생성\n",
    "    with open(\"hello.txt\", \"w\", encoding=\"utf-8\") as f:\n",
    "        f.write(\"Life is Too Short, You need Python\")\n",
    "        print(\"hello.txt 파일 생성\")\n",
    "\n",
    "    # 생성한 파일을 world라는 이름으로 복사\n",
    "    # 이미 존재할 경우 덮어씀\n",
    "    shutil.copy('hello.txt', 'world.txt')\n",
    "    print('hello.txt가 world.txt로 복사')\n",
    "# \"hello.txt\"라는 파일이 이미 존재\n",
    "else:\n",
    "    os.remove('hello.txt')\n",
    "    print('hello.txt가 삭제')\n",
    "    os.remove('world.txt')\n",
    "    print('world.txt가 삭제')\n"
   ]
  },
  {
   "cell_type": "code",
   "execution_count": null,
   "metadata": {},
   "outputs": [],
   "source": []
  },
  {
   "cell_type": "code",
   "execution_count": null,
   "metadata": {},
   "outputs": [],
   "source": []
  }
 ],
 "metadata": {
  "kernelspec": {
   "display_name": "Python 3",
   "language": "python",
   "name": "python3"
  },
  "language_info": {
   "codemirror_mode": {
    "name": "ipython",
    "version": 3
   },
   "file_extension": ".py",
   "mimetype": "text/x-python",
   "name": "python",
   "nbconvert_exporter": "python",
   "pygments_lexer": "ipython3",
   "version": "3.11.0"
  },
  "orig_nbformat": 4
 },
 "nbformat": 4,
 "nbformat_minor": 2
}
