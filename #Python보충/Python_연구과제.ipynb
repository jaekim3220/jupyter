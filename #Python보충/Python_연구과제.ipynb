{
 "cells": [
  {
   "attachments": {},
   "cell_type": "markdown",
   "metadata": {},
   "source": [
    "정렬 알고리즘\n",
    "for i in range(0, len(리스트)-1):\n",
    "    for j in range(i+1, len(리스트)):\n",
    "        if 리스트[i]>리스트[j]:\n",
    "            리스트[i],리스트[j] = 리스트[j],리스트[i]"
   ]
  },
  {
   "cell_type": "code",
   "execution_count": null,
   "metadata": {},
   "outputs": [],
   "source": [
    "# # 문제 1\n",
    "# a = 89000\n",
    "# b = 751000\n",
    "# c = a*100+b*20\n",
    "# print(c)\n",
    "# # 문제 2\n",
    "# a1 = a*0.95\n",
    "# b1 = b*0.9\n",
    "# c1 = a1*100+b1*20\n",
    "# print(c1)\n",
    "# d=c-c1\n",
    "# print(d)"
   ]
  },
  {
   "cell_type": "code",
   "execution_count": null,
   "metadata": {},
   "outputs": [],
   "source": [
    "# myWeight = float(input(\"체중 입력(kg) : \"))\n",
    "# print(myWeight, end='kg\\n')\n",
    "# myHeight = float(input(\"신장 입력(m) : \"))\n",
    "# print(myHeight, end='m\\n')\n",
    "\n",
    "# BMI = myWeight/pow(myHeight,2)\n",
    "# print(BMI,\"\\n\")\n",
    "# if BMI < 20:\n",
    "#     print(\"저체중\")\n",
    "# elif BMI >= 20 and BMI<=24:\n",
    "#     print(\"정상\")\n",
    "# elif BMI >= 25 and BMI<=29:\n",
    "#     print(\"과체중\")\n",
    "# else:\n",
    "#     print(\"비만\")"
   ]
  },
  {
   "cell_type": "code",
   "execution_count": null,
   "metadata": {},
   "outputs": [],
   "source": [
    "# # 문제 4\n",
    "# s = 'Daum KaKao'\n",
    "# print(s)\n",
    "# s1 = s[5:] + ' ' + s[:4]\n",
    "# print(s1)"
   ]
  },
  {
   "cell_type": "code",
   "execution_count": null,
   "metadata": {},
   "outputs": [],
   "source": [
    "# # 문제 5\n",
    "# # find 함수를 사용한 문제 풀이\n",
    "# url = \"C:\\\\myphoto\\\\helloworld.jpg\"\n",
    "\n",
    "# # 마지막 역슬레시 위치\n",
    "# u1 = url.rfind(\"\\\\\")\n",
    "\n",
    "# # 마지막 점(.) 위치\n",
    "# u2 = url.rfind(\".\")\n",
    "\n",
    "# # 폴더 위치\n",
    "# folder = url[:u1]\n",
    "# print(\"폴더의 위치 : %s\" % folder)\n",
    "\n",
    "# # 파일 이름\n",
    "# file = url[u1+1:u2]\n",
    "# print(\"파일이름 : %s\" %file)\n",
    "\n",
    "# # 확장자\n",
    "# ext = url[u2+1:]\n",
    "\n",
    "# print(\"확장자 : %s\" %ext)"
   ]
  },
  {
   "cell_type": "code",
   "execution_count": null,
   "metadata": {},
   "outputs": [],
   "source": [
    "# # 문제 6\n",
    "# score = [82,74,93,65,32,71,90,88,74]\n",
    "# score.sort(reverse=True)\n",
    "# result = 0\n",
    "# for a in range(3):\n",
    "#     result += score[a]\n",
    "# avg = result/3\n",
    "# print(avg)\n",
    "\n",
    "# # sorted(score)는 파라미터를 받아서 정렬 값을 보여줌\n",
    "# # score.sort는 return 값 없이 원본 자체를 바꾼다"
   ]
  },
  {
   "cell_type": "code",
   "execution_count": null,
   "metadata": {},
   "outputs": [],
   "source": [
    "# # 문제 6(정렬함수 사용)\n",
    "# score = [82,74,93,65,32,71,90,88,74]\n",
    "# for i in range(0, len(score)-1):\n",
    "#     for j in range(i+1, len(score)):\n",
    "#         if score[i]<score[j]:\n",
    "#             score[i], score[j] = score[j], score[i]\n",
    "# total = 0\n",
    "# for k in range(0,3):\n",
    "#     total+=score[k]\n",
    "\n",
    "# avg = total/3\n",
    "# print(avg)"
   ]
  },
  {
   "cell_type": "code",
   "execution_count": null,
   "metadata": {},
   "outputs": [],
   "source": [
    "# 문제 7 연령대 구하기\n",
    "# 프로그램 효율 즉, running time을 줄이기 위해 연산 속도를 위해\n",
    "# 이상/이하 보다는 초과 미만을 사용하는걸 추천\n",
    "\n",
    "# age = int(input(\"나이를 입력하세요 : \"))\n",
    "# if age >=0 and age <=9:\n",
    "#     print(\"어린이입니다.\")\n",
    "# elif age >=10 and age <=19:\n",
    "#     print(\"10대입니다.\")\n",
    "# elif age >=20 and age <=29:\n",
    "#     print(\"20대입니다.\")\n",
    "# elif age >=30 and age <=39:\n",
    "#     print(\"30대입니다.\")\n",
    "# elif age >=40 and age <=49:\n",
    "#     print(\"40대입니다.\")\n",
    "# elif age >=50 and age <=59:\n",
    "#     print(\"50대입니다.\")\n",
    "# else:\n",
    "#     print(\"노년층입니다.\")\n"
   ]
  },
  {
   "cell_type": "code",
   "execution_count": null,
   "metadata": {},
   "outputs": [],
   "source": [
    "# # 효율적 코드\n",
    "# age = int(input(\"나이를 입력하세요 : \"))\n",
    "# if age < 10:\n",
    "#     print(\"어린이입니다.\")\n",
    "# elif age < 20:\n",
    "#     print(\"10대입니다.\")\n",
    "# elif age < 30:\n",
    "#     print(\"20대입니다.\")\n",
    "# elif age < 40:\n",
    "#     print(\"30대입니다.\")\n",
    "# elif age < 50:\n",
    "#     print(\"40대입니다.\")\n",
    "# elif age < 60:\n",
    "#     print(\"50대입니다.\")\n",
    "# else:\n",
    "#     print(\"노년층입니다.\")"
   ]
  },
  {
   "cell_type": "code",
   "execution_count": null,
   "metadata": {},
   "outputs": [],
   "source": [
    "# # 수식을 사용한 극강의 효율\n",
    "# age = int(input(\"나이를 입력하세요 : \"))\n",
    "# level = age//10\n",
    "\n",
    "# if level == 0:\n",
    "#     print(\"어린이\")\n",
    "# elif level >= 6:\n",
    "#     print(\"노년층\")\n",
    "# else:\n",
    "#     print(\"%d0대\" %level)"
   ]
  },
  {
   "cell_type": "code",
   "execution_count": null,
   "metadata": {},
   "outputs": [],
   "source": [
    "'''\n",
    "and연산에서는 False 값을 앞에, or 연산에서는 True 값을 앞에 두면 대량의 데이터 처리 시 효율을 높일 수 있음\n",
    "실무에서 프로그램 연산 속도에 영햐을 주는 select를 사용할 경울 *이 아닌 일일이 이름을 넣는다\n",
    "단, count는 예외\n",
    "'''"
   ]
  },
  {
   "cell_type": "code",
   "execution_count": null,
   "metadata": {},
   "outputs": [],
   "source": [
    "# 문제 8 비만도\n",
    "myHeight = float(input(\"키(cm) : \"))\n",
    "myWeight = float(input(\"체중(kg) : \"))\n",
    "\n",
    "if myHeight<= 150:\n",
    "    standardWeight = myHeight-100\n",
    "else:\n",
    "    standardWeight = (myHeight-100)*0.9\n",
    "print(standardWeight)\n",
    "obesity = ((myWeight-standardWeight)/standardWeight)*100\n",
    "print(obesity)\n",
    "\n",
    "if obesity<=20:\n",
    "    print(\"안심\")\n",
    "elif obesity<=30:\n",
    "    print(\"경도비만\")\n",
    "elif obesity<=50:\n",
    "    print(\"중등도비만\")\n",
    "else:\n",
    "    print(\"고도비만\")"
   ]
  },
  {
   "cell_type": "code",
   "execution_count": 16,
   "metadata": {},
   "outputs": [
    {
     "name": "stdout",
     "output_type": "stream",
     "text": [
      "2550\n"
     ]
    },
    {
     "data": {
      "text/plain": [
       "2550"
      ]
     },
     "execution_count": 16,
     "metadata": {},
     "output_type": "execute_result"
    }
   ],
   "source": [
    "# 문제 9 짝수의 합 구하기\n",
    "result = 0\n",
    "for a in range(0,101,2):\n",
    "    result+=a\n",
    "print(result)\n",
    "\n",
    "# while문 사용할 경우(반복 횟수를 가늠하지 못 할 경우)\n",
    "answer = 0\n",
    "a = 0 # while에서는 조건을 판별할 변수 초기화(초기식)\n",
    "while a < 101:\n",
    "    answer+=a\n",
    "    a +=2\n",
    "answer"
   ]
  },
  {
   "cell_type": "code",
   "execution_count": 17,
   "metadata": {},
   "outputs": [
    {
     "data": {
      "text/plain": [
       "{'A': 3, 'B': 2, 'AB': 2, 'O': 3}"
      ]
     },
     "execution_count": 17,
     "metadata": {},
     "output_type": "execute_result"
    }
   ],
   "source": [
    "# 문제 10\n",
    "blood = ['A', 'A', 'A', 'O', 'B', 'B', 'O', 'AB', 'AB', 'O']\n",
    "result = {'A':0,'B':0,'AB':0,'O':0}\n",
    "# blood_dict = {}\n",
    "# for a in blood:\n",
    "#     if a in blood_dict:\n",
    "#         blood_dict[a]+=1\n",
    "#     else:\n",
    "#         blood_dict[a] = 1\n",
    "# print(blood_dict)\n",
    "for a in blood:\n",
    "    result[a]+=1\n",
    "\n",
    "result"
   ]
  },
  {
   "cell_type": "code",
   "execution_count": null,
   "metadata": {},
   "outputs": [],
   "source": [
    "# 문제 11 팩토리얼 구하기\n",
    "x = int(input(\"팩토리얼 : \"))\n",
    "result = 1\n",
    "for a in range(1,x+1):\n",
    "    result *= a\n",
    "print(result)"
   ]
  },
  {
   "cell_type": "code",
   "execution_count": null,
   "metadata": {},
   "outputs": [],
   "source": [
    "# 문제 12 두 개의 주사위 던지기\n",
    "count = 0\n",
    "for dice1 in range(1,7):\n",
    "    for dice2 in range(1,7):\n",
    "        if dice1+dice2==6:\n",
    "            print([dice1,dice2])\n",
    "            count+=1\n",
    "print(f\"총 {count}가지의 수\")"
   ]
  },
  {
   "cell_type": "code",
   "execution_count": 4,
   "metadata": {},
   "outputs": [
    {
     "name": "stdout",
     "output_type": "stream",
     "text": [
      "210\n"
     ]
    }
   ],
   "source": [
    "# 문제 13 공배수 구하기\n",
    "i = int(input(\"i 값 : \"))\n",
    "x = int(input(\"x 값 : \"))\n",
    "number = 0\n",
    "for a in range(1,101):\n",
    "    if a % i == 0 and a % x ==0:\n",
    "    # i와 x의 약수가 1 이외에는 없는 경우에만 성립\n",
    "    # if a%(i*x)==0:\n",
    "        number+=a\n",
    "print(number)\n"
   ]
  },
  {
   "cell_type": "code",
   "execution_count": 15,
   "metadata": {},
   "outputs": [
    {
     "name": "stdout",
     "output_type": "stream",
     "text": [
      "총 급여 : 349500\n"
     ]
    }
   ],
   "source": [
    "# 14 일주일간의 시급\n",
    "time = [4, 3, 3, 4, 5, 7, 6]\n",
    "total_money = 0\n",
    "for a in range(0, len(time)):\n",
    "    if a <5:\n",
    "        total_money += time[a]*9500\n",
    "    else:\n",
    "        total_money += time[a]*13000\n",
    "print(f\"총 급여 : {total_money}\")\n"
   ]
  },
  {
   "cell_type": "code",
   "execution_count": 13,
   "metadata": {},
   "outputs": [
    {
     "name": "stdout",
     "output_type": "stream",
     "text": [
      "총 급여 : 349500\n"
     ]
    }
   ],
   "source": [
    "# 14 일주일간의 시급\n",
    "time = [4,3,3,4,5,7,6]\n",
    "# week = 9500\n",
    "# weekend = 13000\n",
    "total_money = 0\n",
    "for i,v in enumerate(time):\n",
    "    # i는 index, v는 value\n",
    "    if i<5:\n",
    "        total_money+= v*9500\n",
    "    else:\n",
    "        total_money+=v*13000\n",
    "print(f\"총 급여 : {total_money}\")"
   ]
  },
  {
   "cell_type": "code",
   "execution_count": 11,
   "metadata": {},
   "outputs": [
    {
     "name": "stdout",
     "output_type": "stream",
     "text": [
      "403326.0골드\n"
     ]
    }
   ],
   "source": [
    "# 15\n",
    "item = [{\"수량\":291,\"단가\":500},\n",
    "        {\"수량\":586,\"단가\":320},\n",
    "        {\"수량\":460,\"단가\":100},\n",
    "        {\"수량\":558,\"단가\":120}, \n",
    "        {\"수량\":72,\"단가\":30}]\n",
    "total_budget = 0\n",
    "for a in range(len(item)):\n",
    "    amount = item[a][\"수량\"]\n",
    "    price = (item[a][\"단가\"])*0.9\n",
    "    total_budget += amount*price\n",
    "print(f\"{total_budget:.2f}골드\")"
   ]
  },
  {
   "cell_type": "code",
   "execution_count": null,
   "metadata": {},
   "outputs": [],
   "source": [
    "# 수량 순으로 정렬(정렬 알고리즘-sort 불가)"
   ]
  },
  {
   "attachments": {},
   "cell_type": "markdown",
   "metadata": {},
   "source": [
    "추가 별찍기"
   ]
  },
  {
   "cell_type": "code",
   "execution_count": 16,
   "metadata": {},
   "outputs": [
    {
     "name": "stdout",
     "output_type": "stream",
     "text": [
      "*\n",
      "**\n",
      "***\n",
      "****\n",
      "*****\n"
     ]
    }
   ],
   "source": [
    "for i in range(0,5):\n",
    "    star = ''\n",
    "    for j in range(0,i+1):\n",
    "        star += \"*\"\n",
    "    print(star)"
   ]
  },
  {
   "cell_type": "code",
   "execution_count": 17,
   "metadata": {},
   "outputs": [
    {
     "name": "stdout",
     "output_type": "stream",
     "text": [
      "*****\n",
      "****\n",
      "***\n",
      "**\n",
      "*\n"
     ]
    }
   ],
   "source": [
    "for i in range(0,5):\n",
    "    star = ''\n",
    "    for j in range(0, 5-i):\n",
    "        star += \"*\"\n",
    "    print(star)"
   ]
  }
 ],
 "metadata": {
  "kernelspec": {
   "display_name": "Python 3",
   "language": "python",
   "name": "python3"
  },
  "language_info": {
   "codemirror_mode": {
    "name": "ipython",
    "version": 3
   },
   "file_extension": ".py",
   "mimetype": "text/x-python",
   "name": "python",
   "nbconvert_exporter": "python",
   "pygments_lexer": "ipython3",
   "version": "3.11.0"
  },
  "orig_nbformat": 4
 },
 "nbformat": 4,
 "nbformat_minor": 2
}
