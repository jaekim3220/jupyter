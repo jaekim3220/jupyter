{
 "cells": [
  {
   "cell_type": "markdown",
   "metadata": {},
   "source": [
    "# 비동기 처리\n",
    "\n",
    "## Process\n",
    "\n",
    "현재 실행중인 하나의 프로그램\n",
    "\n",
    "내가 작성한 소스 코드도 실행하는 동안 하나의 프로세스가 된다.\n",
    "\n",
    "## Tread\n",
    "\n",
    "하나의 프로세스 안에서 가동되는 작업 단위.\n",
    "\n",
    "기본적으로 모든 프로세스는 싱글 쓰레드 단위로 작업을 수행\n",
    "\n",
    "두 개 이상의 쓰레드를 가동하게 되면 동시에 쓰레드 수 만큼의 작업을 수행할 수 있게 된다.\n",
    "\n",
    "## "
   ]
  },
  {
   "cell_type": "markdown",
   "metadata": {},
   "source": [
    "## #01. 싱글 쓰레딩"
   ]
  },
  {
   "cell_type": "code",
   "execution_count": 1,
   "metadata": {},
   "outputs": [],
   "source": [
    "import time\n",
    "import threading"
   ]
  },
  {
   "cell_type": "code",
   "execution_count": 2,
   "metadata": {},
   "outputs": [],
   "source": [
    "# 다소 시간이 소요되는 작업을 가정한 함수 (ex:openapi 연동 등)\n",
    "# -> None:은 함수의 return type\n",
    "def sum(myname:str, low:int, high:int) -> None:\n",
    "    total:int = 0\n",
    "\n",
    "    for i in range(low, high):\n",
    "        total += i\n",
    "        time.sleep(1)\n",
    "        print(\"[%s]의 total = %d\"%(myname, total))"
   ]
  },
  {
   "cell_type": "code",
   "execution_count": 3,
   "metadata": {},
   "outputs": [
    {
     "name": "stdout",
     "output_type": "stream",
     "text": [
      "CPU times: total: 0 ns\n",
      "Wall time: 0 ns\n",
      "[A]의 total = 1\n",
      "[A]의 total = 3\n",
      "[A]의 total = 6\n",
      "[A]의 total = 10\n",
      "[B]의 total = 5\n",
      "[B]의 total = 11\n",
      "[B]의 total = 18\n",
      "[B]의 total = 26\n",
      "[B]의 total = 35\n",
      "[C]의 total = 10\n",
      "[C]의 total = 21\n",
      "[C]의 total = 33\n",
      "[C]의 total = 46\n",
      "[C]의 total = 60\n",
      "Done!!\n"
     ]
    }
   ],
   "source": [
    "%time\n",
    "sum(\"A\", 1, 5)\n",
    "sum(\"B\", 5, 10)\n",
    "sum(\"C\", 10, 15)\n",
    "print(\"Done!!\")"
   ]
  },
  {
   "cell_type": "markdown",
   "metadata": {},
   "source": [
    "## #02. 멀티 쓰레딩"
   ]
  },
  {
   "cell_type": "code",
   "execution_count": 7,
   "metadata": {},
   "outputs": [],
   "source": [
    "# threading.Thread 클래스를 상속받는 클래스 정의\n",
    "class MyThread(threading.Thread):\n",
    "    # 함수 구현시 전달하는 파라미터는 생성자로 전달하여 멤버변수에 저장\n",
    "    def __init__(self, myname: str, low: int, high: int):\n",
    "        # 상위 클래스에 대한 초기화 --> 멀티 쓰레딩 초기화\n",
    "        threading.Thread.__init__(self)\n",
    "\n",
    "        # 전달된 파라미터를 멤버변수에 복사\n",
    "        self.myname = myname\n",
    "        self.low = low\n",
    "        self.high = high\n",
    "\n",
    "    # 처리 해야 하는 작업을 run() 이름의 메서드로 구현\n",
    "    # 이 메서드의 이름은 사전에 약속되어 있으며 파라미터를 전달할 수 없다.\n",
    "    def run(self):\n",
    "        total: int = 0\n",
    "\n",
    "        for i in range(self.low, self.high):\n",
    "            total += i\n",
    "            time.sleep(1)\n",
    "            print(\"[%s] total=%d\" % (self.myname, total))"
   ]
  },
  {
   "cell_type": "code",
   "execution_count": 8,
   "metadata": {},
   "outputs": [
    {
     "name": "stdout",
     "output_type": "stream",
     "text": [
      "[A] total=1\n",
      "[B] total=5\n",
      "[C] total=10\n",
      "[A] total=3[C] total=21\n",
      "[B] total=11\n",
      "\n",
      "[A] total=6[B] total=18\n",
      "[C] total=33\n",
      "\n",
      "[C] total=46\n",
      "[B] total=26\n",
      "[A] total=10\n",
      "[C] total=60[B] total=35\n",
      "\n",
      "Done!!!\n"
     ]
    }
   ],
   "source": [
    "# Thread 객체 생성\n",
    "a = MyThread(\"A\", 1, 5)\n",
    "b = MyThread(\"B\", 5, 10)\n",
    "c = MyThread(\"C\", 10, 15)\n",
    "\n",
    "# 각 Thread 가동 --> 해당 객체의 run() 메서드가 호출된다.\n",
    "a.start()\n",
    "b.start()\n",
    "c.start()\n",
    "\n",
    "# 각 Thread의 작업이 종료될까지 대기\n",
    "a.join()\n",
    "b.join()\n",
    "c.join()\n",
    "\n",
    "print(\"Done!!!\")"
   ]
  },
  {
   "cell_type": "code",
   "execution_count": null,
   "metadata": {},
   "outputs": [],
   "source": []
  }
 ],
 "metadata": {
  "kernelspec": {
   "display_name": "Python 3",
   "language": "python",
   "name": "python3"
  },
  "language_info": {
   "codemirror_mode": {
    "name": "ipython",
    "version": 3
   },
   "file_extension": ".py",
   "mimetype": "text/x-python",
   "name": "python",
   "nbconvert_exporter": "python",
   "pygments_lexer": "ipython3",
   "version": "3.9.13"
  }
 },
 "nbformat": 4,
 "nbformat_minor": 2
}
