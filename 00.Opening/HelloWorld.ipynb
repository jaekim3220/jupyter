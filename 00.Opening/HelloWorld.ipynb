{
 "cells": [
  {
   "attachments": {},
   "cell_type": "markdown",
   "metadata": {},
   "source": [
    "### 실행 모드\n",
    "- 이동모드 : 방향키로 블록 이동 가능. enter 키로 편집모드로 전환 가능\n",
    "- 편집모드 : 코딩 가능한 상태. esc 눌러서 이동모드로 전환 가능\n",
    "----------\n",
    "### JUPYTER 단축키\n",
    "- shift+enter : 현재 블록 실행 후 다음 블록으로\n",
    "- ctrl+enter : 현재 블록 실행 후 머무르기\n",
    "----------\n",
    "### 코드 작성 시 유의 사항\n",
    "블록은 중요하지 않음. 실행 순서가 중요\n"
   ]
  },
  {
   "attachments": {},
   "cell_type": "markdown",
   "metadata": {},
   "source": [
    "|마크다운|테이블\n",
    "|---|---|\n",
    "|마크다운에서|테이블생성가능|"
   ]
  },
  {
   "attachments": {},
   "cell_type": "markdown",
   "metadata": {},
   "source": [
    "[링크](https://www.naver.com/)"
   ]
  },
  {
   "attachments": {},
   "cell_type": "markdown",
   "metadata": {},
   "source": [
    "인코딩(부호화)\n",
    "\n",
    "8bit = 1byte\n"
   ]
  }
 ],
 "metadata": {
  "kernelspec": {
   "display_name": "Python 3",
   "language": "python",
   "name": "python3"
  },
  "language_info": {
   "codemirror_mode": {
    "name": "ipython",
    "version": 3
   },
   "file_extension": ".py",
   "mimetype": "text/x-python",
   "name": "python",
   "nbconvert_exporter": "python",
   "pygments_lexer": "ipython3",
   "version": "3.11.0"
  },
  "orig_nbformat": 4
 },
 "nbformat": 4,
 "nbformat_minor": 2
}
