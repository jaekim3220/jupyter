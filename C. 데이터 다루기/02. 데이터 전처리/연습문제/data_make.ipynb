{
 "cells": [
  {
   "cell_type": "code",
   "execution_count": 2,
   "metadata": {},
   "outputs": [],
   "source": [
    "from pandas import read_excel, DataFrame"
   ]
  },
  {
   "cell_type": "code",
   "execution_count": 3,
   "metadata": {},
   "outputs": [],
   "source": [
    "mydata = {\n",
    "    '지역' : ['도시','도시','농촌','도시',\n",
    "            '농촌','도시','도시','도시','농촌',\n",
    "            '농촌','농촌','도시','농촌','도시','농촌',\n",
    "            '도시','농촌','도시','농촌','농촌'],\n",
    "            \n",
    "    '구성' : ['남','여','공학','남','남',\n",
    "            '남','여','남','남',\n",
    "            '공학','여','여','남',\n",
    "            '공학','남','남','여',\n",
    "            '여','여','공학'],\n",
    "\n",
    "    \"흡연율\" : [\"0.64\",\"0.45\",\"0.70\",\"0.85\",\n",
    "             \"0.72\",\"0.78\",\"0.62\",\"0.79\",\n",
    "             \"0.75\",\"0.81\",\"0.56\",\"0.48\",\n",
    "             \"0.72\",\"0.68\",\"0.79\",\"0.90\",\n",
    "             \"0.34\",\"0.48\",\"0.49\",\"0.76\"]\n",
    "}\n",
    "mydatadf = DataFrame(mydata)\n",
    "mydatadf\n",
    "mydatadf.to_excel(\"q3.xlsx\", index=False)"
   ]
  },
  {
   "cell_type": "code",
   "execution_count": 5,
   "metadata": {},
   "outputs": [],
   "source": [
    "mydata2 = {\n",
    "    '학생ID' : [\n",
    "        '1','2','3','4',\n",
    "        '5','6','7','8',\n",
    "        '9','10','11','12',\n",
    "        '13','14','15','16',\n",
    "        '17','18','19','20',\n",
    "        '21','22','23','24',\n",
    "        '25','26','27','28','29','30'],\n",
    "            \n",
    "    '성별' : ['남','여','여','여',\n",
    "            '여','여','남','여',\n",
    "            '여','남','남','남',\n",
    "            '남','남','남','여',\n",
    "            '여','여','여','여',\n",
    "            '여','여','여','여',\n",
    "            '여','여','여','여','여','여'],\n",
    "\n",
    "    '메모종류' : ['3','2','2','1',\n",
    "              '2','3','2','2',\n",
    "              '1','1','2','3',\n",
    "              '2','1','2','2',\n",
    "              '1','2','3','2',\n",
    "              '2','2','2','2',\n",
    "              '2','2','2','2','1','2',\n",
    "    ]\n",
    "}\n",
    "mydatadf2 = DataFrame(mydata2)\n",
    "mydatadf2\n",
    "mydatadf2.to_excel(\"q4.xlsx\", index=False)"
   ]
  },
  {
   "cell_type": "code",
   "execution_count": null,
   "metadata": {},
   "outputs": [],
   "source": []
  }
 ],
 "metadata": {
  "kernelspec": {
   "display_name": "Python 3",
   "language": "python",
   "name": "python3"
  },
  "language_info": {
   "codemirror_mode": {
    "name": "ipython",
    "version": 3
   },
   "file_extension": ".py",
   "mimetype": "text/x-python",
   "name": "python",
   "nbconvert_exporter": "python",
   "pygments_lexer": "ipython3",
   "version": "3.9.13"
  }
 },
 "nbformat": 4,
 "nbformat_minor": 2
}
