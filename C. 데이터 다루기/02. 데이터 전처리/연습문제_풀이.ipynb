{
 "cells": [
  {
   "attachments": {},
   "cell_type": "markdown",
   "metadata": {},
   "source": [
    "https://github.com/leekh4232/MegaitDataAnalysis/blob/main/C.%20%EB%8D%B0%EC%9D%B4%ED%84%B0%20%EB%8B%A4%EB%A3%A8%EA%B8%B0/02.%20%EB%8D%B0%EC%9D%B4%ED%84%B0%20%EC%A0%84%EC%B2%98%EB%A6%AC/%EC%97%B0%EC%8A%B5%EB%AC%B8%EC%A0%9C.md 참고"
   ]
  },
  {
   "cell_type": "code",
   "execution_count": null,
   "metadata": {},
   "outputs": [],
   "source": [
    "from pandas import DataFrame, merge, concat, Series, read_excel, pivot_table"
   ]
  },
  {
   "attachments": {},
   "cell_type": "markdown",
   "metadata": {},
   "source": [
    "# 문제1"
   ]
  },
  {
   "attachments": {},
   "cell_type": "markdown",
   "metadata": {},
   "source": [
    "인자의 수준을 나타내는 변수를 class로, 실습값을 time으로 하여 데이터를 구성"
   ]
  },
  {
   "attachments": {},
   "cell_type": "markdown",
   "metadata": {},
   "source": [
    "### 풀이1) 리스트를 원소로 갖는 딕셔너리 활용\n",
    "- 딕셔너리의 key가 column 이름이 된다"
   ]
  },
  {
   "cell_type": "code",
   "execution_count": null,
   "metadata": {},
   "outputs": [],
   "source": [
    "data = {\n",
    "    \"class\" : ['A1', 'A1', 'A1', 'A1','A1',\n",
    "               'A2', 'A2', 'A2', 'A2', 'A2', 'A2',\n",
    "               'A3', 'A3', 'A3', 'A3', 'A3', 'A3', 'A3',\n",
    "               'A4', 'A4', 'A4', 'A4', 'A4', 'A4', 'A4'],\n",
    "    \"time\" : [62, 60, 63, 59, 61,\n",
    "              62, 67, 71, 64, 65, 66,\n",
    "              68, 66, 71, 67, 68, 69, 70,\n",
    "              58, 62, 60, 59, 61, 63, 64]\n",
    "}"
   ]
  },
  {
   "cell_type": "code",
   "execution_count": null,
   "metadata": {},
   "outputs": [],
   "source": [
    "df = DataFrame(data)\n",
    "df"
   ]
  },
  {
   "attachments": {},
   "cell_type": "markdown",
   "metadata": {},
   "source": [
    "- dictionary 형태로"
   ]
  },
  {
   "cell_type": "code",
   "execution_count": null,
   "metadata": {},
   "outputs": [],
   "source": [
    "data2 = [\n",
    "    {\"class\":\"A1\", \"time\":62},\n",
    "    {\"class\":\"A1\", \"time\":60},\n",
    "    {\"class\":\"A1\", \"time\":63},\n",
    "    {\"class\":\"A1\", \"time\":59},\n",
    "    {\"class\":\"A1\", \"time\":61},\n",
    "    {\"class\":\"A2\", \"time\":62},\n",
    "    {\"class\":\"A2\", \"time\":67},\n",
    "    {\"class\":\"A2\", \"time\":71},\n",
    "    {\"class\":\"A2\", \"time\":64},\n",
    "    {\"class\":\"A2\", \"time\":65},\n",
    "    {\"class\":\"A2\", \"time\":66},\n",
    "    {\"class\":\"A3\", \"time\":68},\n",
    "    {\"class\":\"A3\", \"time\":66},\n",
    "    {\"class\":\"A3\", \"time\":71},\n",
    "    {\"class\":\"A3\", \"time\":67},\n",
    "    {\"class\":\"A3\", \"time\":68},\n",
    "    {\"class\":\"A3\", \"time\":69},\n",
    "    {\"class\":\"A3\", \"time\":70},\n",
    "    {\"class\":\"A4\", \"time\":58},\n",
    "    {\"class\":\"A4\", \"time\":62},\n",
    "    {\"class\":\"A4\", \"time\":60},\n",
    "    {\"class\":\"A4\", \"time\":59},\n",
    "    {\"class\":\"A4\", \"time\":61},\n",
    "    {\"class\":\"A4\", \"time\":63},\n",
    "    {\"class\":\"A4\", \"time\":64},\n",
    "]"
   ]
  },
  {
   "cell_type": "code",
   "execution_count": null,
   "metadata": {},
   "outputs": [],
   "source": [
    "df2 = DataFrame(data2)\n",
    "df2"
   ]
  },
  {
   "attachments": {},
   "cell_type": "markdown",
   "metadata": {},
   "source": [
    "- 추가 내용\\\n",
    "생성된 데이터 프레임에 대한 각 변수의 데이터 타입 확인"
   ]
  },
  {
   "cell_type": "code",
   "execution_count": 9,
   "metadata": {},
   "outputs": [
    {
     "name": "stdout",
     "output_type": "stream",
     "text": [
      "class    object\n",
      "time      int64\n",
      "dtype: object\n",
      "------------------------------\n",
      "class    object\n",
      "time      int64\n",
      "dtype: object\n"
     ]
    }
   ],
   "source": [
    "print(df.dtypes)\n",
    "print(\"-\"*30)\n",
    "print(df2.dtypes)"
   ]
  },
  {
   "attachments": {},
   "cell_type": "markdown",
   "metadata": {},
   "source": [
    "- 추가내용\\\n",
    "데이터 프레임의 여러 컬럼을 일괄 변경해 새로운 데이터프레임 생성\\\n",
    "문자열을 category로 바꾸면 메모리를 적게 소비해 연산 속도 향상"
   ]
  },
  {
   "cell_type": "code",
   "execution_count": 11,
   "metadata": {},
   "outputs": [
    {
     "data": {
      "text/plain": [
       "class    category\n",
       "time        int64\n",
       "dtype: object"
      ]
     },
     "execution_count": 11,
     "metadata": {},
     "output_type": "execute_result"
    }
   ],
   "source": [
    "# astype로 범주형 변수 바꾸기1\n",
    "df3 = df.astype({\"class\":\"category\"})\n",
    "df3.dtypes"
   ]
  },
  {
   "attachments": {},
   "cell_type": "markdown",
   "metadata": {},
   "source": [
    "- 추가내용\\\n",
    "특정 컬럼의 타입만 변경 후 원본에 바로 적용"
   ]
  },
  {
   "cell_type": "code",
   "execution_count": 12,
   "metadata": {},
   "outputs": [
    {
     "data": {
      "text/plain": [
       "class         object\n",
       "time           int64\n",
       "category    category\n",
       "dtype: object"
      ]
     },
     "execution_count": 12,
     "metadata": {},
     "output_type": "execute_result"
    }
   ],
   "source": [
    "# astype로 범주형 변수 바꾸기 2 (원본에 바로 적용)\n",
    "df['category'] = df['class'].astype('category')\n",
    "df.dtypes"
   ]
  },
  {
   "attachments": {},
   "cell_type": "markdown",
   "metadata": {},
   "source": [
    "- 추가내용\\\n",
    "서열 척도로 변경해야 하는 경우"
   ]
  },
  {
   "cell_type": "code",
   "execution_count": 13,
   "metadata": {},
   "outputs": [
    {
     "data": {
      "text/plain": [
       "class       category\n",
       "time           int64\n",
       "category    category\n",
       "dtype: object"
      ]
     },
     "execution_count": 13,
     "metadata": {},
     "output_type": "execute_result"
    }
   ],
   "source": [
    "from pandas import CategoricalDtype\n",
    "df['class']=df['class'].astype(\n",
    "    CategoricalDtype(categories=[\"A1\", \"A2\", \"A3\", \"A4\"], ordered=True)\n",
    ")\n",
    "df.dtypes"
   ]
  },
  {
   "cell_type": "code",
   "execution_count": null,
   "metadata": {},
   "outputs": [],
   "source": []
  }
 ],
 "metadata": {
  "kernelspec": {
   "display_name": "Python 3",
   "language": "python",
   "name": "python3"
  },
  "language_info": {
   "codemirror_mode": {
    "name": "ipython",
    "version": 3
   },
   "file_extension": ".py",
   "mimetype": "text/x-python",
   "name": "python",
   "nbconvert_exporter": "python",
   "pygments_lexer": "ipython3",
   "version": "3.11.0"
  },
  "orig_nbformat": 4
 },
 "nbformat": 4,
 "nbformat_minor": 2
}
