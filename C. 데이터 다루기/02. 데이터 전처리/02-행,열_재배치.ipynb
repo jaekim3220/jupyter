{
 "cells": [
  {
   "attachments": {},
   "cell_type": "markdown",
   "metadata": {},
   "source": [
    "# 데이터 전처리\n",
    "- 행 혹은 열(변수)에 대한 재배치, 이름 변경\n",
    "- 정렬\n",
    "- 특정 데이터 필터링\n",
    "- 행 혹은 열 추가, 삭제\n",
    "- inplace = True로 원본을 바꿀 수 있다(원본 반영보다는 복사본 생성, 사용)"
   ]
  },
  {
   "attachments": {},
   "cell_type": "markdown",
   "metadata": {},
   "source": [
    "## #01."
   ]
  },
  {
   "attachments": {},
   "cell_type": "markdown",
   "metadata": {},
   "source": [
    "### 1. 패키지 참조"
   ]
  },
  {
   "cell_type": "code",
   "execution_count": null,
   "metadata": {},
   "outputs": [],
   "source": [
    "from pandas import read_excel\n",
    "from pandas import Series\n",
    "import numpy"
   ]
  },
  {
   "attachments": {},
   "cell_type": "markdown",
   "metadata": {},
   "source": [
    "### 2. 데이터 가져오기"
   ]
  },
  {
   "cell_type": "code",
   "execution_count": null,
   "metadata": {},
   "outputs": [],
   "source": [
    "# 자료를 확인 후 index를 지정\n",
    "df = read_excel(\"https://data.hossam.kr/pre_sample.xlsx\", index_col=\"이름\")\n",
    "df"
   ]
  },
  {
   "attachments": {},
   "cell_type": "markdown",
   "metadata": {},
   "source": [
    "### 3. 데이터 확인하기"
   ]
  },
  {
   "attachments": {},
   "cell_type": "markdown",
   "metadata": {},
   "source": [
    "#### 데이터 크기"
   ]
  },
  {
   "cell_type": "code",
   "execution_count": null,
   "metadata": {},
   "outputs": [],
   "source": [
    "df.shape"
   ]
  },
  {
   "attachments": {},
   "cell_type": "markdown",
   "metadata": {},
   "source": [
    "#### 각 변수(column)의 데이터 타입 확인"
   ]
  },
  {
   "cell_type": "code",
   "execution_count": null,
   "metadata": {},
   "outputs": [],
   "source": [
    "# 숫자에 결측치가 있다면 float type으로 출력\n",
    "df.dtypes"
   ]
  },
  {
   "attachments": {},
   "cell_type": "markdown",
   "metadata": {},
   "source": [
    "#### 데이터 타입 변경\n",
    "- 결과가 적용된 복사본이 리턴\n",
    "- 복사본이 있다면 원본은 영향을 받지 않는다"
   ]
  },
  {
   "cell_type": "code",
   "execution_count": null,
   "metadata": {},
   "outputs": [],
   "source": [
    "# dict 형태로 변수 즉 열의 데이터 타입 변경 가능\n",
    "df2 = df.astype({'국어':'float', '영어' : 'float', '수학' : 'str', '과학' : 'bool'})\n",
    "df2"
   ]
  },
  {
   "cell_type": "code",
   "execution_count": null,
   "metadata": {},
   "outputs": [],
   "source": [
    "# 각 변수(column)의 데이터 타입 확인(원본과 비교)\n",
    "print(df.dtypes)\n",
    "print(\"-\"*30)\n",
    "print(df2.dtypes)"
   ]
  },
  {
   "attachments": {},
   "cell_type": "markdown",
   "metadata": {},
   "source": [
    "## #02. 행 혹은 열(변수)에 대한 재배치, 이름 변경"
   ]
  },
  {
   "attachments": {},
   "cell_type": "markdown",
   "metadata": {},
   "source": [
    "### 1. 열 순서 변경\n",
    "- 지정된 순서대로 열이 재정렬된 결과가 반환\n",
    "- 결과가 적용된 복사본이 생성되서 원본은 변화 없음\n",
    "- 재배치 되지 못한 열은 제외\n",
    "- 원본에 없는 열을 추출하려고 할 경우 NaN으로 반환"
   ]
  },
  {
   "cell_type": "code",
   "execution_count": null,
   "metadata": {},
   "outputs": [],
   "source": [
    "df"
   ]
  },
  {
   "cell_type": "code",
   "execution_count": null,
   "metadata": {},
   "outputs": [],
   "source": [
    "df1 = df.reindex(columns=['국어', '수학', '과학', '영어'])\n",
    "df1"
   ]
  },
  {
   "cell_type": "code",
   "execution_count": null,
   "metadata": {},
   "outputs": [],
   "source": [
    "# df1x = df.reindex(columns=['국어', '수학', '과학', '일어'])\n",
    "# df1x"
   ]
  },
  {
   "attachments": {},
   "cell_type": "markdown",
   "metadata": {},
   "source": [
    "### 2. 행 순서 변경\n",
    "- 지정된 순수대로 행이 재정렬된 결과가 반환\n",
    "- 결과가 적용된 복사본이 생성, 원본 유지\n",
    "- 재배치 되지 못한 행은 제외\n",
    "- 원본에 없는 행을 추출하려고 할 경우 NaN으로 반환"
   ]
  },
  {
   "cell_type": "code",
   "execution_count": null,
   "metadata": {},
   "outputs": [],
   "source": [
    "df2 = df.reindex(index=['석영', '호영', '민철', '수현'])\n",
    "df2"
   ]
  },
  {
   "cell_type": "code",
   "execution_count": null,
   "metadata": {},
   "outputs": [],
   "source": [
    "# df2x = df.reindex(index=['저희', '호영', '민철', '수현'])\n",
    "# df2x"
   ]
  },
  {
   "attachments": {},
   "cell_type": "markdown",
   "metadata": {},
   "source": [
    "### 3. 행, 열의 이름 변경\n",
    "- 기존이름: 새이름 형식의 딕셔너리로 지정\n",
    "- columns와 index중 변경을 원하는 하나만 설정 가능\n",
    "- 결과가 적용된 복사본이 생성, 원본 유지\n",
    "- 이름이 변경되지 않은 항목이 결과에서 제외되지는 않는다\\\n",
    "즉, 결과에 포함됨\n",
    "- 원본에 즉시 반영해야 할 경우 \n",
    "inplace=True 파라미터 사용"
   ]
  },
  {
   "cell_type": "code",
   "execution_count": null,
   "metadata": {},
   "outputs": [],
   "source": [
    "df3 = df.rename(\n",
    "    columns={'국어':'kor', '영어':'eng', '수학':'math', '과학':'sci'},\n",
    "    index={'석영':'suk', '호영':'ho', '민철':'min', '수현':'su'}\n",
    ")\n",
    "df3"
   ]
  },
  {
   "attachments": {},
   "cell_type": "markdown",
   "metadata": {},
   "source": [
    "## #03. 정렬\n",
    "특정 변수(열-컬럼) 기준으로 행 단위로 정렬"
   ]
  },
  {
   "attachments": {},
   "cell_type": "markdown",
   "metadata": {},
   "source": [
    "### 1. 변수에 대한 오름차수(ASC)"
   ]
  },
  {
   "attachments": {},
   "cell_type": "markdown",
   "metadata": {},
   "source": [
    "단일 컬럼에 대한 정렬\n",
    "- 원본에 즉시 반영해야 할 경우 inplace=True 파라미터를 적용"
   ]
  },
  {
   "cell_type": "code",
   "execution_count": null,
   "metadata": {},
   "outputs": [],
   "source": [
    "# 국어의 열을 오름차순 정렬\n",
    "df4 = df.sort_values('국어')\n",
    "df4"
   ]
  },
  {
   "attachments": {},
   "cell_type": "markdown",
   "metadata": {},
   "source": [
    "복수 컬럼에 대한 정렬\n",
    "- 정렬 기준이 되는 컬럼 이름을 리스트로 설정했을 때\\\n",
    "첫 번째 컬럼의 값이 동일한 경우 두 번째 컬럼을 기준으로 정렬"
   ]
  },
  {
   "cell_type": "code",
   "execution_count": null,
   "metadata": {},
   "outputs": [],
   "source": [
    "df5 = df.sort_values(['국어', '학년'])\n",
    "df5"
   ]
  },
  {
   "attachments": {},
   "cell_type": "markdown",
   "metadata": {},
   "source": [
    "### 2. 변수에 대한 내림차순\n",
    "- ascending=False 파라미터를 추가한다.(기본값=True,오름차순)"
   ]
  },
  {
   "cell_type": "code",
   "execution_count": null,
   "metadata": {},
   "outputs": [],
   "source": [
    "# 국어 컬럼의 값을 내림차순\n",
    "df6 = df.sort_values('국어', ascending=False)\n",
    "df6"
   ]
  },
  {
   "attachments": {},
   "cell_type": "markdown",
   "metadata": {},
   "source": [
    "### 3. 인덱스를 기준으로 하는 정렬\n",
    "- 인덱스는 하나만 존재하므로 열 이름을 지정할 필요가 없다\n",
    "- 정렬 방향을 위한 ascending 파라미터를\\\n",
    "False로 설정하면 내림차순으로 정렬\n",
    "- inplace=True를 적용할 경우 원본에 즉시 반영"
   ]
  },
  {
   "cell_type": "code",
   "execution_count": null,
   "metadata": {},
   "outputs": [],
   "source": [
    "# index를 오름차순\n",
    "df7 = df.sort_index()\n",
    "df7"
   ]
  },
  {
   "attachments": {},
   "cell_type": "markdown",
   "metadata": {},
   "source": [
    "## #04. 특정 데이터 필터링"
   ]
  },
  {
   "attachments": {},
   "cell_type": "markdown",
   "metadata": {},
   "source": [
    "### 1. 행 단위 필터링 (조건검색 - query)\n",
    "- 특정 조건에 맞는 행 조회"
   ]
  },
  {
   "cell_type": "code",
   "execution_count": null,
   "metadata": {},
   "outputs": [],
   "source": [
    "r1 = df.query('국어 > 80')\n",
    "r1"
   ]
  },
  {
   "cell_type": "code",
   "execution_count": null,
   "metadata": {},
   "outputs": [],
   "source": [
    "# # 없는 행을 고르면 에러 발생\n",
    "# r1x = df.query('구거 > 80')\n",
    "# r1x"
   ]
  },
  {
   "attachments": {},
   "cell_type": "markdown",
   "metadata": {},
   "source": [
    "- AND 조건(& 사용가능)"
   ]
  },
  {
   "cell_type": "code",
   "execution_count": null,
   "metadata": {},
   "outputs": [],
   "source": [
    "r2 = df.query('국어 > 80 and 수학 >80')\n",
    "r2"
   ]
  },
  {
   "attachments": {},
   "cell_type": "markdown",
   "metadata": {},
   "source": [
    "- OR 조건(| 사용 가능)"
   ]
  },
  {
   "cell_type": "code",
   "execution_count": null,
   "metadata": {},
   "outputs": [],
   "source": [
    "r3 = df.query('국어 > 80 or 수학 > 80')\n",
    "r3"
   ]
  },
  {
   "attachments": {},
   "cell_type": "markdown",
   "metadata": {},
   "source": [
    "- 조건값을 변수로 적용"
   ]
  },
  {
   "cell_type": "code",
   "execution_count": null,
   "metadata": {},
   "outputs": [],
   "source": [
    "point = int(input('점수를 입력 : '))\n",
    "print(\"입력한 점수인 %d점 보다 높은 학생은 다음과 같다\" %point)\n",
    "\n",
    "# @point 대신 %d %point도 가능\n",
    "r4 = df.query('국어 > @point')\n",
    "r4"
   ]
  },
  {
   "attachments": {},
   "cell_type": "markdown",
   "metadata": {},
   "source": [
    "### 2. 열 단위 필터링 (filter)"
   ]
  },
  {
   "cell_type": "code",
   "execution_count": null,
   "metadata": {},
   "outputs": [],
   "source": [
    "f1 = df.filter(['국어', '영어'])\n",
    "f1"
   ]
  },
  {
   "attachments": {},
   "cell_type": "markdown",
   "metadata": {},
   "source": [
    "## #05 행 혹은 열 추가, 삭제"
   ]
  },
  {
   "attachments": {},
   "cell_type": "markdown",
   "metadata": {},
   "source": [
    "### 1. 행 추가\n",
    "> 원본 자체가 수정"
   ]
  },
  {
   "attachments": {},
   "cell_type": "markdown",
   "metadata": {},
   "source": [
    "리스트로 추가하기\n",
    "- 추가될 행의 인덱스 이름을 지정\n",
    "- 리스트로 추가할 경우 dataframe의 컬럼 순서에 맞게 지정\n",
    "- 누락되는 값이 있거나 값의 수가 초과할 경우 에러"
   ]
  },
  {
   "cell_type": "code",
   "execution_count": null,
   "metadata": {},
   "outputs": [],
   "source": [
    "df"
   ]
  },
  {
   "cell_type": "code",
   "execution_count": null,
   "metadata": {},
   "outputs": [],
   "source": [
    "df.loc['정호'] = [2, '남자', 90, 80, 70, 60]\n",
    "df"
   ]
  },
  {
   "attachments": {},
   "cell_type": "markdown",
   "metadata": {},
   "source": [
    "딕셔너리로 추가\n",
    "- 컬럼 순서는 상관 없음\n",
    "- 누락되는 값이 있거나 값의 수가 초과할 경우 에러"
   ]
  },
  {
   "cell_type": "code",
   "execution_count": null,
   "metadata": {},
   "outputs": [],
   "source": [
    "df.loc['민정'] = {'성별':'여자', '학년':4, '국어':81, '영어':72, '수학':84, '과학':90}\n",
    "df"
   ]
  },
  {
   "attachments": {},
   "cell_type": "markdown",
   "metadata": {},
   "source": [
    "시리즈 객체로 추가\n",
    "- 시리즈 객체의 index가 지정되지 않은 경우 값을 추가 할 수 없음"
   ]
  },
  {
   "cell_type": "code",
   "execution_count": null,
   "metadata": {},
   "outputs": [],
   "source": [
    "s = Series([2, '남자', 90, 80, 70, 60], index=['학년', '성별', '국어', '영어', '수학', '과학'])\n",
    "df.loc['형석'] = s\n",
    "df"
   ]
  },
  {
   "attachments": {},
   "cell_type": "markdown",
   "metadata": {},
   "source": [
    "빈값이 있는 경우\n",
    "- Series 객체 형태만 가능\n",
    "- 데이터가 부족해 빈 값이거나 초과할 경우\\\n",
    "NaN을 사용하기 위해서 Series를 사용"
   ]
  },
  {
   "cell_type": "code",
   "execution_count": null,
   "metadata": {},
   "outputs": [],
   "source": [
    "# 영어 누락\n",
    "s = Series([2, '남자', 93, 71, 68], index=['학년', '성별', '국어', '수학', '과학'])\n",
    "df.loc['석호'] = s\n",
    "df"
   ]
  },
  {
   "attachments": {},
   "cell_type": "markdown",
   "metadata": {},
   "source": [
    "기존의 행 복사하기"
   ]
  },
  {
   "cell_type": "code",
   "execution_count": null,
   "metadata": {},
   "outputs": [],
   "source": [
    "df.loc['철민'] = df.loc['철수']\n",
    "df"
   ]
  },
  {
   "attachments": {},
   "cell_type": "markdown",
   "metadata": {},
   "source": [
    "### 2. 행 삭제"
   ]
  },
  {
   "attachments": {},
   "cell_type": "markdown",
   "metadata": {},
   "source": [
    "단일 행 삭제\n",
    "- 추가는 원본 자체가 변화하지만, 삭제는 결과가\\\n",
    "반영된 새로운 복사본이 생성\n",
    "- drop() 메서드도 inplace=True 파라미터 적용 가능"
   ]
  },
  {
   "cell_type": "code",
   "execution_count": null,
   "metadata": {},
   "outputs": [],
   "source": [
    "df"
   ]
  },
  {
   "cell_type": "code",
   "execution_count": null,
   "metadata": {},
   "outputs": [],
   "source": [
    "k1 = df.drop('철민')\n",
    "k1"
   ]
  },
  {
   "attachments": {},
   "cell_type": "markdown",
   "metadata": {},
   "source": [
    "다중 행 삭제"
   ]
  },
  {
   "cell_type": "code",
   "execution_count": null,
   "metadata": {},
   "outputs": [],
   "source": [
    "k2 = df.drop(['석영', '정호', '민정', '형석'])\n",
    "k2"
   ]
  },
  {
   "attachments": {},
   "cell_type": "markdown",
   "metadata": {},
   "source": [
    "index에 대한 인덱싱으로 삭제하기"
   ]
  },
  {
   "cell_type": "code",
   "execution_count": null,
   "metadata": {},
   "outputs": [],
   "source": [
    "k3 = df.drop(df.index[0])\n",
    "k3"
   ]
  },
  {
   "attachments": {},
   "cell_type": "markdown",
   "metadata": {},
   "source": [
    "index에 대한 슬라이싱으로 삭제하기"
   ]
  },
  {
   "cell_type": "code",
   "execution_count": null,
   "metadata": {},
   "outputs": [],
   "source": [
    "k4 = df.drop(df.index[0:10])\n",
    "k4"
   ]
  },
  {
   "attachments": {},
   "cell_type": "markdown",
   "metadata": {},
   "source": [
    "### 3. 열 추가\n",
    "- k4 이어서 진행"
   ]
  },
  {
   "attachments": {},
   "cell_type": "markdown",
   "metadata": {},
   "source": [
    "리스트로 추가"
   ]
  },
  {
   "cell_type": "code",
   "execution_count": null,
   "metadata": {},
   "outputs": [],
   "source": [
    "k4['한국사'] = [72, 56, 90, 88]\n",
    "k4"
   ]
  },
  {
   "attachments": {},
   "cell_type": "markdown",
   "metadata": {},
   "source": [
    "딕셔너리로 추가하기"
   ]
  },
  {
   "cell_type": "code",
   "execution_count": null,
   "metadata": {},
   "outputs": [],
   "source": [
    "k4['세계사'] = {'민정':90, '형석':88, '석호':72, '철민':56}\n",
    "k4"
   ]
  },
  {
   "attachments": {},
   "cell_type": "markdown",
   "metadata": {},
   "source": [
    "Series 객체로 추가하기\n",
    "- 각 값이 연결될 행의 이름(index)를 지정\n",
    "- 부분적으로 값을 비워 둘 수 있다(NaN)"
   ]
  },
  {
   "cell_type": "code",
   "execution_count": null,
   "metadata": {},
   "outputs": [],
   "source": [
    "# 순서는 상관 없음(index, value 값만 맞추면 됨)\n",
    "s = Series([72, 56, 90, 88], index = ['석호', '철민', '민정', '형석'])\n",
    "k4['윤리'] = s\n",
    "k4"
   ]
  },
  {
   "attachments": {},
   "cell_type": "markdown",
   "metadata": {},
   "source": [
    "단일 값 추가하기"
   ]
  },
  {
   "cell_type": "code",
   "execution_count": null,
   "metadata": {},
   "outputs": [],
   "source": [
    "k4['체육'] = 100\n",
    "k4"
   ]
  },
  {
   "cell_type": "code",
   "execution_count": null,
   "metadata": {},
   "outputs": [],
   "source": []
  }
 ],
 "metadata": {
  "kernelspec": {
   "display_name": "Python 3",
   "language": "python",
   "name": "python3"
  },
  "language_info": {
   "codemirror_mode": {
    "name": "ipython",
    "version": 3
   },
   "file_extension": ".py",
   "mimetype": "text/x-python",
   "name": "python",
   "nbconvert_exporter": "python",
   "pygments_lexer": "ipython3",
   "version": "3.11.0"
  },
  "orig_nbformat": 4
 },
 "nbformat": 4,
 "nbformat_minor": 2
}
