{
 "cells": [
  {
   "attachments": {},
   "cell_type": "markdown",
   "metadata": {},
   "source": [
    "SQL 활용 데이터 프레임 생성"
   ]
  },
  {
   "attachments": {},
   "cell_type": "markdown",
   "metadata": {},
   "source": [
    "pymysql 과  sqlalchemy  패키지 미리 설치"
   ]
  },
  {
   "cell_type": "code",
   "execution_count": null,
   "metadata": {},
   "outputs": [],
   "source": [
    "# ! pip install cryptography"
   ]
  },
  {
   "cell_type": "code",
   "execution_count": null,
   "metadata": {},
   "outputs": [],
   "source": [
    "# 패키지 설치\n",
    "import pymysql\n",
    "from sqlalchemy import create_engine\n",
    "from pandas import DataFrame\n",
    "from pandas import read_sql, read_sql_table"
   ]
  },
  {
   "attachments": {},
   "cell_type": "markdown",
   "metadata": {},
   "source": [
    "#01. pymysql  사용"
   ]
  },
  {
   "attachments": {},
   "cell_type": "markdown",
   "metadata": {},
   "source": [
    "데이터베이스 접속\\\n",
    "django의 settings의 DATABASES 참고\\\n",
    "(docker에서 utf-8 설정 안해서 한글은 적용 안됨)"
   ]
  },
  {
   "cell_type": "code",
   "execution_count": null,
   "metadata": {},
   "outputs": [],
   "source": [
    "dbcon = pymysql.connect(\n",
    "    host=\"127.0.0.1\",   #서버주소\n",
    "    port = 3406,    #포트번호\n",
    "    user='root',    #계정이름\n",
    "    password='1234',    #비밀번호\n",
    "    db='board', #DB이름\n",
    "    charset='utf8'\n",
    ")"
   ]
  },
  {
   "attachments": {},
   "cell_type": "markdown",
   "metadata": {},
   "source": [
    " 데이터 조회"
   ]
  },
  {
   "cell_type": "code",
   "execution_count": null,
   "metadata": {},
   "outputs": [],
   "source": [
    "# 데이터 조회를 위한 커서 객체 생성\n",
    "cursor = dbcon.cursor()"
   ]
  },
  {
   "cell_type": "code",
   "execution_count": null,
   "metadata": {},
   "outputs": [],
   "source": [
    "# 데이터 조회를 위한 SQL문 처리\n",
    "sql = \"SELECT * FROM board_main_post\"\n",
    "cursor.execute(sql)\n",
    "result = cursor.fetchall()\n",
    "result"
   ]
  },
  {
   "attachments": {},
   "cell_type": "markdown",
   "metadata": {},
   "source": [
    "딕셔너리 형태로 데이터 조회"
   ]
  },
  {
   "cell_type": "code",
   "execution_count": null,
   "metadata": {},
   "outputs": [],
   "source": [
    "# 데이터 조회를 위한 커서 객체 생성\n",
    "cursor = dbcon.cursor(pymysql.cursors.DictCursor)"
   ]
  },
  {
   "cell_type": "code",
   "execution_count": null,
   "metadata": {},
   "outputs": [],
   "source": [
    "# 데이터 조회하기\n",
    "sql = \"SELECT * FROM board_main_post\"\n",
    "cursor.execute(sql)\n",
    "result = cursor.fetchall()\n",
    "result"
   ]
  },
  {
   "cell_type": "code",
   "execution_count": null,
   "metadata": {},
   "outputs": [],
   "source": [
    "# 조회결과를 데이터프레임으로 변환\n",
    "df = DataFrame(result)\n",
    "df"
   ]
  },
  {
   "cell_type": "code",
   "execution_count": null,
   "metadata": {},
   "outputs": [],
   "source": [
    "# 데이터 프레임에 대한 인덱스 설정\n",
    "# inplace=True를 입력해 반영\n",
    "df.set_index('id', inplace=True)\n",
    "df"
   ]
  },
  {
   "attachments": {},
   "cell_type": "markdown",
   "metadata": {},
   "source": [
    "입력, 수정, 삭제\\\n",
    "cursor 객체를 재사용"
   ]
  },
  {
   "attachments": {},
   "cell_type": "markdown",
   "metadata": {},
   "source": [
    "데이터 입력"
   ]
  },
  {
   "cell_type": "code",
   "execution_count": null,
   "metadata": {},
   "outputs": [],
   "source": [
    "sql = \"\"\"INSERT INTO board_main_post (title, contents, created_at, updated_at)\n",
    "        VALUES ('pandas test', '이것은 테스트', now(), now())\"\"\"\n",
    "print(sql)\n",
    "\n",
    "rows = cursor.execute(sql)\n",
    "print(\"%d 개의 행이 저장\" %rows)\n",
    "print(\"생성된 primary Key : %d\" % cursor.lastrowid)\n",
    "\n",
    "# 처리 결과를 반영하기 위한 commit\n",
    "# insert, update, delete는 commit을 해야 반영\n",
    "dbcon.commit()\n",
    "\n",
    "# 되돌리기는 rollback() - 이미 commit한 내역은 rollback 불가"
   ]
  },
  {
   "attachments": {},
   "cell_type": "markdown",
   "metadata": {},
   "source": [
    "데이터 수정"
   ]
  },
  {
   "cell_type": "code",
   "execution_count": null,
   "metadata": {},
   "outputs": [],
   "source": [
    "sql = \"\"\"UPDATE board_main_post\n",
    "        SET title = '제목을 수정',\n",
    "        contents = '이거는 수정된 내용',\n",
    "        updated_at=now()\n",
    "        WHERE id=13\"\"\"\n",
    "print(sql)\n",
    "\n",
    "rows = cursor.execute(sql)\n",
    "print(\"%d개의 행 갱신\"%rows)\n",
    "\n",
    "# 실제 반영을 위한 commit\n",
    "dbcon.commit()"
   ]
  },
  {
   "attachments": {},
   "cell_type": "markdown",
   "metadata": {},
   "source": [
    "데이터 삭제"
   ]
  },
  {
   "cell_type": "code",
   "execution_count": null,
   "metadata": {},
   "outputs": [],
   "source": [
    "sql = \"DELETE FROM board_main_post WHERE id > 10\"\n",
    "print(sql)\n",
    "\n",
    "rows = cursor.execute(sql)\n",
    "print(\"%d개의 행이 삭제\"%rows)\n",
    "\n",
    "dbcon.commit()"
   ]
  },
  {
   "attachments": {},
   "cell_type": "markdown",
   "metadata": {},
   "source": [
    "데이터베이스 접속 해제"
   ]
  },
  {
   "cell_type": "code",
   "execution_count": null,
   "metadata": {},
   "outputs": [],
   "source": [
    "cursor.close()\n",
    "dbcon.close()\n",
    "# close가 없으면 데이터가 계속 쌓여 서버가 다운됨"
   ]
  },
  {
   "attachments": {},
   "cell_type": "markdown",
   "metadata": {},
   "source": [
    "#02. SQLAlchemy 사용"
   ]
  },
  {
   "attachments": {},
   "cell_type": "markdown",
   "metadata": {},
   "source": [
    "DB 접속"
   ]
  },
  {
   "cell_type": "code",
   "execution_count": null,
   "metadata": {},
   "outputs": [],
   "source": [
    "# 데이터베이스 접속 패키지 설치\n",
    "pymysql.install_as_MySQLdb()\n",
    "import MySQLdb"
   ]
  },
  {
   "attachments": {},
   "cell_type": "markdown",
   "metadata": {},
   "source": [
    "접속 문자열 생성"
   ]
  },
  {
   "attachments": {},
   "cell_type": "markdown",
   "metadata": {},
   "source": [
    "###### mysql+mysqldb://계정이름:비밀번호@:포트번호/데이터베이스이름?charset=인코딩\n",
    "###### mysql+mysqldb://USER:PASSWORD@:PORT/NAME?charset=인코딩"
   ]
  },
  {
   "cell_type": "code",
   "execution_count": null,
   "metadata": {},
   "outputs": [],
   "source": [
    "conStr = \"mysql+mysqldb://root:1234@:3406/board?charset=utf8\"\n",
    "conStr"
   ]
  },
  {
   "attachments": {},
   "cell_type": "markdown",
   "metadata": {},
   "source": [
    "데이터베이스 접속"
   ]
  },
  {
   "cell_type": "code",
   "execution_count": null,
   "metadata": {},
   "outputs": [],
   "source": [
    "engine = create_engine(conStr)\n",
    "conn = engine.connect()"
   ]
  },
  {
   "attachments": {},
   "cell_type": "markdown",
   "metadata": {},
   "source": [
    "모든 데이터 조회"
   ]
  },
  {
   "cell_type": "code",
   "execution_count": 81,
   "metadata": {},
   "outputs": [
    {
     "data": {
      "text/html": [
       "<div>\n",
       "<style scoped>\n",
       "    .dataframe tbody tr th:only-of-type {\n",
       "        vertical-align: middle;\n",
       "    }\n",
       "\n",
       "    .dataframe tbody tr th {\n",
       "        vertical-align: top;\n",
       "    }\n",
       "\n",
       "    .dataframe thead th {\n",
       "        text-align: right;\n",
       "    }\n",
       "</style>\n",
       "<table border=\"1\" class=\"dataframe\">\n",
       "  <thead>\n",
       "    <tr style=\"text-align: right;\">\n",
       "      <th></th>\n",
       "      <th>id</th>\n",
       "      <th>title</th>\n",
       "      <th>contents</th>\n",
       "      <th>created_at</th>\n",
       "      <th>updated_at</th>\n",
       "      <th>author_id</th>\n",
       "    </tr>\n",
       "  </thead>\n",
       "  <tbody>\n",
       "    <tr>\n",
       "      <th>0</th>\n",
       "      <td>1</td>\n",
       "      <td>1234</td>\n",
       "      <td>1234</td>\n",
       "      <td>2023-06-14 12:01:14.570250</td>\n",
       "      <td>2023-06-14 12:24:37.870945</td>\n",
       "      <td>None</td>\n",
       "    </tr>\n",
       "    <tr>\n",
       "      <th>1</th>\n",
       "      <td>2</td>\n",
       "      <td>poiu</td>\n",
       "      <td>poiu</td>\n",
       "      <td>2023-06-14 12:03:55.836730</td>\n",
       "      <td>2023-06-14 12:24:51.873327</td>\n",
       "      <td>None</td>\n",
       "    </tr>\n",
       "    <tr>\n",
       "      <th>2</th>\n",
       "      <td>4</td>\n",
       "      <td>qwe</td>\n",
       "      <td>qwe</td>\n",
       "      <td>2023-06-15 00:01:39.671555</td>\n",
       "      <td>2023-06-15 00:01:39.671583</td>\n",
       "      <td>None</td>\n",
       "    </tr>\n",
       "    <tr>\n",
       "      <th>3</th>\n",
       "      <td>5</td>\n",
       "      <td>my posta</td>\n",
       "      <td>first posta</td>\n",
       "      <td>2023-06-15 02:35:43.754412</td>\n",
       "      <td>2023-06-15 02:35:43.754412</td>\n",
       "      <td>None</td>\n",
       "    </tr>\n",
       "    <tr>\n",
       "      <th>4</th>\n",
       "      <td>8</td>\n",
       "      <td>asdf</td>\n",
       "      <td>asdf</td>\n",
       "      <td>2023-06-15 07:44:58.040802</td>\n",
       "      <td>2023-06-15 07:44:58.040802</td>\n",
       "      <td>None</td>\n",
       "    </tr>\n",
       "    <tr>\n",
       "      <th>5</th>\n",
       "      <td>9</td>\n",
       "      <td>1q2w3e4r5t</td>\n",
       "      <td>asdf</td>\n",
       "      <td>2023-06-15 07:45:48.736193</td>\n",
       "      <td>2023-06-15 08:29:03.941259</td>\n",
       "      <td>None</td>\n",
       "    </tr>\n",
       "    <tr>\n",
       "      <th>6</th>\n",
       "      <td>10</td>\n",
       "      <td>vvvv</td>\n",
       "      <td>vvvv\\r\\nsadfsadf</td>\n",
       "      <td>2023-06-15 07:46:00.733124</td>\n",
       "      <td>2023-06-15 08:03:44.607259</td>\n",
       "      <td>None</td>\n",
       "    </tr>\n",
       "  </tbody>\n",
       "</table>\n",
       "</div>"
      ],
      "text/plain": [
       "   id       title          contents                 created_at  \\\n",
       "0   1        1234              1234 2023-06-14 12:01:14.570250   \n",
       "1   2        poiu              poiu 2023-06-14 12:03:55.836730   \n",
       "2   4         qwe               qwe 2023-06-15 00:01:39.671555   \n",
       "3   5    my posta       first posta 2023-06-15 02:35:43.754412   \n",
       "4   8        asdf              asdf 2023-06-15 07:44:58.040802   \n",
       "5   9  1q2w3e4r5t              asdf 2023-06-15 07:45:48.736193   \n",
       "6  10        vvvv  vvvv\\r\\nsadfsadf 2023-06-15 07:46:00.733124   \n",
       "\n",
       "                  updated_at author_id  \n",
       "0 2023-06-14 12:24:37.870945      None  \n",
       "1 2023-06-14 12:24:51.873327      None  \n",
       "2 2023-06-15 00:01:39.671583      None  \n",
       "3 2023-06-15 02:35:43.754412      None  \n",
       "4 2023-06-15 07:44:58.040802      None  \n",
       "5 2023-06-15 08:29:03.941259      None  \n",
       "6 2023-06-15 08:03:44.607259      None  "
      ]
     },
     "execution_count": 81,
     "metadata": {},
     "output_type": "execute_result"
    }
   ],
   "source": [
    "# SQL문 사용\n",
    "df = read_sql(\"SELECT * FROM board_main_post\", con=conn)\n",
    "df"
   ]
  },
  {
   "attachments": {},
   "cell_type": "markdown",
   "metadata": {},
   "source": [
    "인덱스를 지정한 조회"
   ]
  },
  {
   "cell_type": "code",
   "execution_count": 82,
   "metadata": {},
   "outputs": [
    {
     "data": {
      "text/html": [
       "<div>\n",
       "<style scoped>\n",
       "    .dataframe tbody tr th:only-of-type {\n",
       "        vertical-align: middle;\n",
       "    }\n",
       "\n",
       "    .dataframe tbody tr th {\n",
       "        vertical-align: top;\n",
       "    }\n",
       "\n",
       "    .dataframe thead th {\n",
       "        text-align: right;\n",
       "    }\n",
       "</style>\n",
       "<table border=\"1\" class=\"dataframe\">\n",
       "  <thead>\n",
       "    <tr style=\"text-align: right;\">\n",
       "      <th></th>\n",
       "      <th>title</th>\n",
       "      <th>contents</th>\n",
       "      <th>created_at</th>\n",
       "      <th>updated_at</th>\n",
       "      <th>author_id</th>\n",
       "    </tr>\n",
       "    <tr>\n",
       "      <th>id</th>\n",
       "      <th></th>\n",
       "      <th></th>\n",
       "      <th></th>\n",
       "      <th></th>\n",
       "      <th></th>\n",
       "    </tr>\n",
       "  </thead>\n",
       "  <tbody>\n",
       "    <tr>\n",
       "      <th>1</th>\n",
       "      <td>1234</td>\n",
       "      <td>1234</td>\n",
       "      <td>2023-06-14 12:01:14.570250</td>\n",
       "      <td>2023-06-14 12:24:37.870945</td>\n",
       "      <td>None</td>\n",
       "    </tr>\n",
       "    <tr>\n",
       "      <th>2</th>\n",
       "      <td>poiu</td>\n",
       "      <td>poiu</td>\n",
       "      <td>2023-06-14 12:03:55.836730</td>\n",
       "      <td>2023-06-14 12:24:51.873327</td>\n",
       "      <td>None</td>\n",
       "    </tr>\n",
       "    <tr>\n",
       "      <th>4</th>\n",
       "      <td>qwe</td>\n",
       "      <td>qwe</td>\n",
       "      <td>2023-06-15 00:01:39.671555</td>\n",
       "      <td>2023-06-15 00:01:39.671583</td>\n",
       "      <td>None</td>\n",
       "    </tr>\n",
       "    <tr>\n",
       "      <th>5</th>\n",
       "      <td>my posta</td>\n",
       "      <td>first posta</td>\n",
       "      <td>2023-06-15 02:35:43.754412</td>\n",
       "      <td>2023-06-15 02:35:43.754412</td>\n",
       "      <td>None</td>\n",
       "    </tr>\n",
       "    <tr>\n",
       "      <th>8</th>\n",
       "      <td>asdf</td>\n",
       "      <td>asdf</td>\n",
       "      <td>2023-06-15 07:44:58.040802</td>\n",
       "      <td>2023-06-15 07:44:58.040802</td>\n",
       "      <td>None</td>\n",
       "    </tr>\n",
       "    <tr>\n",
       "      <th>9</th>\n",
       "      <td>1q2w3e4r5t</td>\n",
       "      <td>asdf</td>\n",
       "      <td>2023-06-15 07:45:48.736193</td>\n",
       "      <td>2023-06-15 08:29:03.941259</td>\n",
       "      <td>None</td>\n",
       "    </tr>\n",
       "    <tr>\n",
       "      <th>10</th>\n",
       "      <td>vvvv</td>\n",
       "      <td>vvvv\\r\\nsadfsadf</td>\n",
       "      <td>2023-06-15 07:46:00.733124</td>\n",
       "      <td>2023-06-15 08:03:44.607259</td>\n",
       "      <td>None</td>\n",
       "    </tr>\n",
       "  </tbody>\n",
       "</table>\n",
       "</div>"
      ],
      "text/plain": [
       "         title          contents                 created_at  \\\n",
       "id                                                            \n",
       "1         1234              1234 2023-06-14 12:01:14.570250   \n",
       "2         poiu              poiu 2023-06-14 12:03:55.836730   \n",
       "4          qwe               qwe 2023-06-15 00:01:39.671555   \n",
       "5     my posta       first posta 2023-06-15 02:35:43.754412   \n",
       "8         asdf              asdf 2023-06-15 07:44:58.040802   \n",
       "9   1q2w3e4r5t              asdf 2023-06-15 07:45:48.736193   \n",
       "10        vvvv  vvvv\\r\\nsadfsadf 2023-06-15 07:46:00.733124   \n",
       "\n",
       "                   updated_at author_id  \n",
       "id                                       \n",
       "1  2023-06-14 12:24:37.870945      None  \n",
       "2  2023-06-14 12:24:51.873327      None  \n",
       "4  2023-06-15 00:01:39.671583      None  \n",
       "5  2023-06-15 02:35:43.754412      None  \n",
       "8  2023-06-15 07:44:58.040802      None  \n",
       "9  2023-06-15 08:29:03.941259      None  \n",
       "10 2023-06-15 08:03:44.607259      None  "
      ]
     },
     "execution_count": 82,
     "metadata": {},
     "output_type": "execute_result"
    }
   ],
   "source": [
    "df = read_sql_table('board_main_post', index_col='id', con=conn)\n",
    "df"
   ]
  },
  {
   "attachments": {},
   "cell_type": "markdown",
   "metadata": {},
   "source": [
    "특정 컬럼만 가져오기"
   ]
  },
  {
   "cell_type": "code",
   "execution_count": 87,
   "metadata": {},
   "outputs": [
    {
     "data": {
      "text/html": [
       "<div>\n",
       "<style scoped>\n",
       "    .dataframe tbody tr th:only-of-type {\n",
       "        vertical-align: middle;\n",
       "    }\n",
       "\n",
       "    .dataframe tbody tr th {\n",
       "        vertical-align: top;\n",
       "    }\n",
       "\n",
       "    .dataframe thead th {\n",
       "        text-align: right;\n",
       "    }\n",
       "</style>\n",
       "<table border=\"1\" class=\"dataframe\">\n",
       "  <thead>\n",
       "    <tr style=\"text-align: right;\">\n",
       "      <th></th>\n",
       "      <th>title</th>\n",
       "      <th>contents</th>\n",
       "    </tr>\n",
       "    <tr>\n",
       "      <th>id</th>\n",
       "      <th></th>\n",
       "      <th></th>\n",
       "    </tr>\n",
       "  </thead>\n",
       "  <tbody>\n",
       "    <tr>\n",
       "      <th>1</th>\n",
       "      <td>1234</td>\n",
       "      <td>1234</td>\n",
       "    </tr>\n",
       "    <tr>\n",
       "      <th>2</th>\n",
       "      <td>poiu</td>\n",
       "      <td>poiu</td>\n",
       "    </tr>\n",
       "    <tr>\n",
       "      <th>4</th>\n",
       "      <td>qwe</td>\n",
       "      <td>qwe</td>\n",
       "    </tr>\n",
       "    <tr>\n",
       "      <th>5</th>\n",
       "      <td>my posta</td>\n",
       "      <td>first posta</td>\n",
       "    </tr>\n",
       "    <tr>\n",
       "      <th>8</th>\n",
       "      <td>asdf</td>\n",
       "      <td>asdf</td>\n",
       "    </tr>\n",
       "    <tr>\n",
       "      <th>9</th>\n",
       "      <td>1q2w3e4r5t</td>\n",
       "      <td>asdf</td>\n",
       "    </tr>\n",
       "    <tr>\n",
       "      <th>10</th>\n",
       "      <td>vvvv</td>\n",
       "      <td>vvvv\\r\\nsadfsadf</td>\n",
       "    </tr>\n",
       "  </tbody>\n",
       "</table>\n",
       "</div>"
      ],
      "text/plain": [
       "         title          contents\n",
       "id                              \n",
       "1         1234              1234\n",
       "2         poiu              poiu\n",
       "4          qwe               qwe\n",
       "5     my posta       first posta\n",
       "8         asdf              asdf\n",
       "9   1q2w3e4r5t              asdf\n",
       "10        vvvv  vvvv\\r\\nsadfsadf"
      ]
     },
     "execution_count": 87,
     "metadata": {},
     "output_type": "execute_result"
    }
   ],
   "source": [
    "df = read_sql_table(\"board_main_post\", index_col='id', columns=['title', 'contents'], con=conn)\n",
    "df"
   ]
  },
  {
   "attachments": {},
   "cell_type": "markdown",
   "metadata": {},
   "source": [
    "데이터 내보내기"
   ]
  },
  {
   "cell_type": "code",
   "execution_count": 88,
   "metadata": {},
   "outputs": [],
   "source": [
    "# f_exists='append' 옵션이 있으면, \n",
    "# 기존 테이블에 데이터를 추가로 삽입\n",
    "df.to_sql(name=\"new_table\", con=conn, if_exists=\"append\", index=False)\n",
    "conn.commit()"
   ]
  },
  {
   "attachments": {},
   "cell_type": "markdown",
   "metadata": {},
   "source": [
    "데이터베이스 접속 해제"
   ]
  },
  {
   "cell_type": "code",
   "execution_count": 91,
   "metadata": {},
   "outputs": [],
   "source": [
    "conn.close()"
   ]
  },
  {
   "cell_type": "code",
   "execution_count": null,
   "metadata": {},
   "outputs": [],
   "source": []
  }
 ],
 "metadata": {
  "kernelspec": {
   "display_name": "Python 3",
   "language": "python",
   "name": "python3"
  },
  "language_info": {
   "codemirror_mode": {
    "name": "ipython",
    "version": 3
   },
   "file_extension": ".py",
   "mimetype": "text/x-python",
   "name": "python",
   "nbconvert_exporter": "python",
   "pygments_lexer": "ipython3",
   "version": "3.11.0"
  },
  "orig_nbformat": 4
 },
 "nbformat": 4,
 "nbformat_minor": 2
}
