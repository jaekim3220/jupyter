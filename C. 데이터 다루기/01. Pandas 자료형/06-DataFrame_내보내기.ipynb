{
 "cells": [
  {
   "attachments": {},
   "cell_type": "markdown",
   "metadata": {},
   "source": [
    "DataFrame 내보내기"
   ]
  },
  {
   "attachments": {},
   "cell_type": "markdown",
   "metadata": {},
   "source": [
    "euc-kr, utf-8 선택은 본인 자유\\\n",
    "단,\n",
    "xlsx은 euc-kr\\\n",
    "vscode는 utf-8만 인식\n"
   ]
  },
  {
   "cell_type": "code",
   "execution_count": 1,
   "metadata": {},
   "outputs": [],
   "source": [
    "# 패키지 설치\n",
    "from pandas import read_excel"
   ]
  },
  {
   "attachments": {},
   "cell_type": "markdown",
   "metadata": {},
   "source": [
    "데이터 가져오기"
   ]
  },
  {
   "cell_type": "code",
   "execution_count": 2,
   "metadata": {},
   "outputs": [
    {
     "data": {
      "text/html": [
       "<div>\n",
       "<style scoped>\n",
       "    .dataframe tbody tr th:only-of-type {\n",
       "        vertical-align: middle;\n",
       "    }\n",
       "\n",
       "    .dataframe tbody tr th {\n",
       "        vertical-align: top;\n",
       "    }\n",
       "\n",
       "    .dataframe thead th {\n",
       "        text-align: right;\n",
       "    }\n",
       "</style>\n",
       "<table border=\"1\" class=\"dataframe\">\n",
       "  <thead>\n",
       "    <tr style=\"text-align: right;\">\n",
       "      <th></th>\n",
       "      <th>학년</th>\n",
       "      <th>성별</th>\n",
       "      <th>국어</th>\n",
       "      <th>영어</th>\n",
       "      <th>수학</th>\n",
       "      <th>과학</th>\n",
       "    </tr>\n",
       "    <tr>\n",
       "      <th>이름</th>\n",
       "      <th></th>\n",
       "      <th></th>\n",
       "      <th></th>\n",
       "      <th></th>\n",
       "      <th></th>\n",
       "      <th></th>\n",
       "    </tr>\n",
       "  </thead>\n",
       "  <tbody>\n",
       "    <tr>\n",
       "      <th>철수</th>\n",
       "      <td>1</td>\n",
       "      <td>남자</td>\n",
       "      <td>98</td>\n",
       "      <td>77</td>\n",
       "      <td>88</td>\n",
       "      <td>64</td>\n",
       "    </tr>\n",
       "    <tr>\n",
       "      <th>영희</th>\n",
       "      <td>2</td>\n",
       "      <td>여자</td>\n",
       "      <td>88</td>\n",
       "      <td>90</td>\n",
       "      <td>62</td>\n",
       "      <td>72</td>\n",
       "    </tr>\n",
       "    <tr>\n",
       "      <th>민철</th>\n",
       "      <td>1</td>\n",
       "      <td>남자</td>\n",
       "      <td>92</td>\n",
       "      <td>70</td>\n",
       "      <td>83</td>\n",
       "      <td>79</td>\n",
       "    </tr>\n",
       "    <tr>\n",
       "      <th>수현</th>\n",
       "      <td>3</td>\n",
       "      <td>여자</td>\n",
       "      <td>63</td>\n",
       "      <td>60</td>\n",
       "      <td>31</td>\n",
       "      <td>70</td>\n",
       "    </tr>\n",
       "    <tr>\n",
       "      <th>호영</th>\n",
       "      <td>4</td>\n",
       "      <td>남자</td>\n",
       "      <td>75</td>\n",
       "      <td>50</td>\n",
       "      <td>90</td>\n",
       "      <td>88</td>\n",
       "    </tr>\n",
       "  </tbody>\n",
       "</table>\n",
       "</div>"
      ],
      "text/plain": [
       "    학년  성별  국어  영어  수학  과학\n",
       "이름                        \n",
       "철수   1  남자  98  77  88  64\n",
       "영희   2  여자  88  90  62  72\n",
       "민철   1  남자  92  70  83  79\n",
       "수현   3  여자  63  60  31  70\n",
       "호영   4  남자  75  50  90  88"
      ]
     },
     "execution_count": 2,
     "metadata": {},
     "output_type": "execute_result"
    }
   ],
   "source": [
    "df = read_excel(\"grade.xlsx\", index_col='이름')\n",
    "df"
   ]
  },
  {
   "attachments": {},
   "cell_type": "markdown",
   "metadata": {},
   "source": [
    "데이터 내보내기"
   ]
  },
  {
   "attachments": {},
   "cell_type": "markdown",
   "metadata": {},
   "source": [
    "* 엑셀 파일로 내보내기"
   ]
  },
  {
   "cell_type": "code",
   "execution_count": 3,
   "metadata": {},
   "outputs": [],
   "source": [
    "# 원본 파일 그대로 저장\n",
    "df.to_excel(\"1.xlsx\")"
   ]
  },
  {
   "attachments": {},
   "cell_type": "markdown",
   "metadata": {},
   "source": [
    "파라미터 설정"
   ]
  },
  {
   "cell_type": "code",
   "execution_count": 4,
   "metadata": {},
   "outputs": [],
   "source": [
    "# 인덱스 포함\n",
    "df.to_excel(\"2.xlsx\",\n",
    "            index=True,\n",
    "            index_label='이름'\n",
    "            )"
   ]
  },
  {
   "attachments": {},
   "cell_type": "markdown",
   "metadata": {},
   "source": [
    "실제 현장의 데이터는 보기 쉽게 주어지지 않기 때문에 엔지니어가 보기 쉽게 고쳐야함"
   ]
  },
  {
   "cell_type": "code",
   "execution_count": 5,
   "metadata": {},
   "outputs": [
    {
     "data": {
      "text/html": [
       "<div>\n",
       "<style scoped>\n",
       "    .dataframe tbody tr th:only-of-type {\n",
       "        vertical-align: middle;\n",
       "    }\n",
       "\n",
       "    .dataframe tbody tr th {\n",
       "        vertical-align: top;\n",
       "    }\n",
       "\n",
       "    .dataframe thead th {\n",
       "        text-align: right;\n",
       "    }\n",
       "</style>\n",
       "<table border=\"1\" class=\"dataframe\">\n",
       "  <thead>\n",
       "    <tr style=\"text-align: right;\">\n",
       "      <th></th>\n",
       "      <th>학년</th>\n",
       "      <th>성별</th>\n",
       "      <th>국어</th>\n",
       "      <th>영어</th>\n",
       "      <th>수학</th>\n",
       "      <th>과학</th>\n",
       "    </tr>\n",
       "    <tr>\n",
       "      <th>이름</th>\n",
       "      <th></th>\n",
       "      <th></th>\n",
       "      <th></th>\n",
       "      <th></th>\n",
       "      <th></th>\n",
       "      <th></th>\n",
       "    </tr>\n",
       "  </thead>\n",
       "  <tbody>\n",
       "    <tr>\n",
       "      <th>철수</th>\n",
       "      <td>1</td>\n",
       "      <td>남자</td>\n",
       "      <td>98</td>\n",
       "      <td>77</td>\n",
       "      <td>88</td>\n",
       "      <td>64</td>\n",
       "    </tr>\n",
       "    <tr>\n",
       "      <th>영희</th>\n",
       "      <td>2</td>\n",
       "      <td>여자</td>\n",
       "      <td>88</td>\n",
       "      <td>90</td>\n",
       "      <td>62</td>\n",
       "      <td>72</td>\n",
       "    </tr>\n",
       "    <tr>\n",
       "      <th>민철</th>\n",
       "      <td>1</td>\n",
       "      <td>남자</td>\n",
       "      <td>92</td>\n",
       "      <td>70</td>\n",
       "      <td>83</td>\n",
       "      <td>79</td>\n",
       "    </tr>\n",
       "    <tr>\n",
       "      <th>수현</th>\n",
       "      <td>3</td>\n",
       "      <td>여자</td>\n",
       "      <td>63</td>\n",
       "      <td>60</td>\n",
       "      <td>31</td>\n",
       "      <td>70</td>\n",
       "    </tr>\n",
       "    <tr>\n",
       "      <th>호영</th>\n",
       "      <td>4</td>\n",
       "      <td>남자</td>\n",
       "      <td>75</td>\n",
       "      <td>50</td>\n",
       "      <td>90</td>\n",
       "      <td>88</td>\n",
       "    </tr>\n",
       "  </tbody>\n",
       "</table>\n",
       "</div>"
      ],
      "text/plain": [
       "    학년  성별  국어  영어  수학  과학\n",
       "이름                        \n",
       "철수   1  남자  98  77  88  64\n",
       "영희   2  여자  88  90  62  72\n",
       "민철   1  남자  92  70  83  79\n",
       "수현   3  여자  63  60  31  70\n",
       "호영   4  남자  75  50  90  88"
      ]
     },
     "execution_count": 5,
     "metadata": {},
     "output_type": "execute_result"
    }
   ],
   "source": [
    "df"
   ]
  },
  {
   "cell_type": "code",
   "execution_count": 6,
   "metadata": {},
   "outputs": [],
   "source": [
    "# 인덱스를 포함하지 않는 경우\n",
    "df.to_excel(\"3.xlsx\",\n",
    "            index=False,\n",
    "            columns=['학년', '성별', '국어'],\n",
    "            header=['level', 'sex', 'kor']\n",
    "            # header를 사용해 컬럼 제목 설정 가능\n",
    "            \n",
    ")"
   ]
  },
  {
   "attachments": {},
   "cell_type": "markdown",
   "metadata": {},
   "source": [
    "CSV로 내보내기"
   ]
  },
  {
   "cell_type": "code",
   "execution_count": 7,
   "metadata": {},
   "outputs": [],
   "source": [
    "# 원본 그대로 저장\n",
    "df.to_csv(\"1.csv\", encoding='utf-8')"
   ]
  },
  {
   "attachments": {},
   "cell_type": "markdown",
   "metadata": {},
   "source": [
    "파라미터 설정"
   ]
  },
  {
   "cell_type": "code",
   "execution_count": 8,
   "metadata": {},
   "outputs": [],
   "source": [
    "# 인덱스 포함하는 경우\n",
    "df.to_csv(\"2.csv\", # 파일 이름\n",
    "          encoding=\"utf-8\",\n",
    "          index=True,\n",
    "          index_label=\"이름\"\n",
    ")"
   ]
  },
  {
   "cell_type": "code",
   "execution_count": 9,
   "metadata": {},
   "outputs": [],
   "source": [
    "# 인덱스를 포함하지 않는 경우\n",
    "df.to_csv(\"3.csv\",\n",
    "          encoding=\"utf-8\",\n",
    "          index=False,\n",
    "          columns=['학년', '성별', '국어'],\n",
    "          header=['level', 'sex', 'kor']\n",
    ")"
   ]
  },
  {
   "attachments": {},
   "cell_type": "markdown",
   "metadata": {},
   "source": [
    "실습 결과물 모두 삭제 방법"
   ]
  },
  {
   "cell_type": "code",
   "execution_count": 10,
   "metadata": {},
   "outputs": [],
   "source": [
    "import os\n",
    "import glob as gl"
   ]
  },
  {
   "cell_type": "code",
   "execution_count": 11,
   "metadata": {},
   "outputs": [
    {
     "name": "stdout",
     "output_type": "stream",
     "text": [
      "['1.xlsx', '2.xlsx', '3.xlsx', 'grade.xlsx']\n",
      "['1.csv', '2.csv', '3.csv', 'grade.csv']\n",
      "['1.xlsx', '2.xlsx', '3.xlsx', 'grade.xlsx', '1.csv', '2.csv', '3.csv', 'grade.csv']\n"
     ]
    }
   ],
   "source": [
    "list1 = gl.glob(\"*.xlsx\")\n",
    "list2 = gl.glob(\"*.csv\")\n",
    "list3 = list1 + list2\n",
    "print(list1)\n",
    "print(list2)\n",
    "print(list3)"
   ]
  },
  {
   "cell_type": "code",
   "execution_count": 12,
   "metadata": {},
   "outputs": [],
   "source": [
    "# for items in list3:\n",
    "#     os.remove(items)\n",
    "#     print(\"%s 삭제\" %items)"
   ]
  },
  {
   "cell_type": "code",
   "execution_count": null,
   "metadata": {},
   "outputs": [],
   "source": []
  }
 ],
 "metadata": {
  "kernelspec": {
   "display_name": "Python 3",
   "language": "python",
   "name": "python3"
  },
  "language_info": {
   "codemirror_mode": {
    "name": "ipython",
    "version": 3
   },
   "file_extension": ".py",
   "mimetype": "text/x-python",
   "name": "python",
   "nbconvert_exporter": "python",
   "pygments_lexer": "ipython3",
   "version": "3.9.13"
  },
  "orig_nbformat": 4
 },
 "nbformat": 4,
 "nbformat_minor": 2
}
