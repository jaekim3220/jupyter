{
 "cells": [
  {
   "attachments": {},
   "cell_type": "markdown",
   "metadata": {},
   "source": [
    "# DataFrame"
   ]
  },
  {
   "cell_type": "code",
   "execution_count": null,
   "metadata": {},
   "outputs": [],
   "source": [
    "# 패키지 설치\n",
    "from pandas import DataFrame"
   ]
  },
  {
   "attachments": {},
   "cell_type": "markdown",
   "metadata": {},
   "source": [
    "## DataFrame 생성"
   ]
  },
  {
   "cell_type": "code",
   "execution_count": null,
   "metadata": {},
   "outputs": [],
   "source": [
    "grade_data = [\n",
    "    [1, \"남자\", 98, 77, 88, 64],\n",
    "    [2, \"여자\", 88, 90, 62, 72],\n",
    "    [1, \"남자\", 92, 70, 83, 79],\n",
    "    [3, \"여자\", 63, 60, 31, 70],\n",
    "    [4, \"남자\", 75, 50, 90, 88],\n",
    "]\n",
    "\n",
    "# 2차원 리스트를 DF 형태로 변환\n",
    "df = DataFrame(grade_data)\n",
    "df"
   ]
  },
  {
   "attachments": {},
   "cell_type": "markdown",
   "metadata": {},
   "source": [
    "인덱스와 컬럼 이름 지정하면서 데이터 프레임 생성"
   ]
  },
  {
   "cell_type": "code",
   "execution_count": null,
   "metadata": {},
   "outputs": [],
   "source": [
    "i_names = ['철수', '영희', '민철', '수현', '호영']\n",
    "c_names = ['학년', '성별', '국어', '영어', '수학', '과학']\n",
    "\n",
    "# 지정한 index, columns 이름 반영\n",
    "df = DataFrame(grade_data, index = i_names, columns=c_names)\n",
    "df"
   ]
  },
  {
   "attachments": {},
   "cell_type": "markdown",
   "metadata": {},
   "source": [
    "리스트를 원소로 갖는 딕셔너리"
   ]
  },
  {
   "cell_type": "code",
   "execution_count": null,
   "metadata": {},
   "outputs": [],
   "source": [
    "grade_dic = {\n",
    "    \"학년\" : [1, 2, 1, 3, 4],\n",
    "    \"성별\" : ['남자', '여자', '남자', '여자', '남자'],\n",
    "    \"국어\" : [98, 88, 92, 63, 75],\n",
    "    \"영어\" : [77, 90, 70, 60, 50],\n",
    "    \"수학\" : [88, 62, 83, 31, 90],\n",
    "    \"과학\" : [64, 72, 79, 70, 88]\n",
    "    }\n",
    "\n",
    "df = DataFrame(grade_dic)\n",
    "df"
   ]
  },
  {
   "attachments": {},
   "cell_type": "markdown",
   "metadata": {},
   "source": [
    "인덱스 이름과 제목을 지정하면서 데이터 프레임 생성"
   ]
  },
  {
   "cell_type": "code",
   "execution_count": null,
   "metadata": {},
   "outputs": [],
   "source": [
    "df = DataFrame(grade_dic, index=['철수', '영희', '민철', '수현', '호영'])\n",
    "\n",
    "df.index.name = '이름'\n",
    "df"
   ]
  },
  {
   "attachments": {},
   "cell_type": "markdown",
   "metadata": {},
   "source": [
    "딕셔너리를 원소로 갖는 리스트로부터 생성"
   ]
  },
  {
   "cell_type": "code",
   "execution_count": null,
   "metadata": {},
   "outputs": [],
   "source": [
    "grade_list = [\n",
    "    {\"학년\" : 1, \"성별\" : \"남자\", \"국어\":98, \"영어\":77, \"수학\":88, \"과학\":64},\n",
    "    {\"학년\" : 2, \"성별\" : \"여자\", \"국어\":88, \"영어\":90, \"수학\":62, \"과학\":72},\n",
    "    {\"학년\" : 1, \"성별\" : \"남자\", \"국어\":92, \"영어\":70, \"수학\":83, \"과학\":79},\n",
    "    {\"학년\" : 3, \"성별\" : \"여자\", \"국어\":63, \"영어\":60, \"수학\":31, \"과학\":70},\n",
    "    {\"학년\" : 4, \"성별\" : \"남자\", \"국어\":75, \"영어\":50, \"수학\":90, \"과학\":88},\n",
    "]\n",
    "df = DataFrame(grade_list)\n",
    "df"
   ]
  },
  {
   "attachments": {},
   "cell_type": "markdown",
   "metadata": {},
   "source": [
    "인덱스 이름과 제목 지정"
   ]
  },
  {
   "cell_type": "code",
   "execution_count": null,
   "metadata": {},
   "outputs": [],
   "source": [
    "df = DataFrame(grade_list, index = ['철수', '영희', '민철', '수현', '호영'])\n",
    "df.index.name = \"이름\"\n",
    "df"
   ]
  },
  {
   "attachments": {},
   "cell_type": "markdown",
   "metadata": {},
   "source": [
    "## csv 파일로부터 가져오기 (쉼표로 구분)"
   ]
  },
  {
   "cell_type": "code",
   "execution_count": null,
   "metadata": {},
   "outputs": [],
   "source": [
    "from pandas import read_csv"
   ]
  },
  {
   "attachments": {},
   "cell_type": "markdown",
   "metadata": {},
   "source": [
    "csv 파일을 데이터 프레임으로 가져오기"
   ]
  },
  {
   "cell_type": "code",
   "execution_count": null,
   "metadata": {},
   "outputs": [],
   "source": [
    "df = read_csv(\"https://data.hossam.kr/grade.csv\", encoding='euc-kr')\n",
    "df"
   ]
  },
  {
   "attachments": {},
   "cell_type": "markdown",
   "metadata": {},
   "source": [
    "로딩이 완료된 데이터프레임의 특정 열을 인덱스로 변경(원본 유지)"
   ]
  },
  {
   "cell_type": "code",
   "execution_count": null,
   "metadata": {},
   "outputs": [],
   "source": [
    "df2 = df.set_index(\"이름\")\n",
    "df2"
   ]
  },
  {
   "attachments": {},
   "cell_type": "markdown",
   "metadata": {},
   "source": [
    "inplace를 사용해 인덱스 설정을 원본에 반영"
   ]
  },
  {
   "cell_type": "code",
   "execution_count": null,
   "metadata": {},
   "outputs": [],
   "source": [
    "df.set_index(\"이름\", inplace=True)\n",
    "df"
   ]
  },
  {
   "attachments": {},
   "cell_type": "markdown",
   "metadata": {},
   "source": [
    "데이터 로딩시 인덱스 열을 지정"
   ]
  },
  {
   "cell_type": "code",
   "execution_count": null,
   "metadata": {},
   "outputs": [],
   "source": [
    "df = read_csv(\"https://data.hossam.kr/grade.csv\", encoding=\"euc-kr\", index_col=\"이름\")\n",
    "df"
   ]
  },
  {
   "attachments": {},
   "cell_type": "markdown",
   "metadata": {},
   "source": [
    "엑셀 파일로부터 가져오기"
   ]
  },
  {
   "cell_type": "code",
   "execution_count": null,
   "metadata": {},
   "outputs": [],
   "source": [
    "from pandas import read_excel"
   ]
  },
  {
   "cell_type": "code",
   "execution_count": null,
   "metadata": {},
   "outputs": [],
   "source": [
    "df = read_excel(\"https://data.hossam.kr/grade.xlsx\")\n",
    "df"
   ]
  },
  {
   "attachments": {},
   "cell_type": "markdown",
   "metadata": {},
   "source": [
    "index 이름 지정"
   ]
  },
  {
   "cell_type": "code",
   "execution_count": null,
   "metadata": {},
   "outputs": [],
   "source": [
    "df = read_excel(\"https://data.hossam.kr/grade.xlsx\", index_col=\"이름\")\n",
    "df"
   ]
  },
  {
   "cell_type": "code",
   "execution_count": null,
   "metadata": {},
   "outputs": [],
   "source": []
  }
 ],
 "metadata": {
  "kernelspec": {
   "display_name": "Python 3",
   "language": "python",
   "name": "python3"
  },
  "language_info": {
   "codemirror_mode": {
    "name": "ipython",
    "version": 3
   },
   "file_extension": ".py",
   "mimetype": "text/x-python",
   "name": "python",
   "nbconvert_exporter": "python",
   "pygments_lexer": "ipython3",
   "version": "3.11.0"
  },
  "orig_nbformat": 4
 },
 "nbformat": 4,
 "nbformat_minor": 2
}
