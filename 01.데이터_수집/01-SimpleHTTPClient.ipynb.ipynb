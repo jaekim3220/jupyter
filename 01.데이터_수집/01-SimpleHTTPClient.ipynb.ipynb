{
 "cells": [
  {
   "attachments": {},
   "cell_type": "markdown",
   "metadata": {},
   "source": [
    "데이터 가져오기"
   ]
  },
  {
   "cell_type": "code",
   "execution_count": 14,
   "metadata": {},
   "outputs": [],
   "source": [
    "# pip install --upgrade requests"
   ]
  },
  {
   "cell_type": "code",
   "execution_count": 15,
   "metadata": {},
   "outputs": [],
   "source": [
    "import requests"
   ]
  },
  {
   "cell_type": "code",
   "execution_count": 16,
   "metadata": {},
   "outputs": [],
   "source": [
    "# rul의 데이터를 따오고 text 정보를 추출할 url 설정\n",
    "url = \"https://data.hossam.kr/sample.txt\"\n",
    "# url = \"https://blog.hossam.kr/\"\n",
    "\n",
    "'''json 형식은 Key:value (dict) 형식으로 가져온다'''\n",
    "# url = \"https://data.hossam.kr/sample.json\""
   ]
  },
  {
   "cell_type": "code",
   "execution_count": 17,
   "metadata": {},
   "outputs": [],
   "source": [
    "# 접속 객체 생성\n",
    "session  = requests.Session()\n",
    "\n",
    "# 접속 정보 설정 (상위 5개 정보)\n",
    "session.headers.update({\n",
    "    # 직전에 머물렀던 페이지의 URL\n",
    "    \"Referer\" : \"\",\n",
    "    # 브라우저 및 OS 버전 정보 : 이걸 통해 웹 페이지 크롤링이 가능\n",
    "    \"User-Agent\" : \"Mozilla/5.0 (Windows NT 10.0; Win64; x64) AppleWebKit/537.36 (KHTML, like Gecko) Chrome/114.0.0.0 Safari/537.36\"\n",
    "})"
   ]
  },
  {
   "cell_type": "code",
   "execution_count": 18,
   "metadata": {},
   "outputs": [],
   "source": [
    "# 특정 웹 페이지에 접속\n",
    "r = session.get(url)\n",
    "\n",
    "# 접속 실패 시\n",
    "if r.status_code != 200:\n",
    "    # 에러 코드와 여러 메시지를 출력\n",
    "    msg = \"[%d Error] %s 에러 발생\" % (r.status_code, r.reason)\n",
    "    # 에러를 강제로 생성\n",
    "    raise Exception(msg)"
   ]
  },
  {
   "cell_type": "code",
   "execution_count": 19,
   "metadata": {},
   "outputs": [
    {
     "name": "stdout",
     "output_type": "stream",
     "text": [
      "{\n",
      "    \"name\": \"갤럭시 S6\",\n",
      "    \"type\": \"삼성\",\n",
      "    \"img\": \"http://itpaper.co.kr/demo/app/img/GalaxyS6.png\"\n",
      "}\n"
     ]
    }
   ],
   "source": [
    "# 인코딩 형식 지정\n",
    "r.encoding = \"utf-8\"\n",
    "\n",
    "# 텍스트 출력\n",
    "print(r.text)"
   ]
  },
  {
   "cell_type": "code",
   "execution_count": null,
   "metadata": {},
   "outputs": [],
   "source": []
  }
 ],
 "metadata": {
  "kernelspec": {
   "display_name": "Python 3",
   "language": "python",
   "name": "python3"
  },
  "language_info": {
   "codemirror_mode": {
    "name": "ipython",
    "version": 3
   },
   "file_extension": ".py",
   "mimetype": "text/x-python",
   "name": "python",
   "nbconvert_exporter": "python",
   "pygments_lexer": "ipython3",
   "version": "3.11.0"
  },
  "orig_nbformat": 4
 },
 "nbformat": 4,
 "nbformat_minor": 2
}
