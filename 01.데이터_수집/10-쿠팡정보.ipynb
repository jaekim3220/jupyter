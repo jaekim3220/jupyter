{
 "cells": [
  {
   "attachments": {},
   "cell_type": "markdown",
   "metadata": {},
   "source": [
    "쿠팡에서 데이터 긁어오기"
   ]
  },
  {
   "attachments": {},
   "cell_type": "markdown",
   "metadata": {},
   "source": [
    "1. 패키지 설치"
   ]
  },
  {
   "cell_type": "code",
   "execution_count": null,
   "metadata": {},
   "outputs": [],
   "source": [
    "import requests\n",
    "from bs4 import BeautifulSoup\n",
    "from pandas import DataFrame"
   ]
  },
  {
   "attachments": {},
   "cell_type": "markdown",
   "metadata": {},
   "source": [
    "2. 데이터 수집할 웹 페이지"
   ]
  },
  {
   "cell_type": "code",
   "execution_count": null,
   "metadata": {},
   "outputs": [],
   "source": [
    "# 수집할 컨텐츠가 있는 웹 페이지 주소\n",
    "url = \"https://www.coupang.com/np/search?q=%EB%85%B8%ED%8A%B8%EB%B6%81&listSize=72&channel=user\"\n",
    "\n",
    "# 브라우저 버전정보\n",
    "userAgent = 'Mozilla/5.0 (Windows NT 10.0; Win64; x64)AppleWebKit/537.36 (KHTML, like Gecko) Chrome/114.0.0.0 Safari/537.36'\n",
    "\n",
    "# 접속 객체 생성\n",
    "# request는 직접 header 정보 갱신이 불가능해 session 생성\n",
    "session = requests.Session()\n",
    "\n",
    "# 접속 객체에 부가정보(header) 삽입\n",
    "session.headers.update({\n",
    "    \"Referer\": \"\",\n",
    "    \"User-Agent\": userAgent,\n",
    "    \"Accept-Language\": \"ko-KR,ko;q=0.8,en-US;q=0.5,en;q=0.3\"\n",
    "})\n",
    "\n",
    "# 생성한 접속 객체를 활용해 API에 접속\n",
    "r = session.get(url)\n",
    "\n",
    "# 접속 실패 시 에러 코드와 에러 메시지 출력\n",
    "if r.status_code != 200:\n",
    "    msg = \"[%d Error] %s 에러 발생\"%(r.status_code, r.reason)\n",
    "    raise Exception(msg)\n",
    "\n",
    "# 인코딩 형식을 지정해 beautifulsoup 객체를 생성\n",
    "r.encoding = 'utf-8'\n",
    "# r 변수에 저장된 text 정보를 시각화, 확인\n",
    "# print(r.text)\n",
    "\n",
    "# BeautifulSoup 객체 soup를 생성\n",
    "soup = BeautifulSoup(r.text)\n",
    "soup"
   ]
  },
  {
   "attachments": {},
   "cell_type": "markdown",
   "metadata": {},
   "source": [
    "3. 필요한 내용 추출\\\n",
    "dataList에서 soup에 담겨지는 select의 범위를 비교해 볼 것"
   ]
  },
  {
   "cell_type": "code",
   "execution_count": null,
   "metadata": {},
   "outputs": [],
   "source": [
    "# class가 post인 요소의 데이터 추출\n",
    "dataList = soup.select(\".search-content.search-content-with-feedback\")\n",
    "# dataList = soup.select('.search-product-wrap')\n",
    "dataList"
   ]
  },
  {
   "attachments": {},
   "cell_type": "markdown",
   "metadata": {},
   "source": [
    "아래는 내가 짠 코드"
   ]
  },
  {
   "cell_type": "code",
   "execution_count": null,
   "metadata": {},
   "outputs": [],
   "source": [
    "# 수집한 결과가 저장될 빈 리스트 생성\n",
    "result = []\n",
    "\n",
    "for data in dataList:\n",
    "    # print(data)\n",
    "    # 상품 이름 추출\n",
    "    titleEl = data.select(\".name\")\n",
    "    # print(titleEl)\n",
    "    title = titleEl[0].text.strip()\n",
    "    # print(title)\n",
    "    # for index1, title in enumerate(titleEl):\n",
    "    #     print(index1, title.text.strip())\n",
    "    \n",
    "\n",
    "    # 가격 추출\n",
    "    priceEl = data.select(\".base-price\")\n",
    "    # print(priceEl)\n",
    "    price = priceEl[0].text.strip()\n",
    "    # print(price)\n",
    "\n",
    "\n",
    "    # 할인율 추출\n",
    "    discountEl = data.select(\".instant-discount-rate\")\n",
    "    # print(discountEl)\n",
    "    discount = discountEl[0].text.strip()\n",
    "    # print(discount)\n",
    "\n",
    "\n",
    "    # 별점 추출\n",
    "    starEl = data.select(\".star\")\n",
    "    # print(starEl)\n",
    "    star = starEl[0].text.strip()\n",
    "    # print(star)\n",
    "\n",
    "\n",
    "    # # 이미지 추출\n",
    "    # imgEl = data.select(\".search-product-wrap-img\")\n",
    "    # print(imgEl)\n",
    "    # img = imgEl[0].text.strip()\n",
    "    # # print(img)\n",
    "\n",
    "    # 추출한 내용을 딕셔너리로 병합\n",
    "    item = {\"이름\": title, \"가격\": price, \"할인율\": discount, \"별점\":star}\n",
    "\n",
    "    # 리스트에 추출한 내용 삽입\n",
    "    result.append(item)\n",
    "result\n",
    "\n",
    "# 현재 위치의 코드는 dataList = soup.select(\".search-product-wrap\")를 사용할 경우\n",
    "# IndexError: list index out of range에러가 발생\n",
    "# 특정 값이 공백인 경우의 처리를 해줘야 하는 것으로 생각함"
   ]
  },
  {
   "cell_type": "code",
   "execution_count": null,
   "metadata": {},
   "outputs": [],
   "source": [
    "# 수집한 정보를 excel 형식으로 저장\n",
    "df = DataFrame(result)\n",
    "df.to_excel(\"쿠팡상품정보.xlsx\", index=False)\n",
    "df"
   ]
  },
  {
   "cell_type": "code",
   "execution_count": null,
   "metadata": {},
   "outputs": [],
   "source": []
  }
 ],
 "metadata": {
  "kernelspec": {
   "display_name": "Python 3",
   "language": "python",
   "name": "python3"
  },
  "language_info": {
   "codemirror_mode": {
    "name": "ipython",
    "version": 3
   },
   "file_extension": ".py",
   "mimetype": "text/x-python",
   "name": "python",
   "nbconvert_exporter": "python",
   "pygments_lexer": "ipython3",
   "version": "3.11.0"
  },
  "orig_nbformat": 4
 },
 "nbformat": 4,
 "nbformat_minor": 2
}
