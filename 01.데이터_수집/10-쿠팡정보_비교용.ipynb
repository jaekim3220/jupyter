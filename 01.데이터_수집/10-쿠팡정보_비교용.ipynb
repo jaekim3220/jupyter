{
 "cells": [
  {
   "attachments": {},
   "cell_type": "markdown",
   "metadata": {},
   "source": [
    "쿠팡에서 데이터 긁어오기"
   ]
  },
  {
   "attachments": {},
   "cell_type": "markdown",
   "metadata": {},
   "source": [
    "1. 패키지 설치"
   ]
  },
  {
   "cell_type": "code",
   "execution_count": 1,
   "metadata": {},
   "outputs": [],
   "source": [
    "import requests\n",
    "from bs4 import BeautifulSoup\n",
    "from pandas import DataFrame"
   ]
  },
  {
   "attachments": {},
   "cell_type": "markdown",
   "metadata": {},
   "source": [
    "2. 데이터 수집할 웹 페이지"
   ]
  },
  {
   "cell_type": "code",
   "execution_count": null,
   "metadata": {},
   "outputs": [],
   "source": [
    "# 수집할 컨텐츠가 있는 웹 페이지 주소\n",
    "url = \"https://www.coupang.com/np/search?q=%EB%85%B8%ED%8A%B8%EB%B6%81&listSize=72&channel=user\"\n",
    "\n",
    "# 브라우저 버전정보\n",
    "userAgent = 'Mozilla/5.0 (Windows NT 10.0; Win64; x64)AppleWebKit/537.36 (KHTML, like Gecko) Chrome/114.0.0.0 Safari/537.36'\n",
    "\n",
    "# 접속 객체 생성\n",
    "# request는 직접 header 정보 갱신이 불가능해 session 생성\n",
    "session = requests.Session()\n",
    "\n",
    "# 접속 객체에 부가정보(header) 삽입\n",
    "session.headers.update({\n",
    "    \"Referer\": \"\",\n",
    "    \"User-Agent\": userAgent,\n",
    "    \"Accept-Language\": \"ko-KR,ko;q=0.8,en-US;q=0.5,en;q=0.3\"\n",
    "})\n",
    "\n",
    "# 생성한 접속 객체를 활용해 API에 접속\n",
    "r = session.get(url)\n",
    "\n",
    "# 접속 실패 시 에러 코드와 에러 메시지 출력\n",
    "if r.status_code != 200:\n",
    "    msg = \"[%d Error] %s 에러 발생\"%(r.status_code, r.reason)\n",
    "    raise Exception(msg)\n",
    "\n",
    "# 인코딩 형식을 지정해 beautifulsoup 객체를 생성\n",
    "r.encoding = 'utf-8'\n",
    "# r 변수에 저장된 text 정보를 시각화, 확인\n",
    "# print(r.text)\n",
    "\n",
    "# BeautifulSoup 객체 soup를 생성\n",
    "soup = BeautifulSoup(r.text)\n",
    "soup"
   ]
  },
  {
   "attachments": {},
   "cell_type": "markdown",
   "metadata": {},
   "source": [
    "비교용 코드\\\n",
    "dataList에서 soup에 담겨지는 select의 범위를 비교해 볼 것\\\n",
    "original source from \\\n",
    "https://github.com/maker-lee/megait-data/blob/main/01-%EB%8D%B0%EC%9D%B4%ED%84%B0%EC%88%98%EC%A7%91/10_%EC%8B%A4%EC%8A%B5_%EC%BF%A0%ED%8C%A1%EC%83%81%ED%92%88%EB%8D%B0%EC%9D%B4%ED%84%B0_%EC%88%98%EC%A7%91.ipynb"
   ]
  },
  {
   "cell_type": "code",
   "execution_count": null,
   "metadata": {},
   "outputs": [],
   "source": [
    "articleList = soup.select('.search-product-wrap')\n",
    "articleList"
   ]
  },
  {
   "cell_type": "code",
   "execution_count": null,
   "metadata": {},
   "outputs": [],
   "source": [
    "# 수집한 결과가 저장될 빈 리스트\n",
    "result = []\n",
    "for article in articleList :   \n",
    "    title = article.select('.name')[0].text.strip() # 상품명\n",
    "    try :\n",
    "        pirce = article.select('.base-price')[0].text.strip()   # 가격\n",
    "        discount = article.select('.instant-discount-rate')[0].text.strip() # 할인율\n",
    "        sale_pirce = article.select('.price-value') [0].text.strip() #할인가    \n",
    "        ratingEL = article.select('.rating-total-count')[0].text.strip() #리뷰 수\n",
    "        ratingEL = ratingEL.replace('(',\"\")\n",
    "        ratingEL = ratingEL.replace(')',\"\")\n",
    "        rating_total_EL = article.select('.star > .rating')[0].text.strip() #별점\n",
    "    except :\n",
    "        pass    \n",
    "    \n",
    "    print(title, pirce,sale_pirce,discount,ratingEL,rating_total_EL)\n",
    "    item = {'상품명' : title, '가격' : pirce, '할인가' : sale_pirce, '할인율':discount, '리뷰수':ratingEL,'별점': rating_total_EL}\n",
    "    result.append(item)\n",
    "result"
   ]
  },
  {
   "cell_type": "code",
   "execution_count": null,
   "metadata": {},
   "outputs": [],
   "source": []
  }
 ],
 "metadata": {
  "kernelspec": {
   "display_name": "Python 3",
   "language": "python",
   "name": "python3"
  },
  "language_info": {
   "codemirror_mode": {
    "name": "ipython",
    "version": 3
   },
   "file_extension": ".py",
   "mimetype": "text/x-python",
   "name": "python",
   "nbconvert_exporter": "python",
   "pygments_lexer": "ipython3",
   "version": "3.11.0"
  },
  "orig_nbformat": 4
 },
 "nbformat": 4,
 "nbformat_minor": 2
}
