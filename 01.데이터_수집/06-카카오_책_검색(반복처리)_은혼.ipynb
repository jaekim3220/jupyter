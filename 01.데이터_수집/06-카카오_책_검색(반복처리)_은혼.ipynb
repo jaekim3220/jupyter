{
 "cells": [
  {
   "attachments": {},
   "cell_type": "markdown",
   "metadata": {},
   "source": [
    "Kakao Developers의 REST API 키, Authorization, 쿼리 파라미를 사용한 데이터 수집"
   ]
  },
  {
   "cell_type": "code",
   "execution_count": 42,
   "metadata": {},
   "outputs": [],
   "source": [
    "# 필요한 모듈 설치\n",
    "import requests\n",
    "import json\n",
    "from pandas import DataFrame\n",
    "# 데이터 조작, 필터링, 정렬, 그룹화, 병합 등 수행 가능"
   ]
  },
  {
   "cell_type": "code",
   "execution_count": 43,
   "metadata": {},
   "outputs": [],
   "source": [
    "# 접속할 URL 설정(urlFmt는 urlformat의 약자)\n",
    "urlFmt = \"https://dapi.kakao.com/v3/search/book?query={query}&page={page}&size={size}\""
   ]
  },
  {
   "cell_type": "code",
   "execution_count": 44,
   "metadata": {},
   "outputs": [],
   "source": [
    "# 요청변수(URL 변수)\n",
    "# #검색을 원하는 질의어\n",
    "query = \"은혼\"\n",
    "# # 결과 페이지 번호\n",
    "page = 1\n",
    "# # 페이지 당 보여질 문서 수\n",
    "size = 50\n",
    "# # kakao developers에서 발급 받은 REST API 키\n",
    "key = \"3b23dfd1bf5a535f83c2792589d13d21\""
   ]
  },
  {
   "cell_type": "code",
   "execution_count": 45,
   "metadata": {},
   "outputs": [],
   "source": [
    "# 접속 객체 생성\n",
    "session = requests.Session()\n",
    "\n",
    "# 접속 객체에 부가정보(header) 삽입\n",
    "# daum 검색에서는 \"Referer\"과 \"User-Agent\"를 설정해줄 필요가 없음\n",
    "# key는 위에서 발급 받은 REST API 키\n",
    "session.headers.update({\n",
    "    \"Authorization\" : \"KakaoAK %s\" %key\n",
    "})"
   ]
  },
  {
   "cell_type": "code",
   "execution_count": 46,
   "metadata": {},
   "outputs": [
    {
     "name": "stdout",
     "output_type": "stream",
     "text": [
      "isEnd= False , 다음페이지 = 2\n",
      "isEnd= False , 다음페이지 = 3\n",
      "isEnd= False , 다음페이지 = 4\n",
      "isEnd= False , 다음페이지 = 5\n",
      "isEnd= False , 다음페이지 = 6\n",
      "isEnd= False , 다음페이지 = 7\n",
      "isEnd= False , 다음페이지 = 8\n",
      "isEnd= True , 다음페이지 = 9\n",
      "최종 검색 건수: 391\n"
     ]
    }
   ],
   "source": [
    "# 다음 페이지가 존재하는지 여부 --> False인 동안은 while문 반복\n",
    "isEnd = False\n",
    "\n",
    "# 반복 수행 도중 추출되는 검색결과 리스트를 결합할 빈 리스트 준비\n",
    "mylist = []\n",
    "\n",
    "# 1페이지부터 시작\n",
    "page = 1\n",
    "\n",
    "while (not isEnd): # while은 'True일 때' 반복이 진행되기 때문에 not을 붙여준다 \n",
    "    #--------------------------------------------------------------\n",
    "    # 이전 예제 코드 시작\n",
    "    #--------------------------------------------------------------\n",
    "    # 접속할 URL\n",
    "    url = urlFmt.format(query=query, page=page, size=size)\n",
    "    url\n",
    "\n",
    "    # 생성한 접속객체를 활용하여 API에 접속\n",
    "    r = session.get(url)\n",
    "\n",
    "    # 접속에 실패한 경우\n",
    "    if r.status_code != 200:\n",
    "        # 에러코드와 에러메시지 출력\n",
    "        msg = \"[%d Error] %s 에러가 발생함\" % (r.status_code, r.reason)\n",
    "        # 에러를 강제로 생성시킴\n",
    "        raise Exception(msg)\n",
    "\n",
    "    # 인코딩 형식 지정\n",
    "    r.encoding = \"utf-8\"\n",
    "    # 가져온 문자열을 딕셔너리로 변환\n",
    "    data = json.loads(r.text)\n",
    "    #data\n",
    "    #--------------------------------------------------------------\n",
    "    # 이전 예제 코드 끝\n",
    "    #--------------------------------------------------------------\n",
    "\n",
    "    # 검색 결과를 갖고 있는 딕셔너리를 포함하는 리스트 추출\n",
    "    searchList = data['documents']\n",
    "\n",
    "    # 추출한 리스트를 미리 준비한 빈 리스트에 추가\n",
    "    mylist.extend(searchList)\n",
    "\n",
    "    # 증감식에 해당하는 isEnd변수 추출\n",
    "    isEnd = bool(data['meta']['is_end'])\n",
    "    page += 1\n",
    "    print(\"isEnd=\", isEnd, \", 다음페이지 =\", page)\n",
    "\n",
    "print(\"최종 검색 건수: %d\" % len(mylist))"
   ]
  },
  {
   "cell_type": "code",
   "execution_count": 47,
   "metadata": {},
   "outputs": [
    {
     "data": {
      "text/html": [
       "<div>\n",
       "<style scoped>\n",
       "    .dataframe tbody tr th:only-of-type {\n",
       "        vertical-align: middle;\n",
       "    }\n",
       "\n",
       "    .dataframe tbody tr th {\n",
       "        vertical-align: top;\n",
       "    }\n",
       "\n",
       "    .dataframe thead th {\n",
       "        text-align: right;\n",
       "    }\n",
       "</style>\n",
       "<table border=\"1\" class=\"dataframe\">\n",
       "  <thead>\n",
       "    <tr style=\"text-align: right;\">\n",
       "      <th></th>\n",
       "      <th>0</th>\n",
       "    </tr>\n",
       "  </thead>\n",
       "  <tbody>\n",
       "    <tr>\n",
       "      <th>0</th>\n",
       "      <td>7200</td>\n",
       "    </tr>\n",
       "    <tr>\n",
       "      <th>1</th>\n",
       "      <td>7200</td>\n",
       "    </tr>\n",
       "    <tr>\n",
       "      <th>2</th>\n",
       "      <td>4050</td>\n",
       "    </tr>\n",
       "    <tr>\n",
       "      <th>3</th>\n",
       "      <td>4050</td>\n",
       "    </tr>\n",
       "    <tr>\n",
       "      <th>4</th>\n",
       "      <td>4050</td>\n",
       "    </tr>\n",
       "    <tr>\n",
       "      <th>...</th>\n",
       "      <td>...</td>\n",
       "    </tr>\n",
       "    <tr>\n",
       "      <th>386</th>\n",
       "      <td>-1</td>\n",
       "    </tr>\n",
       "    <tr>\n",
       "      <th>387</th>\n",
       "      <td>-1</td>\n",
       "    </tr>\n",
       "    <tr>\n",
       "      <th>388</th>\n",
       "      <td>-1</td>\n",
       "    </tr>\n",
       "    <tr>\n",
       "      <th>389</th>\n",
       "      <td>-1</td>\n",
       "    </tr>\n",
       "    <tr>\n",
       "      <th>390</th>\n",
       "      <td>-1</td>\n",
       "    </tr>\n",
       "  </tbody>\n",
       "</table>\n",
       "<p>391 rows × 1 columns</p>\n",
       "</div>"
      ],
      "text/plain": [
       "        0\n",
       "0    7200\n",
       "1    7200\n",
       "2    4050\n",
       "3    4050\n",
       "4    4050\n",
       "..    ...\n",
       "386    -1\n",
       "387    -1\n",
       "388    -1\n",
       "389    -1\n",
       "390    -1\n",
       "\n",
       "[391 rows x 1 columns]"
      ]
     },
     "execution_count": 47,
     "metadata": {},
     "output_type": "execute_result"
    }
   ],
   "source": [
    "# 책 가격 결과를 엑셀 형태로 저장 및 출력\n",
    "\n",
    "# 책 가격을 담을 초기 list\n",
    "sale_prices = []\n",
    "# mylist에서 각 항목의 sale_price를 추출하여 리스트에 추가\n",
    "for item in mylist:\n",
    "    sale_prices.append(item['sale_price'])\n",
    "\n",
    "# 추출한 sale_price를 엑셀 파일로 저장\n",
    "df = DataFrame(sale_prices)\n",
    "df.to_excel(\"은혼의 모든 책 가격.xlsx\", index=False)\n",
    "df"
   ]
  },
  {
   "cell_type": "code",
   "execution_count": 48,
   "metadata": {},
   "outputs": [],
   "source": [
    "# '은혼'이라는 키워드로 검색된 모든 책의 총 가격은 얼마인가?\n",
    "# query = \"은혼\"\n",
    "# for문을 사용해 price만 추출\n",
    "# for item in mylist:\n",
    "#     print(item['sale_price'])"
   ]
  }
 ],
 "metadata": {
  "kernelspec": {
   "display_name": "Python 3",
   "language": "python",
   "name": "python3"
  },
  "language_info": {
   "codemirror_mode": {
    "name": "ipython",
    "version": 3
   },
   "file_extension": ".py",
   "mimetype": "text/x-python",
   "name": "python",
   "nbconvert_exporter": "python",
   "pygments_lexer": "ipython3",
   "version": "3.11.0"
  },
  "orig_nbformat": 4
 },
 "nbformat": 4,
 "nbformat_minor": 2
}
