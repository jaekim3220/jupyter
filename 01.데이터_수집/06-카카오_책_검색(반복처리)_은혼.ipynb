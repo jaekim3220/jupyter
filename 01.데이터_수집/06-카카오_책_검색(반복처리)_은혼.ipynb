{
 "cells": [
  {
   "attachments": {},
   "cell_type": "markdown",
   "metadata": {},
   "source": [
    "Kakao Developers의 REST API 키, Authorization, 쿼리 파라미를 사용한 데이터 수집"
   ]
  },
  {
   "cell_type": "code",
   "execution_count": 1,
   "metadata": {},
   "outputs": [],
   "source": [
    "# 필요한 모듈 설치\n",
    "import requests\n",
    "import json\n",
    "from pandas import DataFrame\n",
    "# 데이터 조작, 필터링, 정렬, 그룹화, 병합 등 수행 가능"
   ]
  },
  {
   "cell_type": "code",
   "execution_count": 2,
   "metadata": {},
   "outputs": [],
   "source": [
    "# 접속할 URL 설정\n",
    "urlFmt = \"https://dapi.kakao.com/v3/search/book?query={query}&page={page}&size={size}\""
   ]
  },
  {
   "cell_type": "code",
   "execution_count": 3,
   "metadata": {},
   "outputs": [],
   "source": [
    "# 요청변수(URL 변수)\n",
    "# #검색을 원하는 질의어\n",
    "query = \"파이썬\"\n",
    "# # 결과 페이지 번호\n",
    "page = 1\n",
    "# # 페이지 당 보여질 문서 수\n",
    "size = 50\n",
    "# # kakao developers에서 발급 받은 REST API 키\n",
    "key = \"3b23dfd1bf5a535f83c2792589d13d21\""
   ]
  },
  {
   "cell_type": "code",
   "execution_count": 4,
   "metadata": {},
   "outputs": [],
   "source": [
    "# 접속 객체 생성\n",
    "session = requests.Session()\n",
    "\n",
    "# 접속 객체에 부가정보(header) 삽입\n",
    "# daum 검색에서는 \"Referer\"과 \"User-Agent\"를 설정해줄 필요가 없음\n",
    "# key는 위에서 발급 받은 REST API 키\n",
    "session.headers.update({\n",
    "    \"Authorization\" : \"KakaoAK %s\" %key\n",
    "})"
   ]
  },
  {
   "cell_type": "code",
   "execution_count": 5,
   "metadata": {},
   "outputs": [
    {
     "name": "stdout",
     "output_type": "stream",
     "text": [
      "isEnd= False , 다음페이지= 2\n",
      "isEnd= False , 다음페이지= 3\n",
      "isEnd= False , 다음페이지= 4\n",
      "isEnd= False , 다음페이지= 5\n",
      "isEnd= False , 다음페이지= 6\n",
      "isEnd= False , 다음페이지= 7\n",
      "isEnd= False , 다음페이지= 8\n",
      "isEnd= False , 다음페이지= 9\n",
      "isEnd= False , 다음페이지= 10\n",
      "isEnd= False , 다음페이지= 11\n",
      "isEnd= False , 다음페이지= 12\n",
      "isEnd= False , 다음페이지= 13\n",
      "isEnd= False , 다음페이지= 14\n",
      "isEnd= False , 다음페이지= 15\n",
      "isEnd= False , 다음페이지= 16\n",
      "isEnd= False , 다음페이지= 17\n",
      "isEnd= False , 다음페이지= 18\n",
      "isEnd= False , 다음페이지= 19\n",
      "isEnd= False , 다음페이지= 20\n",
      "isEnd= True , 다음페이지= 21\n",
      "최종 검색 건수: 1000\n"
     ]
    }
   ],
   "source": [
    "# 다음 페이지가 존재하는지 여부 --> False인 동안은 while문 반복\n",
    "isEnd = False\n",
    "\n",
    "# 반복 수행 도중 추출되는 검색결과 리스트를 결합할 빈 리스트 준비\n",
    "mylist = []\n",
    "\n",
    "# 1페이지부터 시작\n",
    "page = 1\n",
    "\n",
    "while (not isEnd):\n",
    "    #--------------------------------------------------------------\n",
    "    # 이전 예제 코드 시작\n",
    "    #--------------------------------------------------------------\n",
    "    # 접속할 URL\n",
    "    url = urlFmt.format(query=query, page=page, size=size)\n",
    "    url\n",
    "\n",
    "    # 생성한 접속객체를 활용하여 API에 접속\n",
    "    r = session.get(url)\n",
    "\n",
    "    # 접속에 실패한 경우\n",
    "    if r.status_code != 200:\n",
    "        # 에러코드와 에러메시지 출력\n",
    "        msg = \"[%d Error] %s 에러가 발생함\" % (r.status_code, r.reason)\n",
    "        # 에러를 강제로 생성시킴\n",
    "        raise Exception(msg)\n",
    "\n",
    "    # 인코딩 형식 지정\n",
    "    r.encoding = \"utf-8\"\n",
    "    # 가져온 문자열을 딕셔너리로 변환\n",
    "    data = json.loads(r.text)\n",
    "    #data\n",
    "    #--------------------------------------------------------------\n",
    "    # 이전 예제 코드 끝\n",
    "    #--------------------------------------------------------------\n",
    "\n",
    "    # 검색 결과를 갖고 있는 딕셔너리를 포함하는 리스트 추출\n",
    "    searchList = data['documents']\n",
    "\n",
    "    # 추출한 리스트를 미리 준비한 빈 리스트에 추가\n",
    "    mylist.extend(searchList)\n",
    "\n",
    "    # 증감식에 해당하는 isEnd변수 추출\n",
    "    isEnd = bool(data['meta']['is_end'])\n",
    "    page += 1\n",
    "    print(\"isEnd=\", isEnd, \", 다음페이지=\", page)\n",
    "\n",
    "print(\"최종 검색 건수: %d\" % len(mylist))"
   ]
  },
  {
   "cell_type": "code",
   "execution_count": null,
   "metadata": {},
   "outputs": [],
   "source": [
    "# 결과를 엑셀 형태로 저장 및 출력\n",
    "# mylist는 dictionary가 포함된 list\n",
    "df = DataFrame(mylist)\n",
    "# #query는 검색을 원하는 질의어\n",
    "df.to_excel(\"카카오 책 검색 결과(%s)2.xlsx\" % query)\n",
    "df"
   ]
  },
  {
   "cell_type": "code",
   "execution_count": null,
   "metadata": {},
   "outputs": [],
   "source": [
    "# '은혼'이라는 키워드로 검색된 모든 책의 총 가격은 얼마인가?\n",
    "# query = \"은혼\"\n",
    "# for문을 사용해 price만 추출\n",
    "# for item in mylist:\n",
    "#     print(item['price'])"
   ]
  }
 ],
 "metadata": {
  "kernelspec": {
   "display_name": "Python 3",
   "language": "python",
   "name": "python3"
  },
  "language_info": {
   "codemirror_mode": {
    "name": "ipython",
    "version": 3
   },
   "file_extension": ".py",
   "mimetype": "text/x-python",
   "name": "python",
   "nbconvert_exporter": "python",
   "pygments_lexer": "ipython3",
   "version": "3.11.0"
  },
  "orig_nbformat": 4
 },
 "nbformat": 4,
 "nbformat_minor": 2
}
