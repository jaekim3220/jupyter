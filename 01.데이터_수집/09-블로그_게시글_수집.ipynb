{
 "cells": [
  {
   "attachments": {},
   "cell_type": "markdown",
   "metadata": {},
   "source": [
    "블로그 게시글 수집"
   ]
  },
  {
   "attachments": {},
   "cell_type": "markdown",
   "metadata": {},
   "source": [
    "수집 데이터의 URL\n",
    "https://blog.hossam.kr/"
   ]
  },
  {
   "attachments": {},
   "cell_type": "markdown",
   "metadata": {},
   "source": [
    "1. 패키지 설치"
   ]
  },
  {
   "cell_type": "code",
   "execution_count": null,
   "metadata": {},
   "outputs": [],
   "source": [
    "import requests\n",
    "from bs4 import BeautifulSoup\n",
    "from pandas import DataFrame\n",
    "# from pandas를 사용해 가져온 데이터 정리 가능"
   ]
  },
  {
   "attachments": {},
   "cell_type": "markdown",
   "metadata": {},
   "source": [
    "2. 웹 페이지 코드 수집"
   ]
  },
  {
   "cell_type": "code",
   "execution_count": null,
   "metadata": {},
   "outputs": [],
   "source": [
    "# 수집할 컨텐츠가 있는 웹 페이지 주소\n",
    "url = 'https://blog.hossam.kr/'\n",
    "\n",
    "# 브라우저 버전정보\n",
    "userAgent = 'Mozilla/5.0 (Windows NT 10.0; Win64; x64)AppleWebKit/537.36 (KHTML, like Gecko) Chrome/114.0.0.0 Safari/537.36'\n",
    "\n",
    "# 접속 객체 생성\n",
    "# request는 직접 header 정보 갱신이 불가능해 session 생성\n",
    "session = requests.Session()\n",
    "\n",
    "# 접속 객체에 부가정보(header) 삽입\n",
    "session.headers.update({\n",
    "    \"Referer\":\"\",\n",
    "    \"User-Agent\":userAgent\n",
    "})\n",
    "\n",
    "# 생성한 접속 객체를 활용해 API에 접속\n",
    "# 지정된 URL에 GET 요청을 보내고\n",
    "# 그에 대한 응답을 r 변수에 할당\n",
    "r = session.get(url)\n",
    "\n",
    "# 접속 실패 시 에러 코드와 에러 메시지 출력\n",
    "if r.status_code != 200:\n",
    "    msg = \"[%d Error] %s 에러 발생\"%(r.status_code, r.reason)\n",
    "    raise Exception(msg)\n",
    "\n",
    "# 인코딩 형식을 지정해 beautifulsoup 객체를 생성\n",
    "r.encoding = 'utf-8'\n",
    "# r 변수에 저장된 text 정보를 시각화, 확인\n",
    "# print(r.text)\n",
    "\n",
    "# r.text에서 HTML을 파싱하고, \n",
    "# 파싱된 HTML을 나타내는 \n",
    "# BeautifulSoup 객체 soup를 생성\n",
    "soup = BeautifulSoup(r.text)\n",
    "soup"
   ]
  },
  {
   "attachments": {},
   "cell_type": "markdown",
   "metadata": {},
   "source": [
    "3. 필요한 내용 추출"
   ]
  },
  {
   "cell_type": "code",
   "execution_count": null,
   "metadata": {},
   "outputs": [],
   "source": [
    "# class가 post인 요소의 데이터 추출\n",
    "articleList = soup.select(\".post\")\n",
    "articleList"
   ]
  },
  {
   "cell_type": "code",
   "execution_count": null,
   "metadata": {},
   "outputs": [],
   "source": [
    "# 수집한 결과가 저장될 빈 리스트 생성\n",
    "result = []\n",
    "\n",
    "# 반복문을 통해 추출된 전체 글에서 \n",
    "# class가 post인 요소의 \n",
    "# 데이터 내부의 요소의 데이터를 추출\n",
    "for article in articleList:\n",
    "    # print(article)\n",
    "\n",
    "    # 제목 추출(자식 연산자, 자손 연산자 중 선택)\n",
    "    titleEl = article.select(\".entry-title > a\")\n",
    "    # class가 entry-title인 데이터 내부의 a태그 데이터 추출\n",
    "    # print(titleEl)\n",
    "    # titleEl의 0번째의 text 정보를 공백 처리 후 추출\n",
    "    title = titleEl[0].text.strip()    \n",
    "    print(title)\n",
    "\n",
    "    # article에서 class가 published인 요소의 데이터만 추출\n",
    "    dateEl = article.select(\".published\")\n",
    "    # print(dateEl)\n",
    "    date = dateEl[0].attrs['datetime']\n",
    "    # 위의 dateEl의 0번째 datetime 요소만을 추출()\n",
    "    # 외부에서 가져오는 데이터는 문자열 \n",
    "    # print(date)\n",
    "\n",
    "    # class가 entry-title인 데이터 내부의 p태그 데이터 추출\n",
    "    contentEl = article.select(\".entry-content > p\")\n",
    "    # print(contentEl)\n",
    "    # contentEl의 0번째의 text 정보를 공백 처리 후 추출 \n",
    "    content = contentEl[0].text.strip()\n",
    "    # print(content)\n",
    "\n",
    "    # 추출한 내용을 딕셔너리로 병합\n",
    "    # item = {\"제목\": title, \"작성일\": date, \"요약글\": content}\n",
    "\n",
    "    # 딕셔너리를 미리 준비한 리스트에 원소로 추가\n",
    "#     result.append(item)\n",
    "# result"
   ]
  },
  {
   "cell_type": "code",
   "execution_count": null,
   "metadata": {},
   "outputs": [],
   "source": [
    "# 수집한 정보를 excel 형식으로 저장\n",
    "df = DataFrame(result)\n",
    "df.to_excel(\"블로그_수집.xlsx\")\n",
    "df"
   ]
  },
  {
   "cell_type": "code",
   "execution_count": null,
   "metadata": {},
   "outputs": [],
   "source": []
  }
 ],
 "metadata": {
  "kernelspec": {
   "display_name": "Python 3",
   "language": "python",
   "name": "python3"
  },
  "language_info": {
   "codemirror_mode": {
    "name": "ipython",
    "version": 3
   },
   "file_extension": ".py",
   "mimetype": "text/x-python",
   "name": "python",
   "nbconvert_exporter": "python",
   "pygments_lexer": "ipython3",
   "version": "3.11.0"
  },
  "orig_nbformat": 4
 },
 "nbformat": 4,
 "nbformat_minor": 2
}
