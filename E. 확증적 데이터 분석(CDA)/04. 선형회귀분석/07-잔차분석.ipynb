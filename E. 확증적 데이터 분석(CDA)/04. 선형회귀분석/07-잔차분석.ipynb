{
 "cells": [
  {
   "cell_type": "markdown",
   "metadata": {},
   "source": [
    "# 잔차 분석\n",
    "\n",
    "## 잔차분석의 이해\n",
    "\n",
    "### `잔차`\n",
    "\n",
    "`실제 관측값과 예측값의 사이`\n",
    "\n",
    "즉, 예`측값에 대한 오차`를 의미함\n",
    "\n",
    "때문에 잔차를 구하기 위해서는 `예측 값을 도출`해야함\n",
    "\n",
    "$잔차 = 실제관측값 - 예측값$\n",
    "\n",
    "### 잔차 분석\n",
    "\n",
    "회귀분석 수행 후 회귀 분석이 적절하게 수행되었는지, `모델이 데이터에 적합한지를 평가`하기 위해 사용\n",
    "\n",
    "1. 잔차의 선형성\n",
    "2. 잔차의 정규성\n",
    "3. 잔차의 등분산성\n",
    "4. 잔차의 독립성\n",
    "- Durbuin-Watson 값으로 독립성 확인(1.5 ~ 2.5 사이)"
   ]
  },
  {
   "cell_type": "markdown",
   "metadata": {},
   "source": [
    "## #01. 작업준비"
   ]
  },
  {
   "cell_type": "markdown",
   "metadata": {},
   "source": [
    "### 패키지 참조"
   ]
  },
  {
   "cell_type": "code",
   "execution_count": 54,
   "metadata": {},
   "outputs": [],
   "source": [
    "from pandas import read_excel, DataFrame\n",
    "from matplotlib import pyplot as plt\n",
    "import seaborn as sb\n",
    "import numpy as np\n",
    "import sys\n",
    "import os\n",
    "import statsmodels.api as sm\n",
    "from statsmodels.stats.api import het_breuschpagan\n",
    "from statsmodels.stats.stattools import durbin_watson\n",
    "from scipy import stats\n",
    "\n",
    "sys.path.append(os.path.dirname(os.path.dirname(os.getcwd())))\n",
    "from helper import my_ols"
   ]
  },
  {
   "cell_type": "markdown",
   "metadata": {},
   "source": [
    "### 그래프 초기화"
   ]
  },
  {
   "cell_type": "code",
   "execution_count": 55,
   "metadata": {},
   "outputs": [],
   "source": [
    "plt.rcParams['font.family'] = 'AppleGothic' if sys.platform == 'darwin' else 'Malgun Gothic'\n",
    "plt.rcParams['font.size'] = 12\n",
    "plt.rcParams['figure.figsize'] = (10, 15)\n",
    "plt.rcParams[\"axes.unicode_minus\"] = False"
   ]
  },
  {
   "cell_type": "markdown",
   "metadata": {},
   "source": [
    "### 데이터"
   ]
  },
  {
   "cell_type": "code",
   "execution_count": 56,
   "metadata": {},
   "outputs": [
    {
     "data": {
      "text/html": [
       "<div>\n",
       "<style scoped>\n",
       "    .dataframe tbody tr th:only-of-type {\n",
       "        vertical-align: middle;\n",
       "    }\n",
       "\n",
       "    .dataframe tbody tr th {\n",
       "        vertical-align: top;\n",
       "    }\n",
       "\n",
       "    .dataframe thead th {\n",
       "        text-align: right;\n",
       "    }\n",
       "</style>\n",
       "<table border=\"1\" class=\"dataframe\">\n",
       "  <thead>\n",
       "    <tr style=\"text-align: right;\">\n",
       "      <th></th>\n",
       "      <th>speed</th>\n",
       "      <th>dist</th>\n",
       "    </tr>\n",
       "  </thead>\n",
       "  <tbody>\n",
       "    <tr>\n",
       "      <th>0</th>\n",
       "      <td>4</td>\n",
       "      <td>2</td>\n",
       "    </tr>\n",
       "    <tr>\n",
       "      <th>1</th>\n",
       "      <td>4</td>\n",
       "      <td>10</td>\n",
       "    </tr>\n",
       "    <tr>\n",
       "      <th>2</th>\n",
       "      <td>7</td>\n",
       "      <td>4</td>\n",
       "    </tr>\n",
       "    <tr>\n",
       "      <th>3</th>\n",
       "      <td>7</td>\n",
       "      <td>22</td>\n",
       "    </tr>\n",
       "    <tr>\n",
       "      <th>4</th>\n",
       "      <td>8</td>\n",
       "      <td>16</td>\n",
       "    </tr>\n",
       "  </tbody>\n",
       "</table>\n",
       "</div>"
      ],
      "text/plain": [
       "   speed  dist\n",
       "0      4     2\n",
       "1      4    10\n",
       "2      7     4\n",
       "3      7    22\n",
       "4      8    16"
      ]
     },
     "execution_count": 56,
     "metadata": {},
     "output_type": "execute_result"
    }
   ],
   "source": [
    "df = read_excel(\"https://data.hossam.kr/E04/cars.xlsx\")\n",
    "df.head()"
   ]
  },
  {
   "cell_type": "markdown",
   "metadata": {},
   "source": [
    "### `회귀분석` 수행"
   ]
  },
  {
   "cell_type": "code",
   "execution_count": 57,
   "metadata": {},
   "outputs": [
    {
     "name": "stdout",
     "output_type": "stream",
     "text": [
      "['speed', 'dist']\n"
     ]
    }
   ],
   "source": [
    "ols = my_ols(df, x='speed', y='dist')"
   ]
  },
  {
   "cell_type": "markdown",
   "metadata": {},
   "source": [
    "## #02. `잔차분석` 수행"
   ]
  },
  {
   "cell_type": "markdown",
   "metadata": {},
   "source": [
    "### #1-잔차 구하기"
   ]
  },
  {
   "cell_type": "markdown",
   "metadata": {},
   "source": [
    "#### `예측값`(직접 구하기)"
   ]
  },
  {
   "cell_type": "code",
   "execution_count": 58,
   "metadata": {},
   "outputs": [
    {
     "data": {
      "text/plain": [
       "0     -1.849460\n",
       "1     -1.849460\n",
       "2      9.947766\n",
       "3      9.947766\n",
       "4     13.880175\n",
       "5     17.812584\n",
       "6     21.744993\n",
       "7     21.744993\n",
       "8     21.744993\n",
       "9     25.677401\n",
       "10    25.677401\n",
       "11    29.609810\n",
       "12    29.609810\n",
       "13    29.609810\n",
       "14    29.609810\n",
       "15    33.542219\n",
       "16    33.542219\n",
       "17    33.542219\n",
       "18    33.542219\n",
       "19    37.474628\n",
       "20    37.474628\n",
       "21    37.474628\n",
       "22    37.474628\n",
       "23    41.407036\n",
       "24    41.407036\n",
       "25    41.407036\n",
       "26    45.339445\n",
       "27    45.339445\n",
       "28    49.271854\n",
       "29    49.271854\n",
       "30    49.271854\n",
       "31    53.204263\n",
       "32    53.204263\n",
       "33    53.204263\n",
       "34    53.204263\n",
       "35    57.136672\n",
       "36    57.136672\n",
       "37    57.136672\n",
       "38    61.069080\n",
       "39    61.069080\n",
       "40    61.069080\n",
       "41    61.069080\n",
       "42    61.069080\n",
       "43    68.933898\n",
       "44    72.866307\n",
       "45    76.798715\n",
       "46    76.798715\n",
       "47    76.798715\n",
       "48    76.798715\n",
       "49    80.731124\n",
       "dtype: float64"
      ]
     },
     "execution_count": 58,
     "metadata": {},
     "output_type": "execute_result"
    }
   ],
   "source": [
    "# 독립변수 speed\n",
    "y = ols.fit.predict(df['speed'])\n",
    "y"
   ]
  },
  {
   "cell_type": "markdown",
   "metadata": {},
   "source": [
    "#### `예측값`(회귀분석 결과에 내장된 예측값)\n",
    "\n",
    "`predict()` 함수의 결과와 동일함"
   ]
  },
  {
   "cell_type": "code",
   "execution_count": 59,
   "metadata": {},
   "outputs": [
    {
     "data": {
      "text/plain": [
       "0     -1.849460\n",
       "1     -1.849460\n",
       "2      9.947766\n",
       "3      9.947766\n",
       "4     13.880175\n",
       "5     17.812584\n",
       "6     21.744993\n",
       "7     21.744993\n",
       "8     21.744993\n",
       "9     25.677401\n",
       "10    25.677401\n",
       "11    29.609810\n",
       "12    29.609810\n",
       "13    29.609810\n",
       "14    29.609810\n",
       "15    33.542219\n",
       "16    33.542219\n",
       "17    33.542219\n",
       "18    33.542219\n",
       "19    37.474628\n",
       "20    37.474628\n",
       "21    37.474628\n",
       "22    37.474628\n",
       "23    41.407036\n",
       "24    41.407036\n",
       "25    41.407036\n",
       "26    45.339445\n",
       "27    45.339445\n",
       "28    49.271854\n",
       "29    49.271854\n",
       "30    49.271854\n",
       "31    53.204263\n",
       "32    53.204263\n",
       "33    53.204263\n",
       "34    53.204263\n",
       "35    57.136672\n",
       "36    57.136672\n",
       "37    57.136672\n",
       "38    61.069080\n",
       "39    61.069080\n",
       "40    61.069080\n",
       "41    61.069080\n",
       "42    61.069080\n",
       "43    68.933898\n",
       "44    72.866307\n",
       "45    76.798715\n",
       "46    76.798715\n",
       "47    76.798715\n",
       "48    76.798715\n",
       "49    80.731124\n",
       "dtype: float64"
      ]
     },
     "execution_count": 59,
     "metadata": {},
     "output_type": "execute_result"
    }
   ],
   "source": [
    "y = ols.fit.fittedvalues\n",
    "y"
   ]
  },
  {
   "cell_type": "markdown",
   "metadata": {},
   "source": [
    "#### `잔차`(직접계산)\n",
    "\n",
    "$잔차 = 실제관측값 - 예측값$"
   ]
  },
  {
   "cell_type": "code",
   "execution_count": 60,
   "metadata": {},
   "outputs": [
    {
     "data": {
      "text/plain": [
       "0      3.849460\n",
       "1     11.849460\n",
       "2     -5.947766\n",
       "3     12.052234\n",
       "4      2.119825\n",
       "5     -7.812584\n",
       "6     -3.744993\n",
       "7      4.255007\n",
       "8     12.255007\n",
       "9     -8.677401\n",
       "10     2.322599\n",
       "11   -15.609810\n",
       "12    -9.609810\n",
       "13    -5.609810\n",
       "14    -1.609810\n",
       "15    -7.542219\n",
       "16     0.457781\n",
       "17     0.457781\n",
       "18    12.457781\n",
       "19   -11.474628\n",
       "20    -1.474628\n",
       "21    22.525372\n",
       "22    42.525372\n",
       "23   -21.407036\n",
       "24   -15.407036\n",
       "25    12.592964\n",
       "26   -13.339445\n",
       "27    -5.339445\n",
       "28   -17.271854\n",
       "29    -9.271854\n",
       "30     0.728146\n",
       "31   -11.204263\n",
       "32     2.795737\n",
       "33    22.795737\n",
       "34    30.795737\n",
       "35   -21.136672\n",
       "36   -11.136672\n",
       "37    10.863328\n",
       "38   -29.069080\n",
       "39   -13.069080\n",
       "40    -9.069080\n",
       "41    -5.069080\n",
       "42     2.930920\n",
       "43    -2.933898\n",
       "44   -18.866307\n",
       "45    -6.798715\n",
       "46    15.201285\n",
       "47    16.201285\n",
       "48    43.201285\n",
       "49     4.268876\n",
       "dtype: float64"
      ]
     },
     "execution_count": 60,
     "metadata": {},
     "output_type": "execute_result"
    }
   ],
   "source": [
    "residual = df['dist'] - y\n",
    "residual"
   ]
  },
  {
   "cell_type": "markdown",
   "metadata": {},
   "source": [
    "#### `잔차`(회귀분석 결과에 내장된 잔차값)"
   ]
  },
  {
   "cell_type": "code",
   "execution_count": 61,
   "metadata": {},
   "outputs": [
    {
     "data": {
      "text/plain": [
       "0      3.849460\n",
       "1     11.849460\n",
       "2     -5.947766\n",
       "3     12.052234\n",
       "4      2.119825\n",
       "5     -7.812584\n",
       "6     -3.744993\n",
       "7      4.255007\n",
       "8     12.255007\n",
       "9     -8.677401\n",
       "10     2.322599\n",
       "11   -15.609810\n",
       "12    -9.609810\n",
       "13    -5.609810\n",
       "14    -1.609810\n",
       "15    -7.542219\n",
       "16     0.457781\n",
       "17     0.457781\n",
       "18    12.457781\n",
       "19   -11.474628\n",
       "20    -1.474628\n",
       "21    22.525372\n",
       "22    42.525372\n",
       "23   -21.407036\n",
       "24   -15.407036\n",
       "25    12.592964\n",
       "26   -13.339445\n",
       "27    -5.339445\n",
       "28   -17.271854\n",
       "29    -9.271854\n",
       "30     0.728146\n",
       "31   -11.204263\n",
       "32     2.795737\n",
       "33    22.795737\n",
       "34    30.795737\n",
       "35   -21.136672\n",
       "36   -11.136672\n",
       "37    10.863328\n",
       "38   -29.069080\n",
       "39   -13.069080\n",
       "40    -9.069080\n",
       "41    -5.069080\n",
       "42     2.930920\n",
       "43    -2.933898\n",
       "44   -18.866307\n",
       "45    -6.798715\n",
       "46    15.201285\n",
       "47    16.201285\n",
       "48    43.201285\n",
       "49     4.268876\n",
       "dtype: float64"
      ]
     },
     "execution_count": 61,
     "metadata": {},
     "output_type": "execute_result"
    }
   ],
   "source": [
    "residual = ols.fit.resid\n",
    "residual"
   ]
  },
  {
   "cell_type": "markdown",
   "metadata": {},
   "source": [
    "#### 분석결과가 내장하고 있는 독립변수 데이터 셋"
   ]
  },
  {
   "cell_type": "code",
   "execution_count": 62,
   "metadata": {},
   "outputs": [
    {
     "data": {
      "text/plain": [
       "array([[ 1.,  4.],\n",
       "       [ 1.,  4.],\n",
       "       [ 1.,  7.],\n",
       "       [ 1.,  7.],\n",
       "       [ 1.,  8.],\n",
       "       [ 1.,  9.],\n",
       "       [ 1., 10.],\n",
       "       [ 1., 10.],\n",
       "       [ 1., 10.],\n",
       "       [ 1., 11.],\n",
       "       [ 1., 11.],\n",
       "       [ 1., 12.],\n",
       "       [ 1., 12.],\n",
       "       [ 1., 12.],\n",
       "       [ 1., 12.],\n",
       "       [ 1., 13.],\n",
       "       [ 1., 13.],\n",
       "       [ 1., 13.],\n",
       "       [ 1., 13.],\n",
       "       [ 1., 14.],\n",
       "       [ 1., 14.],\n",
       "       [ 1., 14.],\n",
       "       [ 1., 14.],\n",
       "       [ 1., 15.],\n",
       "       [ 1., 15.],\n",
       "       [ 1., 15.],\n",
       "       [ 1., 16.],\n",
       "       [ 1., 16.],\n",
       "       [ 1., 17.],\n",
       "       [ 1., 17.],\n",
       "       [ 1., 17.],\n",
       "       [ 1., 18.],\n",
       "       [ 1., 18.],\n",
       "       [ 1., 18.],\n",
       "       [ 1., 18.],\n",
       "       [ 1., 19.],\n",
       "       [ 1., 19.],\n",
       "       [ 1., 19.],\n",
       "       [ 1., 20.],\n",
       "       [ 1., 20.],\n",
       "       [ 1., 20.],\n",
       "       [ 1., 20.],\n",
       "       [ 1., 20.],\n",
       "       [ 1., 22.],\n",
       "       [ 1., 23.],\n",
       "       [ 1., 24.],\n",
       "       [ 1., 24.],\n",
       "       [ 1., 24.],\n",
       "       [ 1., 24.],\n",
       "       [ 1., 25.]])"
      ]
     },
     "execution_count": 62,
     "metadata": {},
     "output_type": "execute_result"
    }
   ],
   "source": [
    "ols.fit.model.exog"
   ]
  },
  {
   "cell_type": "markdown",
   "metadata": {},
   "source": [
    "##### 분석결과가 내장하고 있는 독립변수 데이터 셋 이름확인 방법"
   ]
  },
  {
   "cell_type": "code",
   "execution_count": 63,
   "metadata": {},
   "outputs": [
    {
     "data": {
      "text/plain": [
       "['Intercept', 'speed']"
      ]
     },
     "execution_count": 63,
     "metadata": {},
     "output_type": "execute_result"
    }
   ],
   "source": [
    "ols.fit.model.exog_names"
   ]
  },
  {
   "cell_type": "markdown",
   "metadata": {},
   "source": [
    "#### 원본 데이터프레임에 병합"
   ]
  },
  {
   "cell_type": "code",
   "execution_count": 64,
   "metadata": {},
   "outputs": [
    {
     "data": {
      "text/html": [
       "<div>\n",
       "<style scoped>\n",
       "    .dataframe tbody tr th:only-of-type {\n",
       "        vertical-align: middle;\n",
       "    }\n",
       "\n",
       "    .dataframe tbody tr th {\n",
       "        vertical-align: top;\n",
       "    }\n",
       "\n",
       "    .dataframe thead th {\n",
       "        text-align: right;\n",
       "    }\n",
       "</style>\n",
       "<table border=\"1\" class=\"dataframe\">\n",
       "  <thead>\n",
       "    <tr style=\"text-align: right;\">\n",
       "      <th></th>\n",
       "      <th>speed</th>\n",
       "      <th>dist</th>\n",
       "      <th>예측값</th>\n",
       "      <th>잔차</th>\n",
       "    </tr>\n",
       "  </thead>\n",
       "  <tbody>\n",
       "    <tr>\n",
       "      <th>0</th>\n",
       "      <td>4</td>\n",
       "      <td>2</td>\n",
       "      <td>-1.849460</td>\n",
       "      <td>3.849460</td>\n",
       "    </tr>\n",
       "    <tr>\n",
       "      <th>1</th>\n",
       "      <td>4</td>\n",
       "      <td>10</td>\n",
       "      <td>-1.849460</td>\n",
       "      <td>11.849460</td>\n",
       "    </tr>\n",
       "    <tr>\n",
       "      <th>2</th>\n",
       "      <td>7</td>\n",
       "      <td>4</td>\n",
       "      <td>9.947766</td>\n",
       "      <td>-5.947766</td>\n",
       "    </tr>\n",
       "    <tr>\n",
       "      <th>3</th>\n",
       "      <td>7</td>\n",
       "      <td>22</td>\n",
       "      <td>9.947766</td>\n",
       "      <td>12.052234</td>\n",
       "    </tr>\n",
       "    <tr>\n",
       "      <th>4</th>\n",
       "      <td>8</td>\n",
       "      <td>16</td>\n",
       "      <td>13.880175</td>\n",
       "      <td>2.119825</td>\n",
       "    </tr>\n",
       "  </tbody>\n",
       "</table>\n",
       "</div>"
      ],
      "text/plain": [
       "   speed  dist        예측값         잔차\n",
       "0      4     2  -1.849460   3.849460\n",
       "1      4    10  -1.849460  11.849460\n",
       "2      7     4   9.947766  -5.947766\n",
       "3      7    22   9.947766  12.052234\n",
       "4      8    16  13.880175   2.119825"
      ]
     },
     "execution_count": 64,
     "metadata": {},
     "output_type": "execute_result"
    }
   ],
   "source": [
    "df['예측값'] = y\n",
    "df['잔차'] = residual\n",
    "df.head()"
   ]
  },
  {
   "cell_type": "markdown",
   "metadata": {},
   "source": [
    "### #2-`잔차의 선형성`"
   ]
  },
  {
   "cell_type": "markdown",
   "metadata": {},
   "source": [
    "#### 잔차 시각화\n",
    "\n",
    "- `모든 예측값`에서 가운데 점선에 맞추어 `잔차가 비슷하게 있어야 한다`.\n",
    "- 빨간 실선은 `잔차의 추세`를 의미\n",
    "- `빨간 실선이 점선에서 크게 벗어난다면` 잔차가 크게 달라진다는 의미이므로 `선형성이 없다는 것`이다."
   ]
  },
  {
   "cell_type": "markdown",
   "metadata": {},
   "source": [
    "##### 추가 설명\n",
    "\n",
    "- 추세선은 직선이 기본이기 때문에 분석에 적합하지 않을 수 있음.\n",
    "- 때문에 lowess 파라미터를 설정해 분석에 용이하도록 시각화 진행. \n",
    "- 하지만, 아직 확실한 선형 구간을 도출하기에는 부족함. 때문에 lineplot을 제공해 그래프 분석이 더 용이하도록 변경\n",
    "- (모든 예측값에서 가운데 점선에 맞춰 잔차가 비슷하게 있어야 한다.\n",
    "- 붉은 실선은 잔차의 추세를 의미, 붉은 선이 가운데 점선을 벗어날 수록 선형성이 떨어진다.)\n",
    "- 다만 그래프의 가로 길이를 늘릴 수록 선형/비선형 판단이 힘들어짐."
   ]
  },
  {
   "cell_type": "code",
   "execution_count": 65,
   "metadata": {},
   "outputs": [
    {
     "data": {
      "image/png": "[encoded data removed]",
      "text/plain": [
       "<Figure size 1000x1500 with 1 Axes>"
      ]
     },
     "metadata": {},
     "output_type": "display_data"
    }
   ],
   "source": [
    "xmin = df['예측값'].min()\n",
    "xmax = df['예측값'].max()\n",
    "xrange = [xmin, xmax]\n",
    "yrange = [0, 0]\n",
    "\n",
    "plt.figure()\n",
    "sb.regplot(data=df, x='예측값', y='잔차', lowess=True, line_kws={'color': 'red'})\n",
    "sb.lineplot(x=xrange, y=yrange, color='blue', linestyle='--')\n",
    "plt.grid()\n",
    "plt.show()\n",
    "plt.close()"
   ]
  },
  {
   "cell_type": "markdown",
   "metadata": {},
   "source": [
    "### #3-`잔차의 정규성`\n",
    "\n",
    "- 잔차가 정규분포를 따르는지를 확인"
   ]
  },
  {
   "cell_type": "markdown",
   "metadata": {},
   "source": [
    "#### 시각화\n",
    "\n",
    "- `Q-Q plot(분위수대조도)`으로 확인\n",
    "- `잔차가 정규분포를 따르면` Q-Q Plot에서 `점들이 점선을 따라 배치`된다.\n",
    "- 구해 놓은 예측값을 활용하여 zscore 값을 구한다."
   ]
  },
  {
   "cell_type": "markdown",
   "metadata": {},
   "source": [
    "##### zscore 구하기"
   ]
  },
  {
   "cell_type": "code",
   "execution_count": 66,
   "metadata": {},
   "outputs": [
    {
     "data": {
      "text/html": [
       "<div>\n",
       "<style scoped>\n",
       "    .dataframe tbody tr th:only-of-type {\n",
       "        vertical-align: middle;\n",
       "    }\n",
       "\n",
       "    .dataframe tbody tr th {\n",
       "        vertical-align: top;\n",
       "    }\n",
       "\n",
       "    .dataframe thead th {\n",
       "        text-align: right;\n",
       "    }\n",
       "</style>\n",
       "<table border=\"1\" class=\"dataframe\">\n",
       "  <thead>\n",
       "    <tr style=\"text-align: right;\">\n",
       "      <th></th>\n",
       "      <th>speed</th>\n",
       "      <th>dist</th>\n",
       "      <th>예측값</th>\n",
       "      <th>잔차</th>\n",
       "      <th>zscore</th>\n",
       "    </tr>\n",
       "  </thead>\n",
       "  <tbody>\n",
       "    <tr>\n",
       "      <th>0</th>\n",
       "      <td>4</td>\n",
       "      <td>2</td>\n",
       "      <td>-1.849460</td>\n",
       "      <td>3.849460</td>\n",
       "      <td>-2.177858</td>\n",
       "    </tr>\n",
       "    <tr>\n",
       "      <th>1</th>\n",
       "      <td>4</td>\n",
       "      <td>10</td>\n",
       "      <td>-1.849460</td>\n",
       "      <td>11.849460</td>\n",
       "      <td>-2.177858</td>\n",
       "    </tr>\n",
       "    <tr>\n",
       "      <th>2</th>\n",
       "      <td>7</td>\n",
       "      <td>4</td>\n",
       "      <td>9.947766</td>\n",
       "      <td>-5.947766</td>\n",
       "      <td>-1.604738</td>\n",
       "    </tr>\n",
       "    <tr>\n",
       "      <th>3</th>\n",
       "      <td>7</td>\n",
       "      <td>22</td>\n",
       "      <td>9.947766</td>\n",
       "      <td>12.052234</td>\n",
       "      <td>-1.604738</td>\n",
       "    </tr>\n",
       "    <tr>\n",
       "      <th>4</th>\n",
       "      <td>8</td>\n",
       "      <td>16</td>\n",
       "      <td>13.880175</td>\n",
       "      <td>2.119825</td>\n",
       "      <td>-1.413697</td>\n",
       "    </tr>\n",
       "  </tbody>\n",
       "</table>\n",
       "</div>"
      ],
      "text/plain": [
       "   speed  dist        예측값         잔차    zscore\n",
       "0      4     2  -1.849460   3.849460 -2.177858\n",
       "1      4    10  -1.849460  11.849460 -2.177858\n",
       "2      7     4   9.947766  -5.947766 -1.604738\n",
       "3      7    22   9.947766  12.052234 -1.604738\n",
       "4      8    16  13.880175   2.119825 -1.413697"
      ]
     },
     "execution_count": 66,
     "metadata": {},
     "output_type": "execute_result"
    }
   ],
   "source": [
    "df['zscore'] = stats.zscore(df['예측값'])\n",
    "df.head()"
   ]
  },
  {
   "cell_type": "markdown",
   "metadata": {},
   "source": [
    "##### Q-Q Plot(분위수대조도) 그리기"
   ]
  },
  {
   "cell_type": "code",
   "execution_count": 67,
   "metadata": {},
   "outputs": [
    {
     "data": {
      "image/png": "[encoded data removed]",
      "text/plain": [
       "<Figure size 1000x1500 with 1 Axes>"
      ]
     },
     "metadata": {},
     "output_type": "display_data"
    }
   ],
   "source": [
    "(x, y), _ = stats.probplot(df['zscore'])\n",
    "\n",
    "sb.scatterplot(x=x, y=y)\n",
    "sb.lineplot(x=[-3, 3], y=[-3, 3], color='red', linestyle='--')\n",
    "plt.show()\n",
    "plt.close()"
   ]
  },
  {
   "cell_type": "markdown",
   "metadata": {},
   "source": [
    "##### `잔차도`\n",
    "\n",
    "잔차가 정규분포를 따른다면 대략적\n",
    "\n",
    "- $\\pm\\sqrt{MSE}$ 범위 안에 최소 `68%`의 잔차가 포함된다.\n",
    "- $\\pm2\\sqrt{MSE}$ 범위 안에 최소 `95%`의 잔차가 포함된다.\n",
    "- $\\pm3\\sqrt{MSE}$ 범위 안에 최소 `99%`의 잔차가 포함된다.\n",
    "\n",
    "ols.fit.mes_resid : 평균 제곱 오차를 사용해 그래프를 그리고 Q-Q Plot보다 자세히 잔차의 정규분포를 판별 가능"
   ]
  },
  {
   "cell_type": "code",
   "execution_count": 68,
   "metadata": {},
   "outputs": [
    {
     "name": "stdout",
     "output_type": "stream",
     "text": [
      "루트 1MSE 구간에 포함된 잔차 비율: 74.00%\n",
      "루트 2MSE 구간에 포함된 잔차 비율: 94.00%\n",
      "루트 3MSE 구간에 포함된 잔차 비율: 100.00%\n"
     ]
    }
   ],
   "source": [
    "MSE_sq = np.sqrt(ols.fit.mse_resid)\n",
    "r = ols.fit.resid\n",
    "\n",
    "r1 = r[ (r > -MSE_sq) & (r < MSE_sq)].count() / r.count() * 100\n",
    "r2 = r[ (r > -2*MSE_sq) & (r < 2*MSE_sq)].count() / r.count() * 100\n",
    "r3 = r[ (r > -3*MSE_sq) & (r < 3*MSE_sq)].count() / r.count() * 100\n",
    "\n",
    "mse_r = [r1, r2, r3]\n",
    "\n",
    "print(f\"루트 1MSE 구간에 포함된 잔차 비율: {r1:1.2f}%\")\n",
    "print(f\"루트 2MSE 구간에 포함된 잔차 비율: {r2:1.2f}%\")\n",
    "print(f\"루트 3MSE 구간에 포함된 잔차 비율: {r3:1.2f}%\")"
   ]
  },
  {
   "cell_type": "code",
   "execution_count": 69,
   "metadata": {},
   "outputs": [
    {
     "data": {
      "image/png": "[encoded data removed]",
      "text/plain": [
       "<Figure size 1000x1500 with 1 Axes>"
      ]
     },
     "metadata": {},
     "output_type": "display_data"
    }
   ],
   "source": [
    "# ols.fit.mes_resid\n",
    "# 평균 제곱 오차를 사용해 그래프를 그리고 \n",
    "# Q-Q Plot보다 자세히 잔차의 정규분포를 판별 가능\n",
    "\n",
    "# 선형 회귀 모델(OLS 모델)로부터 \n",
    "# Mean Squared Error (MSE)의 제곱 값을 담는 변수\n",
    "mse_sq = ols.fit.mse_resid\n",
    "\n",
    "\n",
    "# 예측값과 실제값간의 잔차를 구해서 표시해주는 그래프\n",
    "sb.residplot(data=df, x='예측값', y='dist', scatter_kws = {'edgecolor':\"white\", \"alpha\":0.7})\n",
    "\n",
    "# 반복문으로 잔차도 생성(MSE)\n",
    "for i, c in enumerate(['red', 'green', 'black']):\n",
    "    plt.axhline((i+1) * mse_sq, color=c)\n",
    "    plt.axhline(-(i+1) * mse_sq, color=c)\n",
    "\n",
    "# 현재 표시되는 그래프의 x축 범위를 가져온다.\n",
    "xmin, xmax = plt.xlim()\n",
    "\n",
    "# MSE 값 그래프에 시각화(위치는 범례처럼 수동으로 설정)\n",
    "for i, c in enumerate(['red', 'green', 'black']):\n",
    "    plt.text(s=f\"{i+1}\"r'${}\\sqrt{MSE}$ = %s%%' % mse_r[i], x=xmax+1, y=(i+1) * mse_sq)\n",
    "    plt.text(s=f\"-{i+1}\"r'${}\\sqrt{MSE}$ = %s%%' % mse_r[i], x=xmax+1, y=-(i+1) * mse_sq)\n",
    "\n",
    "plt.show()\n",
    "plt.close()"
   ]
  },
  {
   "cell_type": "markdown",
   "metadata": {},
   "source": [
    "#### `샤피로 검정`을 통한 `정규성 검정`\n",
    "\n",
    "| 가설 | 내용 |\n",
    "|--|--|\n",
    "| 귀무가설 | 표본의 모집단이 정규분포를 따름 |\n",
    "| 대립가설 | 표본의 모집단이 정규분포를 따르지 않음 |"
   ]
  },
  {
   "cell_type": "code",
   "execution_count": 70,
   "metadata": {},
   "outputs": [
    {
     "name": "stdout",
     "output_type": "stream",
     "text": [
      "Shapiro-Wilk Test: (통계량, p-value) =  (0.9450908899307251, 0.02152523212134838)\n"
     ]
    },
    {
     "data": {
      "text/plain": [
       "'잔차가 정규성을 따르지 않음'"
      ]
     },
     "execution_count": 70,
     "metadata": {},
     "output_type": "execute_result"
    }
   ],
   "source": [
    "s, p = stats.shapiro(df['잔차'])\n",
    "print(\"Shapiro-Wilk Test: (통계량, p-value) = \", (s,p))\n",
    "\n",
    "\"잔차가 정규성을 따름\" if p>0.05 else \"잔차가 정규성을 따르지 않음\""
   ]
  },
  {
   "cell_type": "markdown",
   "metadata": {},
   "source": [
    "### #4-`잔차의 등분산성`\n",
    "- 회귀모형을 통해 예측된 모든 값들에 대하여 `잔차의 분산이 동일하다는 가정`"
   ]
  },
  {
   "cell_type": "code",
   "execution_count": 71,
   "metadata": {},
   "outputs": [
    {
     "data": {
      "image/png": "[encoded data removed]",
      "text/plain": [
       "<Figure size 1000x1500 with 1 Axes>"
      ]
     },
     "metadata": {},
     "output_type": "display_data"
    }
   ],
   "source": [
    "sb.regplot(x=df['예측값'], y=np.sqrt(np.abs(df['잔차'])), lowess=True, line_kws = {'color':'red'})\n",
    "plt.grid()\n",
    "plt.show()\n",
    "plt.close()"
   ]
  },
  {
   "cell_type": "markdown",
   "metadata": {},
   "source": [
    "#### 브로이슈-패건 검정\n",
    "\n",
    "| 가설 | 설명 |\n",
    "|---|---|\n",
    "| 귀무가설 | 등분산성 가정이 만족된다 (오차의 분산은 독립변수들과 관련이 없다) |\n",
    "| 대립가설 | 등분산성 가정이 만족되지 않는다(오차의 분산은 독립변수들과 관련이 있다) |"
   ]
  },
  {
   "cell_type": "code",
   "execution_count": 72,
   "metadata": {},
   "outputs": [
    {
     "data": {
      "text/html": [
       "<div>\n",
       "<style scoped>\n",
       "    .dataframe tbody tr th:only-of-type {\n",
       "        vertical-align: middle;\n",
       "    }\n",
       "\n",
       "    .dataframe tbody tr th {\n",
       "        vertical-align: top;\n",
       "    }\n",
       "\n",
       "    .dataframe thead th {\n",
       "        text-align: right;\n",
       "    }\n",
       "</style>\n",
       "<table border=\"1\" class=\"dataframe\">\n",
       "  <thead>\n",
       "    <tr style=\"text-align: right;\">\n",
       "      <th></th>\n",
       "      <th>0</th>\n",
       "    </tr>\n",
       "  </thead>\n",
       "  <tbody>\n",
       "    <tr>\n",
       "      <th>Lagrange multiplier statistic</th>\n",
       "      <td>3.214880</td>\n",
       "    </tr>\n",
       "    <tr>\n",
       "      <th>p-value</th>\n",
       "      <td>0.072972</td>\n",
       "    </tr>\n",
       "    <tr>\n",
       "      <th>f-value</th>\n",
       "      <td>3.298361</td>\n",
       "    </tr>\n",
       "    <tr>\n",
       "      <th>f p-value</th>\n",
       "      <td>0.075597</td>\n",
       "    </tr>\n",
       "  </tbody>\n",
       "</table>\n",
       "</div>"
      ],
      "text/plain": [
       "                                      0\n",
       "Lagrange multiplier statistic  3.214880\n",
       "p-value                        0.072972\n",
       "f-value                        3.298361\n",
       "f p-value                      0.075597"
      ]
     },
     "execution_count": 72,
     "metadata": {},
     "output_type": "execute_result"
    }
   ],
   "source": [
    "names = ['Lagrange multiplier statistic', 'p-value', 'f-value', 'f p-value']\n",
    "test_result = het_breuschpagan(ols.fit.resid, ols.fit.model.exog)\n",
    "DataFrame(test_result, index=names)"
   ]
  },
  {
   "cell_type": "markdown",
   "metadata": {},
   "source": [
    "### #5-`잔차의 독립성`\n",
    "\n",
    "회귀분석 결과표 하단의 Dubin-Watson 값을 확인한다.\n",
    "\n",
    "| 수치 | 해석 |\n",
    "|---|---|\n",
    "| `0` | 잔차들이 양의 상관 관계 (독립성 `X`) |\n",
    "| `2` | 잔차들이 독립. |\n",
    "| `4` | 잔차들이 음의 상관 관계 (독립성 `X`) |\n",
    "\n",
    "일반적으로 DW값이 `1.5 ~ 2.5` 범위에 있으면 독립으로 판정"
   ]
  },
  {
   "cell_type": "code",
   "execution_count": 73,
   "metadata": {},
   "outputs": [
    {
     "data": {
      "text/html": [
       "<table class=\"simpletable\">\n",
       "<caption>OLS Regression Results</caption>\n",
       "<tr>\n",
       "  <th>Dep. Variable:</th>          <td>dist</td>       <th>  R-squared:         </th> <td>   0.651</td>\n",
       "</tr>\n",
       "<tr>\n",
       "  <th>Model:</th>                   <td>OLS</td>       <th>  Adj. R-squared:    </th> <td>   0.644</td>\n",
       "</tr>\n",
       "<tr>\n",
       "  <th>Method:</th>             <td>Least Squares</td>  <th>  F-statistic:       </th> <td>   89.57</td>\n",
       "</tr>\n",
       "<tr>\n",
       "  <th>Date:</th>             <td>Fri, 28 Jul 2023</td> <th>  Prob (F-statistic):</th> <td>1.49e-12</td>\n",
       "</tr>\n",
       "<tr>\n",
       "  <th>Time:</th>                 <td>14:29:53</td>     <th>  Log-Likelihood:    </th> <td> -206.58</td>\n",
       "</tr>\n",
       "<tr>\n",
       "  <th>No. Observations:</th>      <td>    50</td>      <th>  AIC:               </th> <td>   417.2</td>\n",
       "</tr>\n",
       "<tr>\n",
       "  <th>Df Residuals:</th>          <td>    48</td>      <th>  BIC:               </th> <td>   421.0</td>\n",
       "</tr>\n",
       "<tr>\n",
       "  <th>Df Model:</th>              <td>     1</td>      <th>                     </th>     <td> </td>   \n",
       "</tr>\n",
       "<tr>\n",
       "  <th>Covariance Type:</th>      <td>nonrobust</td>    <th>                     </th>     <td> </td>   \n",
       "</tr>\n",
       "</table>\n",
       "<table class=\"simpletable\">\n",
       "<tr>\n",
       "      <td></td>         <th>coef</th>     <th>std err</th>      <th>t</th>      <th>P>|t|</th>  <th>[0.025</th>    <th>0.975]</th>  \n",
       "</tr>\n",
       "<tr>\n",
       "  <th>Intercept</th> <td>  -17.5791</td> <td>    6.758</td> <td>   -2.601</td> <td> 0.012</td> <td>  -31.168</td> <td>   -3.990</td>\n",
       "</tr>\n",
       "<tr>\n",
       "  <th>speed</th>     <td>    3.9324</td> <td>    0.416</td> <td>    9.464</td> <td> 0.000</td> <td>    3.097</td> <td>    4.768</td>\n",
       "</tr>\n",
       "</table>\n",
       "<table class=\"simpletable\">\n",
       "<tr>\n",
       "  <th>Omnibus:</th>       <td> 8.975</td> <th>  Durbin-Watson:     </th> <td>   1.676</td>\n",
       "</tr>\n",
       "<tr>\n",
       "  <th>Prob(Omnibus):</th> <td> 0.011</td> <th>  Jarque-Bera (JB):  </th> <td>   8.189</td>\n",
       "</tr>\n",
       "<tr>\n",
       "  <th>Skew:</th>          <td> 0.885</td> <th>  Prob(JB):          </th> <td>  0.0167</td>\n",
       "</tr>\n",
       "<tr>\n",
       "  <th>Kurtosis:</th>      <td> 3.893</td> <th>  Cond. No.          </th> <td>    50.7</td>\n",
       "</tr>\n",
       "</table><br/><br/>Notes:<br/>[1] Standard Errors assume that the covariance matrix of the errors is correctly specified."
      ],
      "text/latex": [
       "\\begin{center}\n",
       "\\begin{tabular}{lclc}\n",
       "\\toprule\n",
       "\\textbf{Dep. Variable:}    &       dist       & \\textbf{  R-squared:         } &     0.651   \\\\\n",
       "\\textbf{Model:}            &       OLS        & \\textbf{  Adj. R-squared:    } &     0.644   \\\\\n",
       "\\textbf{Method:}           &  Least Squares   & \\textbf{  F-statistic:       } &     89.57   \\\\\n",
       "\\textbf{Date:}             & Fri, 28 Jul 2023 & \\textbf{  Prob (F-statistic):} &  1.49e-12   \\\\\n",
       "\\textbf{Time:}             &     14:29:53     & \\textbf{  Log-Likelihood:    } &   -206.58   \\\\\n",
       "\\textbf{No. Observations:} &          50      & \\textbf{  AIC:               } &     417.2   \\\\\n",
       "\\textbf{Df Residuals:}     &          48      & \\textbf{  BIC:               } &     421.0   \\\\\n",
       "\\textbf{Df Model:}         &           1      & \\textbf{                     } &             \\\\\n",
       "\\textbf{Covariance Type:}  &    nonrobust     & \\textbf{                     } &             \\\\\n",
       "\\bottomrule\n",
       "\\end{tabular}\n",
       "\\begin{tabular}{lcccccc}\n",
       "                   & \\textbf{coef} & \\textbf{std err} & \\textbf{t} & \\textbf{P$> |$t$|$} & \\textbf{[0.025} & \\textbf{0.975]}  \\\\\n",
       "\\midrule\n",
       "\\textbf{Intercept} &     -17.5791  &        6.758     &    -2.601  &         0.012        &      -31.168    &       -3.990     \\\\\n",
       "\\textbf{speed}     &       3.9324  &        0.416     &     9.464  &         0.000        &        3.097    &        4.768     \\\\\n",
       "\\bottomrule\n",
       "\\end{tabular}\n",
       "\\begin{tabular}{lclc}\n",
       "\\textbf{Omnibus:}       &  8.975 & \\textbf{  Durbin-Watson:     } &    1.676  \\\\\n",
       "\\textbf{Prob(Omnibus):} &  0.011 & \\textbf{  Jarque-Bera (JB):  } &    8.189  \\\\\n",
       "\\textbf{Skew:}          &  0.885 & \\textbf{  Prob(JB):          } &   0.0167  \\\\\n",
       "\\textbf{Kurtosis:}      &  3.893 & \\textbf{  Cond. No.          } &     50.7  \\\\\n",
       "\\bottomrule\n",
       "\\end{tabular}\n",
       "%\\caption{OLS Regression Results}\n",
       "\\end{center}\n",
       "\n",
       "Notes: \\newline\n",
       " [1] Standard Errors assume that the covariance matrix of the errors is correctly specified."
      ],
      "text/plain": [
       "<class 'statsmodels.iolib.summary.Summary'>\n",
       "\"\"\"\n",
       "                            OLS Regression Results                            \n",
       "==============================================================================\n",
       "Dep. Variable:                   dist   R-squared:                       0.651\n",
       "Model:                            OLS   Adj. R-squared:                  0.644\n",
       "Method:                 Least Squares   F-statistic:                     89.57\n",
       "Date:                Fri, 28 Jul 2023   Prob (F-statistic):           1.49e-12\n",
       "Time:                        14:29:53   Log-Likelihood:                -206.58\n",
       "No. Observations:                  50   AIC:                             417.2\n",
       "Df Residuals:                      48   BIC:                             421.0\n",
       "Df Model:                           1                                         \n",
       "Covariance Type:            nonrobust                                         \n",
       "==============================================================================\n",
       "                 coef    std err          t      P>|t|      [0.025      0.975]\n",
       "------------------------------------------------------------------------------\n",
       "Intercept    -17.5791      6.758     -2.601      0.012     -31.168      -3.990\n",
       "speed          3.9324      0.416      9.464      0.000       3.097       4.768\n",
       "==============================================================================\n",
       "Omnibus:                        8.975   Durbin-Watson:                   1.676\n",
       "Prob(Omnibus):                  0.011   Jarque-Bera (JB):                8.189\n",
       "Skew:                           0.885   Prob(JB):                       0.0167\n",
       "Kurtosis:                       3.893   Cond. No.                         50.7\n",
       "==============================================================================\n",
       "\n",
       "Notes:\n",
       "[1] Standard Errors assume that the covariance matrix of the errors is correctly specified.\n",
       "\"\"\""
      ]
     },
     "execution_count": 73,
     "metadata": {},
     "output_type": "execute_result"
    }
   ],
   "source": [
    "ols.summary"
   ]
  },
  {
   "cell_type": "code",
   "execution_count": 74,
   "metadata": {},
   "outputs": [
    {
     "data": {
      "text/plain": [
       "1.6762253234350974"
      ]
     },
     "execution_count": 74,
     "metadata": {},
     "output_type": "execute_result"
    }
   ],
   "source": [
    "durbin_watson(df['잔차'])"
   ]
  },
  {
   "cell_type": "code",
   "execution_count": null,
   "metadata": {},
   "outputs": [],
   "source": []
  }
 ],
 "metadata": {
  "kernelspec": {
   "display_name": "Python 3",
   "language": "python",
   "name": "python3"
  },
  "language_info": {
   "codemirror_mode": {
    "name": "ipython",
    "version": 3
   },
   "file_extension": ".py",
   "mimetype": "text/x-python",
   "name": "python",
   "nbconvert_exporter": "python",
   "pygments_lexer": "ipython3",
   "version": "3.11.0"
  },
  "orig_nbformat": 4
 },
 "nbformat": 4,
 "nbformat_minor": 2
}
