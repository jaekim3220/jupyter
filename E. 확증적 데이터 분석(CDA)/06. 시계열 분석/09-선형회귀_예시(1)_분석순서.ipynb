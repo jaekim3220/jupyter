{
 "cells": [
  {
   "cell_type": "markdown",
   "metadata": {},
   "source": [
    "# 선형회귀 예시 (1) - 다이아몬드 가격에 영향을 미치는 요인\n",
    "\n",
    "선형회귀분석 : `어떤 결론`을 내는데 `가장 크게 영향을 주는 변수를 찾아내는 과정`"
   ]
  },
  {
   "cell_type": "markdown",
   "metadata": {},
   "source": [
    "## #01. 작업 준비"
   ]
  },
  {
   "cell_type": "markdown",
   "metadata": {},
   "source": [
    "### 1. 패키지 참조"
   ]
  },
  {
   "cell_type": "code",
   "execution_count": 1,
   "metadata": {},
   "outputs": [],
   "source": [
    "import numpy as np\n",
    "from pandas import read_excel, DataFrame, melt, merge\n",
    "from pca import pca\n",
    "from pandas.api.types import CategoricalDtype\n",
    "from statsmodels.formula.api import ols\n",
    "from statsmodels.stats.anova import anova_lm\n",
    "from matplotlib import pyplot as plt\n",
    "import seaborn as sb\n",
    "from scipy import stats\n",
    "import statsmodels.api as sm\n",
    "from statsmodels.stats.api import het_breuschpagan\n",
    "from statsmodels.stats.stattools import durbin_watson\n",
    "\n",
    "import sys\n",
    "sys.path.append(\"../../\")\n",
    "import helper"
   ]
  },
  {
   "cell_type": "markdown",
   "metadata": {},
   "source": [
    "## 데이터 준비\n",
    "\n",
    "R의 시각화 패키지인 `ggplot2`에 내장되어 있는 데이터셋으로 총 10개의 요인으로 이루어져 있으며 `53,940`개의 관측치가 있다.\n",
    "\n",
    "| 변수 | 의미 | 기타 |\n",
    "|---|---|---|\n",
    "| carat | 무게 | ex) 3캐럿짜리 다이아몬드 |\n",
    "| cut | 세공의 질 | 다이아몬드의 단면을 어떻게 커팅하였는지에 대한 상태값을 분류<br/>'계층이 있는 범주형(factor)' 데이터<br/>\"Fair\", \"Good\", \"Very Good\", \"Premium\", \"Ideal\"로 나누어진다. |\n",
    "| color | 컬러 | 총 7개의 컬러로 표기된 범주형 데이터<br/>\n",
    "| clarity | 투명도 | 범주형 데이터 |\n",
    "| depth | 깊이 | 수치형 데이터 |\n",
    "| table | 넓은 폭 대비 꼭대기의 넓이 | 수치형 데이터 |\n",
    "| price | 가격(`$`) | 수치형 데이터 |\n",
    "| x | 길이 | 수치형 데이터 |\n",
    "| y | 넓이 | 수치형 데이터 |\n",
    "|  z | 깊이 | 수치형 데이터 |"
   ]
  },
  {
   "cell_type": "code",
   "execution_count": 2,
   "metadata": {},
   "outputs": [
    {
     "data": {
      "text/html": [
       "<div>\n",
       "<style scoped>\n",
       "    .dataframe tbody tr th:only-of-type {\n",
       "        vertical-align: middle;\n",
       "    }\n",
       "\n",
       "    .dataframe tbody tr th {\n",
       "        vertical-align: top;\n",
       "    }\n",
       "\n",
       "    .dataframe thead th {\n",
       "        text-align: right;\n",
       "    }\n",
       "</style>\n",
       "<table border=\"1\" class=\"dataframe\">\n",
       "  <thead>\n",
       "    <tr style=\"text-align: right;\">\n",
       "      <th></th>\n",
       "      <th>carat</th>\n",
       "      <th>cut</th>\n",
       "      <th>color</th>\n",
       "      <th>clarity</th>\n",
       "      <th>depth</th>\n",
       "      <th>table</th>\n",
       "      <th>price</th>\n",
       "      <th>x</th>\n",
       "      <th>y</th>\n",
       "      <th>z</th>\n",
       "    </tr>\n",
       "  </thead>\n",
       "  <tbody>\n",
       "    <tr>\n",
       "      <th>0</th>\n",
       "      <td>0.23</td>\n",
       "      <td>Ideal</td>\n",
       "      <td>E</td>\n",
       "      <td>SI2</td>\n",
       "      <td>61.5</td>\n",
       "      <td>55.0</td>\n",
       "      <td>326</td>\n",
       "      <td>3.95</td>\n",
       "      <td>3.98</td>\n",
       "      <td>2.43</td>\n",
       "    </tr>\n",
       "    <tr>\n",
       "      <th>1</th>\n",
       "      <td>0.21</td>\n",
       "      <td>Premium</td>\n",
       "      <td>E</td>\n",
       "      <td>SI1</td>\n",
       "      <td>59.8</td>\n",
       "      <td>61.0</td>\n",
       "      <td>326</td>\n",
       "      <td>3.89</td>\n",
       "      <td>3.84</td>\n",
       "      <td>2.31</td>\n",
       "    </tr>\n",
       "    <tr>\n",
       "      <th>2</th>\n",
       "      <td>0.23</td>\n",
       "      <td>Good</td>\n",
       "      <td>E</td>\n",
       "      <td>VS1</td>\n",
       "      <td>56.9</td>\n",
       "      <td>65.0</td>\n",
       "      <td>327</td>\n",
       "      <td>4.05</td>\n",
       "      <td>4.07</td>\n",
       "      <td>2.31</td>\n",
       "    </tr>\n",
       "    <tr>\n",
       "      <th>3</th>\n",
       "      <td>0.29</td>\n",
       "      <td>Premium</td>\n",
       "      <td>I</td>\n",
       "      <td>VS2</td>\n",
       "      <td>62.4</td>\n",
       "      <td>58.0</td>\n",
       "      <td>334</td>\n",
       "      <td>4.20</td>\n",
       "      <td>4.23</td>\n",
       "      <td>2.63</td>\n",
       "    </tr>\n",
       "    <tr>\n",
       "      <th>4</th>\n",
       "      <td>0.31</td>\n",
       "      <td>Good</td>\n",
       "      <td>J</td>\n",
       "      <td>SI2</td>\n",
       "      <td>63.3</td>\n",
       "      <td>58.0</td>\n",
       "      <td>335</td>\n",
       "      <td>4.34</td>\n",
       "      <td>4.35</td>\n",
       "      <td>2.75</td>\n",
       "    </tr>\n",
       "  </tbody>\n",
       "</table>\n",
       "</div>"
      ],
      "text/plain": [
       "   carat      cut color clarity  depth  table  price     x     y     z\n",
       "0   0.23    Ideal     E     SI2   61.5   55.0    326  3.95  3.98  2.43\n",
       "1   0.21  Premium     E     SI1   59.8   61.0    326  3.89  3.84  2.31\n",
       "2   0.23     Good     E     VS1   56.9   65.0    327  4.05  4.07  2.31\n",
       "3   0.29  Premium     I     VS2   62.4   58.0    334  4.20  4.23  2.63\n",
       "4   0.31     Good     J     SI2   63.3   58.0    335  4.34  4.35  2.75"
      ]
     },
     "execution_count": 2,
     "metadata": {},
     "output_type": "execute_result"
    }
   ],
   "source": [
    "origin = read_excel(\"https://data.hossam.kr/E04/diamonds.xlsx\")\n",
    "origin.head()"
   ]
  },
  {
   "cell_type": "markdown",
   "metadata": {},
   "source": [
    "## #02. 데이터 전처리"
   ]
  },
  {
   "cell_type": "markdown",
   "metadata": {},
   "source": [
    "### 1. DF 복사"
   ]
  },
  {
   "cell_type": "code",
   "execution_count": 3,
   "metadata": {},
   "outputs": [
    {
     "data": {
      "text/html": [
       "<div>\n",
       "<style scoped>\n",
       "    .dataframe tbody tr th:only-of-type {\n",
       "        vertical-align: middle;\n",
       "    }\n",
       "\n",
       "    .dataframe tbody tr th {\n",
       "        vertical-align: top;\n",
       "    }\n",
       "\n",
       "    .dataframe thead th {\n",
       "        text-align: right;\n",
       "    }\n",
       "</style>\n",
       "<table border=\"1\" class=\"dataframe\">\n",
       "  <thead>\n",
       "    <tr style=\"text-align: right;\">\n",
       "      <th></th>\n",
       "      <th>carat</th>\n",
       "      <th>cut</th>\n",
       "      <th>color</th>\n",
       "      <th>clarity</th>\n",
       "      <th>depth</th>\n",
       "      <th>table</th>\n",
       "      <th>price</th>\n",
       "      <th>x</th>\n",
       "      <th>y</th>\n",
       "      <th>z</th>\n",
       "    </tr>\n",
       "  </thead>\n",
       "  <tbody>\n",
       "    <tr>\n",
       "      <th>0</th>\n",
       "      <td>0.23</td>\n",
       "      <td>Ideal</td>\n",
       "      <td>E</td>\n",
       "      <td>SI2</td>\n",
       "      <td>61.5</td>\n",
       "      <td>55.0</td>\n",
       "      <td>326</td>\n",
       "      <td>3.95</td>\n",
       "      <td>3.98</td>\n",
       "      <td>2.43</td>\n",
       "    </tr>\n",
       "    <tr>\n",
       "      <th>1</th>\n",
       "      <td>0.21</td>\n",
       "      <td>Premium</td>\n",
       "      <td>E</td>\n",
       "      <td>SI1</td>\n",
       "      <td>59.8</td>\n",
       "      <td>61.0</td>\n",
       "      <td>326</td>\n",
       "      <td>3.89</td>\n",
       "      <td>3.84</td>\n",
       "      <td>2.31</td>\n",
       "    </tr>\n",
       "    <tr>\n",
       "      <th>2</th>\n",
       "      <td>0.23</td>\n",
       "      <td>Good</td>\n",
       "      <td>E</td>\n",
       "      <td>VS1</td>\n",
       "      <td>56.9</td>\n",
       "      <td>65.0</td>\n",
       "      <td>327</td>\n",
       "      <td>4.05</td>\n",
       "      <td>4.07</td>\n",
       "      <td>2.31</td>\n",
       "    </tr>\n",
       "    <tr>\n",
       "      <th>3</th>\n",
       "      <td>0.29</td>\n",
       "      <td>Premium</td>\n",
       "      <td>I</td>\n",
       "      <td>VS2</td>\n",
       "      <td>62.4</td>\n",
       "      <td>58.0</td>\n",
       "      <td>334</td>\n",
       "      <td>4.20</td>\n",
       "      <td>4.23</td>\n",
       "      <td>2.63</td>\n",
       "    </tr>\n",
       "    <tr>\n",
       "      <th>4</th>\n",
       "      <td>0.31</td>\n",
       "      <td>Good</td>\n",
       "      <td>J</td>\n",
       "      <td>SI2</td>\n",
       "      <td>63.3</td>\n",
       "      <td>58.0</td>\n",
       "      <td>335</td>\n",
       "      <td>4.34</td>\n",
       "      <td>4.35</td>\n",
       "      <td>2.75</td>\n",
       "    </tr>\n",
       "  </tbody>\n",
       "</table>\n",
       "</div>"
      ],
      "text/plain": [
       "   carat      cut color clarity  depth  table  price     x     y     z\n",
       "0   0.23    Ideal     E     SI2   61.5   55.0    326  3.95  3.98  2.43\n",
       "1   0.21  Premium     E     SI1   59.8   61.0    326  3.89  3.84  2.31\n",
       "2   0.23     Good     E     VS1   56.9   65.0    327  4.05  4.07  2.31\n",
       "3   0.29  Premium     I     VS2   62.4   58.0    334  4.20  4.23  2.63\n",
       "4   0.31     Good     J     SI2   63.3   58.0    335  4.34  4.35  2.75"
      ]
     },
     "execution_count": 3,
     "metadata": {},
     "output_type": "execute_result"
    }
   ],
   "source": [
    "edf = origin\n",
    "edf.head()"
   ]
  },
  {
   "cell_type": "markdown",
   "metadata": {},
   "source": [
    "### 결측치 확인"
   ]
  },
  {
   "cell_type": "code",
   "execution_count": 4,
   "metadata": {},
   "outputs": [
    {
     "data": {
      "text/plain": [
       "carat      0\n",
       "cut        0\n",
       "color      0\n",
       "clarity    0\n",
       "depth      0\n",
       "table      0\n",
       "price      0\n",
       "x          0\n",
       "y          0\n",
       "z          0\n",
       "dtype: int64"
      ]
     },
     "execution_count": 4,
     "metadata": {},
     "output_type": "execute_result"
    }
   ],
   "source": [
    "edf.isna().sum()"
   ]
  },
  {
   "cell_type": "markdown",
   "metadata": {},
   "source": [
    "### dtypes 확인\n",
    "\n",
    "회귀분석에서는 범주형 데이터는 제외(object 제외)"
   ]
  },
  {
   "cell_type": "code",
   "execution_count": 5,
   "metadata": {},
   "outputs": [
    {
     "data": {
      "text/plain": [
       "carat      float64\n",
       "cut         object\n",
       "color       object\n",
       "clarity     object\n",
       "depth      float64\n",
       "table      float64\n",
       "price        int64\n",
       "x          float64\n",
       "y          float64\n",
       "z          float64\n",
       "dtype: object"
      ]
     },
     "execution_count": 5,
     "metadata": {},
     "output_type": "execute_result"
    }
   ],
   "source": [
    "edf.dtypes"
   ]
  },
  {
   "cell_type": "markdown",
   "metadata": {},
   "source": [
    "### 4. 일단 분석"
   ]
  },
  {
   "cell_type": "markdown",
   "metadata": {},
   "source": [
    "#### 1) 회귀분석"
   ]
  },
  {
   "cell_type": "code",
   "execution_count": 6,
   "metadata": {},
   "outputs": [
    {
     "name": "stdout",
     "output_type": "stream",
     "text": [
      "                            OLS Regression Results                            \n",
      "==============================================================================\n",
      "Dep. Variable:                  price   R-squared:                       0.859\n",
      "Model:                            OLS   Adj. R-squared:                  0.859\n",
      "Method:                 Least Squares   F-statistic:                 5.486e+04\n",
      "Date:                Thu, 10 Aug 2023   Prob (F-statistic):               0.00\n",
      "Time:                        11:25:47   Log-Likelihood:            -4.7090e+05\n",
      "No. Observations:               53940   AIC:                         9.418e+05\n",
      "Df Residuals:                   53933   BIC:                         9.419e+05\n",
      "Df Model:                           6                                         \n",
      "Covariance Type:            nonrobust                                         \n",
      "==============================================================================\n",
      "                 coef    std err          t      P>|t|      [0.025      0.975]\n",
      "------------------------------------------------------------------------------\n",
      "Intercept   2.085e+04    447.562     46.584      0.000       2e+04    2.17e+04\n",
      "carat       1.069e+04     63.201    169.085      0.000    1.06e+04    1.08e+04\n",
      "depth       -203.1541      5.504    -36.910      0.000    -213.942    -192.366\n",
      "table       -102.4457      3.084    -33.216      0.000    -108.491     -96.401\n",
      "x          -1315.6678     43.070    -30.547      0.000   -1400.086   -1231.250\n",
      "y             66.3216     25.523      2.599      0.009      16.296     116.347\n",
      "z             41.6277     44.305      0.940      0.347     -45.210     128.465\n",
      "==============================================================================\n",
      "Omnibus:                    14093.399   Durbin-Watson:                   1.249\n",
      "Prob(Omnibus):                  0.000   Jarque-Bera (JB):           373568.966\n",
      "Skew:                           0.674   Prob(JB):                         0.00\n",
      "Kurtosis:                      15.822   Cond. No.                     5.91e+03\n",
      "==============================================================================\n",
      "\n",
      "Notes:\n",
      "[1] Standard Errors assume that the covariance matrix of the errors is correctly specified.\n",
      "[2] The condition number is large, 5.91e+03. This might indicate that there are\n",
      "strong multicollinearity or other numerical problems.\n"
     ]
    }
   ],
   "source": [
    "# 회귀분석에서는 범주형 데이터는 제외(object 제외)\n",
    "tmp = edf.filter(['carat', 'depth', 'table', 'x', 'y', 'z', 'price'])\n",
    "\n",
    "ols_result = helper.myOls(tmp, y='price', x=['carat', 'depth', 'table', 'x', 'y', 'z'])\n",
    "print(ols_result.summary)"
   ]
  },
  {
   "cell_type": "markdown",
   "metadata": {},
   "source": [
    "#### 결과보고"
   ]
  },
  {
   "cell_type": "code",
   "execution_count": 7,
   "metadata": {},
   "outputs": [
    {
     "name": "stdout",
     "output_type": "stream",
     "text": [
      "𝑅(0.859), 𝑅^2(0.859), 𝐹(5.486e+04), 유의확률(0.00), Durbin-Watson(1.249)\n",
      "\n",
      "price에 대하여 carat,depth,table,x,y,z로 예측하는 회귀분석을 실시한 결과, 이 회귀모형은 통계적으로 유의하다(F(6,53933) = 5.486e+04, p < 0.05).\n",
      "\n",
      "carat의 회귀계수는 1.069e+04(p<0.05)로, price에 대하여 유의미한 예측변인인 것으로 나타났다.\n",
      "depth의 회귀계수는 -203.1541(p<0.05)로, price에 대하여 유의미한 예측변인인 것으로 나타났다.\n",
      "table의 회귀계수는 -102.4457(p<0.05)로, price에 대하여 유의미한 예측변인인 것으로 나타났다.\n",
      "x의 회귀계수는 -1315.6678(p<0.05)로, price에 대하여 유의미한 예측변인인 것으로 나타났다.\n",
      "y의 회귀계수는 66.3216(p<0.05)로, price에 대하여 유의미한 예측변인인 것으로 나타났다.\n",
      "z의 회귀계수는 41.6277(p>0.05)로, price에 대하여 유의하지 않은 예측변인인 것으로 나타났다.\n"
     ]
    }
   ],
   "source": [
    "ols_result.table\n",
    "\n",
    "print(ols_result.result, end=\"\\n\\n\")\n",
    "print(ols_result.goodness, end=\"\\n\\n\")\n",
    "\n",
    "for i in ols_result.varstr:\n",
    "    print(i)"
   ]
  },
  {
   "cell_type": "markdown",
   "metadata": {},
   "source": [
    "#### 3) 잔차분석\n",
    "\n",
    "R-squared가 높아도 유의미성과 신뢰성을 확신할 수 없기 때문"
   ]
  },
  {
   "cell_type": "markdown",
   "metadata": {},
   "source": [
    "##### 결과치 생성"
   ]
  },
  {
   "cell_type": "code",
   "execution_count": 8,
   "metadata": {},
   "outputs": [
    {
     "data": {
      "text/html": [
       "<div>\n",
       "<style scoped>\n",
       "    .dataframe tbody tr th:only-of-type {\n",
       "        vertical-align: middle;\n",
       "    }\n",
       "\n",
       "    .dataframe tbody tr th {\n",
       "        vertical-align: top;\n",
       "    }\n",
       "\n",
       "    .dataframe thead th {\n",
       "        text-align: right;\n",
       "    }\n",
       "</style>\n",
       "<table border=\"1\" class=\"dataframe\">\n",
       "  <thead>\n",
       "    <tr style=\"text-align: right;\">\n",
       "      <th></th>\n",
       "      <th>관측값</th>\n",
       "      <th>예측값</th>\n",
       "      <th>잔차</th>\n",
       "      <th>zscore</th>\n",
       "    </tr>\n",
       "  </thead>\n",
       "  <tbody>\n",
       "    <tr>\n",
       "      <th>0</th>\n",
       "      <td>326</td>\n",
       "      <td>346.909718</td>\n",
       "      <td>-20.909718</td>\n",
       "      <td>-0.969700</td>\n",
       "    </tr>\n",
       "    <tr>\n",
       "      <th>1</th>\n",
       "      <td>326</td>\n",
       "      <td>-71.468765</td>\n",
       "      <td>397.468765</td>\n",
       "      <td>-1.082838</td>\n",
       "    </tr>\n",
       "    <tr>\n",
       "      <th>2</th>\n",
       "      <td>327</td>\n",
       "      <td>126.368674</td>\n",
       "      <td>200.631326</td>\n",
       "      <td>-1.029339</td>\n",
       "    </tr>\n",
       "    <tr>\n",
       "      <th>3</th>\n",
       "      <td>334</td>\n",
       "      <td>193.901639</td>\n",
       "      <td>140.098361</td>\n",
       "      <td>-1.011076</td>\n",
       "    </tr>\n",
       "    <tr>\n",
       "      <th>4</th>\n",
       "      <td>335</td>\n",
       "      <td>53.549591</td>\n",
       "      <td>281.450409</td>\n",
       "      <td>-1.049030</td>\n",
       "    </tr>\n",
       "    <tr>\n",
       "      <th>...</th>\n",
       "      <td>...</td>\n",
       "      <td>...</td>\n",
       "      <td>...</td>\n",
       "      <td>...</td>\n",
       "    </tr>\n",
       "    <tr>\n",
       "      <th>53935</th>\n",
       "      <td>2757</td>\n",
       "      <td>3314.909673</td>\n",
       "      <td>-557.909673</td>\n",
       "      <td>-0.167090</td>\n",
       "    </tr>\n",
       "    <tr>\n",
       "      <th>53936</th>\n",
       "      <td>2757</td>\n",
       "      <td>3135.402558</td>\n",
       "      <td>-378.402558</td>\n",
       "      <td>-0.215633</td>\n",
       "    </tr>\n",
       "    <tr>\n",
       "      <th>53937</th>\n",
       "      <td>2757</td>\n",
       "      <td>2503.140469</td>\n",
       "      <td>253.859531</td>\n",
       "      <td>-0.386610</td>\n",
       "    </tr>\n",
       "    <tr>\n",
       "      <th>53938</th>\n",
       "      <td>2757</td>\n",
       "      <td>4175.515769</td>\n",
       "      <td>-1418.515769</td>\n",
       "      <td>0.065635</td>\n",
       "    </tr>\n",
       "    <tr>\n",
       "      <th>53939</th>\n",
       "      <td>2757</td>\n",
       "      <td>3463.844403</td>\n",
       "      <td>-706.844403</td>\n",
       "      <td>-0.126815</td>\n",
       "    </tr>\n",
       "  </tbody>\n",
       "</table>\n",
       "<p>53940 rows × 4 columns</p>\n",
       "</div>"
      ],
      "text/plain": [
       "        관측값          예측값           잔차    zscore\n",
       "0       326   346.909718   -20.909718 -0.969700\n",
       "1       326   -71.468765   397.468765 -1.082838\n",
       "2       327   126.368674   200.631326 -1.029339\n",
       "3       334   193.901639   140.098361 -1.011076\n",
       "4       335    53.549591   281.450409 -1.049030\n",
       "...     ...          ...          ...       ...\n",
       "53935  2757  3314.909673  -557.909673 -0.167090\n",
       "53936  2757  3135.402558  -378.402558 -0.215633\n",
       "53937  2757  2503.140469   253.859531 -0.386610\n",
       "53938  2757  4175.515769 -1418.515769  0.065635\n",
       "53939  2757  3463.844403  -706.844403 -0.126815\n",
       "\n",
       "[53940 rows x 4 columns]"
      ]
     },
     "execution_count": 8,
     "metadata": {},
     "output_type": "execute_result"
    }
   ],
   "source": [
    "sdf = DataFrame({\n",
    "    \"관측값\": edf['price'],\n",
    "    \"예측값\": ols_result.fit.fittedvalues,\n",
    "    \"잔차\": ols_result.fit.resid,\n",
    "    \"zscore\": stats.zscore(ols_result.fit.fittedvalues)\n",
    "})\n",
    "\n",
    "sdf"
   ]
  },
  {
   "cell_type": "markdown",
   "metadata": {},
   "source": [
    "#### 잔차의 정규성"
   ]
  },
  {
   "cell_type": "markdown",
   "metadata": {},
   "source": [
    "##### Q-Q Plot"
   ]
  },
  {
   "cell_type": "code",
   "execution_count": 9,
   "metadata": {},
   "outputs": [
    {
     "data": {
      "image/png": "[encoded data removed]",
      "text/plain": [
       "<Figure size 1000x500 with 1 Axes>"
      ]
     },
     "metadata": {},
     "output_type": "display_data"
    }
   ],
   "source": [
    "(x,y), _ = stats.probplot(sdf['zscore'])\n",
    "\n",
    "plt.figure(figsize=(10, 5))\n",
    "sb.scatterplot(x=x, y=y)\n",
    "sb.lineplot(x=[-3, 3], y=[-3, 3], color='red', linestyle='--')\n",
    "plt.show()\n",
    "plt.close()"
   ]
  },
  {
   "cell_type": "markdown",
   "metadata": {},
   "source": [
    "##### 정규성 판단을 위한 Kolmogorov Smirnov 검정\n",
    "\n",
    "표본 수가 50개 이상인 경우 사용\n",
    "\n",
    "샤피로 검정은 50개 미만"
   ]
  },
  {
   "cell_type": "code",
   "execution_count": 10,
   "metadata": {},
   "outputs": [
    {
     "name": "stdout",
     "output_type": "stream",
     "text": [
      "Kolmogorov Smirnov Test: (통계량, p-value) =  (0.5298424160387368, 0.0)\n",
      "잔차는 정규 분포를 따르지 않습니다. (귀무가설 기각)\n"
     ]
    }
   ],
   "source": [
    "s, p = stats.kstest(sdf['잔차'], 'norm')\n",
    "print(\"Kolmogorov Smirnov Test: (통계량, p-value) = \", (s, p))\n",
    "\n",
    "if p > 0.05:\n",
    "    print(\"잔차는 정규 분포를 따릅니다. (귀무가설 채택)\")\n",
    "else:\n",
    "    print(\"잔차는 정규 분포를 따르지 않습니다. (귀무가설 기각)\")"
   ]
  },
  {
   "cell_type": "markdown",
   "metadata": {},
   "source": [
    "#### 잔차의 등분산성 (브로이슈 패건 검정)"
   ]
  },
  {
   "cell_type": "code",
   "execution_count": 11,
   "metadata": {},
   "outputs": [
    {
     "data": {
      "text/html": [
       "<div>\n",
       "<style scoped>\n",
       "    .dataframe tbody tr th:only-of-type {\n",
       "        vertical-align: middle;\n",
       "    }\n",
       "\n",
       "    .dataframe tbody tr th {\n",
       "        vertical-align: top;\n",
       "    }\n",
       "\n",
       "    .dataframe thead th {\n",
       "        text-align: right;\n",
       "    }\n",
       "</style>\n",
       "<table border=\"1\" class=\"dataframe\">\n",
       "  <thead>\n",
       "    <tr style=\"text-align: right;\">\n",
       "      <th></th>\n",
       "      <th>0</th>\n",
       "    </tr>\n",
       "  </thead>\n",
       "  <tbody>\n",
       "    <tr>\n",
       "      <th>Lagrange multiplier statistic</th>\n",
       "      <td>9934.176446</td>\n",
       "    </tr>\n",
       "    <tr>\n",
       "      <th>p-value</th>\n",
       "      <td>0.000000</td>\n",
       "    </tr>\n",
       "    <tr>\n",
       "      <th>f-value</th>\n",
       "      <td>2029.200891</td>\n",
       "    </tr>\n",
       "    <tr>\n",
       "      <th>f p-value</th>\n",
       "      <td>0.000000</td>\n",
       "    </tr>\n",
       "  </tbody>\n",
       "</table>\n",
       "</div>"
      ],
      "text/plain": [
       "                                         0\n",
       "Lagrange multiplier statistic  9934.176446\n",
       "p-value                           0.000000\n",
       "f-value                        2029.200891\n",
       "f p-value                         0.000000"
      ]
     },
     "execution_count": 11,
     "metadata": {},
     "output_type": "execute_result"
    }
   ],
   "source": [
    "names = ['Lagrange multiplier statistic', 'p-value', 'f-value', 'f p-value']\n",
    "test_result = het_breuschpagan(ols_result.fit.resid, ols_result.fit.model.exog)\n",
    "DataFrame(test_result, index=names)"
   ]
  },
  {
   "cell_type": "markdown",
   "metadata": {},
   "source": [
    "### 4. 범주형 타입 변환\n",
    "\n",
    "describe 진행 시 제외용"
   ]
  },
  {
   "cell_type": "markdown",
   "metadata": {},
   "source": [
    "#### 1) 순서 있는 범주형 설정"
   ]
  },
  {
   "cell_type": "code",
   "execution_count": 12,
   "metadata": {},
   "outputs": [
    {
     "data": {
      "text/plain": [
       "carat       float64\n",
       "cut        category\n",
       "color        object\n",
       "clarity      object\n",
       "depth       float64\n",
       "table       float64\n",
       "price         int64\n",
       "x           float64\n",
       "y           float64\n",
       "z           float64\n",
       "dtype: object"
      ]
     },
     "execution_count": 12,
     "metadata": {},
     "output_type": "execute_result"
    }
   ],
   "source": [
    "ctype = CategoricalDtype(categories=[\"Fair\", \"Good\", \"Very Good\", \"Premium\", \"Ideal\"], ordered=True)\n",
    "\n",
    "edf['cut'] = edf['cut'].astype(ctype)\n",
    "edf.dtypes"
   ]
  },
  {
   "cell_type": "markdown",
   "metadata": {},
   "source": [
    "#### 2) 순서 없는 범주형 설정"
   ]
  },
  {
   "cell_type": "code",
   "execution_count": 13,
   "metadata": {},
   "outputs": [
    {
     "data": {
      "text/plain": [
       "carat       float64\n",
       "cut        category\n",
       "color      category\n",
       "clarity    category\n",
       "depth       float64\n",
       "table       float64\n",
       "price         int64\n",
       "x           float64\n",
       "y           float64\n",
       "z           float64\n",
       "dtype: object"
      ]
     },
     "execution_count": 13,
     "metadata": {},
     "output_type": "execute_result"
    }
   ],
   "source": [
    "edf['color'] = edf['color'].astype('category')\n",
    "edf['clarity'] = edf['clarity'].astype('category')\n",
    "edf.dtypes"
   ]
  },
  {
   "cell_type": "markdown",
   "metadata": {},
   "source": [
    "## #03. 요인선정을 위한 탐색적 데이터 분석"
   ]
  },
  {
   "cell_type": "markdown",
   "metadata": {},
   "source": [
    "### 1. 수치형 변수"
   ]
  },
  {
   "cell_type": "markdown",
   "metadata": {},
   "source": [
    "#### 1) 기초 통계량 확인\n",
    "\n",
    "범주형 데이터는 자동으로 제외된다."
   ]
  },
  {
   "cell_type": "code",
   "execution_count": 14,
   "metadata": {},
   "outputs": [
    {
     "data": {
      "text/html": [
       "<div>\n",
       "<style scoped>\n",
       "    .dataframe tbody tr th:only-of-type {\n",
       "        vertical-align: middle;\n",
       "    }\n",
       "\n",
       "    .dataframe tbody tr th {\n",
       "        vertical-align: top;\n",
       "    }\n",
       "\n",
       "    .dataframe thead th {\n",
       "        text-align: right;\n",
       "    }\n",
       "</style>\n",
       "<table border=\"1\" class=\"dataframe\">\n",
       "  <thead>\n",
       "    <tr style=\"text-align: right;\">\n",
       "      <th></th>\n",
       "      <th>carat</th>\n",
       "      <th>depth</th>\n",
       "      <th>table</th>\n",
       "      <th>price</th>\n",
       "      <th>x</th>\n",
       "      <th>y</th>\n",
       "      <th>z</th>\n",
       "    </tr>\n",
       "  </thead>\n",
       "  <tbody>\n",
       "    <tr>\n",
       "      <th>count</th>\n",
       "      <td>53940.000000</td>\n",
       "      <td>53940.000000</td>\n",
       "      <td>53940.000000</td>\n",
       "      <td>53940.000000</td>\n",
       "      <td>53940.000000</td>\n",
       "      <td>53940.000000</td>\n",
       "      <td>53940.000000</td>\n",
       "    </tr>\n",
       "    <tr>\n",
       "      <th>mean</th>\n",
       "      <td>0.797940</td>\n",
       "      <td>61.749405</td>\n",
       "      <td>57.457184</td>\n",
       "      <td>3932.799722</td>\n",
       "      <td>5.731157</td>\n",
       "      <td>5.734526</td>\n",
       "      <td>3.538734</td>\n",
       "    </tr>\n",
       "    <tr>\n",
       "      <th>std</th>\n",
       "      <td>0.474011</td>\n",
       "      <td>1.432621</td>\n",
       "      <td>2.234491</td>\n",
       "      <td>3989.439738</td>\n",
       "      <td>1.121761</td>\n",
       "      <td>1.142135</td>\n",
       "      <td>0.705699</td>\n",
       "    </tr>\n",
       "    <tr>\n",
       "      <th>min</th>\n",
       "      <td>0.200000</td>\n",
       "      <td>43.000000</td>\n",
       "      <td>43.000000</td>\n",
       "      <td>326.000000</td>\n",
       "      <td>0.000000</td>\n",
       "      <td>0.000000</td>\n",
       "      <td>0.000000</td>\n",
       "    </tr>\n",
       "    <tr>\n",
       "      <th>25%</th>\n",
       "      <td>0.400000</td>\n",
       "      <td>61.000000</td>\n",
       "      <td>56.000000</td>\n",
       "      <td>950.000000</td>\n",
       "      <td>4.710000</td>\n",
       "      <td>4.720000</td>\n",
       "      <td>2.910000</td>\n",
       "    </tr>\n",
       "    <tr>\n",
       "      <th>50%</th>\n",
       "      <td>0.700000</td>\n",
       "      <td>61.800000</td>\n",
       "      <td>57.000000</td>\n",
       "      <td>2401.000000</td>\n",
       "      <td>5.700000</td>\n",
       "      <td>5.710000</td>\n",
       "      <td>3.530000</td>\n",
       "    </tr>\n",
       "    <tr>\n",
       "      <th>75%</th>\n",
       "      <td>1.040000</td>\n",
       "      <td>62.500000</td>\n",
       "      <td>59.000000</td>\n",
       "      <td>5324.250000</td>\n",
       "      <td>6.540000</td>\n",
       "      <td>6.540000</td>\n",
       "      <td>4.040000</td>\n",
       "    </tr>\n",
       "    <tr>\n",
       "      <th>max</th>\n",
       "      <td>5.010000</td>\n",
       "      <td>79.000000</td>\n",
       "      <td>95.000000</td>\n",
       "      <td>18823.000000</td>\n",
       "      <td>10.740000</td>\n",
       "      <td>58.900000</td>\n",
       "      <td>31.800000</td>\n",
       "    </tr>\n",
       "  </tbody>\n",
       "</table>\n",
       "</div>"
      ],
      "text/plain": [
       "              carat         depth         table         price             x  \\\n",
       "count  53940.000000  53940.000000  53940.000000  53940.000000  53940.000000   \n",
       "mean       0.797940     61.749405     57.457184   3932.799722      5.731157   \n",
       "std        0.474011      1.432621      2.234491   3989.439738      1.121761   \n",
       "min        0.200000     43.000000     43.000000    326.000000      0.000000   \n",
       "25%        0.400000     61.000000     56.000000    950.000000      4.710000   \n",
       "50%        0.700000     61.800000     57.000000   2401.000000      5.700000   \n",
       "75%        1.040000     62.500000     59.000000   5324.250000      6.540000   \n",
       "max        5.010000     79.000000     95.000000  18823.000000     10.740000   \n",
       "\n",
       "                  y             z  \n",
       "count  53940.000000  53940.000000  \n",
       "mean       5.734526      3.538734  \n",
       "std        1.142135      0.705699  \n",
       "min        0.000000      0.000000  \n",
       "25%        4.720000      2.910000  \n",
       "50%        5.710000      3.530000  \n",
       "75%        6.540000      4.040000  \n",
       "max       58.900000     31.800000  "
      ]
     },
     "execution_count": 14,
     "metadata": {},
     "output_type": "execute_result"
    }
   ],
   "source": [
    "desc = edf.describe()\n",
    "desc"
   ]
  },
  {
   "cell_type": "markdown",
   "metadata": {},
   "source": [
    "#### 2) 상자그림 확인\n",
    "\n",
    "일괄처리 - 범주형 변수는 자동으로 제외된다.\n",
    "\n",
    "종속변수인 가격(price)를 제외하고는 비슷한 범위를 갖고 있으므로 표준화는 불필요한 것으로 판단"
   ]
  },
  {
   "cell_type": "code",
   "execution_count": 15,
   "metadata": {},
   "outputs": [
    {
     "data": {
      "image/png": "[encoded data removed]",
      "text/plain": [
       "<Figure size 640x480 with 1 Axes>"
      ]
     },
     "metadata": {},
     "output_type": "display_data"
    }
   ],
   "source": [
    "plt.figure()\n",
    "sb.boxplot(data=edf)\n",
    "plt.grid()\n",
    "plt.show()\n",
    "plt.close()"
   ]
  },
  {
   "cell_type": "markdown",
   "metadata": {},
   "source": [
    "##### 개별 컬럼에 대한 상자그림\n",
    "\n",
    "`범주형을 제외하고 처리`해야 하므로 `desribe()` 함수의 결과로 생성된 데이터프레임의 컬럼명에 대해서만 처리한다.\n",
    "\n",
    "이상치가 다수 관측되지만 실제 데이터인 것으로 판단하고 정제하지 않기로 함"
   ]
  },
  {
   "cell_type": "code",
   "execution_count": 16,
   "metadata": {},
   "outputs": [
    {
     "data": {
      "image/png": "[encoded data removed]",
      "text/plain": [
       "<Figure size 2000x1200 with 9 Axes>"
      ]
     },
     "metadata": {},
     "output_type": "display_data"
    }
   ],
   "source": [
    "fig, ax = plt.subplots(3,3, figsize=(20,12))\n",
    "rows = len(ax)\n",
    "cols = len(ax[0])\n",
    "\n",
    "for i in range(0, rows):\n",
    "    for j in range(0, cols):\n",
    "        idx = i*cols+j\n",
    "        # print(\"idx=%d, i=%d, j=%d\"%(idx,i,j))\n",
    "        sb.boxplot(edf, y=desc.columns[idx], ax=ax[i][j])\n",
    "\n",
    "        if idx+1 == len(desc.columns):\n",
    "            break\n",
    "plt.show()\n",
    "plt.close()"
   ]
  },
  {
   "cell_type": "markdown",
   "metadata": {},
   "source": [
    "#### 3) 산점도 행렬 확인\n",
    "\n",
    "요인간의 `자기상관관계를 확인`하기 위해 `산점도 행렬을 확인`한다."
   ]
  },
  {
   "cell_type": "markdown",
   "metadata": {},
   "source": [
    "##### 범주형이 아닌 컬럼이름만 추출"
   ]
  },
  {
   "cell_type": "code",
   "execution_count": 17,
   "metadata": {},
   "outputs": [
    {
     "name": "stdout",
     "output_type": "stream",
     "text": [
      "carat float64\n",
      "depth float64\n",
      "table float64\n",
      "price int64\n",
      "x float64\n",
      "y float64\n",
      "z float64\n",
      "['carat', 'depth', 'table', 'price', 'x', 'y', 'z']\n"
     ]
    }
   ],
   "source": [
    "cnames = []\n",
    "dtypes = edf.dtypes\n",
    "\n",
    "for i,v in enumerate(dtypes):\n",
    "    if v != 'category':\n",
    "        print(dtypes.index[i], dtypes[i])\n",
    "        cnames.append(dtypes.index[i])\n",
    "\n",
    "print(cnames)"
   ]
  },
  {
   "cell_type": "markdown",
   "metadata": {},
   "source": [
    "##### 추출한 필드에 대한 산점도 행렬\n",
    "\n",
    "> 시간이 오래 걸림.\n",
    "\n",
    "일부 요인들 간에 상관관계가 발견된다."
   ]
  },
  {
   "cell_type": "code",
   "execution_count": 18,
   "metadata": {},
   "outputs": [],
   "source": [
    "# plt.figure(figsize=(30, 20))\n",
    "# sb.pairplot(data=edf, vars=cnames, kind='reg')\n",
    "# plt.show()\n",
    "# plt.close()"
   ]
  },
  {
   "cell_type": "markdown",
   "metadata": {},
   "source": [
    "#### 4) PCA 분석\n",
    "\n",
    "`회귀분석에 필요한 요인들을 선정`하기 위해 `주성분 분석을 수행`한다."
   ]
  },
  {
   "cell_type": "markdown",
   "metadata": {},
   "source": [
    "##### 데이터 표준화\n",
    "\n",
    "범주형은 PCA를 수행할 수 없기 때문에 `edf`에서 `수치형 변수만 추출하여 처리`한다.\n",
    "\n",
    "`종속 변수`인 가격은 `제외하고 진행`한다."
   ]
  },
  {
   "cell_type": "code",
   "execution_count": 19,
   "metadata": {},
   "outputs": [
    {
     "data": {
      "text/html": [
       "<div>\n",
       "<style scoped>\n",
       "    .dataframe tbody tr th:only-of-type {\n",
       "        vertical-align: middle;\n",
       "    }\n",
       "\n",
       "    .dataframe tbody tr th {\n",
       "        vertical-align: top;\n",
       "    }\n",
       "\n",
       "    .dataframe thead th {\n",
       "        text-align: right;\n",
       "    }\n",
       "</style>\n",
       "<table border=\"1\" class=\"dataframe\">\n",
       "  <thead>\n",
       "    <tr style=\"text-align: right;\">\n",
       "      <th></th>\n",
       "      <th>carat</th>\n",
       "      <th>depth</th>\n",
       "      <th>table</th>\n",
       "      <th>x</th>\n",
       "      <th>y</th>\n",
       "      <th>z</th>\n",
       "    </tr>\n",
       "  </thead>\n",
       "  <tbody>\n",
       "    <tr>\n",
       "      <th>0</th>\n",
       "      <td>-1.198168</td>\n",
       "      <td>-0.174092</td>\n",
       "      <td>-1.099672</td>\n",
       "      <td>-1.587837</td>\n",
       "      <td>-1.536196</td>\n",
       "      <td>-1.571129</td>\n",
       "    </tr>\n",
       "    <tr>\n",
       "      <th>1</th>\n",
       "      <td>-1.240361</td>\n",
       "      <td>-1.360738</td>\n",
       "      <td>1.585529</td>\n",
       "      <td>-1.641325</td>\n",
       "      <td>-1.658774</td>\n",
       "      <td>-1.741175</td>\n",
       "    </tr>\n",
       "    <tr>\n",
       "      <th>2</th>\n",
       "      <td>-1.198168</td>\n",
       "      <td>-3.385019</td>\n",
       "      <td>3.375663</td>\n",
       "      <td>-1.498691</td>\n",
       "      <td>-1.457395</td>\n",
       "      <td>-1.741175</td>\n",
       "    </tr>\n",
       "    <tr>\n",
       "      <th>3</th>\n",
       "      <td>-1.071587</td>\n",
       "      <td>0.454133</td>\n",
       "      <td>0.242928</td>\n",
       "      <td>-1.364971</td>\n",
       "      <td>-1.317305</td>\n",
       "      <td>-1.287720</td>\n",
       "    </tr>\n",
       "    <tr>\n",
       "      <th>4</th>\n",
       "      <td>-1.029394</td>\n",
       "      <td>1.082358</td>\n",
       "      <td>0.242928</td>\n",
       "      <td>-1.240167</td>\n",
       "      <td>-1.212238</td>\n",
       "      <td>-1.117674</td>\n",
       "    </tr>\n",
       "    <tr>\n",
       "      <th>...</th>\n",
       "      <td>...</td>\n",
       "      <td>...</td>\n",
       "      <td>...</td>\n",
       "      <td>...</td>\n",
       "      <td>...</td>\n",
       "      <td>...</td>\n",
       "    </tr>\n",
       "    <tr>\n",
       "      <th>53935</th>\n",
       "      <td>-0.164427</td>\n",
       "      <td>-0.662711</td>\n",
       "      <td>-0.204605</td>\n",
       "      <td>0.016798</td>\n",
       "      <td>0.022304</td>\n",
       "      <td>-0.054888</td>\n",
       "    </tr>\n",
       "    <tr>\n",
       "      <th>53936</th>\n",
       "      <td>-0.164427</td>\n",
       "      <td>0.942753</td>\n",
       "      <td>-1.099672</td>\n",
       "      <td>-0.036690</td>\n",
       "      <td>0.013548</td>\n",
       "      <td>0.100988</td>\n",
       "    </tr>\n",
       "    <tr>\n",
       "      <th>53937</th>\n",
       "      <td>-0.206621</td>\n",
       "      <td>0.733344</td>\n",
       "      <td>1.137995</td>\n",
       "      <td>-0.063434</td>\n",
       "      <td>-0.047741</td>\n",
       "      <td>0.030135</td>\n",
       "    </tr>\n",
       "    <tr>\n",
       "      <th>53938</th>\n",
       "      <td>0.130927</td>\n",
       "      <td>-0.523105</td>\n",
       "      <td>0.242928</td>\n",
       "      <td>0.373383</td>\n",
       "      <td>0.337506</td>\n",
       "      <td>0.285204</td>\n",
       "    </tr>\n",
       "    <tr>\n",
       "      <th>53939</th>\n",
       "      <td>-0.101137</td>\n",
       "      <td>0.314528</td>\n",
       "      <td>-1.099672</td>\n",
       "      <td>0.088115</td>\n",
       "      <td>0.118616</td>\n",
       "      <td>0.143499</td>\n",
       "    </tr>\n",
       "  </tbody>\n",
       "</table>\n",
       "<p>53940 rows × 6 columns</p>\n",
       "</div>"
      ],
      "text/plain": [
       "          carat     depth     table         x         y         z\n",
       "0     -1.198168 -0.174092 -1.099672 -1.587837 -1.536196 -1.571129\n",
       "1     -1.240361 -1.360738  1.585529 -1.641325 -1.658774 -1.741175\n",
       "2     -1.198168 -3.385019  3.375663 -1.498691 -1.457395 -1.741175\n",
       "3     -1.071587  0.454133  0.242928 -1.364971 -1.317305 -1.287720\n",
       "4     -1.029394  1.082358  0.242928 -1.240167 -1.212238 -1.117674\n",
       "...         ...       ...       ...       ...       ...       ...\n",
       "53935 -0.164427 -0.662711 -0.204605  0.016798  0.022304 -0.054888\n",
       "53936 -0.164427  0.942753 -1.099672 -0.036690  0.013548  0.100988\n",
       "53937 -0.206621  0.733344  1.137995 -0.063434 -0.047741  0.030135\n",
       "53938  0.130927 -0.523105  0.242928  0.373383  0.337506  0.285204\n",
       "53939 -0.101137  0.314528 -1.099672  0.088115  0.118616  0.143499\n",
       "\n",
       "[53940 rows x 6 columns]"
      ]
     },
     "execution_count": 19,
     "metadata": {},
     "output_type": "execute_result"
    }
   ],
   "source": [
    "x_train_std_df, y_train_std_df = helper.scalling(edf[cnames], 'price')\n",
    "x_train_std_df"
   ]
  },
  {
   "cell_type": "markdown",
   "metadata": {},
   "source": [
    "##### PCA"
   ]
  },
  {
   "cell_type": "code",
   "execution_count": 20,
   "metadata": {},
   "outputs": [
    {
     "name": "stdout",
     "output_type": "stream",
     "text": [
      "[pca] >Extracting column labels from dataframe.\n",
      "[pca] >Extracting row labels from dataframe.\n",
      "[pca] >The PCA reduction is performed to capture [95.0%] explained variance using the [6] columns of the input data.\n",
      "[pca] >Fit using PCA.\n",
      "[pca] >Compute loadings and PCs.\n",
      "[pca] >Compute explained variance.\n",
      "[pca] >Number of components is [3] that covers the [95.00%] explained variance.\n",
      "[pca] >The PCA reduction is performed on the [6] columns of the input dataframe.\n",
      "[pca] >Fit using PCA.\n",
      "[pca] >Compute loadings and PCs.\n",
      "[pca] >Outlier detection using Hotelling T2 test with alpha=[0.05] and n_components=[3]\n"
     ]
    },
    {
     "name": "stdout",
     "output_type": "stream",
     "text": [
      "[pca] >Multiple test correction applied for Hotelling T2 test: [fdr_bh]\n",
      "[pca] >Outlier detection using SPE/DmodX with n_std=[3]\n"
     ]
    },
    {
     "data": {
      "text/html": [
       "<div>\n",
       "<style scoped>\n",
       "    .dataframe tbody tr th:only-of-type {\n",
       "        vertical-align: middle;\n",
       "    }\n",
       "\n",
       "    .dataframe tbody tr th {\n",
       "        vertical-align: top;\n",
       "    }\n",
       "\n",
       "    .dataframe thead th {\n",
       "        text-align: right;\n",
       "    }\n",
       "</style>\n",
       "<table border=\"1\" class=\"dataframe\">\n",
       "  <thead>\n",
       "    <tr style=\"text-align: right;\">\n",
       "      <th></th>\n",
       "      <th>PC</th>\n",
       "      <th>feature</th>\n",
       "      <th>loading</th>\n",
       "      <th>type</th>\n",
       "    </tr>\n",
       "  </thead>\n",
       "  <tbody>\n",
       "    <tr>\n",
       "      <th>0</th>\n",
       "      <td>PC1</td>\n",
       "      <td>x</td>\n",
       "      <td>0.500910</td>\n",
       "      <td>best</td>\n",
       "    </tr>\n",
       "    <tr>\n",
       "      <th>1</th>\n",
       "      <td>PC2</td>\n",
       "      <td>depth</td>\n",
       "      <td>-0.734082</td>\n",
       "      <td>best</td>\n",
       "    </tr>\n",
       "    <tr>\n",
       "      <th>2</th>\n",
       "      <td>PC3</td>\n",
       "      <td>table</td>\n",
       "      <td>0.732523</td>\n",
       "      <td>best</td>\n",
       "    </tr>\n",
       "    <tr>\n",
       "      <th>3</th>\n",
       "      <td>PC1</td>\n",
       "      <td>carat</td>\n",
       "      <td>0.495367</td>\n",
       "      <td>weak</td>\n",
       "    </tr>\n",
       "    <tr>\n",
       "      <th>4</th>\n",
       "      <td>PC1</td>\n",
       "      <td>y</td>\n",
       "      <td>0.495218</td>\n",
       "      <td>weak</td>\n",
       "    </tr>\n",
       "    <tr>\n",
       "      <th>5</th>\n",
       "      <td>PC1</td>\n",
       "      <td>z</td>\n",
       "      <td>0.493882</td>\n",
       "      <td>weak</td>\n",
       "    </tr>\n",
       "  </tbody>\n",
       "</table>\n",
       "</div>"
      ],
      "text/plain": [
       "    PC feature   loading  type\n",
       "0  PC1       x  0.500910  best\n",
       "1  PC2   depth -0.734082  best\n",
       "2  PC3   table  0.732523  best\n",
       "3  PC1   carat  0.495367  weak\n",
       "4  PC1       y  0.495218  weak\n",
       "5  PC1       z  0.493882  weak"
      ]
     },
     "execution_count": 20,
     "metadata": {},
     "output_type": "execute_result"
    }
   ],
   "source": [
    "model = pca()\n",
    "# 표준화 결과를 활용하여 주성분 분석 수행\n",
    "fit = model.fit_transform(x_train_std_df)\n",
    "topfeat = fit['topfeat']\n",
    "topfeat"
   ]
  },
  {
   "cell_type": "markdown",
   "metadata": {},
   "source": [
    "##### 주성분 선정"
   ]
  },
  {
   "cell_type": "code",
   "execution_count": 21,
   "metadata": {},
   "outputs": [
    {
     "data": {
      "text/plain": [
       "['depth', 'table', 'x']"
      ]
     },
     "execution_count": 21,
     "metadata": {},
     "output_type": "execute_result"
    }
   ],
   "source": [
    "best = topfeat.query(\"type=='best'\")\n",
    "best_names = list(set(list(best['feature'])))\n",
    "best_names"
   ]
  },
  {
   "cell_type": "markdown",
   "metadata": {},
   "source": [
    "### 2. 범주형 변수"
   ]
  },
  {
   "cell_type": "markdown",
   "metadata": {},
   "source": [
    "#### 범주형만 추출"
   ]
  },
  {
   "cell_type": "code",
   "execution_count": 22,
   "metadata": {},
   "outputs": [
    {
     "name": "stdout",
     "output_type": "stream",
     "text": [
      "cut category\n",
      "color category\n",
      "clarity category\n",
      "['cut', 'color', 'clarity']\n"
     ]
    }
   ],
   "source": [
    "cnames = []\n",
    "dtypes = edf.dtypes\n",
    "\n",
    "for i, v in enumerate(dtypes):\n",
    "    if v == 'category':\n",
    "        print(dtypes.index[i], dtypes[i])\n",
    "        cnames.append(dtypes.index[i])\n",
    "        \n",
    "print(cnames)"
   ]
  },
  {
   "cell_type": "markdown",
   "metadata": {},
   "source": [
    "#### 범주형 데이터 분포 확인"
   ]
  },
  {
   "cell_type": "code",
   "execution_count": 23,
   "metadata": {},
   "outputs": [
    {
     "data": {
      "image/png": "[encoded data removed]",
      "text/plain": [
       "<Figure size 2500x500 with 3 Axes>"
      ]
     },
     "metadata": {},
     "output_type": "display_data"
    }
   ],
   "source": [
    "fig, ax = plt.subplots(1, len(cnames), figsize=(25,5))\n",
    "\n",
    "for i,v in enumerate(cnames):\n",
    "    vc = DataFrame(edf[v].value_counts(), columns=['count'])\n",
    "    # print(vc)\n",
    "    sb.barplot(data=vc, x=vc.index, y='count', ax=ax[i])\n",
    "    ax[i].set_title(v)\n",
    "    \n",
    "plt.show()\n",
    "plt.close()"
   ]
  },
  {
   "cell_type": "markdown",
   "metadata": {},
   "source": [
    "#### `cut` 변수에 대한 분산분석"
   ]
  },
  {
   "cell_type": "markdown",
   "metadata": {},
   "source": [
    "##### 데이터 타입 확인\n",
    "\n",
    "범주형"
   ]
  },
  {
   "cell_type": "code",
   "execution_count": 24,
   "metadata": {},
   "outputs": [
    {
     "data": {
      "text/plain": [
       "CategoricalDtype(categories=['Fair', 'Good', 'Very Good', 'Premium', 'Ideal'], ordered=True)"
      ]
     },
     "execution_count": 24,
     "metadata": {},
     "output_type": "execute_result"
    }
   ],
   "source": [
    "edf['cut'].dtypes"
   ]
  },
  {
   "cell_type": "markdown",
   "metadata": {},
   "source": [
    "##### 범주형 변수의 종류 추출"
   ]
  },
  {
   "cell_type": "code",
   "execution_count": 25,
   "metadata": {},
   "outputs": [
    {
     "data": {
      "text/plain": [
       "Index(['Fair', 'Good', 'Very Good', 'Premium', 'Ideal'], dtype='object')"
      ]
     },
     "execution_count": 25,
     "metadata": {},
     "output_type": "execute_result"
    }
   ],
   "source": [
    "edf['cut'].dtypes.categories"
   ]
  },
  {
   "cell_type": "markdown",
   "metadata": {},
   "source": [
    "##### 범주형 변수에 대한 라벨링 값 생성"
   ]
  },
  {
   "cell_type": "code",
   "execution_count": 26,
   "metadata": {},
   "outputs": [
    {
     "data": {
      "text/plain": [
       "{'Fair': 0, 'Good': 1, 'Very Good': 2, 'Premium': 3, 'Ideal': 4}"
      ]
     },
     "execution_count": 26,
     "metadata": {},
     "output_type": "execute_result"
    }
   ],
   "source": [
    "mydict = {}\n",
    "\n",
    "for i, v in enumerate(edf['cut'].dtypes.categories):\n",
    "    mydict[v] = i\n",
    "    \n",
    "mydict"
   ]
  },
  {
   "cell_type": "markdown",
   "metadata": {},
   "source": [
    "##### 라벨링 처리"
   ]
  },
  {
   "cell_type": "code",
   "execution_count": 27,
   "metadata": {},
   "outputs": [
    {
     "data": {
      "text/html": [
       "<div>\n",
       "<style scoped>\n",
       "    .dataframe tbody tr th:only-of-type {\n",
       "        vertical-align: middle;\n",
       "    }\n",
       "\n",
       "    .dataframe tbody tr th {\n",
       "        vertical-align: top;\n",
       "    }\n",
       "\n",
       "    .dataframe thead th {\n",
       "        text-align: right;\n",
       "    }\n",
       "</style>\n",
       "<table border=\"1\" class=\"dataframe\">\n",
       "  <thead>\n",
       "    <tr style=\"text-align: right;\">\n",
       "      <th></th>\n",
       "      <th>price</th>\n",
       "      <th>cut</th>\n",
       "    </tr>\n",
       "  </thead>\n",
       "  <tbody>\n",
       "    <tr>\n",
       "      <th>0</th>\n",
       "      <td>326</td>\n",
       "      <td>4</td>\n",
       "    </tr>\n",
       "    <tr>\n",
       "      <th>1</th>\n",
       "      <td>326</td>\n",
       "      <td>3</td>\n",
       "    </tr>\n",
       "    <tr>\n",
       "      <th>2</th>\n",
       "      <td>327</td>\n",
       "      <td>1</td>\n",
       "    </tr>\n",
       "    <tr>\n",
       "      <th>3</th>\n",
       "      <td>334</td>\n",
       "      <td>3</td>\n",
       "    </tr>\n",
       "    <tr>\n",
       "      <th>4</th>\n",
       "      <td>335</td>\n",
       "      <td>1</td>\n",
       "    </tr>\n",
       "    <tr>\n",
       "      <th>...</th>\n",
       "      <td>...</td>\n",
       "      <td>...</td>\n",
       "    </tr>\n",
       "    <tr>\n",
       "      <th>53935</th>\n",
       "      <td>2757</td>\n",
       "      <td>4</td>\n",
       "    </tr>\n",
       "    <tr>\n",
       "      <th>53936</th>\n",
       "      <td>2757</td>\n",
       "      <td>1</td>\n",
       "    </tr>\n",
       "    <tr>\n",
       "      <th>53937</th>\n",
       "      <td>2757</td>\n",
       "      <td>2</td>\n",
       "    </tr>\n",
       "    <tr>\n",
       "      <th>53938</th>\n",
       "      <td>2757</td>\n",
       "      <td>3</td>\n",
       "    </tr>\n",
       "    <tr>\n",
       "      <th>53939</th>\n",
       "      <td>2757</td>\n",
       "      <td>4</td>\n",
       "    </tr>\n",
       "  </tbody>\n",
       "</table>\n",
       "<p>53940 rows × 2 columns</p>\n",
       "</div>"
      ],
      "text/plain": [
       "       price  cut\n",
       "0        326    4\n",
       "1        326    3\n",
       "2        327    1\n",
       "3        334    3\n",
       "4        335    1\n",
       "...      ...  ...\n",
       "53935   2757    4\n",
       "53936   2757    1\n",
       "53937   2757    2\n",
       "53938   2757    3\n",
       "53939   2757    4\n",
       "\n",
       "[53940 rows x 2 columns]"
      ]
     },
     "execution_count": 27,
     "metadata": {},
     "output_type": "execute_result"
    }
   ],
   "source": [
    "tmp_df = edf.filter(['price', 'cut'])\n",
    "tmp_df['cut'] = tmp_df['cut'].map(mydict).astype('int')\n",
    "tmp_df"
   ]
  },
  {
   "cell_type": "markdown",
   "metadata": {},
   "source": [
    "##### 분산분석에 대한 적합성 검정\n",
    "\n",
    "조건을 충족하지 않으므로 이 요인은 제외하는 것으로 결정한다.\n",
    "\n",
    "`정규성, 등분산성, 독립성을 모두 검정`"
   ]
  },
  {
   "cell_type": "code",
   "execution_count": 28,
   "metadata": {},
   "outputs": [
    {
     "name": "stderr",
     "output_type": "stream",
     "text": [
      "c:\\Python311\\Lib\\site-packages\\scipy\\stats\\_morestats.py:1882: UserWarning: p-value may not be accurate for N > 5000.\n",
      "  warnings.warn(\"p-value may not be accurate for N > 5000.\")\n"
     ]
    },
    {
     "name": "stdout",
     "output_type": "stream",
     "text": [
      "+----------+--------------+----------+-------------+-----------+----------+\n",
      "|          | field        | test     |   statistic |   p-value | result   |\n",
      "|----------+--------------+----------+-------------+-----------+----------|\n",
      "| 정규성   | price        | shapiro  |    0.798108 |         0 | False    |\n",
      "| 정규성   | cut          | shapiro  |    0.840702 |         0 | False    |\n",
      "| 정규성   | price        | shapiro  |     15096.6 |         0 | False    |\n",
      "| 정규성   | cut          | shapiro  |     4332.54 |         0 | False    |\n",
      "| 정규성   | price vs cut | ks_2samp |           1 |         0 | False    |\n",
      "| 정규성   | cut vs price | ks_2samp |           1 |         0 | False    |\n",
      "| 등분산성 | price vs cut | Bartlett |      807780 |         0 | False    |\n",
      "| 등분산성 | price vs cut | Fligner  |     67384.1 |         0 | False    |\n",
      "| 등분산성 | price vs cut | Levene   |     40950.1 |         0 | False    |\n",
      "| 독립성   | price vs cut | Chi2     |      324145 |         0 | False    |\n",
      "+----------+--------------+----------+-------------+-----------+----------+\n"
     ]
    }
   ],
   "source": [
    "helper.allTest(tmp_df['price'], tmp_df['cut'])"
   ]
  },
  {
   "cell_type": "markdown",
   "metadata": {},
   "source": [
    "#### `color` 변수에 대한 검정"
   ]
  },
  {
   "cell_type": "code",
   "execution_count": 29,
   "metadata": {},
   "outputs": [
    {
     "name": "stderr",
     "output_type": "stream",
     "text": [
      "c:\\Python311\\Lib\\site-packages\\scipy\\stats\\_morestats.py:1882: UserWarning: p-value may not be accurate for N > 5000.\n",
      "  warnings.warn(\"p-value may not be accurate for N > 5000.\")\n"
     ]
    },
    {
     "name": "stdout",
     "output_type": "stream",
     "text": [
      "+----------+----------------+----------+-------------+-----------+----------+\n",
      "|          | field          | test     |   statistic |   p-value | result   |\n",
      "|----------+----------------+----------+-------------+-----------+----------|\n",
      "| 정규성   | price          | shapiro  |    0.798108 |         0 | False    |\n",
      "| 정규성   | color          | shapiro  |    0.940571 |         0 | False    |\n",
      "| 정규성   | price          | shapiro  |     15096.6 |         0 | False    |\n",
      "| 정규성   | color          | shapiro  |      6626.9 |         0 | False    |\n",
      "| 정규성   | price vs color | ks_2samp |           1 |         0 | False    |\n",
      "| 정규성   | color vs price | ks_2samp |           1 |         0 | False    |\n",
      "| 등분산성 | price vs color | Bartlett |      762365 |         0 | False    |\n",
      "| 등분산성 | price vs color | Fligner  |     66621.1 |         0 | False    |\n",
      "| 등분산성 | price vs color | Levene   |     40934.5 |         0 | False    |\n",
      "| 독립성   | price vs color | Chi2     |      334347 |         0 | False    |\n",
      "+----------+----------------+----------+-------------+-----------+----------+\n"
     ]
    }
   ],
   "source": [
    "yname = 'price'\n",
    "xname = 'color'\n",
    "mydict = {}\n",
    "\n",
    "for i, v in enumerate(edf[xname].dtypes.categories):\n",
    "    mydict[v] = i\n",
    "#mydict\n",
    "\n",
    "tmp_df = edf.filter([yname, xname])\n",
    "tmp_df[xname] = tmp_df[xname].map(mydict).astype('int')\n",
    "#tmp_df\n",
    "\n",
    "helper.allTest(tmp_df[yname], tmp_df[xname])"
   ]
  },
  {
   "cell_type": "markdown",
   "metadata": {},
   "source": [
    "#### `clarity` 변수에 대한 검정"
   ]
  },
  {
   "cell_type": "code",
   "execution_count": 30,
   "metadata": {},
   "outputs": [
    {
     "name": "stderr",
     "output_type": "stream",
     "text": [
      "c:\\Python311\\Lib\\site-packages\\scipy\\stats\\_morestats.py:1882: UserWarning: p-value may not be accurate for N > 5000.\n",
      "  warnings.warn(\"p-value may not be accurate for N > 5000.\")\n"
     ]
    },
    {
     "name": "stdout",
     "output_type": "stream",
     "text": [
      "+----------+------------------+----------+-------------+-----------+----------+\n",
      "|          | field            | test     |   statistic |   p-value | result   |\n",
      "|----------+------------------+----------+-------------+-----------+----------|\n",
      "| 정규성   | price            | shapiro  |    0.798108 |         0 | False    |\n",
      "| 정규성   | clarity          | shapiro  |    0.935033 |         0 | False    |\n",
      "| 정규성   | price            | shapiro  |     15096.6 |         0 | False    |\n",
      "| 정규성   | clarity          | shapiro  |     5334.54 |         0 | False    |\n",
      "| 정규성   | price vs clarity | ks_2samp |           1 |         0 | False    |\n",
      "| 정규성   | clarity vs price | ks_2samp |           1 |         0 | False    |\n",
      "| 등분산성 | price vs clarity | Bartlett |      760886 |         0 | False    |\n",
      "| 등분산성 | price vs clarity | Fligner  |     66703.3 |         0 | False    |\n",
      "| 등분산성 | price vs clarity | Levene   |     40933.8 |         0 | False    |\n",
      "| 독립성   | price vs clarity | Chi2     |      492832 |         0 | False    |\n",
      "+----------+------------------+----------+-------------+-----------+----------+\n"
     ]
    }
   ],
   "source": [
    "yname = 'price'\n",
    "xname = 'clarity'\n",
    "mydict = {}\n",
    "\n",
    "for i, v in enumerate(edf[xname].dtypes.categories):\n",
    "    mydict[v] = i\n",
    "#mydict\n",
    "\n",
    "tmp_df = edf.filter([yname, xname])\n",
    "tmp_df[xname] = tmp_df[xname].map(mydict).astype('int')\n",
    "#tmp_df\n",
    "\n",
    "helper.allTest(tmp_df[yname], tmp_df[xname])"
   ]
  },
  {
   "cell_type": "markdown",
   "metadata": {},
   "source": [
    "## #04. 회귀분석 수행"
   ]
  },
  {
   "cell_type": "markdown",
   "metadata": {},
   "source": [
    "### 1. 최종 요인 선정\n",
    "\n",
    "검정 결과 `범주형 변수`는 `정규성, 등분산성, 독립성을 충족하지 않기 때문에 요인에서 제외`하였다.\n",
    "\n",
    "그러므로 최초에 생성했던 `수치형 변수들에 대한 표준화 결과로만 구성된 데이터프레임`을 만들었다.\n",
    "\n",
    "그 후 생성된 데이터 프레임에서 `PCA 분석 결과로 선정된 독립변수들과 종속변수만 추출`하였다."
   ]
  },
  {
   "cell_type": "code",
   "execution_count": 31,
   "metadata": {},
   "outputs": [
    {
     "data": {
      "text/plain": [
       "['depth', 'table', 'x']"
      ]
     },
     "execution_count": 31,
     "metadata": {},
     "output_type": "execute_result"
    }
   ],
   "source": [
    "best_names"
   ]
  },
  {
   "cell_type": "code",
   "execution_count": 32,
   "metadata": {},
   "outputs": [
    {
     "data": {
      "text/plain": [
       "['depth', 'table', 'x', 'price']"
      ]
     },
     "execution_count": 32,
     "metadata": {},
     "output_type": "execute_result"
    }
   ],
   "source": [
    "target_names = best_names + ['price']\n",
    "target_names"
   ]
  },
  {
   "cell_type": "code",
   "execution_count": 34,
   "metadata": {},
   "outputs": [
    {
     "data": {
      "text/html": [
       "<div>\n",
       "<style scoped>\n",
       "    .dataframe tbody tr th:only-of-type {\n",
       "        vertical-align: middle;\n",
       "    }\n",
       "\n",
       "    .dataframe tbody tr th {\n",
       "        vertical-align: top;\n",
       "    }\n",
       "\n",
       "    .dataframe thead th {\n",
       "        text-align: right;\n",
       "    }\n",
       "</style>\n",
       "<table border=\"1\" class=\"dataframe\">\n",
       "  <thead>\n",
       "    <tr style=\"text-align: right;\">\n",
       "      <th></th>\n",
       "      <th>depth</th>\n",
       "      <th>table</th>\n",
       "      <th>x</th>\n",
       "      <th>price</th>\n",
       "    </tr>\n",
       "  </thead>\n",
       "  <tbody>\n",
       "    <tr>\n",
       "      <th>0</th>\n",
       "      <td>-0.174092</td>\n",
       "      <td>-1.099672</td>\n",
       "      <td>-1.587837</td>\n",
       "      <td>-0.904095</td>\n",
       "    </tr>\n",
       "    <tr>\n",
       "      <th>1</th>\n",
       "      <td>-1.360738</td>\n",
       "      <td>1.585529</td>\n",
       "      <td>-1.641325</td>\n",
       "      <td>-0.904095</td>\n",
       "    </tr>\n",
       "    <tr>\n",
       "      <th>2</th>\n",
       "      <td>-3.385019</td>\n",
       "      <td>3.375663</td>\n",
       "      <td>-1.498691</td>\n",
       "      <td>-0.903844</td>\n",
       "    </tr>\n",
       "    <tr>\n",
       "      <th>3</th>\n",
       "      <td>0.454133</td>\n",
       "      <td>0.242928</td>\n",
       "      <td>-1.364971</td>\n",
       "      <td>-0.902090</td>\n",
       "    </tr>\n",
       "    <tr>\n",
       "      <th>4</th>\n",
       "      <td>1.082358</td>\n",
       "      <td>0.242928</td>\n",
       "      <td>-1.240167</td>\n",
       "      <td>-0.901839</td>\n",
       "    </tr>\n",
       "  </tbody>\n",
       "</table>\n",
       "</div>"
      ],
      "text/plain": [
       "      depth     table         x     price\n",
       "0 -0.174092 -1.099672 -1.587837 -0.904095\n",
       "1 -1.360738  1.585529 -1.641325 -0.904095\n",
       "2 -3.385019  3.375663 -1.498691 -0.903844\n",
       "3  0.454133  0.242928 -1.364971 -0.902090\n",
       "4  1.082358  0.242928 -1.240167 -0.901839"
      ]
     },
     "execution_count": 34,
     "metadata": {},
     "output_type": "execute_result"
    }
   ],
   "source": [
    "merge_df = merge(x_train_std_df, y_train_std_df, left_index=True, right_index=True)\n",
    "df = merge_df.filter(target_names)\n",
    "df.head()"
   ]
  },
  {
   "cell_type": "markdown",
   "metadata": {},
   "source": [
    "### 2. 1차 회귀분석 수행"
   ]
  },
  {
   "cell_type": "markdown",
   "metadata": {},
   "source": [
    "#### 1) 분석"
   ]
  },
  {
   "cell_type": "code",
   "execution_count": 35,
   "metadata": {},
   "outputs": [
    {
     "name": "stdout",
     "output_type": "stream",
     "text": [
      "                            OLS Regression Results                            \n",
      "==============================================================================\n",
      "Dep. Variable:                  price   R-squared:                       0.784\n",
      "Model:                            OLS   Adj. R-squared:                  0.784\n",
      "Method:                 Least Squares   F-statistic:                 6.541e+04\n",
      "Date:                Thu, 10 Aug 2023   Prob (F-statistic):               0.00\n",
      "Time:                        11:33:59   Log-Likelihood:                -35157.\n",
      "No. Observations:               53940   AIC:                         7.032e+04\n",
      "Df Residuals:                   53936   BIC:                         7.036e+04\n",
      "Df Model:                           3                                         \n",
      "Covariance Type:            nonrobust                                         \n",
      "==============================================================================\n",
      "                 coef    std err          t      P>|t|      [0.025      0.975]\n",
      "------------------------------------------------------------------------------\n",
      "Intercept    1.96e-16      0.002    9.8e-14      1.000      -0.004       0.004\n",
      "depth         -0.0023      0.002     -1.090      0.276      -0.006       0.002\n",
      "table         -0.0481      0.002    -22.549      0.000      -0.052      -0.044\n",
      "x              0.8938      0.002    438.159      0.000       0.890       0.898\n",
      "==============================================================================\n",
      "Omnibus:                    19296.558   Durbin-Watson:                   0.448\n",
      "Prob(Omnibus):                  0.000   Jarque-Bera (JB):           154686.790\n",
      "Skew:                           1.505   Prob(JB):                         0.00\n",
      "Kurtosis:                      10.731   Cond. No.                         1.44\n",
      "==============================================================================\n",
      "\n",
      "Notes:\n",
      "[1] Standard Errors assume that the covariance matrix of the errors is correctly specified.\n"
     ]
    }
   ],
   "source": [
    "ols_result = helper.myOls(df, y='price', x=best_names)\n",
    "print(ols_result.summary)"
   ]
  },
  {
   "cell_type": "markdown",
   "metadata": {},
   "source": [
    "#### 2) 결과 보고"
   ]
  },
  {
   "cell_type": "code",
   "execution_count": 36,
   "metadata": {},
   "outputs": [
    {
     "data": {
      "text/html": [
       "<div>\n",
       "<style scoped>\n",
       "    .dataframe tbody tr th:only-of-type {\n",
       "        vertical-align: middle;\n",
       "    }\n",
       "\n",
       "    .dataframe tbody tr th {\n",
       "        vertical-align: top;\n",
       "    }\n",
       "\n",
       "    .dataframe thead th {\n",
       "        text-align: right;\n",
       "    }\n",
       "</style>\n",
       "<table border=\"1\" class=\"dataframe\">\n",
       "  <thead>\n",
       "    <tr style=\"text-align: right;\">\n",
       "      <th></th>\n",
       "      <th></th>\n",
       "      <th>B</th>\n",
       "      <th>표준오차</th>\n",
       "      <th>β</th>\n",
       "      <th>t</th>\n",
       "      <th>유의확률</th>\n",
       "      <th>VIF</th>\n",
       "    </tr>\n",
       "    <tr>\n",
       "      <th>종속변수</th>\n",
       "      <th>독립변수</th>\n",
       "      <th></th>\n",
       "      <th></th>\n",
       "      <th></th>\n",
       "      <th></th>\n",
       "      <th></th>\n",
       "      <th></th>\n",
       "    </tr>\n",
       "  </thead>\n",
       "  <tbody>\n",
       "    <tr>\n",
       "      <th rowspan=\"3\" valign=\"top\">price</th>\n",
       "      <th>depth</th>\n",
       "      <td>-0.0023</td>\n",
       "      <td>0.002</td>\n",
       "      <td>0</td>\n",
       "      <td>-1.090*</td>\n",
       "      <td>0.276</td>\n",
       "      <td>1.097216</td>\n",
       "    </tr>\n",
       "    <tr>\n",
       "      <th>table</th>\n",
       "      <td>-0.0481</td>\n",
       "      <td>0.002</td>\n",
       "      <td>0</td>\n",
       "      <td>-22.549*</td>\n",
       "      <td>0.000</td>\n",
       "      <td>1.150738</td>\n",
       "    </tr>\n",
       "    <tr>\n",
       "      <th>x</th>\n",
       "      <td>0.8938</td>\n",
       "      <td>0.002</td>\n",
       "      <td>0</td>\n",
       "      <td>438.159*</td>\n",
       "      <td>0.000</td>\n",
       "      <td>4.746060</td>\n",
       "    </tr>\n",
       "  </tbody>\n",
       "</table>\n",
       "</div>"
      ],
      "text/plain": [
       "                   B   표준오차  β         t   유의확률       VIF\n",
       "종속변수  독립변수                                               \n",
       "price depth  -0.0023  0.002  0   -1.090*  0.276  1.097216\n",
       "      table  -0.0481  0.002  0  -22.549*  0.000  1.150738\n",
       "      x       0.8938  0.002  0  438.159*  0.000  4.746060"
      ]
     },
     "execution_count": 36,
     "metadata": {},
     "output_type": "execute_result"
    }
   ],
   "source": [
    "ols_result.table"
   ]
  },
  {
   "cell_type": "code",
   "execution_count": 37,
   "metadata": {},
   "outputs": [
    {
     "name": "stdout",
     "output_type": "stream",
     "text": [
      "𝑅(0.784), 𝑅^2(0.784), 𝐹(6.541e+04), 유의확률(0.00), Durbin-Watson(0.448)\n",
      "\n",
      "price에 대하여 depth,table,x로 예측하는 회귀분석을 실시한 결과, 이 회귀모형은 통계적으로 유의하다(F(3,53936) = 6.541e+04, p < 0.05).\n",
      "\n",
      "depth의 회귀계수는 -0.0023(p>0.05)로, price에 대하여 유의하지 않은 예측변인인 것으로 나타났다.\n",
      "table의 회귀계수는 -0.0481(p<0.05)로, price에 대하여 유의미한 예측변인인 것으로 나타났다.\n",
      "x의 회귀계수는 0.8938(p<0.05)로, price에 대하여 유의미한 예측변인인 것으로 나타났다.\n"
     ]
    }
   ],
   "source": [
    "print(ols_result.result, end=\"\\n\\n\")\n",
    "print(ols_result.goodness, end=\"\\n\\n\")\n",
    "for i in ols_result.varstr:\n",
    "    print(i)"
   ]
  },
  {
   "cell_type": "markdown",
   "metadata": {},
   "source": [
    "### 2. 2차 분석\n",
    "\n",
    "통계적으로 `유의하지 않은 depth를 제외`하고 다시 수행하여 `설명력의 차이를 확인`한다."
   ]
  },
  {
   "cell_type": "markdown",
   "metadata": {},
   "source": [
    "#### 1) 요인 제거"
   ]
  },
  {
   "cell_type": "code",
   "execution_count": 39,
   "metadata": {},
   "outputs": [
    {
     "data": {
      "text/html": [
       "<div>\n",
       "<style scoped>\n",
       "    .dataframe tbody tr th:only-of-type {\n",
       "        vertical-align: middle;\n",
       "    }\n",
       "\n",
       "    .dataframe tbody tr th {\n",
       "        vertical-align: top;\n",
       "    }\n",
       "\n",
       "    .dataframe thead th {\n",
       "        text-align: right;\n",
       "    }\n",
       "</style>\n",
       "<table border=\"1\" class=\"dataframe\">\n",
       "  <thead>\n",
       "    <tr style=\"text-align: right;\">\n",
       "      <th></th>\n",
       "      <th>table</th>\n",
       "      <th>x</th>\n",
       "      <th>price</th>\n",
       "    </tr>\n",
       "  </thead>\n",
       "  <tbody>\n",
       "    <tr>\n",
       "      <th>0</th>\n",
       "      <td>-1.099672</td>\n",
       "      <td>-1.587837</td>\n",
       "      <td>-0.904095</td>\n",
       "    </tr>\n",
       "    <tr>\n",
       "      <th>1</th>\n",
       "      <td>1.585529</td>\n",
       "      <td>-1.641325</td>\n",
       "      <td>-0.904095</td>\n",
       "    </tr>\n",
       "    <tr>\n",
       "      <th>2</th>\n",
       "      <td>3.375663</td>\n",
       "      <td>-1.498691</td>\n",
       "      <td>-0.903844</td>\n",
       "    </tr>\n",
       "    <tr>\n",
       "      <th>3</th>\n",
       "      <td>0.242928</td>\n",
       "      <td>-1.364971</td>\n",
       "      <td>-0.902090</td>\n",
       "    </tr>\n",
       "    <tr>\n",
       "      <th>4</th>\n",
       "      <td>0.242928</td>\n",
       "      <td>-1.240167</td>\n",
       "      <td>-0.901839</td>\n",
       "    </tr>\n",
       "  </tbody>\n",
       "</table>\n",
       "</div>"
      ],
      "text/plain": [
       "      table         x     price\n",
       "0 -1.099672 -1.587837 -0.904095\n",
       "1  1.585529 -1.641325 -0.904095\n",
       "2  3.375663 -1.498691 -0.903844\n",
       "3  0.242928 -1.364971 -0.902090\n",
       "4  0.242928 -1.240167 -0.901839"
      ]
     },
     "execution_count": 39,
     "metadata": {},
     "output_type": "execute_result"
    }
   ],
   "source": [
    "df2 = df.drop('depth', axis=1)\n",
    "df2.head()"
   ]
  },
  {
   "cell_type": "markdown",
   "metadata": {},
   "source": [
    "#### 2) 분석 수행 및 결과보고"
   ]
  },
  {
   "cell_type": "code",
   "execution_count": 40,
   "metadata": {},
   "outputs": [
    {
     "name": "stdout",
     "output_type": "stream",
     "text": [
      "                            OLS Regression Results                            \n",
      "==============================================================================\n",
      "Dep. Variable:                  price   R-squared:                       0.784\n",
      "Model:                            OLS   Adj. R-squared:                  0.784\n",
      "Method:                 Least Squares   F-statistic:                 9.811e+04\n",
      "Date:                Thu, 10 Aug 2023   Prob (F-statistic):               0.00\n",
      "Time:                        11:41:32   Log-Likelihood:                -35158.\n",
      "No. Observations:               53940   AIC:                         7.032e+04\n",
      "Df Residuals:                   53937   BIC:                         7.035e+04\n",
      "Df Model:                           2                                         \n",
      "Covariance Type:            nonrobust                                         \n",
      "==============================================================================\n",
      "                 coef    std err          t      P>|t|      [0.025      0.975]\n",
      "------------------------------------------------------------------------------\n",
      "Intercept   -4.25e-17      0.002  -2.13e-14      1.000      -0.004       0.004\n",
      "x              0.8937      0.002    438.384      0.000       0.890       0.898\n",
      "table         -0.0474      0.002    -23.273      0.000      -0.051      -0.043\n",
      "==============================================================================\n",
      "Omnibus:                    19295.614   Durbin-Watson:                   0.447\n",
      "Prob(Omnibus):                  0.000   Jarque-Bera (JB):           154581.681\n",
      "Skew:                           1.505   Prob(JB):                         0.00\n",
      "Kurtosis:                      10.728   Cond. No.                         1.22\n",
      "==============================================================================\n",
      "\n",
      "Notes:\n",
      "[1] Standard Errors assume that the covariance matrix of the errors is correctly specified.\n"
     ]
    }
   ],
   "source": [
    "ols_result = helper.myOls(df2, y='price', x=['x', 'table'])\n",
    "print(ols_result.summary)"
   ]
  },
  {
   "cell_type": "code",
   "execution_count": 41,
   "metadata": {},
   "outputs": [
    {
     "data": {
      "text/html": [
       "<div>\n",
       "<style scoped>\n",
       "    .dataframe tbody tr th:only-of-type {\n",
       "        vertical-align: middle;\n",
       "    }\n",
       "\n",
       "    .dataframe tbody tr th {\n",
       "        vertical-align: top;\n",
       "    }\n",
       "\n",
       "    .dataframe thead th {\n",
       "        text-align: right;\n",
       "    }\n",
       "</style>\n",
       "<table border=\"1\" class=\"dataframe\">\n",
       "  <thead>\n",
       "    <tr style=\"text-align: right;\">\n",
       "      <th></th>\n",
       "      <th></th>\n",
       "      <th>B</th>\n",
       "      <th>표준오차</th>\n",
       "      <th>β</th>\n",
       "      <th>t</th>\n",
       "      <th>유의확률</th>\n",
       "      <th>VIF</th>\n",
       "    </tr>\n",
       "    <tr>\n",
       "      <th>종속변수</th>\n",
       "      <th>독립변수</th>\n",
       "      <th></th>\n",
       "      <th></th>\n",
       "      <th></th>\n",
       "      <th></th>\n",
       "      <th></th>\n",
       "      <th></th>\n",
       "    </tr>\n",
       "  </thead>\n",
       "  <tbody>\n",
       "    <tr>\n",
       "      <th rowspan=\"2\" valign=\"top\">price</th>\n",
       "      <th>x</th>\n",
       "      <td>0.8937</td>\n",
       "      <td>0.002</td>\n",
       "      <td>0</td>\n",
       "      <td>438.384*</td>\n",
       "      <td>0.000</td>\n",
       "      <td>4.744087</td>\n",
       "    </tr>\n",
       "    <tr>\n",
       "      <th>table</th>\n",
       "      <td>-0.0474</td>\n",
       "      <td>0.002</td>\n",
       "      <td>0</td>\n",
       "      <td>-23.273*</td>\n",
       "      <td>0.000</td>\n",
       "      <td>1.050114</td>\n",
       "    </tr>\n",
       "  </tbody>\n",
       "</table>\n",
       "</div>"
      ],
      "text/plain": [
       "                   B   표준오차  β         t   유의확률       VIF\n",
       "종속변수  독립변수                                               \n",
       "price x       0.8937  0.002  0  438.384*  0.000  4.744087\n",
       "      table  -0.0474  0.002  0  -23.273*  0.000  1.050114"
      ]
     },
     "execution_count": 41,
     "metadata": {},
     "output_type": "execute_result"
    }
   ],
   "source": [
    "ols_result.table"
   ]
  },
  {
   "cell_type": "code",
   "execution_count": 42,
   "metadata": {},
   "outputs": [
    {
     "data": {
      "text/html": [
       "<div>\n",
       "<style scoped>\n",
       "    .dataframe tbody tr th:only-of-type {\n",
       "        vertical-align: middle;\n",
       "    }\n",
       "\n",
       "    .dataframe tbody tr th {\n",
       "        vertical-align: top;\n",
       "    }\n",
       "\n",
       "    .dataframe thead th {\n",
       "        text-align: right;\n",
       "    }\n",
       "</style>\n",
       "<table border=\"1\" class=\"dataframe\">\n",
       "  <thead>\n",
       "    <tr style=\"text-align: right;\">\n",
       "      <th></th>\n",
       "      <th>관측값</th>\n",
       "      <th>예측값</th>\n",
       "      <th>잔차</th>\n",
       "      <th>zscore</th>\n",
       "    </tr>\n",
       "  </thead>\n",
       "  <tbody>\n",
       "    <tr>\n",
       "      <th>0</th>\n",
       "      <td>-0.904095</td>\n",
       "      <td>-1.366881</td>\n",
       "      <td>0.462786</td>\n",
       "      <td>-1.543350</td>\n",
       "    </tr>\n",
       "    <tr>\n",
       "      <th>1</th>\n",
       "      <td>-0.904095</td>\n",
       "      <td>-1.542085</td>\n",
       "      <td>0.637990</td>\n",
       "      <td>-1.741174</td>\n",
       "    </tr>\n",
       "    <tr>\n",
       "      <th>2</th>\n",
       "      <td>-0.903844</td>\n",
       "      <td>-1.499547</td>\n",
       "      <td>0.595702</td>\n",
       "      <td>-1.693144</td>\n",
       "    </tr>\n",
       "    <tr>\n",
       "      <th>3</th>\n",
       "      <td>-0.902090</td>\n",
       "      <td>-1.231406</td>\n",
       "      <td>0.329316</td>\n",
       "      <td>-1.390384</td>\n",
       "    </tr>\n",
       "    <tr>\n",
       "      <th>4</th>\n",
       "      <td>-0.901839</td>\n",
       "      <td>-1.119867</td>\n",
       "      <td>0.218028</td>\n",
       "      <td>-1.264446</td>\n",
       "    </tr>\n",
       "    <tr>\n",
       "      <th>...</th>\n",
       "      <td>...</td>\n",
       "      <td>...</td>\n",
       "      <td>...</td>\n",
       "      <td>...</td>\n",
       "    </tr>\n",
       "    <tr>\n",
       "      <th>53935</th>\n",
       "      <td>-0.294731</td>\n",
       "      <td>0.024720</td>\n",
       "      <td>-0.319451</td>\n",
       "      <td>0.027911</td>\n",
       "    </tr>\n",
       "    <tr>\n",
       "      <th>53936</th>\n",
       "      <td>-0.294731</td>\n",
       "      <td>0.019385</td>\n",
       "      <td>-0.314116</td>\n",
       "      <td>0.021888</td>\n",
       "    </tr>\n",
       "    <tr>\n",
       "      <th>53937</th>\n",
       "      <td>-0.294731</td>\n",
       "      <td>-0.110685</td>\n",
       "      <td>-0.184046</td>\n",
       "      <td>-0.124974</td>\n",
       "    </tr>\n",
       "    <tr>\n",
       "      <th>53938</th>\n",
       "      <td>-0.294731</td>\n",
       "      <td>0.322168</td>\n",
       "      <td>-0.616899</td>\n",
       "      <td>0.363761</td>\n",
       "    </tr>\n",
       "    <tr>\n",
       "      <th>53939</th>\n",
       "      <td>-0.294731</td>\n",
       "      <td>0.130923</td>\n",
       "      <td>-0.425654</td>\n",
       "      <td>0.147826</td>\n",
       "    </tr>\n",
       "  </tbody>\n",
       "</table>\n",
       "<p>53940 rows × 4 columns</p>\n",
       "</div>"
      ],
      "text/plain": [
       "            관측값       예측값        잔차    zscore\n",
       "0     -0.904095 -1.366881  0.462786 -1.543350\n",
       "1     -0.904095 -1.542085  0.637990 -1.741174\n",
       "2     -0.903844 -1.499547  0.595702 -1.693144\n",
       "3     -0.902090 -1.231406  0.329316 -1.390384\n",
       "4     -0.901839 -1.119867  0.218028 -1.264446\n",
       "...         ...       ...       ...       ...\n",
       "53935 -0.294731  0.024720 -0.319451  0.027911\n",
       "53936 -0.294731  0.019385 -0.314116  0.021888\n",
       "53937 -0.294731 -0.110685 -0.184046 -0.124974\n",
       "53938 -0.294731  0.322168 -0.616899  0.363761\n",
       "53939 -0.294731  0.130923 -0.425654  0.147826\n",
       "\n",
       "[53940 rows x 4 columns]"
      ]
     },
     "execution_count": 42,
     "metadata": {},
     "output_type": "execute_result"
    }
   ],
   "source": [
    "sdf = DataFrame({\n",
    "    \"관측값\": df2['price'],\n",
    "    \"예측값\": ols_result.fit.fittedvalues,\n",
    "    \"잔차\": ols_result.fit.resid,\n",
    "    \"zscore\": stats.zscore(ols_result.fit.fittedvalues)\n",
    "})\n",
    "\n",
    "sdf"
   ]
  },
  {
   "cell_type": "code",
   "execution_count": 43,
   "metadata": {},
   "outputs": [
    {
     "name": "stdout",
     "output_type": "stream",
     "text": [
      "𝑅(0.784), 𝑅^2(0.784), 𝐹(9.811e+04), 유의확률(0.00), Durbin-Watson(0.447)\n",
      "\n",
      "price에 대하여 x,table로 예측하는 회귀분석을 실시한 결과, 이 회귀모형은 통계적으로 유의하다(F(2,53937) = 9.811e+04, p < 0.05).\n",
      "\n",
      "x의 회귀계수는 0.8937(p<0.05)로, price에 대하여 유의미한 예측변인인 것으로 나타났다.\n",
      "table의 회귀계수는 -0.0474(p<0.05)로, price에 대하여 유의미한 예측변인인 것으로 나타났다.\n"
     ]
    }
   ],
   "source": [
    "print(ols_result.result, end=\"\\n\\n\")\n",
    "print(ols_result.goodness, end=\"\\n\\n\")\n",
    "\n",
    "for i in ols_result.varstr:\n",
    "    print(i)"
   ]
  },
  {
   "cell_type": "code",
   "execution_count": null,
   "metadata": {},
   "outputs": [],
   "source": []
  }
 ],
 "metadata": {
  "kernelspec": {
   "display_name": "Python 3",
   "language": "python",
   "name": "python3"
  },
  "language_info": {
   "codemirror_mode": {
    "name": "ipython",
    "version": 3
   },
   "file_extension": ".py",
   "mimetype": "text/x-python",
   "name": "python",
   "nbconvert_exporter": "python",
   "pygments_lexer": "ipython3",
   "version": "3.11.0"
  },
  "orig_nbformat": 4
 },
 "nbformat": 4,
 "nbformat_minor": 2
}
